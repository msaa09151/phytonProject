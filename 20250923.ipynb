{
 "cells": [
  {
   "cell_type": "code",
   "execution_count": null,
   "id": "96c3cdd9",
   "metadata": {},
   "outputs": [
    {
     "name": "stdout",
     "output_type": "stream",
     "text": [
      "1\n",
      "None\n"
     ]
    }
   ],
   "source": [
    "a = 1\n",
    "\n",
    "def vartest(a):\n",
    "    a += 1\n",
    "# 함수 정의 파트의 a는 어떠한 변수로 바꿔도 상관 없음\n",
    "\n",
    "vartest(a) # 리턴 값이 없기 때문에 아무런 일이 일어나지 않음\n",
    "print(a) # a = 1을 출력함\n",
    "\n",
    "print(vartest(a)) # vartest(a)는 정의되지 않았기 때문에 none"
   ]
  },
  {
   "cell_type": "code",
   "execution_count": null,
   "id": "b128b308",
   "metadata": {},
   "outputs": [
    {
     "ename": "NameError",
     "evalue": "name 'a' is not defined",
     "output_type": "error",
     "traceback": [
      "\u001b[31m---------------------------------------------------------------------------\u001b[39m",
      "\u001b[31mNameError\u001b[39m                                 Traceback (most recent call last)",
      "\u001b[36mCell\u001b[39m\u001b[36m \u001b[39m\u001b[32mIn[1]\u001b[39m\u001b[32m, line 5\u001b[39m\n\u001b[32m      2\u001b[39m     a += \u001b[32m1\u001b[39m\n\u001b[32m      4\u001b[39m vartest(\u001b[32m3\u001b[39m)\n\u001b[32m----> \u001b[39m\u001b[32m5\u001b[39m \u001b[38;5;28mprint\u001b[39m(\u001b[43ma\u001b[49m)\n",
      "\u001b[31mNameError\u001b[39m: name 'a' is not defined"
     ]
    }
   ],
   "source": [
    "def vartest(a):\n",
    "    a += 1\n",
    "# vartest 안에서만 사용하는 매개변수 a\n",
    "\n",
    "vartest(3)\n",
    "print(a) # a를 정의하지 않았기 때문에 프린트 불가"
   ]
  },
  {
   "cell_type": "code",
   "execution_count": null,
   "id": "41912151",
   "metadata": {},
   "outputs": [
    {
     "data": {
      "text/plain": [
       "2"
      ]
     },
     "execution_count": 5,
     "metadata": {},
     "output_type": "execute_result"
    }
   ],
   "source": [
    "a = 1\n",
    "\n",
    "def vartest(a):\n",
    "    a += 1\n",
    "    return a\n",
    "# 함수 정의 파트의 a는 어떠한 변수로 바꿔도 상관 없음\n",
    "\n",
    "vartest(a) # 리턴 값이 없기 때문에 아무런 일이 일어나지 않음\n",
    "print(a) # a = 1을 출력함\n",
    "\n",
    "print(vartest(a)) # vartest(a)는 정의되지 않았기 때문에 none"
   ]
  },
  {
   "cell_type": "code",
   "execution_count": 13,
   "id": "fd25d9a7",
   "metadata": {},
   "outputs": [
    {
     "name": "stdout",
     "output_type": "stream",
     "text": [
      "1\n",
      "6\n"
     ]
    }
   ],
   "source": [
    "a = 1\n",
    "\n",
    "def vartest():\n",
    "    global a\n",
    "    a = a + 5\n",
    "\n",
    "print(a)\n",
    "vartest()\n",
    "print(a)"
   ]
  },
  {
   "cell_type": "markdown",
   "id": "014ab0d3",
   "metadata": {},
   "source": [
    "### zip 함수"
   ]
  },
  {
   "cell_type": "code",
   "execution_count": 7,
   "id": "d9b93c4b",
   "metadata": {},
   "outputs": [
    {
     "name": "stdout",
     "output_type": "stream",
     "text": [
      "<zip object at 0x000001B55757C4C0>\n",
      "[(52, 19, 52), (255, 0, 255), (39, 227, 39), (132, 132, 187)]\n",
      "(52, 19, 52)\n",
      "<class 'tuple'>\n"
     ]
    }
   ],
   "source": [
    "r = (52, 255, 39, 132)\n",
    "g = (19, 0, 227, 132)\n",
    "b = (52, 255, 39, 187)\n",
    "\n",
    "zip_object = zip(r, g, b)\n",
    "print(zip_object) # zip 타입으로 출력. 메모리를 아낄 수 있음\n",
    "\n",
    "\n",
    "img = list(zip(r, g, b))\n",
    "print(img) # 리스트 형태로 변환해서 \n",
    "\n",
    "print(img[0])\n",
    "print(type(img[0]))"
   ]
  },
  {
   "cell_type": "markdown",
   "id": "d23ee5c2",
   "metadata": {},
   "source": [
    "### enumerate 함수"
   ]
  },
  {
   "cell_type": "code",
   "execution_count": 22,
   "id": "77a91eee",
   "metadata": {},
   "outputs": [],
   "source": [
    "f = (\"apple\", \"banana\", \"cherry\", \"date\")"
   ]
  },
  {
   "cell_type": "code",
   "execution_count": null,
   "id": "10d6df6c",
   "metadata": {},
   "outputs": [],
   "source": []
  },
  {
   "cell_type": "code",
   "execution_count": null,
   "id": "653487df",
   "metadata": {},
   "outputs": [
    {
     "data": {
      "text/plain": [
       "{1: 'apple', 2: 'banana', 3: 'cherry', 4: 'date'}"
      ]
     },
     "execution_count": 13,
     "metadata": {},
     "output_type": "execute_result"
    }
   ],
   "source": [
    "enumerate(f)\n",
    "dict(enumerate(f))\n",
    "\n",
    "enumerate(f, 1)\n",
    "dict(enumerate(f, 1)) # 1부터 시작"
   ]
  },
  {
   "cell_type": "markdown",
   "id": "20d0ea66",
   "metadata": {},
   "source": [
    "### map 함수"
   ]
  },
  {
   "cell_type": "code",
   "execution_count": 18,
   "id": "b7d7094a",
   "metadata": {},
   "outputs": [
    {
     "name": "stdout",
     "output_type": "stream",
     "text": [
      "[2, 3, 4, 5, 6]\n"
     ]
    }
   ],
   "source": [
    "mylist = [1, 2, 3, 4, 5]\n",
    "result =[]\n",
    "\n",
    "# 각각의 데이터에 1을 더해 [2, 3, 4, 5, 6] 구현 필요\n",
    "\n",
    "for i in mylist:\n",
    "    i += 1\n",
    "    result.append(i)\n",
    "\n",
    "print(result)"
   ]
  },
  {
   "cell_type": "code",
   "execution_count": 33,
   "id": "34fcf728",
   "metadata": {},
   "outputs": [
    {
     "data": {
      "text/plain": [
       "[2, 3, 4, 5, 6]"
      ]
     },
     "execution_count": 33,
     "metadata": {},
     "output_type": "execute_result"
    }
   ],
   "source": [
    "mylist = [1, 2, 3, 4, 5]\n",
    "\n",
    "def add_one(n):\n",
    "    return n + 1\n",
    "\n",
    "result = list(map(add_one, mylist))\n",
    "result"
   ]
  },
  {
   "cell_type": "code",
   "execution_count": 35,
   "id": "baa5a139",
   "metadata": {},
   "outputs": [
    {
     "data": {
      "text/plain": [
       "[3, -6, 100, 25]"
      ]
     },
     "execution_count": 35,
     "metadata": {},
     "output_type": "execute_result"
    }
   ],
   "source": [
    "mylist = [3.14, -5.6, 100.4, 25.0]\n",
    "\n",
    "result = list(map(round, mylist))\n",
    "result"
   ]
  },
  {
   "cell_type": "markdown",
   "id": "dc1a26b2",
   "metadata": {},
   "source": [
    "### filter 함수"
   ]
  },
  {
   "cell_type": "code",
   "execution_count": 2,
   "id": "658c4452",
   "metadata": {},
   "outputs": [
    {
     "data": {
      "text/plain": [
       "[8, 7]"
      ]
     },
     "execution_count": 2,
     "metadata": {},
     "output_type": "execute_result"
    }
   ],
   "source": [
    "a = [8, 3, 2, 10, 15, 7, 1, 0, 11]\n",
    "r = []\n",
    "\n",
    "for i in a:\n",
    "    if i > 5 and i < 10:\n",
    "        r.append(i)\n",
    "\n",
    "r"
   ]
  },
  {
   "cell_type": "code",
   "execution_count": null,
   "id": "bd39fce2",
   "metadata": {},
   "outputs": [
    {
     "data": {
      "text/plain": [
       "[8, 7]"
      ]
     },
     "execution_count": 7,
     "metadata": {},
     "output_type": "execute_result"
    }
   ],
   "source": [
    "def f(x):\n",
    "    return x > 5 and x < 10 # True or False 출력\n",
    "\n",
    "filter(f, a) # filter 값으로 출력\n",
    "list(filter(f, a))"
   ]
  },
  {
   "cell_type": "markdown",
   "id": "5de098f8",
   "metadata": {},
   "source": [
    "### 람다(익명) 함수"
   ]
  },
  {
   "cell_type": "code",
   "execution_count": 9,
   "id": "9eef3ffe",
   "metadata": {},
   "outputs": [
    {
     "data": {
      "text/plain": [
       "[2, 4, 6, 8, 10]"
      ]
     },
     "execution_count": 9,
     "metadata": {},
     "output_type": "execute_result"
    }
   ],
   "source": [
    "mylist = [1, 2, 3, 4, 5]\n",
    "\n",
    "\n",
    "result = list(map(lambda x : x * 2, mylist))\n",
    "result"
   ]
  },
  {
   "cell_type": "code",
   "execution_count": 10,
   "id": "a9066ee7",
   "metadata": {},
   "outputs": [
    {
     "data": {
      "text/plain": [
       "[8, 7]"
      ]
     },
     "execution_count": 10,
     "metadata": {},
     "output_type": "execute_result"
    }
   ],
   "source": [
    "list(filter(lambda x: x>5 and x<10, a))"
   ]
  },
  {
   "cell_type": "code",
   "execution_count": 14,
   "id": "02b3bd78",
   "metadata": {},
   "outputs": [
    {
     "name": "stdout",
     "output_type": "stream",
     "text": [
      "[1, 4, 9, 16]\n"
     ]
    }
   ],
   "source": [
    "# numbers의 제곱을 출력\n",
    "\n",
    "numbers =[1, 2, 3, 4]\n",
    "squared = list(map(lambda x : x * x, numbers))\n",
    "\n",
    "print(squared)"
   ]
  },
  {
   "cell_type": "code",
   "execution_count": 16,
   "id": "dd42ab85",
   "metadata": {},
   "outputs": [
    {
     "name": "stdout",
     "output_type": "stream",
     "text": [
      "[2, 4, 6]\n"
     ]
    }
   ],
   "source": [
    "# 짝수만 출력\n",
    "\n",
    "numbers =[1, 2, 3, 4, 5, 6]\n",
    "even_numbers = list(filter(lambda x : x % 2 == 0, numbers))\n",
    "\n",
    "print(even_numbers)"
   ]
  },
  {
   "cell_type": "code",
   "execution_count": 21,
   "id": "2fdc31db",
   "metadata": {},
   "outputs": [
    {
     "data": {
      "text/plain": [
       "[6, 5, 4, 3, 2, 1]"
      ]
     },
     "execution_count": 21,
     "metadata": {},
     "output_type": "execute_result"
    }
   ],
   "source": [
    "my_numbers = sorted(numbers, reverse=True)\n",
    "\n",
    "numbers\n",
    "my_numbers"
   ]
  },
  {
   "cell_type": "code",
   "execution_count": 25,
   "id": "ca107e81",
   "metadata": {},
   "outputs": [
    {
     "data": {
      "text/plain": [
       "['apple', 'banana', 'cherry', 'date']"
      ]
     },
     "execution_count": 25,
     "metadata": {},
     "output_type": "execute_result"
    }
   ],
   "source": [
    "fruits = [\"apple\", \"banana\", \"cherry\", \"date\"]\n",
    "\n",
    "fruits"
   ]
  },
  {
   "cell_type": "code",
   "execution_count": 36,
   "id": "1a6ac225",
   "metadata": {},
   "outputs": [
    {
     "data": {
      "text/plain": [
       "['banana', 'cherry', 'apple', 'date']"
      ]
     },
     "execution_count": 36,
     "metadata": {},
     "output_type": "execute_result"
    }
   ],
   "source": [
    "my_fruits = sorted(fruits, key=len, reverse=True)\n",
    "\n",
    "my_fruits"
   ]
  },
  {
   "cell_type": "code",
   "execution_count": 44,
   "id": "cc2b3883",
   "metadata": {},
   "outputs": [
    {
     "name": "stdout",
     "output_type": "stream",
     "text": [
      "[(5, 1), (1, 2), (3, 4)]\n"
     ]
    }
   ],
   "source": [
    "# 2번째 요소 순서대로 정렬\n",
    "\n",
    "points =[(1, 2), (3, 4), (5, 1)]\n",
    "sort_points = sorted(points, key= lambda x : x[1])\n",
    "\n",
    "print(sort_points)"
   ]
  },
  {
   "cell_type": "code",
   "execution_count": null,
   "id": "52ec9cf5",
   "metadata": {},
   "outputs": [
    {
     "name": "stdout",
     "output_type": "stream",
     "text": [
      "2\n",
      "4\n",
      "1\n"
     ]
    }
   ],
   "source": [
    "points =[(1, 2), (3, 4), (5, 1)]\n",
    "points[0] # (1,2)\n",
    "points[0][1] # 2\n",
    "\n",
    "for i in points:\n",
    "    print(i[1]) # y 좌표만 출력"
   ]
  },
  {
   "cell_type": "code",
   "execution_count": null,
   "id": "1fe82d01",
   "metadata": {},
   "outputs": [
    {
     "data": {
      "text/plain": [
       "[1, 2, 4, 3]"
      ]
     },
     "execution_count": 77,
     "metadata": {},
     "output_type": "execute_result"
    }
   ],
   "source": [
    "# 등수구하기 \n",
    "\n",
    "# 영어 점수와 수학 점수의 평균 점수를 기준으로 학생들의 등수를 매기려고 합니다.\n",
    "# 영어 점수와 수학 점수를 담은 2차원 리스트 score가 주어질 때, 영어 점수와 수학 점수의 평균을 기준으로 매긴 등수를 담은 리스트를 return하도록 함수를 만들어주세요 \n",
    "\n",
    "# [[80, 70], [90, 50], [40, 70], [50, 80]] -> [1, 2, 4, 3] \n",
    "# [[80, 70], [70, 80], [30, 50], [90, 100], [100, 90], [100, 100], [10, 30]] -> [4, 4, 6, 2, 2, 1, 7] \n",
    "\n",
    "s = [[80, 70], [90, 50], [40, 70], [50, 80]]\n",
    "result_s = []\n",
    "\n",
    "def rank(score):\n",
    "    # 평균값 출력\n",
    "    avg = []\n",
    "    for i, j in score:\n",
    "        avg.append((i+j)/2)\n",
    "    # 실행 확인: print((i + j)/ 2)\n",
    "    # [75.0, 70.0, 55.0, 65.0]\n",
    "\n",
    "    # 내림차순 정렬\n",
    "    avg_sort = sorted(avg, reverse=True)\n",
    "    # 실행 확인: print(avg_sort)\n",
    "    # [75.0, 70.0, 65.0, 55.0]\n",
    "\n",
    "    # 등수 처리\n",
    "    for i in avg:\n",
    "       result_s.append(avg_sort.index(i) + 1)\n",
    "    # 실행 확인: print(result)\n",
    "    # [1, 2, 4, 3]\n",
    "    \n",
    "    return result_s\n",
    "\n",
    "rank(s)"
   ]
  },
  {
   "cell_type": "code",
   "execution_count": null,
   "id": "3d585979",
   "metadata": {},
   "outputs": [
    {
     "ename": "SyntaxError",
     "evalue": "invalid syntax. Perhaps you forgot a comma? (3336012046.py, line 4)",
     "output_type": "error",
     "traceback": [
      "  \u001b[36mCell\u001b[39m\u001b[36m \u001b[39m\u001b[32mIn[89]\u001b[39m\u001b[32m, line 4\u001b[39m\n\u001b[31m    \u001b[39m\u001b[31mresult_s = [avg_sort.index(i) + 1 for i avg]\u001b[39m\n                                          ^\n\u001b[31mSyntaxError\u001b[39m\u001b[31m:\u001b[39m invalid syntax. Perhaps you forgot a comma?\n"
     ]
    }
   ],
   "source": [
    "def rank(score):\n",
    "    avg = [(i+j)/2 for i, j in score]\n",
    "    avg_sort = sorted(avg, reverse=True)\n",
    "    result_s = [avg_sort.index(i) + 1 for i avg]\n",
    "    \n",
    "    return result"
   ]
  },
  {
   "cell_type": "code",
   "execution_count": null,
   "id": "f03ac152",
   "metadata": {},
   "outputs": [],
   "source": [
    "# 소수 판별 함수\n",
    "# [2, 3, 4, 5, 6, 7, 8, 9] -> [True, False ...]\n",
    "\n",
    "# num = [2, 3, 4, 5, 6, 7, 8, 9]\n",
    "# result_num = []\n",
    "\n",
    "\n",
    "# def is_prime(nums_list):\n",
    "#     if nums [i] % n == 0:\n",
    "#         print(True)\n",
    "#     if nums [i] % n != 0:\n",
    "#         print(False)\n",
    "\n",
    "#     return result_num\n",
    "\n",
    "# is_prime(num)"
   ]
  },
  {
   "cell_type": "code",
   "execution_count": 113,
   "id": "d3ce8dec",
   "metadata": {},
   "outputs": [
    {
     "data": {
      "text/plain": [
       "[True, True, False, True, False, True, False, False]"
      ]
     },
     "execution_count": 113,
     "metadata": {},
     "output_type": "execute_result"
    }
   ],
   "source": [
    "def is_prime(nums_list):\n",
    "    result_num = []\n",
    "    for num in nums_list:\n",
    "        isprime = True\n",
    "        for i in range(2, num):\n",
    "            if num % i == 0:\n",
    "                isprime = False\n",
    "                break\n",
    "        result_num.append(isprime)\n",
    "    return result_num\n",
    "\n",
    "is_prime([2, 3, 4, 5, 6, 7, 8, 9])"
   ]
  },
  {
   "cell_type": "code",
   "execution_count": null,
   "id": "edb207e3",
   "metadata": {},
   "outputs": [],
   "source": [
    "# 추가 미션\n",
    "#"
   ]
  },
  {
   "cell_type": "markdown",
   "id": "e1f76e00",
   "metadata": {},
   "source": [
    "### 모듈"
   ]
  },
  {
   "cell_type": "code",
   "execution_count": null,
   "id": "0168a6d5",
   "metadata": {},
   "outputs": [
    {
     "data": {
      "text/plain": [
       "9"
      ]
     },
     "execution_count": 115,
     "metadata": {},
     "output_type": "execute_result"
    }
   ],
   "source": [
    "import random # 이름이 random 인 모듈 전체를 불러옴\n",
    "\n",
    "random.randint(1, 100)"
   ]
  },
  {
   "cell_type": "code",
   "execution_count": null,
   "id": "af29d166",
   "metadata": {},
   "outputs": [
    {
     "data": {
      "text/plain": [
       "68"
      ]
     },
     "execution_count": 118,
     "metadata": {},
     "output_type": "execute_result"
    }
   ],
   "source": [
    "import random as r # 별칭 만들기 random -> r\n",
    "\n",
    "r.randint(1, 100)"
   ]
  },
  {
   "cell_type": "code",
   "execution_count": 5,
   "id": "194dc824",
   "metadata": {},
   "outputs": [
    {
     "data": {
      "text/plain": [
       "26"
      ]
     },
     "execution_count": 5,
     "metadata": {},
     "output_type": "execute_result"
    }
   ],
   "source": [
    "from random import randint, randrange # random 중 randint, randrange 를 불러옴\n",
    "\n",
    "randint(1, 100)\n",
    "\n",
    "# 적은 수의 모듈을 불러올 때 주로 사용"
   ]
  },
  {
   "cell_type": "code",
   "execution_count": 11,
   "id": "ec1580a7",
   "metadata": {},
   "outputs": [
    {
     "data": {
      "text/plain": [
       "[3]"
      ]
     },
     "execution_count": 11,
     "metadata": {},
     "output_type": "execute_result"
    }
   ],
   "source": [
    "from random import *\n",
    "from math import *\n",
    "\n",
    "randint (1, 100)\n",
    "randrange(1, 5)\n",
    "sample([1, 2, 3], 1)\n",
    "\n",
    "# random에 있는 모든 모듈을 불러옴\n",
    "# 여러 개의 모듈을 불러왔을 때, 겹치지 않도록 주의! 어디에 있는 모듈인지 헷갈리는 경우 有"
   ]
  },
  {
   "cell_type": "code",
   "execution_count": 8,
   "id": "17e100f5",
   "metadata": {},
   "outputs": [
    {
     "data": {
      "text/plain": [
       "[10, 18, 20, 21, 27, 35]"
      ]
     },
     "execution_count": 8,
     "metadata": {},
     "output_type": "execute_result"
    }
   ],
   "source": [
    "# 행운 번호 추첨기 (무작위로 생성된 1~45 사이의 6가지 숫자)\n",
    "\n",
    "import random\n",
    "result = []\n",
    "\n",
    "# 함수 이용\n",
    "\n",
    "for i in range(6):\n",
    "    num = randint(1, 45)\n",
    "    if num not in result:\n",
    "        result.append(num)\n",
    "result.sort()\n",
    "\n",
    "result"
   ]
  },
  {
   "cell_type": "code",
   "execution_count": 7,
   "id": "214088bb",
   "metadata": {},
   "outputs": [
    {
     "name": "stdout",
     "output_type": "stream",
     "text": [
      "[9, 12, 13, 16, 40, 43]\n"
     ]
    }
   ],
   "source": [
    "while len(result) < 6:\n",
    "    num = random.randint(1, 45)\n",
    "    if num not in result:\n",
    "        result.append(num)\n",
    "        result.sort()\n",
    "\n",
    "print(result)"
   ]
  },
  {
   "cell_type": "code",
   "execution_count": null,
   "id": "4cce0e00",
   "metadata": {},
   "outputs": [],
   "source": [
    "# 가위바위보 게임\n"
   ]
  },
  {
   "cell_type": "markdown",
   "id": "01628cb8",
   "metadata": {},
   "source": [
    "### 사용자 정의 모듈"
   ]
  },
  {
   "cell_type": "code",
   "execution_count": 8,
   "id": "5f660a78",
   "metadata": {},
   "outputs": [],
   "source": [
    "import mymodule as mm"
   ]
  },
  {
   "cell_type": "code",
   "execution_count": 37,
   "id": "5a67c34d",
   "metadata": {},
   "outputs": [
    {
     "name": "stdout",
     "output_type": "stream",
     "text": [
      "10\n",
      "-2\n"
     ]
    }
   ],
   "source": [
    "print(mm.my_add(7, 3))\n",
    "print(mm.my_sub(3, 5))"
   ]
  },
  {
   "cell_type": "code",
   "execution_count": 32,
   "id": "86a03ef7",
   "metadata": {},
   "outputs": [
    {
     "data": {
      "text/plain": [
       "'__main__'"
      ]
     },
     "execution_count": 32,
     "metadata": {},
     "output_type": "execute_result"
    }
   ],
   "source": [
    "__name__\n",
    "\n",
    "# 파이썬 내부적 변수\n",
    "# 현재 파일이 어떤 용도인지(메인 페이지/모듈) 출력"
   ]
  },
  {
   "cell_type": "code",
   "execution_count": 6,
   "id": "221ce126",
   "metadata": {},
   "outputs": [],
   "source": [
    "hero = mm.Character(\"전사\")"
   ]
  },
  {
   "cell_type": "code",
   "execution_count": 7,
   "id": "3b231bfc",
   "metadata": {},
   "outputs": [
    {
     "name": "stdout",
     "output_type": "stream",
     "text": [
      "저는 전사입니다.\n"
     ]
    }
   ],
   "source": [
    "hero.speak()"
   ]
  },
  {
   "cell_type": "markdown",
   "id": "29a8e404",
   "metadata": {},
   "source": [
    "### 클래스"
   ]
  },
  {
   "cell_type": "code",
   "execution_count": 3,
   "id": "247b8183",
   "metadata": {},
   "outputs": [],
   "source": [
    "class Person:\n",
    "    def __init__(self, name, age):\n",
    "        self.name = name\n",
    "        self.age = age\n",
    "\n",
    "    def walk(self):\n",
    "        print(f\"{self.name}이 걸어갑니다.\")"
   ]
  },
  {
   "cell_type": "code",
   "execution_count": 4,
   "id": "6f586ff0",
   "metadata": {},
   "outputs": [],
   "source": [
    "person1 = Person(\"박지민\", 31)"
   ]
  },
  {
   "cell_type": "code",
   "execution_count": 5,
   "id": "543e4868",
   "metadata": {},
   "outputs": [
    {
     "data": {
      "text/plain": [
       "__main__.Person"
      ]
     },
     "execution_count": 5,
     "metadata": {},
     "output_type": "execute_result"
    }
   ],
   "source": [
    "type(person1)"
   ]
  },
  {
   "cell_type": "code",
   "execution_count": 6,
   "id": "a7284aa4",
   "metadata": {},
   "outputs": [
    {
     "name": "stdout",
     "output_type": "stream",
     "text": [
      "<class '__main__.Person'>\n"
     ]
    }
   ],
   "source": [
    "print(type(person1))"
   ]
  },
  {
   "cell_type": "code",
   "execution_count": 7,
   "id": "6796e84a",
   "metadata": {},
   "outputs": [
    {
     "name": "stdout",
     "output_type": "stream",
     "text": [
      "박지민이 걸어갑니다.\n"
     ]
    }
   ],
   "source": [
    "person1.walk()"
   ]
  },
  {
   "cell_type": "code",
   "execution_count": 8,
   "id": "cd0207ad",
   "metadata": {},
   "outputs": [],
   "source": [
    "person2 = Person(\"전정국\", 29)"
   ]
  },
  {
   "cell_type": "code",
   "execution_count": 9,
   "id": "653755ec",
   "metadata": {},
   "outputs": [
    {
     "name": "stdout",
     "output_type": "stream",
     "text": [
      "전정국이 걸어갑니다.\n"
     ]
    }
   ],
   "source": [
    "person2.walk()"
   ]
  },
  {
   "cell_type": "code",
   "execution_count": 26,
   "id": "8ee930dc",
   "metadata": {},
   "outputs": [],
   "source": [
    "class NewPerson(Person):\n",
    "    def fly(self):\n",
    "        print(f\"{self.name}이 하늘을 날아갑니다.\")\n",
    "    def walk(self):\n",
    "        print(f\"{self.name}이 너무 잘 걸어갑니다.\")"
   ]
  },
  {
   "cell_type": "code",
   "execution_count": 28,
   "id": "98381399",
   "metadata": {},
   "outputs": [],
   "source": [
    "person3 = NewPerson(\"정호석\", 33)"
   ]
  },
  {
   "cell_type": "code",
   "execution_count": 15,
   "id": "5fe0147f",
   "metadata": {},
   "outputs": [
    {
     "name": "stdout",
     "output_type": "stream",
     "text": [
      "정호석이 걸어갑니다.\n"
     ]
    }
   ],
   "source": [
    "person3.walk()"
   ]
  },
  {
   "cell_type": "code",
   "execution_count": 29,
   "id": "3c156e26",
   "metadata": {},
   "outputs": [
    {
     "name": "stdout",
     "output_type": "stream",
     "text": [
      "정호석이 하늘을 날아갑니다.\n"
     ]
    }
   ],
   "source": [
    "person3.fly()"
   ]
  },
  {
   "cell_type": "code",
   "execution_count": 30,
   "id": "ee9efd47",
   "metadata": {},
   "outputs": [
    {
     "name": "stdout",
     "output_type": "stream",
     "text": [
      "정호석이 너무 잘 걸어갑니다.\n"
     ]
    }
   ],
   "source": [
    "person3.walk()"
   ]
  },
  {
   "cell_type": "code",
   "execution_count": 28,
   "id": "ea39687e",
   "metadata": {},
   "outputs": [],
   "source": [
    "# 결제 시스템 (함수형 프로그래밍)\n",
    "# 신용카드, 포인트 결제\n",
    "\n",
    "def pay_credit_payment(card_info, amount):\n",
    "    \"\"\" 신용카드 결제 로직 \"\"\"\n",
    "    print(f\"{card_info['card_number']}카드로 {amount}원 결제합니다.\")\n",
    "    print(\"결제 완료\")\n",
    "\n",
    "def pay_with_point(point_wallet, amount):\n",
    "    if point_wallet[\"balance\"] >= amount:\n",
    "        point_wallet[\"balance\"] -= amount\n",
    "        print(f\"포인트 {amount}점을 사용해서 결제했습니다.\")\n",
    "    else:\n",
    "        print(\"포인트가 부족합니다.\")"
   ]
  },
  {
   "cell_type": "code",
   "execution_count": 29,
   "id": "d982af6f",
   "metadata": {},
   "outputs": [],
   "source": [
    "credit_card = {\n",
    "    \"type\" : \"credit_card\",\n",
    "    \"card_number\" : \"1234-5678-xxxx\",\n",
    "    \"cvc\" : 123\n",
    "}\n",
    "\n",
    "my_points = {\n",
    "    \"type\" : \"point_wallet\",\n",
    "    \"balance\" : 50000\n",
    "}"
   ]
  },
  {
   "cell_type": "code",
   "execution_count": null,
   "id": "a213cff4",
   "metadata": {},
   "outputs": [],
   "source": [
    "# 다양한 형태의 결제 방식을 처리하는 메인 루틴\n",
    "\n",
    "def payment(payment_method, amount):\n",
    "    payment_type=payment_method['type']\n",
    " \n",
    "    if payment_type == 'credit_card':\n",
    "        pay_credit_payment(payment_method, amount)\n",
    "    elif payment_type == 'point_wallet':\n",
    "        pay_with_point(payment_method, amount)\n",
    "    else:\n",
    "        print(\"지원되지 않는 결제방식\")"
   ]
  },
  {
   "cell_type": "code",
   "execution_count": 43,
   "id": "947db246",
   "metadata": {},
   "outputs": [
    {
     "name": "stdout",
     "output_type": "stream",
     "text": [
      "1234-5678-xxxx카드로 2500원 결제합니다.\n",
      "결제 완료\n",
      "포인트 10000점을 사용해서 결제했습니다.\n",
      "포인트가 부족합니다.\n"
     ]
    }
   ],
   "source": [
    "payment(credit_card, 2500)\n",
    "payment(my_points, 10000)\n",
    "payment(my_points, 50000)"
   ]
  },
  {
   "cell_type": "code",
   "execution_count": null,
   "id": "95aed46c",
   "metadata": {},
   "outputs": [
    {
     "name": "stdout",
     "output_type": "stream",
     "text": [
      "1234-5678-xxxx카드로 2500원 결제합니다.\n",
      "결제 완료\n",
      "포인트 10000점을 사용해서 결제했습니다.\n",
      "포인트가 부족합니다.\n"
     ]
    }
   ],
   "source": [
    "## 최종 코드 불러오기 (함수형)\n",
    "\n",
    "def pay_credit_payment(card_info, amount):\n",
    "    \"\"\" 신용카드 결제 로직 \"\"\"\n",
    "    print(f\"{card_info['card_number']}카드로 {amount}원 결제합니다.\")\n",
    "    print('결제 완료')\n",
    " \n",
    "def pay_with_point(point_wallet, amount):\n",
    "    if point_wallet['balance'] >= amount:\n",
    "        point_wallet['balance'] -= amount\n",
    "        print(f\"포인트 {amount}점을 사용해서 결제했습니다.\")\n",
    "    else:\n",
    "        print(\"포인트가 부족합니다.\")\n",
    " \n",
    " \n",
    "credit_card = {\n",
    "    'type':'credit_card',\n",
    "    'card_number': '1234-5678-xxxx',\n",
    "    'cvc': 123\n",
    "}\n",
    " \n",
    "my_points = {\n",
    "    'type':\"point_wallet\",\n",
    "    'balance': 50000\n",
    "}\n",
    " \n",
    "# 다양한 형태의 결제 방식을 처리하는 메인 루틴\n",
    "def payment(payment_method, amount):\n",
    "    payment_type=payment_method['type']\n",
    " \n",
    "    if payment_type == 'credit_card':\n",
    "        pay_credit_payment(payment_method, amount)\n",
    "    elif payment_type == 'point_wallet':\n",
    "        pay_with_point(payment_method, amount)\n",
    "    else:\n",
    "        print(\"지원되지 않는 결제방식\")\n",
    " \n",
    " \n",
    "payment(credit_card, 2500)\n",
    "payment(my_points, 10000)\n",
    "payment(my_points, 50000)\n",
    " "
   ]
  },
  {
   "cell_type": "code",
   "execution_count": null,
   "id": "5a002ab5",
   "metadata": {},
   "outputs": [],
   "source": [
    "# 결제 시스템 (클래스)\n",
    "# 신용카드, 포인트 결제\n",
    "\n",
    "class PaymentMethod:\n",
    "    def pay(self, amount):\n",
    "        print(f\"{amount}원 결제를 시작합니다.\")"
   ]
  },
  {
   "cell_type": "code",
   "execution_count": 60,
   "id": "052578b9",
   "metadata": {},
   "outputs": [],
   "source": [
    "class CreditCard(PaymentMethod):\n",
    "    def __init__(self, card_number, cvc):\n",
    "        self.card_number = card_number\n",
    "        self.cvc = cvc\n",
    "\n",
    "    def pay(self, amount):\n",
    "        print(f\"{self.card_number}카드로 {amount}원 결제합니다.\")\n",
    "        print(\"결제 완료\")\n",
    "\n",
    "class PointWallet(PaymentMethod):\n",
    "    def __init__(self, balance):\n",
    "        self.balbance = balance\n",
    "    \n",
    "    def pay(self, amout):\n",
    "        if self.balance >= amount:\n",
    "            self.balance -= amount\n",
    "            print(f\"포인트 {amout}점을 사용해서 결제했습니다.\")\n",
    "        else:\n",
    "            print(\"포인트가 부족합니다.\")"
   ]
  },
  {
   "cell_type": "code",
   "execution_count": 51,
   "id": "b546eb00",
   "metadata": {},
   "outputs": [
    {
     "name": "stdout",
     "output_type": "stream",
     "text": [
      "1234-5678-xxxx카드로 2500원 결제합니다.\n",
      "결제 완료\n",
      "포인트 10000점을 사용해서 결제했습니다.\n",
      "포인트가 부족합니다.\n"
     ]
    }
   ],
   "source": [
    "payment(credit_card, 2500)\n",
    "payment(my_points, 10000)\n",
    "payment(my_points, 50000)"
   ]
  },
  {
   "cell_type": "code",
   "execution_count": null,
   "id": "3419b459",
   "metadata": {},
   "outputs": [],
   "source": [
    "def process_payment(payment_method, amount):\n",
    "    payment_method.pay(amount)\n",
    "\n",
    "card_obj = CreditCard(\"4444-4444-xxxx\", 444)\n",
    "point_obj = PointWallet(50000)\n",
    "\n",
    "# 클래스로 넘기는 경우 함부로 접근할 수 없는 숨겨진 데이터가 됨"
   ]
  },
  {
   "cell_type": "code",
   "execution_count": 62,
   "id": "a13a777a",
   "metadata": {},
   "outputs": [
    {
     "name": "stdout",
     "output_type": "stream",
     "text": [
      "44444-4444-xxxxx카드로 1000원 결제합니다.\n",
      "결제 완료\n",
      "포인트 10000점을 사용해서 결제했습니다.\n",
      "포인트가 부족합니다.\n"
     ]
    }
   ],
   "source": [
    "process_payment(card_obj, 1000)\n",
    "process_payment(point_obj, 10000)\n",
    "process_payment(point_obj, 50000)"
   ]
  },
  {
   "cell_type": "code",
   "execution_count": 63,
   "id": "231acc0d",
   "metadata": {},
   "outputs": [
    {
     "name": "stdout",
     "output_type": "stream",
     "text": [
      "44444-4444-xxxxx카드로 1000원 결제합니다.\n",
      "결제 완료\n",
      "포인트 10000점을 사용해서 결제했습니다.\n",
      "포인트가 부족합니다.\n"
     ]
    }
   ],
   "source": [
    "## 최종 코드 불러오기 (class)\n",
    "\n",
    "class PaymentMethod:\n",
    "    def pay(self, amount):\n",
    "        print(f\"{amount}원 결제\")\n",
    " \n",
    "class CreditCard(PaymentMethod):\n",
    "    def __init__(self, card_number, cvc):\n",
    "        self.card_number = card_number\n",
    "        self.cvc = cvc\n",
    "    def pay(self, amount):\n",
    "        print(f\"{self.card_number}카드로 {amount}원 결제합니다.\")\n",
    "        # 서버 결제 요청\n",
    "        print('결제 완료')\n",
    "class PointWallet(PaymentMethod):\n",
    "    def __init__(self, balance):\n",
    "        self.balance = balance\n",
    "    def pay(self, amount):\n",
    "        if self.balance >= amount:\n",
    "            self.balance -= amount\n",
    "            print(f\"포인트 {amount}점을 사용해서 결제했습니다.\")\n",
    "        else:\n",
    "            print(\"포인트가 부족합니다.\")\n",
    " \n",
    "def process_payment(payment_method, amount):\n",
    "    payment_method.pay(amount)\n",
    "card_obj = CreditCard(\"44444-4444-xxxxx\", 444)\n",
    "point_obj = PointWallet(50000)\n",
    " \n",
    "process_payment(card_obj, 1000)\n",
    "process_payment(point_obj, 10000)\n",
    "process_payment(point_obj, 50000)"
   ]
  },
  {
   "cell_type": "code",
   "execution_count": 68,
   "id": "dd6fd1d1",
   "metadata": {},
   "outputs": [
    {
     "name": "stdout",
     "output_type": "stream",
     "text": [
      "Requirement already satisfied: numpy in c:\\users\\el65\\appdata\\local\\programs\\python\\python311\\lib\\site-packages (2.3.3)\n"
     ]
    },
    {
     "name": "stderr",
     "output_type": "stream",
     "text": [
      "\n",
      "[notice] A new release of pip is available: 24.0 -> 25.2\n",
      "[notice] To update, run: python.exe -m pip install --upgrade pip\n"
     ]
    }
   ],
   "source": [
    "!pip install numpy"
   ]
  },
  {
   "cell_type": "code",
   "execution_count": 73,
   "id": "0b5b94bc",
   "metadata": {},
   "outputs": [],
   "source": [
    "import numpy"
   ]
  },
  {
   "cell_type": "code",
   "execution_count": 71,
   "id": "ff86c0b8",
   "metadata": {},
   "outputs": [
    {
     "name": "stdout",
     "output_type": "stream",
     "text": [
      "Collecting beautifulsoup4\n",
      "  Downloading beautifulsoup4-4.13.5-py3-none-any.whl.metadata (3.8 kB)\n",
      "Collecting soupsieve>1.2 (from beautifulsoup4)\n",
      "  Downloading soupsieve-2.8-py3-none-any.whl.metadata (4.6 kB)\n",
      "Requirement already satisfied: typing-extensions>=4.0.0 in c:\\users\\el65\\appdata\\roaming\\python\\python311\\site-packages (from beautifulsoup4) (4.15.0)\n",
      "Downloading beautifulsoup4-4.13.5-py3-none-any.whl (105 kB)\n",
      "   ---------------------------------------- 0.0/105.1 kB ? eta -:--:--\n",
      "   ----------- ---------------------------- 30.7/105.1 kB 1.3 MB/s eta 0:00:01\n",
      "   ---------------------------------------- 105.1/105.1 kB 2.0 MB/s eta 0:00:00\n",
      "Downloading soupsieve-2.8-py3-none-any.whl (36 kB)\n",
      "Installing collected packages: soupsieve, beautifulsoup4\n",
      "Successfully installed beautifulsoup4-4.13.5 soupsieve-2.8\n"
     ]
    },
    {
     "name": "stderr",
     "output_type": "stream",
     "text": [
      "\n",
      "[notice] A new release of pip is available: 24.0 -> 25.2\n",
      "[notice] To update, run: python.exe -m pip install --upgrade pip\n"
     ]
    }
   ],
   "source": [
    "!pip install beautifulsoup4"
   ]
  },
  {
   "cell_type": "code",
   "execution_count": 72,
   "id": "00467a33",
   "metadata": {},
   "outputs": [],
   "source": [
    "from bs4 import BeautifulSoup"
   ]
  }
 ],
 "metadata": {
  "kernelspec": {
   "display_name": "Python 3",
   "language": "python",
   "name": "python3"
  },
  "language_info": {
   "codemirror_mode": {
    "name": "ipython",
    "version": 3
   },
   "file_extension": ".py",
   "mimetype": "text/x-python",
   "name": "python",
   "nbconvert_exporter": "python",
   "pygments_lexer": "ipython3",
   "version": "3.11.8"
  }
 },
 "nbformat": 4,
 "nbformat_minor": 5
}
