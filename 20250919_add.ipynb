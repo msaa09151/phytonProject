{
 "cells": [
  {
   "cell_type": "markdown",
   "id": "5efe6e90",
   "metadata": {},
   "source": [
    "# 파이썬 도전 미션"
   ]
  },
  {
   "cell_type": "markdown",
   "id": "98a1e256",
   "metadata": {},
   "source": [
    "### 1번"
   ]
  },
  {
   "cell_type": "markdown",
   "id": "89526703",
   "metadata": {},
   "source": [
    "# 업그레이드미션 1\n",
    "# pay = 12345678\t  # 12345678원 \n",
    "# TODO: 100 미만 절사 처리해주세요"
   ]
  },
  {
   "cell_type": "markdown",
   "id": "0fb28895",
   "metadata": {},
   "source": [
    "### 5번\n"
   ]
  },
  {
   "cell_type": "code",
   "execution_count": null,
   "id": "b8626279",
   "metadata": {},
   "outputs": [
    {
     "name": "stdout",
     "output_type": "stream",
     "text": [
      "15\n",
      "33333\n"
     ]
    }
   ],
   "source": [
    "# 정수 num1, num2가 입력으로 주어질 때, 첫 번째 줄에는 num1과 num2를 곱한 수를, 두 번째 줄에는 num1을 num2번 반복하여 출력하도록 코드를 작성해주세요 \n",
    "# 예시) num1이 4, num2가 3이므로 첫째 줄에 4와 3을 곱한 12를 출력하고, 둘째 줄에 4를 3번 반복한 \"444\"를 출력합니다. \n",
    "\n",
    "num1 = int(input(\"정수를 입력하세요:\"))\n",
    "num2 = int(input(\"정수를 입력하세요:\"))\n",
    "\n",
    "print(num1 * num2)\n",
    "print(str(num1) * num2)\n",
    "\n",
    "#입력한 num1=3, num2=5"
   ]
  },
  {
   "cell_type": "markdown",
   "id": "ecbe433b",
   "metadata": {},
   "source": [
    "### 6번"
   ]
  },
  {
   "cell_type": "code",
   "execution_count": 6,
   "id": "d3ac942d",
   "metadata": {},
   "outputs": [
    {
     "name": "stdout",
     "output_type": "stream",
     "text": [
      "홀수\n"
     ]
    }
   ],
   "source": [
    "# number가 짝수라면 \"짝수\"를, number가 홀수라면 \"홀수\"를 출력하도록 조건문을 작성해주세요. \n",
    "\n",
    "number = int(input(\"정수를 입력하세요.\"))\n",
    "\n",
    "if number % 2 == 0:\n",
    "    print(\"짝수\")\n",
    "else:\n",
    "    print(\"홀수\")\n",
    "\n",
    "#입력한 number=3"
   ]
  },
  {
   "cell_type": "markdown",
   "id": "16b7fd0b",
   "metadata": {},
   "source": [
    "### 7번"
   ]
  },
  {
   "cell_type": "code",
   "execution_count": 4,
   "id": "9dc33358",
   "metadata": {},
   "outputs": [
    {
     "name": "stdout",
     "output_type": "stream",
     "text": [
      "D\n"
     ]
    }
   ],
   "source": [
    "# 입력된 학생의 점수 score에 따라 성적을 A, B, C, D, F로 구분하여 출력하는 코드를 작성해주세요 \n",
    "# A : 90 ≤ score, B : 80 ≤ score < 90, C : 70 ≤ score < 80, D : 60 ≤ score < 70, F : score < 60 \n",
    "\n",
    "score = int(input(\"학생의 점수를 입력하세요: \"))\n",
    "\n",
    "if score >= 90:\n",
    "    print(\"A\")\n",
    "elif score >= 80:\n",
    "    print(\"B\")\n",
    "elif score >= 70:\n",
    "    print(\"C\")\n",
    "elif score >= 60:\n",
    "    print(\"D\")\n",
    "else:\n",
    "    print(\"F\")"
   ]
  },
  {
   "cell_type": "markdown",
   "id": "f7e73866",
   "metadata": {},
   "source": [
    "### 8번"
   ]
  },
  {
   "cell_type": "code",
   "execution_count": null,
   "id": "615e9317",
   "metadata": {},
   "outputs": [
    {
     "name": "stdout",
     "output_type": "stream",
     "text": [
      "enemy_nic kill my_nic\n"
     ]
    }
   ],
   "source": [
    "# 지민이는 온라인 게임을 하던 도중 갑작스럽게 적을 만났습니다. 지민이의 캐릭터는 마나를 소모하며 공격하는 캐릭터이고 한 번 공격 시 마나 10을 소모하며 대미지는 20입니다. 지민이의 닉네임 my_nic과 적의 닉네임 enemy_nic이 문자열로 주어지고, 지민이의 마나량 mana, 적의 체력 hp가 정수로 주어질 때 지민이가 남은 마나로 적을 쓰러뜨릴 수 있다면 \"my_nic kill enemy_nic\"을 쓰러뜨릴 수 없다면 \"enemy_nic kill my_nic\"을 출력하도록 코드를 작성해보세요. \n",
    "\n",
    "# 캐릭터는 마나가 10보다 적으면 공격할 수 없습니다. \n",
    "# 1 ≤ my_nic의 길이, enemy_nic의 길이 ≤ 10 \n",
    "# 1 ≤ mana, hp ≤ 1,000 \n",
    "\n",
    "my_nic = input(\"본인의 닉네임을 입력하세요: \")\n",
    "enemy_nic = input(\"적의 닉네임을 입력하세요: \") \n",
    "mana = int(input(\"본인의 마나를 입력하세요: \"))\n",
    "hp = int(input(\"적의 체력을 입력하세요: \"))\n",
    "\n",
    "i = mana / 100\n",
    "\n",
    "if i * 10 >= hp:\n",
    "    print(\"my_nic\", \"kill\", \"enemy_nic\")\n",
    "else:\n",
    "    print(\"enemy_nic\", \"kill\", \"my_nic\")"
   ]
  },
  {
   "cell_type": "code",
   "execution_count": null,
   "id": "70eb9062",
   "metadata": {},
   "outputs": [],
   "source": [
    "# 지민이는 온라인 게임을 하던 도중 갑작스럽게 적을 만났습니다. 지민이의 캐릭터는 마나를 소모하며 공격하는 캐릭터이고 한 번 공격 시 마나 10을 소모하며 대미지는 20입니다. 지민이의 닉네임 my_nic과 적의 닉네임 enemy_nic이 문자열로 주어지고, 지민이의 마나량 mana, 적의 체력 hp가 정수로 주어질 때 지민이가 남은 마나로 적을 쓰러뜨릴 수 있다면 \"my_nic kill enemy_nic\"을 쓰러뜨릴 수 없다면 \"enemy_nic kill my_nic\"을 출력하도록 코드를 작성해보세요. \n",
    "\n",
    "# 캐릭터는 마나가 10보다 적으면 공격할 수 없습니다. \n",
    "# 1 ≤ my_nic의 길이, enemy_nic의 길이 ≤ 10 \n",
    "# 1 ≤ mana, hp ≤ 1,000 \n",
    "\n",
    "my_nic = input(\"본인의 닉네임을 입력하세요: \")\n",
    "enemy_nic = input(\"적의 닉네임을 입력하세요: \") \n",
    "mana = int(input(\"본인의 마나를 입력하세요: \"))\n",
    "hp = int(input(\"적의 체력을 입력하세요: \"))\n",
    "\n",
    "i = mana / 100\n",
    "\n",
    "if i * 10 >= hp:\n",
    "        print(\"my_nic\", \"kill\", \"enemy_nic\")\n",
    "elif 1 * 10 < hp:\n",
    "        continue\n",
    "elif 1 * 10 < mana:\n",
    "        print(\"enemy_nic\", \"kill\", \"my_nic\")\n",
    "\n"
   ]
  },
  {
   "cell_type": "markdown",
   "id": "31e087f8",
   "metadata": {},
   "source": [
    "### 9번"
   ]
  },
  {
   "cell_type": "code",
   "execution_count": 35,
   "id": "63e45fd4",
   "metadata": {},
   "outputs": [
    {
     "name": "stdout",
     "output_type": "stream",
     "text": [
      "1, 2, 짝! 4, 5, 짝! 7, 8, 짝! 10, 11, 짝! 13, 14, 짝! 16, 17, 짝! 19, 20 끝!\n"
     ]
    }
   ],
   "source": [
    "#3, 6, 9로 끝나는 숫자에 '짝'을 출력하는 369 게임을 작성하세요.\n",
    "\n",
    "num = int(input(\"숫자를 얼마까지 진행할까요?: \"))\n",
    "\n",
    "for i in range(1, num+1):\n",
    "    if i % 3 == 0:\n",
    "        print(\"짝!\", end=\" \")\n",
    "    elif i == num:\n",
    "        print(num, \"끝!\")\n",
    "    else:\n",
    "        print(i, end=\", \")\n"
   ]
  },
  {
   "cell_type": "markdown",
   "id": "20c57b8d",
   "metadata": {},
   "source": [
    "### 10번"
   ]
  },
  {
   "cell_type": "code",
   "execution_count": null,
   "id": "53ae001d",
   "metadata": {},
   "outputs": [],
   "source": [
    " "
   ]
  }
 ],
 "metadata": {
  "kernelspec": {
   "display_name": "Python 3",
   "language": "python",
   "name": "python3"
  },
  "language_info": {
   "codemirror_mode": {
    "name": "ipython",
    "version": 3
   },
   "file_extension": ".py",
   "mimetype": "text/x-python",
   "name": "python",
   "nbconvert_exporter": "python",
   "pygments_lexer": "ipython3",
   "version": "3.11.8"
  }
 },
 "nbformat": 4,
 "nbformat_minor": 5
}
