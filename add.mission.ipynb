{
 "cells": [
  {
   "cell_type": "markdown",
   "id": "5efe6e90",
   "metadata": {},
   "source": [
    "# 파이썬 도전 미션"
   ]
  },
  {
   "cell_type": "markdown",
   "id": "98a1e256",
   "metadata": {},
   "source": [
    "### 1번"
   ]
  },
  {
   "cell_type": "code",
   "execution_count": 1,
   "id": "40c55123",
   "metadata": {},
   "outputs": [],
   "source": [
    "# 업그레이드미션 1\n",
    "# pay = 12345678\t  # 12345678원 \n",
    "# TODO: 100 미만 절사 처리해주세요"
   ]
  },
  {
   "cell_type": "markdown",
   "id": "940f3424",
   "metadata": {},
   "source": [
    "### 2번"
   ]
  },
  {
   "cell_type": "code",
   "execution_count": 2,
   "id": "3caedfa6",
   "metadata": {},
   "outputs": [],
   "source": [
    "# 업그레이드미션 2  \n",
    "# Todo: 변수 a에 저장된 값의 b자리 값을 계산하여\t 변수 c에 저장하는 코드를 설계하라  \n",
    "# 예를 들어 a에 1234가 저장되어 있고 b가 1일 경우 첫 번째 자리값인 4가 c에 저장된다.  \n",
    "# a가 1234일때 b가 4일 경우는 4번째 자리값인 1이 c에 저장되어야 한다.  "
   ]
  },
  {
   "cell_type": "markdown",
   "id": "32f037d4",
   "metadata": {},
   "source": [
    "### 3번"
   ]
  },
  {
   "cell_type": "code",
   "execution_count": 4,
   "id": "d7590ca8",
   "metadata": {},
   "outputs": [
    {
     "name": "stdout",
     "output_type": "stream",
     "text": [
      "7.5\n"
     ]
    }
   ],
   "source": [
    "# 삼각형의 넓이 구하기 \n",
    "# 사용자에게 삼각형의 밑변과 높이를 입력 받아  \n",
    "# 삼각형의 넓이를 출력하는 코드를 작성하세요.\n",
    "\n",
    "b = int(input(\"삼각형의 밑변을 입력해 주세요: \"))\n",
    "h = int(input(\"삼각형의 높이를 입력해 주세요.: \"))\n",
    "\n",
    "print(b * h / 2)"
   ]
  },
  {
   "cell_type": "markdown",
   "id": "44d6198d",
   "metadata": {},
   "source": [
    "### 4번"
   ]
  },
  {
   "cell_type": "code",
   "execution_count": null,
   "id": "4bace004",
   "metadata": {},
   "outputs": [
    {
     "name": "stdout",
     "output_type": "stream",
     "text": [
      "10\n"
     ]
    }
   ],
   "source": [
    "# 다음 그림과 같이 바둑돌의 개수를 늘려가며 삼각형 모양을 만들려고 합니다.\n",
    "# n이 입력으로 주어질 때, n단계에서 사용된 바둑돌의 개수를 출력하는 코드를 작성하세요. \n",
    "\n",
    "n = int(input(\"단계를 입력해 주세요: \"))\n",
    "sum = 0\n",
    "\n",
    "for i in range(1, n+1):\n",
    "    sum = sum + i\n",
    "print(sum)"
   ]
  },
  {
   "cell_type": "markdown",
   "id": "0fb28895",
   "metadata": {},
   "source": [
    "### 5번\n"
   ]
  },
  {
   "cell_type": "code",
   "execution_count": null,
   "id": "b8626279",
   "metadata": {},
   "outputs": [
    {
     "name": "stdout",
     "output_type": "stream",
     "text": [
      "15\n",
      "33333\n"
     ]
    }
   ],
   "source": [
    "# 정수 num1, num2가 입력으로 주어질 때, 첫 번째 줄에는 num1과 num2를 곱한 수를, 두 번째 줄에는 num1을 num2번 반복하여 출력하도록 코드를 작성해주세요 \n",
    "# 예시) num1이 4, num2가 3이므로 첫째 줄에 4와 3을 곱한 12를 출력하고, 둘째 줄에 4를 3번 반복한 \"444\"를 출력합니다. \n",
    "\n",
    "num1 = int(input(\"정수를 입력하세요:\"))\n",
    "num2 = int(input(\"정수를 입력하세요:\"))\n",
    "\n",
    "print(num1 * num2)\n",
    "print(str(num1) * num2)\n",
    "\n",
    "#입력한 num1=3, num2=5"
   ]
  },
  {
   "cell_type": "markdown",
   "id": "ecbe433b",
   "metadata": {},
   "source": [
    "### 6번"
   ]
  },
  {
   "cell_type": "code",
   "execution_count": null,
   "id": "d3ac942d",
   "metadata": {},
   "outputs": [
    {
     "name": "stdout",
     "output_type": "stream",
     "text": [
      "홀수\n"
     ]
    }
   ],
   "source": [
    "# number가 짝수라면 \"짝수\"를, number가 홀수라면 \"홀수\"를 출력하도록 조건문을 작성해주세요. \n",
    "\n",
    "number = int(input(\"정수를 입력하세요.\"))\n",
    "\n",
    "if number % 2 == 0:\n",
    "    print(\"짝수\")\n",
    "else:\n",
    "    print(\"홀수\")\n",
    "\n",
    "# 입력한 number=3"
   ]
  },
  {
   "cell_type": "markdown",
   "id": "16b7fd0b",
   "metadata": {},
   "source": [
    "### 7번"
   ]
  },
  {
   "cell_type": "code",
   "execution_count": null,
   "id": "9dc33358",
   "metadata": {},
   "outputs": [
    {
     "name": "stdout",
     "output_type": "stream",
     "text": [
      "D\n"
     ]
    }
   ],
   "source": [
    "# 입력된 학생의 점수 score에 따라 성적을 A, B, C, D, F로 구분하여 출력하는 코드를 작성해주세요 \n",
    "# A : 90 ≤ score, B : 80 ≤ score < 90, C : 70 ≤ score < 80, D : 60 ≤ score < 70, F : score < 60 \n",
    "\n",
    "score = int(input(\"학생의 점수를 입력하세요: \"))\n",
    "\n",
    "if score >= 90:\n",
    "    print(\"A\")\n",
    "elif score >= 80:\n",
    "    print(\"B\")\n",
    "elif score >= 70:\n",
    "    print(\"C\")\n",
    "elif score >= 60:\n",
    "    print(\"D\")\n",
    "else:\n",
    "    print(\"F\")"
   ]
  },
  {
   "cell_type": "markdown",
   "id": "f7e73866",
   "metadata": {},
   "source": [
    "### 8번"
   ]
  },
  {
   "cell_type": "code",
   "execution_count": null,
   "id": "d6f4d9a7",
   "metadata": {},
   "outputs": [
    {
     "name": "stdout",
     "output_type": "stream",
     "text": [
      "1 2 4 7 8 11 13 14 16 17 19 "
     ]
    }
   ],
   "source": [
    "i = 0\n",
    "while True:\n",
    "    i += 1\n",
    "    if i >= 20:\n",
    "        # print(f\"{i} break\")\n",
    "        break\n",
    "    if i % 3 == 0 or i % 5 == 0:\n",
    "        # print(f\"{i} continue\") \n",
    "        continue\n",
    "    print(i, end=\" \")"
   ]
  },
  {
   "cell_type": "code",
   "execution_count": null,
   "id": "615e9317",
   "metadata": {},
   "outputs": [
    {
     "name": "stdout",
     "output_type": "stream",
     "text": [
      "적 kill 유저\n",
      "전투가 종료되었습니다. 소모 턴은 10 회 입니다.\n"
     ]
    }
   ],
   "source": [
    "# 지민이는 온라인 게임을 하던 도중 갑작스럽게 적을 만났습니다. 지민이의 캐릭터는 마나를 소모하며 공격하는 캐릭터이고 한 번 공격 시 마나 10을 소모하며 대미지는 20입니다. 지민이의 닉네임 my_nic과 적의 닉네임 enemy_nic이 문자열로 주어지고, 지민이의 마나량 mana, 적의 체력 hp가 정수로 주어질 때 지민이가 남은 마나로 적을 쓰러뜨릴 수 있다면 \"my_nic kill enemy_nic\"을 쓰러뜨릴 수 없다면 \"enemy_nic kill my_nic\"을 출력하도록 코드를 작성해보세요. \n",
    "# 캐릭터는 마나가 10보다 적으면 공격할 수 없습니다. \n",
    "# 1 ≤ my_nic의 길이, enemy_nic의 길이 ≤ 10 \n",
    "# 1 ≤ mana, hp ≤ 1,000 \n",
    "\n",
    "my_nic = input(\"본인의 닉네임을 입력하세요: \")\n",
    "enemy_nic = input(\"적의 닉네임을 입력하세요: \") \n",
    "mana = int(input(\"본인의 마나를 입력하세요: \"))\n",
    "hp = int(input(\"적의 체력을 입력하세요: \"))\n",
    "\n",
    "attack = 0 # 전투 턴 카운트\n",
    "\n",
    "# attack이 mana가 0이 될 때까지 반복하고, 0이 될 때까지 적의 hp가 0이 되면 승리, 적의 hp가 남아있으면 패배\n",
    "# 공격 턴이 계속 진행되기 때문에 반복문 사용\n",
    "\n",
    "\n",
    "while mana >= 10 and hp > 0:\n",
    "    mana = mana - 10 # mana -= 10\n",
    "    hp = hp - 20 # hp -= 20\n",
    "    attack = attack + 1\n",
    "    if hp <= 0:\n",
    "        print(my_nic, \"kill\", enemy_nic)\n",
    "        print(\"전투가 종료되었습니다. 소모 턴은\", str(attack), \"회 입니다.\") # print(f\"전투가 종료되었습니다. 소모 턴은 {attack} 회 입니다.\")\n",
    "        break\n",
    "if hp > 0:\n",
    "    print(enemy_nic, \"kill\", my_nic)\n",
    "    print(\"전투가 종료되었습니다. 소모 턴은\", str(attack), \"회 입니다.\") # print(f\"전투가 종료되었습니다. 소모 턴은 {attack} 회 입니다.\")\n",
    "\n",
    "\n",
    "# while문 조건: mana가 10 이상, hp가 1 이상\n",
    "# 조건문에서 hp가 0 이하인 경우(유저 승리) 게임 종료 \n",
    "# mana가 10 미만인 경우(적 승리) while 조건문의 조건에 포함되지 않아 들여쓰기 없이 if문 출력"
   ]
  },
  {
   "cell_type": "code",
   "execution_count": null,
   "id": "d0ed198a",
   "metadata": {},
   "outputs": [
    {
     "name": "stdout",
     "output_type": "stream",
     "text": [
      "나 kill 적\n",
      "전투가 종료되었습니다. 소모 턴은 3 회 입니다.\n",
      "나 kill 적\n",
      "전투가 종료되었습니다. 소모 턴은 4 회 입니다.\n"
     ]
    }
   ],
   "source": [
    "# 지민이는 온라인 게임을 하던 도중 갑작스럽게 적을 만났습니다. 지민이의 캐릭터는 마나를 소모하며 공격하는 캐릭터이고 한 번 공격 시 마나 10을 소모하며 대미지는 20입니다. 지민이의 닉네임 my_nic과 적의 닉네임 enemy_nic이 문자열로 주어지고, 지민이의 마나량 mana, 적의 체력 hp가 정수로 주어질 때 지민이가 남은 마나로 적을 쓰러뜨릴 수 있다면 \"my_nic kill enemy_nic\"을 쓰러뜨릴 수 없다면 \"enemy_nic kill my_nic\"을 출력하도록 코드를 작성해보세요. \n",
    "# 캐릭터는 마나가 10보다 적으면 공격할 수 없습니다. \n",
    "# 1 ≤ my_nic의 길이, enemy_nic의 길이 ≤ 10 \n",
    "# 1 ≤ mana, hp ≤ 1,000 \n",
    "\n",
    "my_nic = input(\"본인의 닉네임을 입력하세요: \")\n",
    "enemy_nic = input(\"적의 닉네임을 입력하세요: \") \n",
    "mana = int(input(\"본인의 마나를 입력하세요: \"))\n",
    "hp = int(input(\"적의 체력을 입력하세요: \"))\n",
    "\n",
    "attack = 0 # 전투 턴 카운트\n",
    "\n",
    "# attack이 mana가 0이 될 때까지 반복하고, 0이 될 때까지 적의 hp가 0이 되면 승리, 적의 hp가 남아있으면 패배\n",
    "# 공격 턴이 계속 진행되기 때문에 반복문 사용\n",
    "\n",
    "while True:\n",
    "    if mana >= 10 and hp > 0:\n",
    "        mana = mana - 10\n",
    "        hp = hp - 20\n",
    "        attack = attack + 1\n",
    "    if mana < 10:\n",
    "        print(enemy_nic, \"kill\", my_nic)\n",
    "        print(\"전투가 종료되었습니다. 소모 턴은\", attack, \"회 입니다.\") # print(f\"전투가 종료되었습니다. 소모 턴은 {attack} 회 입니다.\")\n",
    "        break\n",
    "    if hp <= 0:\n",
    "        print(enemy_nic, \"kill\", my_nic)\n",
    "        print(\"전투가 종료되었습니다. 소모 턴은\", attack, \"회 입니다.\") # print(f\"전투가 종료되었습니다. 소모 턴은 {attack} 회 입니다.\")\n",
    "        break\n",
    "\n",
    "while True:\n",
    "        mana = mana - 10\n",
    "        hp = hp - 20\n",
    "        attack = attack + 1\n",
    "        if mana < 10:\n",
    "            print(enemy_nic, \"kill\", my_nic)\n",
    "            print(\"전투가 종료되었습니다. 소모 턴은\", attack, \"회 입니다.\") # print(f\"전투가 종료되었습니다. 소모 턴은 {attack} 회 입니다.\")\n",
    "            break\n",
    "        if hp <= 0:\n",
    "            print(enemy_nic, \"kill\", my_nic)\n",
    "            print(\"전투가 종료되었습니다. 소모 턴은\", attack, \"회 입니다.\") # print(f\"전투가 종료되었습니다. 소모 턴은 {attack} 회 입니다.\")\n",
    "            break\n",
    "\n",
    "# while True 사용"
   ]
  },
  {
   "cell_type": "code",
   "execution_count": null,
   "id": "cf30f1c7",
   "metadata": {},
   "outputs": [
    {
     "name": "stdout",
     "output_type": "stream",
     "text": [
      "나가 적을(를) 쓰러뜨렸습니다. 나의 승리!\n",
      "전투 횟수: 3\n"
     ]
    }
   ],
   "source": [
    "user_name= input(\"본인의 닉네임을 입력하세요: \")\n",
    "enemy_name = input(\"적의 닉네임을 입력하세요: \") \n",
    "user_mana = int(input(\"본인의 마나를 입력하세요: \"))\n",
    "enemy_hp = int(input(\"적의 체력을 입력하세요: \"))\n",
    "\n",
    "\n",
    "        # 공격 당 마나 소모와 데미지\n",
    "damage_per_attack = 20\n",
    "mana_per_attack = 10\n",
    "\n",
    "        # 전투 횟수 카운트\n",
    "battle_count = 0\n",
    "\n",
    "while True:\n",
    "            # 마나가 부족하면 종료\n",
    "            if user_mana < mana_per_attack:\n",
    "                print(f\"{enemy_name}이(가) {user_name}을(를) 쓰러뜨렸습니다. {enemy_name}의 승리!\")\n",
    "                print(f\"전투 횟수: {battle_count}\")\n",
    "                break\n",
    "\n",
    "            # 공격\n",
    "            enemy_hp -= damage_per_attack\n",
    "            user_mana -= mana_per_attack\n",
    "            battle_count += 1  # 전투 횟수 증가\n",
    "\n",
    "            # 공격 후 적의 체력 확인\n",
    "            if enemy_hp <= 0:\n",
    "                print(f\"{user_name}가 {enemy_name}을(를) 쓰러뜨렸습니다. {user_name}의 승리!\")\n",
    "                print(f\"전투 횟수: {battle_count}\")\n",
    "                break"
   ]
  },
  {
   "cell_type": "markdown",
   "id": "31e087f8",
   "metadata": {},
   "source": [
    "### 9번"
   ]
  },
  {
   "cell_type": "code",
   "execution_count": null,
   "id": "63e45fd4",
   "metadata": {},
   "outputs": [
    {
     "name": "stdout",
     "output_type": "stream",
     "text": [
      "1, 2, 짝! 4, 5, 짝! 7, 8, 짝! 10, 11, 짝! 13, 14, 짝! 16, 17, 짝! 19, 20 끝!\n"
     ]
    }
   ],
   "source": [
    "# 3, 6, 9로 끝나는 숫자에 '짝'을 출력하는 369 게임을 작성하세요.\n",
    "\n",
    "num = int(input(\"숫자를 얼마까지 진행할까요?: \"))\n",
    "\n",
    "for i in range(1, num+1):\n",
    "    if i % 3 == 0:\n",
    "        print(\"짝!\", end=\" \")\n",
    "    elif i == num:\n",
    "        print(num, \"끝!\")\n",
    "    else:\n",
    "        print(i, end=\", \")\n"
   ]
  },
  {
   "cell_type": "markdown",
   "id": "20c57b8d",
   "metadata": {},
   "source": [
    "### 10번"
   ]
  },
  {
   "cell_type": "code",
   "execution_count": null,
   "id": "53ae001d",
   "metadata": {},
   "outputs": [
    {
     "name": "stdout",
     "output_type": "stream",
     "text": [
      "***\n",
      "***\n",
      "***\n",
      "***\n"
     ]
    }
   ],
   "source": [
    "# *을 가로로 a개, 세로로 b개 사용하여 직사각형을 만들려고 합니다. 정수 a, b가 매개변수로 주어질 때, a x b 직사각형을 출력하도록 코드를 작성하세요 \n",
    "\n",
    "star = \"*\"\n",
    "\n",
    "wid = int(input(\"가로 사이즈를 입력하세요: \"))\n",
    "leng = int(input(\"세로 사이즈를 입력하세요: \"))\n",
    "\n",
    "for i in range(leng):\n",
    "    print(star * wid)"
   ]
  },
  {
   "cell_type": "markdown",
   "id": "b2b8e389",
   "metadata": {},
   "source": [
    "### 11번"
   ]
  },
  {
   "cell_type": "code",
   "execution_count": null,
   "id": "55c3622e",
   "metadata": {},
   "outputs": [
    {
     "name": "stdout",
     "output_type": "stream",
     "text": [
      "역삼역 도어읽 로꾸거 역삼역 도어읽 로으앞 .다니입역삼역 ,역삼역 은역 번이\n"
     ]
    }
   ],
   "source": [
    "# 거꾸로 적어 내기 \n",
    "\n",
    "# string = \" 이번역은 역삼역, 역삼역입니다. 앞으로 읽어도 역삼역 거꾸로 읽어도 역삼역\" \n",
    "# print(string[::-1]) \n",
    "\n",
    "string = \"이번 역은 역삼역, 역삼역입니다. 앞으로 읽어도 역삼역 거꾸로 읽어도 역삼역\"\n",
    "\n",
    "print(string[: : -1])\n",
    "\n",
    "# 스텝 -1 할당, 거꾸로 출력"
   ]
  },
  {
   "cell_type": "markdown",
   "id": "dc76305f",
   "metadata": {},
   "source": [
    "### 12-1번"
   ]
  },
  {
   "cell_type": "code",
   "execution_count": null,
   "id": "a012d695",
   "metadata": {},
   "outputs": [
    {
     "name": "stdout",
     "output_type": "stream",
     "text": [
      "과일 가게에 오신 것을 환영합니다!\n",
      "오늘 판매하는 과일: ['사과', '바나나', '오렌지', '포도', '수박']\n",
      "\n",
      "현재 재고: [3, 3, 3, 3, 3]\n",
      "어떤 과일을 구매하시겠습니까? 종료하려면 '그만'을 입력하세요: 사과\n"
     ]
    }
   ],
   "source": [
    "# 과일가게를 운영해 주세요 \n",
    "\n",
    "f = ['사과', '바나나', '오렌지', '포도', '수박'] \n",
    "c = [3, 3, 3, 3, 3] \n",
    "b = input(\"구매할 과일을 입력해 주세요: \")\n",
    "\n",
    "print(\"과일 가게에 오신 것을 환영합니다!\")\n",
    "print(\"오늘 판매하는 과일:\", f)\n",
    "print()\n",
    "print(\"현재 재고:\", c)\n",
    "print(\"어떤 과일을 구매하시겠습니까? 종료하려면 '그만'을 입력하세요:\", b)\n",
    "\n"
   ]
  },
  {
   "cell_type": "markdown",
   "id": "f9869c3a",
   "metadata": {},
   "source": [
    "### 12-2번"
   ]
  },
  {
   "cell_type": "code",
   "execution_count": null,
   "id": "4e3c332d",
   "metadata": {},
   "outputs": [],
   "source": [
    "# 지민이는 햄버거 가게에서 아르바이트를 합니다.  \n",
    "\n",
    "# 아래서부터, 빵 – 야채 – 고기 - 빵으로 쌓인 햄버거만 포장할수 있으면 재료는 순서대로 하나씩 들어와 쌓입니다.  \n",
    "\n",
    "# 재료의 순서가 [야채, 빵, 빵, 야채, 고기, 빵, 야채, 고기, 빵]일 때, 지민이는 여섯 번째 재료가 쌓였을 때, 세 번째 재료부터 여섯 번째 재료를 이용하여 햄버거를 포장하고, 아홉 번째 재료가 쌓였을 때, 두 번째 재료와 일곱 번째 재료부터 아홉 번째 재료를 이용하여 햄버거를 포장합니다. 즉, 2개의 햄버거를 포장하게 됩니다. \n",
    "\n",
    " \n",
    "\n",
    "# ingredient의 원소는 1, 2, 3 중 하나의 값이며, 순서대로 빵, 야채, 고기를 의미합니다. \n",
    "\n",
    " \n",
    "\n",
    "# 입출력 예 \n",
    "\n",
    "# ingredient                      result \n",
    "\n",
    "# [2, 1, 1, 2, 3, 1, 2, 3, 1]     2 \n",
    "\n",
    "# [1, 3, 2, 1, 2, 1, 3, 1, 2]     0 \n",
    "\n",
    "# 코드를 작성해주세요"
   ]
  },
  {
   "cell_type": "markdown",
   "id": "5b349ac9",
   "metadata": {},
   "source": [
    "### 12-3번"
   ]
  },
  {
   "cell_type": "code",
   "execution_count": 19,
   "id": "d8d0c580",
   "metadata": {},
   "outputs": [
    {
     "ename": "TypeError",
     "evalue": "'int' object is not iterable",
     "output_type": "error",
     "traceback": [
      "\u001b[31m---------------------------------------------------------------------------\u001b[39m",
      "\u001b[31mTypeError\u001b[39m                                 Traceback (most recent call last)",
      "\u001b[36mCell\u001b[39m\u001b[36m \u001b[39m\u001b[32mIn[19]\u001b[39m\u001b[32m, line 6\u001b[39m\n\u001b[32m      1\u001b[39m \u001b[38;5;66;03m# 자연수 n을 뒤집어 각 자리 숫자를 원소로 가지는 리스트로 만들어주세요.  \u001b[39;00m\n\u001b[32m      2\u001b[39m \n\u001b[32m      3\u001b[39m \u001b[38;5;66;03m# 예를들어 n이 12345이면 [5,4,3,2,1]을 출력해주세요 \u001b[39;00m\n\u001b[32m      5\u001b[39m n = \u001b[32m12345\u001b[39m\n\u001b[32m----> \u001b[39m\u001b[32m6\u001b[39m \u001b[38;5;28;43mlist\u001b[39;49m\u001b[43m(\u001b[49m\u001b[43mn\u001b[49m\u001b[43m)\u001b[49m\n",
      "\u001b[31mTypeError\u001b[39m: 'int' object is not iterable"
     ]
    }
   ],
   "source": [
    "# 자연수 n을 뒤집어 각 자리 숫자를 원소로 가지는 리스트로 만들어주세요.  \n",
    "\n",
    "# 예를들어 n이 12345이면 [5,4,3,2,1]을 출력해주세요 \n",
    "\n",
    "n = 12345\n",
    "list(n)"
   ]
  },
  {
   "cell_type": "markdown",
   "id": "608c6858",
   "metadata": {},
   "source": [
    "### 13-1번"
   ]
  },
  {
   "cell_type": "code",
   "execution_count": null,
   "id": "63f8b62d",
   "metadata": {},
   "outputs": [],
   "source": []
  },
  {
   "cell_type": "markdown",
   "id": "4ea4737c",
   "metadata": {},
   "source": [
    "### 13-2번"
   ]
  },
  {
   "cell_type": "code",
   "execution_count": null,
   "id": "29c2a5d1",
   "metadata": {},
   "outputs": [],
   "source": []
  },
  {
   "cell_type": "markdown",
   "id": "e05b79fb",
   "metadata": {},
   "source": [
    "### 14번"
   ]
  },
  {
   "cell_type": "code",
   "execution_count": null,
   "id": "87cb8d11",
   "metadata": {},
   "outputs": [],
   "source": []
  },
  {
   "cell_type": "markdown",
   "id": "6ca0e983",
   "metadata": {},
   "source": [
    "### 14-2번"
   ]
  },
  {
   "cell_type": "code",
   "execution_count": null,
   "id": "02cfd7ad",
   "metadata": {},
   "outputs": [],
   "source": []
  },
  {
   "cell_type": "markdown",
   "id": "8b3335a8",
   "metadata": {},
   "source": [
    "### 15번"
   ]
  },
  {
   "cell_type": "code",
   "execution_count": null,
   "id": "41799688",
   "metadata": {},
   "outputs": [],
   "source": []
  },
  {
   "cell_type": "markdown",
   "id": "7fda3b13",
   "metadata": {},
   "source": [
    "###  16번"
   ]
  },
  {
   "cell_type": "code",
   "execution_count": null,
   "id": "129247d2",
   "metadata": {},
   "outputs": [],
   "source": []
  },
  {
   "cell_type": "markdown",
   "id": "9c1b2352",
   "metadata": {},
   "source": [
    "### 16-2번"
   ]
  },
  {
   "cell_type": "code",
   "execution_count": null,
   "id": "97a7124b",
   "metadata": {},
   "outputs": [],
   "source": []
  }
 ],
 "metadata": {
  "kernelspec": {
   "display_name": "Python 3",
   "language": "python",
   "name": "python3"
  },
  "language_info": {
   "codemirror_mode": {
    "name": "ipython",
    "version": 3
   },
   "file_extension": ".py",
   "mimetype": "text/x-python",
   "name": "python",
   "nbconvert_exporter": "python",
   "pygments_lexer": "ipython3",
   "version": "3.11.8"
  }
 },
 "nbformat": 4,
 "nbformat_minor": 5
}
