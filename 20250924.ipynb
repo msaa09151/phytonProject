{
 "cells": [
  {
   "cell_type": "markdown",
   "id": "b78d2ed5",
   "metadata": {},
   "source": [
    "# 2025-09-24"
   ]
  },
  {
   "cell_type": "markdown",
   "id": "9450c3f1",
   "metadata": {},
   "source": [
    "### Numpy"
   ]
  },
  {
   "cell_type": "code",
   "execution_count": 141,
   "id": "9ebd72c6",
   "metadata": {},
   "outputs": [],
   "source": [
    "import numpy as np"
   ]
  },
  {
   "cell_type": "code",
   "execution_count": 4,
   "id": "d63f3c02",
   "metadata": {},
   "outputs": [
    {
     "data": {
      "text/plain": [
       "'2.3.3'"
      ]
     },
     "execution_count": 4,
     "metadata": {},
     "output_type": "execute_result"
    }
   ],
   "source": [
    "np.__version__"
   ]
  },
  {
   "cell_type": "code",
   "execution_count": 5,
   "id": "e13afa78",
   "metadata": {},
   "outputs": [
    {
     "name": "stdout",
     "output_type": "stream",
     "text": [
      "40.7 μs ± 4.27 μs per loop (mean ± std. dev. of 7 runs, 10,000 loops each)\n"
     ]
    }
   ],
   "source": [
    "L = range(1000)\n",
    "%timeit L2 = [i **2 for i in L]"
   ]
  },
  {
   "cell_type": "code",
   "execution_count": 7,
   "id": "edfddd18",
   "metadata": {},
   "outputs": [
    {
     "name": "stdout",
     "output_type": "stream",
     "text": [
      "375 ns ± 23.7 ns per loop (mean ± std. dev. of 7 runs, 1,000,000 loops each)\n"
     ]
    }
   ],
   "source": [
    "arr = np.arange(100)\n",
    "%timeit arr2 = arr**2"
   ]
  },
  {
   "cell_type": "code",
   "execution_count": 8,
   "id": "0c3d7981",
   "metadata": {},
   "outputs": [],
   "source": [
    "alist = [1, 2, 3, 4, 5, 6]"
   ]
  },
  {
   "cell_type": "code",
   "execution_count": 12,
   "id": "873c7c76",
   "metadata": {},
   "outputs": [
    {
     "name": "stdout",
     "output_type": "stream",
     "text": [
      "[1, 2, 3, 4, 5, 6]\n",
      "<class 'list'>\n"
     ]
    }
   ],
   "source": [
    "print(alist)\n",
    "print(type(alist))"
   ]
  },
  {
   "cell_type": "code",
   "execution_count": 17,
   "id": "ee8e619e",
   "metadata": {},
   "outputs": [],
   "source": [
    "alist = [1, 2, None, 4, 5, 6]\n",
    "\n",
    "# 단순히 비우면 syntax 오류"
   ]
  },
  {
   "cell_type": "code",
   "execution_count": 31,
   "id": "62a7d026",
   "metadata": {},
   "outputs": [
    {
     "name": "stdout",
     "output_type": "stream",
     "text": [
      "[1 2 3 4 5 6]\n",
      "<class 'numpy.ndarray'>\n"
     ]
    },
    {
     "data": {
      "text/plain": [
       "dtype('int64')"
      ]
     },
     "execution_count": 31,
     "metadata": {},
     "output_type": "execute_result"
    }
   ],
   "source": [
    "alist = [1, 2, 3, 4, 5, 6]\n",
    "\n",
    "ar1 = np.array(alist)\n",
    "print(ar1)\n",
    "print(type(ar1)) # ar1 타입 확인\n",
    "ar1.dtype # 요소 타입 확인, 정수: int"
   ]
  },
  {
   "cell_type": "code",
   "execution_count": 27,
   "id": "fc2c4bcd",
   "metadata": {},
   "outputs": [
    {
     "name": "stdout",
     "output_type": "stream",
     "text": [
      "[1.1 2.2 3.3]\n"
     ]
    },
    {
     "data": {
      "text/plain": [
       "dtype('float64')"
      ]
     },
     "execution_count": 27,
     "metadata": {},
     "output_type": "execute_result"
    }
   ],
   "source": [
    "ar2 = np.array([1.1, 2.2, 3.3])\n",
    "\n",
    "print(ar2)\n",
    "ar2.dtype # 실수: float"
   ]
  },
  {
   "cell_type": "code",
   "execution_count": 30,
   "id": "5bc9ed02",
   "metadata": {},
   "outputs": [
    {
     "name": "stdout",
     "output_type": "stream",
     "text": [
      "[1 2 3]\n",
      "int64\n"
     ]
    }
   ],
   "source": [
    "list_data = [1, 2., 3]\n",
    "\n",
    "ar3 = np.array(list_data, dtype=\"int\") # 정수형으로 변환\n",
    "\n",
    "print(ar3)\n",
    "print(ar3.dtype)"
   ]
  },
  {
   "cell_type": "code",
   "execution_count": 34,
   "id": "fa67b7ad",
   "metadata": {},
   "outputs": [
    {
     "data": {
      "text/plain": [
       "array([ 1.,  2., nan,  4.])"
      ]
     },
     "execution_count": 34,
     "metadata": {},
     "output_type": "execute_result"
    }
   ],
   "source": [
    "np.array([1, 2, np.nan, 4])\n",
    "\n",
    "\n",
    "# 단순히 비우면 syntax 오류"
   ]
  },
  {
   "cell_type": "code",
   "execution_count": 35,
   "id": "b0221488",
   "metadata": {},
   "outputs": [
    {
     "name": "stdout",
     "output_type": "stream",
     "text": [
      "[1 2 3 4]\n",
      "1\n",
      "(4,)\n"
     ]
    }
   ],
   "source": [
    "arr1 = np.array([1, 2, 3, 4])\n",
    "\n",
    "print(arr1)\n",
    "print(arr1.ndim)\n",
    "print(arr1.shape)\n",
    "\n",
    "# (4, ) 벡터 (1, 4)가 아닌 이유: (1, 4)는 벡터 형태임 [[]]"
   ]
  },
  {
   "cell_type": "code",
   "execution_count": 41,
   "id": "9bb26bed",
   "metadata": {},
   "outputs": [
    {
     "name": "stdout",
     "output_type": "stream",
     "text": [
      "[[ 1  2  3  4]\n",
      " [ 5  6  7  8]\n",
      " [ 9 10 11 12]]\n",
      "2\n",
      "(3, 4)\n"
     ]
    }
   ],
   "source": [
    "arr2 = np.array([[1, 2, 3, 4], [5, 6, 7, 8], [9, 10, 11, 12]])\n",
    "\n",
    "print(arr2)\n",
    "print(arr2.ndim)\n",
    "print(arr2.shape)\n",
    "\n",
    "# (1, 4) 행렬(매트릭스)"
   ]
  },
  {
   "cell_type": "code",
   "execution_count": 42,
   "id": "3d1fb1f6",
   "metadata": {},
   "outputs": [
    {
     "name": "stdout",
     "output_type": "stream",
     "text": [
      "[[ 1  2  3]\n",
      " [ 4  5  6]\n",
      " [ 7  8  9]\n",
      " [10 11 12]]\n",
      "2\n",
      "(4, 3)\n"
     ]
    }
   ],
   "source": [
    "arr3 = arr2.reshape(-1, 3)\n",
    "\n",
    "print(arr3)\n",
    "print(arr3.ndim)\n",
    "print(arr3.shape)"
   ]
  },
  {
   "cell_type": "code",
   "execution_count": 45,
   "id": "8eafffd4",
   "metadata": {},
   "outputs": [
    {
     "ename": "ValueError",
     "evalue": "cannot reshape array of size 12 into shape (7)",
     "output_type": "error",
     "traceback": [
      "\u001b[31m---------------------------------------------------------------------------\u001b[39m",
      "\u001b[31mValueError\u001b[39m                                Traceback (most recent call last)",
      "\u001b[36mCell\u001b[39m\u001b[36m \u001b[39m\u001b[32mIn[45]\u001b[39m\u001b[32m, line 1\u001b[39m\n\u001b[32m----> \u001b[39m\u001b[32m1\u001b[39m arr4 = \u001b[43marr2\u001b[49m\u001b[43m.\u001b[49m\u001b[43mreshape\u001b[49m\u001b[43m(\u001b[49m\u001b[43m-\u001b[49m\u001b[32;43m1\u001b[39;49m\u001b[43m,\u001b[49m\u001b[43m \u001b[49m\u001b[32;43m7\u001b[39;49m\u001b[43m)\u001b[49m\n\u001b[32m      3\u001b[39m \u001b[38;5;28mprint\u001b[39m(arr4)\n\u001b[32m      4\u001b[39m \u001b[38;5;28mprint\u001b[39m(arr4.ndim)\n",
      "\u001b[31mValueError\u001b[39m: cannot reshape array of size 12 into shape (7)"
     ]
    }
   ],
   "source": [
    "arr4 = arr2.reshape(-1, 7)\n",
    "\n",
    "print(arr4)\n",
    "print(arr4.ndim)\n",
    "print(arr4.shape)\n",
    "\n",
    "# 사이즈가 맞지 않게 reshape 하는 경우 error"
   ]
  },
  {
   "cell_type": "code",
   "execution_count": 46,
   "id": "1b24885f",
   "metadata": {},
   "outputs": [
    {
     "name": "stdout",
     "output_type": "stream",
     "text": [
      "[[[ 1  2  3]\n",
      "  [ 4  5  6]]\n",
      "\n",
      " [[ 7  8  9]\n",
      "  [10 11 12]]]\n",
      "3\n",
      "(2, 2, 3)\n"
     ]
    }
   ],
   "source": [
    "arr4 = arr2.reshape(2, -1, 3)\n",
    "\n",
    "print(arr4)\n",
    "print(arr4.ndim)\n",
    "print(arr4.shape)"
   ]
  },
  {
   "cell_type": "code",
   "execution_count": 52,
   "id": "88cd04da",
   "metadata": {},
   "outputs": [
    {
     "name": "stdout",
     "output_type": "stream",
     "text": [
      "[ 7  9 11 13 15]\n",
      "[-5 -5 -5 -5 -5]\n",
      "[ 6 14 24 36 50]\n",
      "[0.16666667 0.28571429 0.375      0.44444444 0.5       ]\n"
     ]
    }
   ],
   "source": [
    "alist = np.array([1, 2, 3, 4, 5])\n",
    "blist = np.array([6, 7, 8, 9, 10])\n",
    "\n",
    "print(alist + blist)\n",
    "print(alist - blist)\n",
    "print(alist * blist)\n",
    "print(alist / blist)"
   ]
  },
  {
   "cell_type": "code",
   "execution_count": 50,
   "id": "28c47f44",
   "metadata": {},
   "outputs": [
    {
     "ename": "ValueError",
     "evalue": "operands could not be broadcast together with shapes (5,) (4,) ",
     "output_type": "error",
     "traceback": [
      "\u001b[31m---------------------------------------------------------------------------\u001b[39m",
      "\u001b[31mValueError\u001b[39m                                Traceback (most recent call last)",
      "\u001b[36mCell\u001b[39m\u001b[36m \u001b[39m\u001b[32mIn[50]\u001b[39m\u001b[32m, line 4\u001b[39m\n\u001b[32m      1\u001b[39m alist = np.array([\u001b[32m1\u001b[39m, \u001b[32m2\u001b[39m, \u001b[32m3\u001b[39m, \u001b[32m4\u001b[39m, \u001b[32m5\u001b[39m])\n\u001b[32m      2\u001b[39m blist = np.array([\u001b[32m6\u001b[39m, \u001b[32m7\u001b[39m, \u001b[32m8\u001b[39m, \u001b[32m9\u001b[39m])\n\u001b[32m----> \u001b[39m\u001b[32m4\u001b[39m \u001b[38;5;28mprint\u001b[39m(\u001b[43malist\u001b[49m\u001b[43m \u001b[49m\u001b[43m+\u001b[49m\u001b[43m \u001b[49m\u001b[43mblist\u001b[49m)\n\u001b[32m      5\u001b[39m \u001b[38;5;28mprint\u001b[39m(alist - blist)\n\u001b[32m      6\u001b[39m \u001b[38;5;28mprint\u001b[39m(alist * blist)\n",
      "\u001b[31mValueError\u001b[39m: operands could not be broadcast together with shapes (5,) (4,) "
     ]
    }
   ],
   "source": [
    "alist = np.array([1, 2, 3, 4, 5])\n",
    "blist = np.array([6, 7, 8, 9])\n",
    "\n",
    "print(alist + blist)\n",
    "print(alist - blist)\n",
    "print(alist * blist)\n",
    "print(alist / blist)\n",
    "\n",
    "# 데이터 요소의 수가 맞지 않으면 error"
   ]
  },
  {
   "cell_type": "code",
   "execution_count": 51,
   "id": "3d74e787",
   "metadata": {},
   "outputs": [
    {
     "name": "stdout",
     "output_type": "stream",
     "text": [
      "[ 7.  9. 11. 13. nan]\n",
      "[-5. -5. -5. -5. nan]\n",
      "[ 6. 14. 24. 36. nan]\n",
      "[0.16666667 0.28571429 0.375      0.44444444        nan]\n"
     ]
    }
   ],
   "source": [
    "alist = np.array([1, 2, 3, 4, 5])\n",
    "blist = np.array([6, 7, 8, 9, np.nan])\n",
    "\n",
    "print(alist + blist)\n",
    "print(alist - blist)\n",
    "print(alist * blist)\n",
    "print(alist / blist)\n",
    "\n",
    "# nan은 숫자가 아님 -> 분석이 불가능함"
   ]
  },
  {
   "cell_type": "code",
   "execution_count": 53,
   "id": "7acef31c",
   "metadata": {},
   "outputs": [
    {
     "name": "stdout",
     "output_type": "stream",
     "text": [
      "[3 4 5 6 7]\n",
      "[-1  0  1  2  3]\n",
      "[ 2  4  6  8 10]\n",
      "[0.5 1.  1.5 2.  2.5]\n"
     ]
    }
   ],
   "source": [
    "print(alist + 2)\n",
    "print(alist - 2)\n",
    "print(alist * 2)\n",
    "print(alist / 2)"
   ]
  },
  {
   "cell_type": "code",
   "execution_count": null,
   "id": "3474bb0d",
   "metadata": {},
   "outputs": [
    {
     "name": "stdout",
     "output_type": "stream",
     "text": [
      "[12 24 36]\n",
      "[False  True False]\n",
      "[False  True  True]\n",
      "[False  True False]\n"
     ]
    }
   ],
   "source": [
    "a = np.array([1, 2, 3])\n",
    "b = np.array([10, 20, 30])\n",
    "\n",
    "print(2 * a + b)\n",
    "print(a == 2)\n",
    "print(b > 10)\n",
    "print((a == 2) & (b > 10))\n",
    "\n",
    "# and 연산 불가능, 벡터라이즈 연산이기 때문에 & 사용 / or = |"
   ]
  },
  {
   "cell_type": "code",
   "execution_count": 65,
   "id": "d3b017f1",
   "metadata": {},
   "outputs": [
    {
     "data": {
      "text/plain": [
       "(0, 1, 5)"
      ]
     },
     "execution_count": 65,
     "metadata": {},
     "output_type": "execute_result"
    }
   ],
   "source": [
    "alist = [[0, 1, 2], [3, 4, 5]]\n",
    "\n",
    "# 0, 1, 5 출력\n",
    "\n",
    "alist[0][0], alist[0][1], alist[1][2]"
   ]
  },
  {
   "cell_type": "markdown",
   "id": "ec95e406",
   "metadata": {},
   "source": [
    "#### 슬라이싱"
   ]
  },
  {
   "cell_type": "code",
   "execution_count": 102,
   "id": "e4310097",
   "metadata": {},
   "outputs": [
    {
     "name": "stdout",
     "output_type": "stream",
     "text": [
      "[0, 1]\n",
      "[4, 5]\n",
      "[1, 4]\n"
     ]
    }
   ],
   "source": [
    "alist = [[0, 1, 2],\n",
    "         [3, 4, 5]]\n",
    "\n",
    "# 0, 1 슬라이싱\n",
    "# 4, 5 슬라이싱\n",
    "\n",
    "# 1, 4를 하나의 리스트로 슬라이싱\n",
    "\n",
    "print(alist[0][:2])\n",
    "print(alist[1][1:3])\n",
    "# print([alist[0][0], alist[0][1]])\n",
    "# print([alist[1][1], alist[1][2]])\n",
    "\n",
    "aalist = [alist[0][1], alist[1][1]]\n",
    "print(aalist)"
   ]
  },
  {
   "cell_type": "code",
   "execution_count": null,
   "id": "ce6a8ce3",
   "metadata": {},
   "outputs": [
    {
     "name": "stdout",
     "output_type": "stream",
     "text": [
      "0 1 5\n"
     ]
    }
   ],
   "source": [
    "blist = np.array([[0, 1, 2], [3, 4, 5]])\n",
    "blist\n",
    "\n",
    "print(blist[0, 0], blist[0, 1], blist[1, 2])\n",
    "\n",
    "# 행렬에 대해 인덱싱 가능"
   ]
  },
  {
   "cell_type": "code",
   "execution_count": 127,
   "id": "2d205136",
   "metadata": {},
   "outputs": [
    {
     "name": "stdout",
     "output_type": "stream",
     "text": [
      "[0 1]\n",
      "[4 5]\n",
      "[1 4]\n",
      "[1 4]\n"
     ]
    }
   ],
   "source": [
    "# 0, 1 슬라이싱\n",
    "# 4, 5 슬라이싱\n",
    "\n",
    "# 1, 4를 하나의 리스트로 슬라이싱\n",
    "\n",
    "# print(blist[0, 0], blist[0, 1]) \n",
    "# print(blist[0, :2]) #[0, 0:2]도 가능\n",
    "# print(blist[1][1], blist[1][2])\n",
    "\n",
    "print(blist[0, :2])\n",
    "print(blist[1, 1:]) #[-1, 1:3]도 가능\n",
    "\n",
    "# print(blist[0, 1], blist[1, 1])\n",
    "print(blist[:, 1])\n",
    "print(blist[[0,1], [1,1]])"
   ]
  },
  {
   "cell_type": "code",
   "execution_count": null,
   "id": "e25768fa",
   "metadata": {},
   "outputs": [
    {
     "name": "stdout",
     "output_type": "stream",
     "text": [
      "[0 1 2]\n",
      "[1 5 9]\n",
      "[5 6 7]\n",
      "[[0 1]\n",
      " [4 5]\n",
      " [8 9]]\n",
      "[[0 1]\n",
      " [4 5]\n",
      " [8 9]]\n",
      "[[1 2 3]\n",
      " [5 6 7]]\n"
     ]
    }
   ],
   "source": [
    "a = np.array([[0, 1, 2, 3], [4, 5, 6, 7], [8, 9, 10, 11]])\n",
    "\n",
    "print(a[0, :3])\n",
    "print(a[:, 1])\n",
    "print(a[1, 1:])\n",
    "\n",
    "print(a[:, :2])\n",
    "\n",
    "print(a[:, :2])"
   ]
  },
  {
   "cell_type": "code",
   "execution_count": null,
   "id": "6e37325a",
   "metadata": {},
   "outputs": [
    {
     "name": "stdout",
     "output_type": "stream",
     "text": [
      "[[ 0  1]\n",
      " [ 5  6]\n",
      " [ 9 10]]\n",
      "[[1 2 4]\n",
      " [6 7 8]]\n",
      "[[ 7  8]\n",
      " [11 12]]\n",
      "[0 1 2 4] [ 9 10 11 12]\n"
     ]
    }
   ],
   "source": [
    "# 자유롭게 슬라이싱\n",
    "\n",
    "clist = np.array([[0, 1, 2, 4], [5, 6, 7, 8], [9, 10, 11, 12]])\n",
    "\n",
    "print(clist[:, :2])\n",
    "print(clist[:2, 1:])\n",
    "print(clist[1:, 2:])\n",
    "\n",
    "print(clist[0, :], clist[-1, :])"
   ]
  },
  {
   "cell_type": "code",
   "execution_count": 188,
   "id": "23698646",
   "metadata": {},
   "outputs": [
    {
     "data": {
      "text/plain": [
       "array([[ 2],\n",
       "       [ 7],\n",
       "       [11]])"
      ]
     },
     "execution_count": 188,
     "metadata": {},
     "output_type": "execute_result"
    }
   ],
   "source": [
    "# 스텝 사용해서 슬라이싱\n",
    "\n",
    "clist[:, -2: -1]"
   ]
  },
  {
   "cell_type": "markdown",
   "id": "2908a40f",
   "metadata": {},
   "source": [
    "#### 팬시 인덱싱"
   ]
  },
  {
   "cell_type": "code",
   "execution_count": null,
   "id": "1d85a671",
   "metadata": {},
   "outputs": [
    {
     "data": {
      "text/plain": [
       "array([0, 2, 4, 6, 8])"
      ]
     },
     "execution_count": 155,
     "metadata": {},
     "output_type": "execute_result"
    }
   ],
   "source": [
    "# 불리언 인덱싱: 개수 매칭 필요\n",
    "\n",
    "a = np.array([0, 1, 2, 3, 4, 5, 6, 7, 8, 9])\n",
    "idx = np.array([True, False, True, False, True, False, True, False, True, False])\n",
    "\n",
    "a[idx]"
   ]
  },
  {
   "cell_type": "code",
   "execution_count": 158,
   "id": "df447df9",
   "metadata": {},
   "outputs": [
    {
     "data": {
      "text/plain": [
       "array([0, 1, 4])"
      ]
     },
     "execution_count": 158,
     "metadata": {},
     "output_type": "execute_result"
    }
   ],
   "source": [
    "a = np.array([1, 0, 1, 2, 3, 4, 5, 6, 7, 8, 9])\n",
    "idx = [1, 2, 5]\n",
    "\n",
    "a[idx]"
   ]
  },
  {
   "cell_type": "code",
   "execution_count": 173,
   "id": "01c9a3ba",
   "metadata": {},
   "outputs": [
    {
     "data": {
      "text/plain": [
       "array([2, 6, 7])"
      ]
     },
     "execution_count": 173,
     "metadata": {},
     "output_type": "execute_result"
    }
   ],
   "source": [
    "b = np.array([[1, 2, 3], [4, 5, 6], [7, 8, 9]])\n",
    "\n",
    "b[[0, 2]]\n",
    "b[[0, 1, 2], [1, 2, 0]]"
   ]
  },
  {
   "cell_type": "code",
   "execution_count": 208,
   "id": "e297dd40",
   "metadata": {},
   "outputs": [
    {
     "data": {
      "text/plain": [
       "array([False,  True, False,  True, False,  True, False,  True])"
      ]
     },
     "execution_count": 208,
     "metadata": {},
     "output_type": "execute_result"
    }
   ],
   "source": [
    "arr = np.array([1, 2, 3, 4, 5, 6, 7, 8])\n",
    "arr % 2 == 0"
   ]
  },
  {
   "cell_type": "code",
   "execution_count": null,
   "id": "28bd70ab",
   "metadata": {},
   "outputs": [
    {
     "data": {
      "text/plain": [
       "array([2, 4, 6, 8])"
      ]
     },
     "execution_count": 209,
     "metadata": {},
     "output_type": "execute_result"
    }
   ],
   "source": [
    "arr[arr % 2 == 0]\n",
    "\n",
    "# ? gpt 물어보기 -> 뭘 물어보는거임,,?"
   ]
  },
  {
   "cell_type": "code",
   "execution_count": 179,
   "id": "0aeaabac",
   "metadata": {},
   "outputs": [
    {
     "data": {
      "text/plain": [
       "array([1, 3, 5, 7])"
      ]
     },
     "execution_count": 179,
     "metadata": {},
     "output_type": "execute_result"
    }
   ],
   "source": [
    "arr[arr % 2 != 0]"
   ]
  },
  {
   "cell_type": "code",
   "execution_count": null,
   "id": "a7245315",
   "metadata": {},
   "outputs": [
    {
     "data": {
      "text/plain": [
       "array([11, 11, 11, 11, 11, 11, 22, 22, 22, 22, 22, 33, 33, 33, 33, 33, 33])"
      ]
     },
     "execution_count": 192,
     "metadata": {},
     "output_type": "execute_result"
    }
   ],
   "source": [
    "# 정수 인덱싱: 개수 무관\n",
    "\n",
    "a = np.array([11, 22, 33, 44, 55, 66, 77, 88, 99])\n",
    "idx = np.array([0, 0, 0, 0, 0, 0, 1, 1, 1, 1, 1, 2, 2, 2, 2, 2, 2])\n",
    "\n",
    "a[idx]"
   ]
  },
  {
   "cell_type": "code",
   "execution_count": 202,
   "id": "adff532c",
   "metadata": {},
   "outputs": [
    {
     "name": "stdout",
     "output_type": "stream",
     "text": [
      "[[ 1  4]\n",
      " [ 5  8]\n",
      " [ 9 12]]\n",
      "[[ 1  4]\n",
      " [ 5  8]\n",
      " [ 9 12]]\n"
     ]
    }
   ],
   "source": [
    "a = np.array([[1, 2, 3, 4], [5, 6, 7, 8,], [9, 10, 11, 12]])\n",
    "a\n",
    "\n",
    "print(a[:, [True, False, False, True]])\n",
    "print(a[:, [0, 3]])"
   ]
  },
  {
   "cell_type": "code",
   "execution_count": 207,
   "id": "bcf4a72b",
   "metadata": {},
   "outputs": [
    {
     "data": {
      "text/plain": [
       "array([[ 9, 10, 11, 12],\n",
       "       [ 1,  2,  3,  4],\n",
       "       [ 5,  6,  7,  8]])"
      ]
     },
     "execution_count": 207,
     "metadata": {},
     "output_type": "execute_result"
    }
   ],
   "source": [
    "a = np.array([[1, 2, 3, 4], [5, 6, 7, 8,], [9, 10, 11, 12]])\n",
    "a\n",
    "\n",
    "a[[2, 0, 1], :]"
   ]
  },
  {
   "cell_type": "code",
   "execution_count": 210,
   "id": "b8afbe17",
   "metadata": {},
   "outputs": [],
   "source": [
    "data = np.array([1, 4, 9, 16])"
   ]
  },
  {
   "cell_type": "code",
   "execution_count": null,
   "id": "8bdb20a6",
   "metadata": {},
   "outputs": [
    {
     "data": {
      "text/plain": [
       "array([1., 2., 3., 4.])"
      ]
     },
     "execution_count": 212,
     "metadata": {},
     "output_type": "execute_result"
    }
   ],
   "source": [
    "# 제곱근\n",
    "\n",
    "np.sqrt(data)"
   ]
  },
  {
   "cell_type": "code",
   "execution_count": null,
   "id": "9da8112f",
   "metadata": {},
   "outputs": [
    {
     "data": {
      "text/plain": [
       "array([2.71828183e+00, 5.45981500e+01, 8.10308393e+03, 8.88611052e+06])"
      ]
     },
     "execution_count": 213,
     "metadata": {},
     "output_type": "execute_result"
    }
   ],
   "source": [
    "# 지수\n",
    "\n",
    "np.exp(data)"
   ]
  },
  {
   "cell_type": "code",
   "execution_count": null,
   "id": "7f27935e",
   "metadata": {},
   "outputs": [
    {
     "data": {
      "text/plain": [
       "np.int64(30)"
      ]
     },
     "execution_count": 214,
     "metadata": {},
     "output_type": "execute_result"
    }
   ],
   "source": [
    "# 합\n",
    "\n",
    "np.sum(data)"
   ]
  },
  {
   "cell_type": "code",
   "execution_count": null,
   "id": "76b8b3c4",
   "metadata": {},
   "outputs": [
    {
     "data": {
      "text/plain": [
       "np.float64(7.5)"
      ]
     },
     "execution_count": 215,
     "metadata": {},
     "output_type": "execute_result"
    }
   ],
   "source": [
    "# 평균\n",
    "\n",
    "np.mean(data)"
   ]
  },
  {
   "cell_type": "code",
   "execution_count": null,
   "id": "3108fed3",
   "metadata": {},
   "outputs": [
    {
     "data": {
      "text/plain": [
       "np.float64(5.678908345800274)"
      ]
     },
     "execution_count": 216,
     "metadata": {},
     "output_type": "execute_result"
    }
   ],
   "source": [
    "# 표준편차\n",
    "\n",
    "np.std(data)"
   ]
  },
  {
   "cell_type": "code",
   "execution_count": 222,
   "id": "fa7474f9",
   "metadata": {},
   "outputs": [],
   "source": [
    "x = np.array([1, 2, 3, 4, 5, 6, 7, 8, 9, 10, 11, 12, 13, 14, 15, 16, 17, 18, 19, 20])"
   ]
  },
  {
   "cell_type": "code",
   "execution_count": 224,
   "id": "87db0c3e",
   "metadata": {},
   "outputs": [
    {
     "data": {
      "text/plain": [
       "array([9])"
      ]
     },
     "execution_count": 224,
     "metadata": {},
     "output_type": "execute_result"
    }
   ],
   "source": [
    "x = np.array([1, 2, 3, 4, 5, 6, 7, 8, 9, 10, 11, 12, 13, 14, 15, 16, 17, 18, 19, 20])\n",
    "\n",
    "# 3의 배수\n",
    "x[x % 3 == 0]\n",
    "\n",
    "# 4로 나누면 1이 남는 수\n",
    "x[x % 4 == 1]\n",
    "\n",
    "# 3으로 나누면 나누어지고 4로 나누면 1이 남는 수\n",
    "x[(x % 3 == 0) & (x % 4 == 1)]"
   ]
  },
  {
   "cell_type": "markdown",
   "id": "a9863c88",
   "metadata": {},
   "source": [
    "### Pandas (Phython Data Analysis Library)"
   ]
  },
  {
   "cell_type": "code",
   "execution_count": 230,
   "id": "887d5cb6",
   "metadata": {},
   "outputs": [
    {
     "name": "stdout",
     "output_type": "stream",
     "text": [
      "Requirement already satisfied: pandas in c:\\users\\el65\\appdata\\local\\programs\\python\\python311\\lib\\site-packages (2.3.2)\n",
      "Requirement already satisfied: numpy>=1.23.2 in c:\\users\\el65\\appdata\\local\\programs\\python\\python311\\lib\\site-packages (from pandas) (2.3.3)\n",
      "Requirement already satisfied: python-dateutil>=2.8.2 in c:\\users\\el65\\appdata\\roaming\\python\\python311\\site-packages (from pandas) (2.9.0.post0)\n",
      "Requirement already satisfied: pytz>=2020.1 in c:\\users\\el65\\appdata\\local\\programs\\python\\python311\\lib\\site-packages (from pandas) (2025.2)\n",
      "Requirement already satisfied: tzdata>=2022.7 in c:\\users\\el65\\appdata\\local\\programs\\python\\python311\\lib\\site-packages (from pandas) (2025.2)\n",
      "Requirement already satisfied: six>=1.5 in c:\\users\\el65\\appdata\\roaming\\python\\python311\\site-packages (from python-dateutil>=2.8.2->pandas) (1.17.0)\n"
     ]
    },
    {
     "name": "stderr",
     "output_type": "stream",
     "text": [
      "\n",
      "[notice] A new release of pip is available: 24.0 -> 25.2\n",
      "[notice] To update, run: python.exe -m pip install --upgrade pip\n"
     ]
    }
   ],
   "source": [
    "!pip install pandas"
   ]
  },
  {
   "cell_type": "code",
   "execution_count": 140,
   "id": "eae68b43",
   "metadata": {},
   "outputs": [],
   "source": [
    "import pandas as pd"
   ]
  },
  {
   "cell_type": "code",
   "execution_count": 188,
   "id": "d6deb832",
   "metadata": {},
   "outputs": [
    {
     "data": {
      "text/html": [
       "<div>\n",
       "<style scoped>\n",
       "    .dataframe tbody tr th:only-of-type {\n",
       "        vertical-align: middle;\n",
       "    }\n",
       "\n",
       "    .dataframe tbody tr th {\n",
       "        vertical-align: top;\n",
       "    }\n",
       "\n",
       "    .dataframe thead th {\n",
       "        text-align: right;\n",
       "    }\n",
       "</style>\n",
       "<table border=\"1\" class=\"dataframe\">\n",
       "  <thead>\n",
       "    <tr style=\"text-align: right;\">\n",
       "      <th></th>\n",
       "      <th>이름</th>\n",
       "      <th>나이</th>\n",
       "      <th>직업</th>\n",
       "      <th>국적</th>\n",
       "      <th>키</th>\n",
       "      <th>재산</th>\n",
       "    </tr>\n",
       "  </thead>\n",
       "  <tbody>\n",
       "    <tr>\n",
       "      <th>0</th>\n",
       "      <td>아이언맨</td>\n",
       "      <td>58</td>\n",
       "      <td>CEO</td>\n",
       "      <td>미국</td>\n",
       "      <td>174</td>\n",
       "      <td>11500000000000</td>\n",
       "    </tr>\n",
       "    <tr>\n",
       "      <th>1</th>\n",
       "      <td>토르</td>\n",
       "      <td>45</td>\n",
       "      <td>신</td>\n",
       "      <td>아스가르드</td>\n",
       "      <td>190</td>\n",
       "      <td>NaN</td>\n",
       "    </tr>\n",
       "    <tr>\n",
       "      <th>2</th>\n",
       "      <td>스파이더맨</td>\n",
       "      <td>18</td>\n",
       "      <td>고등학생</td>\n",
       "      <td>미국</td>\n",
       "      <td>177</td>\n",
       "      <td>600</td>\n",
       "    </tr>\n",
       "    <tr>\n",
       "      <th>3</th>\n",
       "      <td>원더우먼</td>\n",
       "      <td>27</td>\n",
       "      <td>공주</td>\n",
       "      <td>데미스키라</td>\n",
       "      <td>178</td>\n",
       "      <td>NaN</td>\n",
       "    </tr>\n",
       "    <tr>\n",
       "      <th>4</th>\n",
       "      <td>헐크</td>\n",
       "      <td>33</td>\n",
       "      <td>핵물리학자</td>\n",
       "      <td>미국</td>\n",
       "      <td>270</td>\n",
       "      <td>1000000000</td>\n",
       "    </tr>\n",
       "    <tr>\n",
       "      <th>5</th>\n",
       "      <td>캡틴마블</td>\n",
       "      <td>25</td>\n",
       "      <td>파일럿</td>\n",
       "      <td>미국</td>\n",
       "      <td>170</td>\n",
       "      <td>340000000</td>\n",
       "    </tr>\n",
       "    <tr>\n",
       "      <th>6</th>\n",
       "      <td>블랙위도우</td>\n",
       "      <td>32</td>\n",
       "      <td>스파이</td>\n",
       "      <td>러시아</td>\n",
       "      <td>170</td>\n",
       "      <td>50000000</td>\n",
       "    </tr>\n",
       "  </tbody>\n",
       "</table>\n",
       "</div>"
      ],
      "text/plain": [
       "      이름  나이     직업     국적    키             재산\n",
       "0   아이언맨  58    CEO     미국  174 11500000000000\n",
       "1     토르  45      신  아스가르드  190            NaN\n",
       "2  스파이더맨  18   고등학생     미국  177            600\n",
       "3   원더우먼  27     공주  데미스키라  178            NaN\n",
       "4     헐크  33  핵물리학자     미국  270     1000000000\n",
       "5   캡틴마블  25    파일럿     미국  170      340000000\n",
       "6  블랙위도우  32    스파이    러시아  170       50000000"
      ]
     },
     "execution_count": 188,
     "metadata": {},
     "output_type": "execute_result"
    }
   ],
   "source": [
    "df = pd.read_csv(\"heroes.csv\")\n",
    "df"
   ]
  },
  {
   "cell_type": "code",
   "execution_count": 11,
   "id": "57332ec5",
   "metadata": {},
   "outputs": [],
   "source": [
    "pd.options.display.float_format = '{:.0f}'.format"
   ]
  },
  {
   "cell_type": "code",
   "execution_count": 17,
   "id": "8e6996cd",
   "metadata": {},
   "outputs": [
    {
     "name": "stdout",
     "output_type": "stream",
     "text": [
      "<class 'pandas.core.frame.DataFrame'>\n",
      "RangeIndex: 7 entries, 0 to 6\n",
      "Data columns (total 6 columns):\n",
      " #   Column  Non-Null Count  Dtype  \n",
      "---  ------  --------------  -----  \n",
      " 0   이름      7 non-null      object \n",
      " 1   나이      7 non-null      int64  \n",
      " 2   직업      7 non-null      object \n",
      " 3   국적      7 non-null      object \n",
      " 4   키       7 non-null      int64  \n",
      " 5   재산      5 non-null      float64\n",
      "dtypes: float64(1), int64(2), object(3)\n",
      "memory usage: 468.0+ bytes\n"
     ]
    }
   ],
   "source": [
    "df.info()"
   ]
  },
  {
   "cell_type": "code",
   "execution_count": 15,
   "id": "43aaffdd",
   "metadata": {},
   "outputs": [
    {
     "data": {
      "text/html": [
       "<div>\n",
       "<style scoped>\n",
       "    .dataframe tbody tr th:only-of-type {\n",
       "        vertical-align: middle;\n",
       "    }\n",
       "\n",
       "    .dataframe tbody tr th {\n",
       "        vertical-align: top;\n",
       "    }\n",
       "\n",
       "    .dataframe thead th {\n",
       "        text-align: right;\n",
       "    }\n",
       "</style>\n",
       "<table border=\"1\" class=\"dataframe\">\n",
       "  <thead>\n",
       "    <tr style=\"text-align: right;\">\n",
       "      <th></th>\n",
       "      <th>나이</th>\n",
       "      <th>키</th>\n",
       "      <th>재산</th>\n",
       "    </tr>\n",
       "  </thead>\n",
       "  <tbody>\n",
       "    <tr>\n",
       "      <th>count</th>\n",
       "      <td>7</td>\n",
       "      <td>7</td>\n",
       "      <td>5</td>\n",
       "    </tr>\n",
       "    <tr>\n",
       "      <th>mean</th>\n",
       "      <td>34</td>\n",
       "      <td>190</td>\n",
       "      <td>2300278000120</td>\n",
       "    </tr>\n",
       "    <tr>\n",
       "      <th>std</th>\n",
       "      <td>13</td>\n",
       "      <td>36</td>\n",
       "      <td>5142800956894</td>\n",
       "    </tr>\n",
       "    <tr>\n",
       "      <th>min</th>\n",
       "      <td>18</td>\n",
       "      <td>170</td>\n",
       "      <td>600</td>\n",
       "    </tr>\n",
       "    <tr>\n",
       "      <th>25%</th>\n",
       "      <td>26</td>\n",
       "      <td>172</td>\n",
       "      <td>50000000</td>\n",
       "    </tr>\n",
       "    <tr>\n",
       "      <th>50%</th>\n",
       "      <td>32</td>\n",
       "      <td>177</td>\n",
       "      <td>340000000</td>\n",
       "    </tr>\n",
       "    <tr>\n",
       "      <th>75%</th>\n",
       "      <td>39</td>\n",
       "      <td>184</td>\n",
       "      <td>1000000000</td>\n",
       "    </tr>\n",
       "    <tr>\n",
       "      <th>max</th>\n",
       "      <td>58</td>\n",
       "      <td>270</td>\n",
       "      <td>11500000000000</td>\n",
       "    </tr>\n",
       "  </tbody>\n",
       "</table>\n",
       "</div>"
      ],
      "text/plain": [
       "       나이   키             재산\n",
       "count   7   7              5\n",
       "mean   34 190  2300278000120\n",
       "std    13  36  5142800956894\n",
       "min    18 170            600\n",
       "25%    26 172       50000000\n",
       "50%    32 177      340000000\n",
       "75%    39 184     1000000000\n",
       "max    58 270 11500000000000"
      ]
     },
     "execution_count": 15,
     "metadata": {},
     "output_type": "execute_result"
    }
   ],
   "source": [
    "df.describe()"
   ]
  },
  {
   "cell_type": "code",
   "execution_count": null,
   "id": "7c0d895f",
   "metadata": {},
   "outputs": [
    {
     "data": {
      "text/html": [
       "<div>\n",
       "<style scoped>\n",
       "    .dataframe tbody tr th:only-of-type {\n",
       "        vertical-align: middle;\n",
       "    }\n",
       "\n",
       "    .dataframe tbody tr th {\n",
       "        vertical-align: top;\n",
       "    }\n",
       "\n",
       "    .dataframe thead th {\n",
       "        text-align: right;\n",
       "    }\n",
       "</style>\n",
       "<table border=\"1\" class=\"dataframe\">\n",
       "  <thead>\n",
       "    <tr style=\"text-align: right;\">\n",
       "      <th></th>\n",
       "      <th>이름</th>\n",
       "      <th>나이</th>\n",
       "      <th>직업</th>\n",
       "      <th>국적</th>\n",
       "      <th>키</th>\n",
       "      <th>재산</th>\n",
       "    </tr>\n",
       "  </thead>\n",
       "  <tbody>\n",
       "    <tr>\n",
       "      <th>0</th>\n",
       "      <td>아이언맨</td>\n",
       "      <td>58</td>\n",
       "      <td>CEO</td>\n",
       "      <td>미국</td>\n",
       "      <td>174</td>\n",
       "      <td>11500000000000</td>\n",
       "    </tr>\n",
       "    <tr>\n",
       "      <th>1</th>\n",
       "      <td>토르</td>\n",
       "      <td>45</td>\n",
       "      <td>신</td>\n",
       "      <td>아스가르드</td>\n",
       "      <td>190</td>\n",
       "      <td>NaN</td>\n",
       "    </tr>\n",
       "    <tr>\n",
       "      <th>2</th>\n",
       "      <td>스파이더맨</td>\n",
       "      <td>18</td>\n",
       "      <td>고등학생</td>\n",
       "      <td>미국</td>\n",
       "      <td>177</td>\n",
       "      <td>600</td>\n",
       "    </tr>\n",
       "    <tr>\n",
       "      <th>3</th>\n",
       "      <td>원더우먼</td>\n",
       "      <td>27</td>\n",
       "      <td>공주</td>\n",
       "      <td>데미스키라</td>\n",
       "      <td>178</td>\n",
       "      <td>NaN</td>\n",
       "    </tr>\n",
       "    <tr>\n",
       "      <th>4</th>\n",
       "      <td>헐크</td>\n",
       "      <td>33</td>\n",
       "      <td>핵물리학자</td>\n",
       "      <td>미국</td>\n",
       "      <td>270</td>\n",
       "      <td>1000000000</td>\n",
       "    </tr>\n",
       "  </tbody>\n",
       "</table>\n",
       "</div>"
      ],
      "text/plain": [
       "      이름  나이     직업     국적    키             재산\n",
       "0   아이언맨  58    CEO     미국  174 11500000000000\n",
       "1     토르  45      신  아스가르드  190            NaN\n",
       "2  스파이더맨  18   고등학생     미국  177            600\n",
       "3   원더우먼  27     공주  데미스키라  178            NaN\n",
       "4     헐크  33  핵물리학자     미국  270     1000000000"
      ]
     },
     "execution_count": 18,
     "metadata": {},
     "output_type": "execute_result"
    }
   ],
   "source": [
    "df.head()\n",
    "\n",
    "# head: defult 앞 5개\n",
    "# tail: defult 뒤 5개\n",
    "# 각각 숫자 지정 가능"
   ]
  },
  {
   "cell_type": "code",
   "execution_count": 19,
   "id": "40402d61",
   "metadata": {},
   "outputs": [
    {
     "data": {
      "text/plain": [
       "0       미국\n",
       "1    아스가르드\n",
       "2       미국\n",
       "3    데미스키라\n",
       "4       미국\n",
       "5       미국\n",
       "6      러시아\n",
       "Name: 국적, dtype: object"
      ]
     },
     "execution_count": 19,
     "metadata": {},
     "output_type": "execute_result"
    }
   ],
   "source": [
    "df['국적']"
   ]
  },
  {
   "cell_type": "code",
   "execution_count": 21,
   "id": "d8f6c735",
   "metadata": {},
   "outputs": [
    {
     "data": {
      "text/plain": [
       "pandas.core.series.Series"
      ]
     },
     "execution_count": 21,
     "metadata": {},
     "output_type": "execute_result"
    }
   ],
   "source": [
    "type(df['국적'])"
   ]
  },
  {
   "cell_type": "code",
   "execution_count": null,
   "id": "3b925f5e",
   "metadata": {},
   "outputs": [
    {
     "data": {
      "text/plain": [
       "array(['미국', '아스가르드', '데미스키라', '러시아'], dtype=object)"
      ]
     },
     "execution_count": 23,
     "metadata": {},
     "output_type": "execute_result"
    }
   ],
   "source": [
    "# 개수\n",
    "\n",
    "df[\"국적\"].unique()"
   ]
  },
  {
   "cell_type": "code",
   "execution_count": null,
   "id": "89a38d1f",
   "metadata": {},
   "outputs": [
    {
     "data": {
      "text/plain": [
       "국적\n",
       "미국       4\n",
       "아스가르드    1\n",
       "데미스키라    1\n",
       "러시아      1\n",
       "Name: count, dtype: int64"
      ]
     },
     "execution_count": 25,
     "metadata": {},
     "output_type": "execute_result"
    }
   ],
   "source": [
    "# 분포도\n",
    "\n",
    "df['국적'].value_counts()"
   ]
  },
  {
   "cell_type": "code",
   "execution_count": 26,
   "id": "abf23dc7",
   "metadata": {},
   "outputs": [
    {
     "data": {
      "text/plain": [
       "0    58\n",
       "1    45\n",
       "2    18\n",
       "3    27\n",
       "4    33\n",
       "5    25\n",
       "6    32\n",
       "Name: 나이, dtype: int64"
      ]
     },
     "execution_count": 26,
     "metadata": {},
     "output_type": "execute_result"
    }
   ],
   "source": [
    "df['나이']"
   ]
  },
  {
   "cell_type": "code",
   "execution_count": 27,
   "id": "77a1ca91",
   "metadata": {},
   "outputs": [
    {
     "data": {
      "text/plain": [
       "0    58\n",
       "1    45\n",
       "4    33\n",
       "6    32\n",
       "3    27\n",
       "Name: 나이, dtype: int64"
      ]
     },
     "execution_count": 27,
     "metadata": {},
     "output_type": "execute_result"
    }
   ],
   "source": [
    "df['나이'].nlargest()"
   ]
  },
  {
   "cell_type": "code",
   "execution_count": 31,
   "id": "793a76da",
   "metadata": {},
   "outputs": [
    {
     "data": {
      "text/html": [
       "<div>\n",
       "<style scoped>\n",
       "    .dataframe tbody tr th:only-of-type {\n",
       "        vertical-align: middle;\n",
       "    }\n",
       "\n",
       "    .dataframe tbody tr th {\n",
       "        vertical-align: top;\n",
       "    }\n",
       "\n",
       "    .dataframe thead th {\n",
       "        text-align: right;\n",
       "    }\n",
       "</style>\n",
       "<table border=\"1\" class=\"dataframe\">\n",
       "  <thead>\n",
       "    <tr style=\"text-align: right;\">\n",
       "      <th></th>\n",
       "      <th>이름</th>\n",
       "      <th>나이</th>\n",
       "      <th>직업</th>\n",
       "      <th>국적</th>\n",
       "      <th>키</th>\n",
       "      <th>재산</th>\n",
       "    </tr>\n",
       "  </thead>\n",
       "  <tbody>\n",
       "    <tr>\n",
       "      <th>0</th>\n",
       "      <td>아이언맨</td>\n",
       "      <td>58</td>\n",
       "      <td>CEO</td>\n",
       "      <td>미국</td>\n",
       "      <td>174</td>\n",
       "      <td>11500000000000</td>\n",
       "    </tr>\n",
       "    <tr>\n",
       "      <th>1</th>\n",
       "      <td>토르</td>\n",
       "      <td>45</td>\n",
       "      <td>신</td>\n",
       "      <td>아스가르드</td>\n",
       "      <td>190</td>\n",
       "      <td>NaN</td>\n",
       "    </tr>\n",
       "    <tr>\n",
       "      <th>4</th>\n",
       "      <td>헐크</td>\n",
       "      <td>33</td>\n",
       "      <td>핵물리학자</td>\n",
       "      <td>미국</td>\n",
       "      <td>270</td>\n",
       "      <td>1000000000</td>\n",
       "    </tr>\n",
       "    <tr>\n",
       "      <th>6</th>\n",
       "      <td>블랙위도우</td>\n",
       "      <td>32</td>\n",
       "      <td>스파이</td>\n",
       "      <td>러시아</td>\n",
       "      <td>170</td>\n",
       "      <td>50000000</td>\n",
       "    </tr>\n",
       "    <tr>\n",
       "      <th>3</th>\n",
       "      <td>원더우먼</td>\n",
       "      <td>27</td>\n",
       "      <td>공주</td>\n",
       "      <td>데미스키라</td>\n",
       "      <td>178</td>\n",
       "      <td>NaN</td>\n",
       "    </tr>\n",
       "    <tr>\n",
       "      <th>5</th>\n",
       "      <td>캡틴마블</td>\n",
       "      <td>25</td>\n",
       "      <td>파일럿</td>\n",
       "      <td>미국</td>\n",
       "      <td>170</td>\n",
       "      <td>340000000</td>\n",
       "    </tr>\n",
       "    <tr>\n",
       "      <th>2</th>\n",
       "      <td>스파이더맨</td>\n",
       "      <td>18</td>\n",
       "      <td>고등학생</td>\n",
       "      <td>미국</td>\n",
       "      <td>177</td>\n",
       "      <td>600</td>\n",
       "    </tr>\n",
       "  </tbody>\n",
       "</table>\n",
       "</div>"
      ],
      "text/plain": [
       "      이름  나이     직업     국적    키             재산\n",
       "0   아이언맨  58    CEO     미국  174 11500000000000\n",
       "1     토르  45      신  아스가르드  190            NaN\n",
       "4     헐크  33  핵물리학자     미국  270     1000000000\n",
       "6  블랙위도우  32    스파이    러시아  170       50000000\n",
       "3   원더우먼  27     공주  데미스키라  178            NaN\n",
       "5   캡틴마블  25    파일럿     미국  170      340000000\n",
       "2  스파이더맨  18   고등학생     미국  177            600"
      ]
     },
     "execution_count": 31,
     "metadata": {},
     "output_type": "execute_result"
    }
   ],
   "source": [
    "# 나이 기준(내림차순)으로 데이터 프레임 정렬\n",
    "\n",
    "df.nlargest(7, '나이')"
   ]
  },
  {
   "cell_type": "code",
   "execution_count": 32,
   "id": "a55245c6",
   "metadata": {},
   "outputs": [
    {
     "data": {
      "text/html": [
       "<div>\n",
       "<style scoped>\n",
       "    .dataframe tbody tr th:only-of-type {\n",
       "        vertical-align: middle;\n",
       "    }\n",
       "\n",
       "    .dataframe tbody tr th {\n",
       "        vertical-align: top;\n",
       "    }\n",
       "\n",
       "    .dataframe thead th {\n",
       "        text-align: right;\n",
       "    }\n",
       "</style>\n",
       "<table border=\"1\" class=\"dataframe\">\n",
       "  <thead>\n",
       "    <tr style=\"text-align: right;\">\n",
       "      <th></th>\n",
       "      <th>이름</th>\n",
       "      <th>나이</th>\n",
       "      <th>직업</th>\n",
       "      <th>국적</th>\n",
       "      <th>키</th>\n",
       "      <th>재산</th>\n",
       "    </tr>\n",
       "  </thead>\n",
       "  <tbody>\n",
       "    <tr>\n",
       "      <th>4</th>\n",
       "      <td>헐크</td>\n",
       "      <td>33</td>\n",
       "      <td>핵물리학자</td>\n",
       "      <td>미국</td>\n",
       "      <td>270</td>\n",
       "      <td>1000000000</td>\n",
       "    </tr>\n",
       "    <tr>\n",
       "      <th>1</th>\n",
       "      <td>토르</td>\n",
       "      <td>45</td>\n",
       "      <td>신</td>\n",
       "      <td>아스가르드</td>\n",
       "      <td>190</td>\n",
       "      <td>NaN</td>\n",
       "    </tr>\n",
       "    <tr>\n",
       "      <th>3</th>\n",
       "      <td>원더우먼</td>\n",
       "      <td>27</td>\n",
       "      <td>공주</td>\n",
       "      <td>데미스키라</td>\n",
       "      <td>178</td>\n",
       "      <td>NaN</td>\n",
       "    </tr>\n",
       "    <tr>\n",
       "      <th>2</th>\n",
       "      <td>스파이더맨</td>\n",
       "      <td>18</td>\n",
       "      <td>고등학생</td>\n",
       "      <td>미국</td>\n",
       "      <td>177</td>\n",
       "      <td>600</td>\n",
       "    </tr>\n",
       "    <tr>\n",
       "      <th>0</th>\n",
       "      <td>아이언맨</td>\n",
       "      <td>58</td>\n",
       "      <td>CEO</td>\n",
       "      <td>미국</td>\n",
       "      <td>174</td>\n",
       "      <td>11500000000000</td>\n",
       "    </tr>\n",
       "    <tr>\n",
       "      <th>5</th>\n",
       "      <td>캡틴마블</td>\n",
       "      <td>25</td>\n",
       "      <td>파일럿</td>\n",
       "      <td>미국</td>\n",
       "      <td>170</td>\n",
       "      <td>340000000</td>\n",
       "    </tr>\n",
       "    <tr>\n",
       "      <th>6</th>\n",
       "      <td>블랙위도우</td>\n",
       "      <td>32</td>\n",
       "      <td>스파이</td>\n",
       "      <td>러시아</td>\n",
       "      <td>170</td>\n",
       "      <td>50000000</td>\n",
       "    </tr>\n",
       "  </tbody>\n",
       "</table>\n",
       "</div>"
      ],
      "text/plain": [
       "      이름  나이     직업     국적    키             재산\n",
       "4     헐크  33  핵물리학자     미국  270     1000000000\n",
       "1     토르  45      신  아스가르드  190            NaN\n",
       "3   원더우먼  27     공주  데미스키라  178            NaN\n",
       "2  스파이더맨  18   고등학생     미국  177            600\n",
       "0   아이언맨  58    CEO     미국  174 11500000000000\n",
       "5   캡틴마블  25    파일럿     미국  170      340000000\n",
       "6  블랙위도우  32    스파이    러시아  170       50000000"
      ]
     },
     "execution_count": 32,
     "metadata": {},
     "output_type": "execute_result"
    }
   ],
   "source": [
    "df.nlargest(7, '키')"
   ]
  },
  {
   "cell_type": "code",
   "execution_count": 34,
   "id": "2c762699",
   "metadata": {},
   "outputs": [
    {
     "data": {
      "text/plain": [
       "0     아이언맨\n",
       "1       토르\n",
       "2    스파이더맨\n",
       "3     원더우먼\n",
       "4       헐크\n",
       "5     캡틴마블\n",
       "6    블랙위도우\n",
       "Name: 이름, dtype: object"
      ]
     },
     "execution_count": 34,
     "metadata": {},
     "output_type": "execute_result"
    }
   ],
   "source": [
    "df['이름']"
   ]
  },
  {
   "cell_type": "code",
   "execution_count": null,
   "id": "f8fcfdc5",
   "metadata": {},
   "outputs": [
    {
     "data": {
      "text/plain": [
       "0     아이언맨\n",
       "1       토르\n",
       "2    스파이더맨\n",
       "3     원더우먼\n",
       "4       헐크\n",
       "Name: 이름, dtype: object"
      ]
     },
     "execution_count": 35,
     "metadata": {},
     "output_type": "execute_result"
    }
   ],
   "source": [
    "# 시리즈 슬라이싱\n",
    "\n",
    "df['이름'][:5]"
   ]
  },
  {
   "cell_type": "code",
   "execution_count": 41,
   "id": "a6371a6e",
   "metadata": {},
   "outputs": [
    {
     "data": {
      "text/html": [
       "<div>\n",
       "<style scoped>\n",
       "    .dataframe tbody tr th:only-of-type {\n",
       "        vertical-align: middle;\n",
       "    }\n",
       "\n",
       "    .dataframe tbody tr th {\n",
       "        vertical-align: top;\n",
       "    }\n",
       "\n",
       "    .dataframe thead th {\n",
       "        text-align: right;\n",
       "    }\n",
       "</style>\n",
       "<table border=\"1\" class=\"dataframe\">\n",
       "  <thead>\n",
       "    <tr style=\"text-align: right;\">\n",
       "      <th></th>\n",
       "      <th>이름</th>\n",
       "      <th>나이</th>\n",
       "      <th>직업</th>\n",
       "      <th>국적</th>\n",
       "      <th>키</th>\n",
       "      <th>재산</th>\n",
       "    </tr>\n",
       "  </thead>\n",
       "  <tbody>\n",
       "    <tr>\n",
       "      <th>3</th>\n",
       "      <td>원더우먼</td>\n",
       "      <td>27</td>\n",
       "      <td>공주</td>\n",
       "      <td>데미스키라</td>\n",
       "      <td>178</td>\n",
       "      <td>NaN</td>\n",
       "    </tr>\n",
       "    <tr>\n",
       "      <th>4</th>\n",
       "      <td>헐크</td>\n",
       "      <td>33</td>\n",
       "      <td>핵물리학자</td>\n",
       "      <td>미국</td>\n",
       "      <td>270</td>\n",
       "      <td>1000000000</td>\n",
       "    </tr>\n",
       "    <tr>\n",
       "      <th>5</th>\n",
       "      <td>캡틴마블</td>\n",
       "      <td>25</td>\n",
       "      <td>파일럿</td>\n",
       "      <td>미국</td>\n",
       "      <td>170</td>\n",
       "      <td>340000000</td>\n",
       "    </tr>\n",
       "    <tr>\n",
       "      <th>6</th>\n",
       "      <td>블랙위도우</td>\n",
       "      <td>32</td>\n",
       "      <td>스파이</td>\n",
       "      <td>러시아</td>\n",
       "      <td>170</td>\n",
       "      <td>50000000</td>\n",
       "    </tr>\n",
       "  </tbody>\n",
       "</table>\n",
       "</div>"
      ],
      "text/plain": [
       "      이름  나이     직업     국적    키         재산\n",
       "3   원더우먼  27     공주  데미스키라  178        NaN\n",
       "4     헐크  33  핵물리학자     미국  270 1000000000\n",
       "5   캡틴마블  25    파일럿     미국  170  340000000\n",
       "6  블랙위도우  32    스파이    러시아  170   50000000"
      ]
     },
     "execution_count": 41,
     "metadata": {},
     "output_type": "execute_result"
    }
   ],
   "source": [
    "# 데이터 프레임 슬라이싱\n",
    "\n",
    "df[3:]"
   ]
  },
  {
   "cell_type": "code",
   "execution_count": null,
   "id": "3f60a7f5",
   "metadata": {},
   "outputs": [],
   "source": [
    "# 행과 열을 사용하여 슬라이싱\n",
    "\n",
    "df.iloc # 번호 인덱스 기반 접근\n",
    "df.loc # 이름 기반 접근"
   ]
  },
  {
   "cell_type": "code",
   "execution_count": 50,
   "id": "aedb317a",
   "metadata": {},
   "outputs": [
    {
     "data": {
      "text/plain": [
       "이름       토르\n",
       "나이       45\n",
       "직업        신\n",
       "국적    아스가르드\n",
       "키       190\n",
       "재산      NaN\n",
       "Name: 1, dtype: object"
      ]
     },
     "execution_count": 50,
     "metadata": {},
     "output_type": "execute_result"
    }
   ],
   "source": [
    "df.iloc[1]"
   ]
  },
  {
   "cell_type": "code",
   "execution_count": null,
   "id": "d3526d64",
   "metadata": {},
   "outputs": [
    {
     "data": {
      "text/html": [
       "<div>\n",
       "<style scoped>\n",
       "    .dataframe tbody tr th:only-of-type {\n",
       "        vertical-align: middle;\n",
       "    }\n",
       "\n",
       "    .dataframe tbody tr th {\n",
       "        vertical-align: top;\n",
       "    }\n",
       "\n",
       "    .dataframe thead th {\n",
       "        text-align: right;\n",
       "    }\n",
       "</style>\n",
       "<table border=\"1\" class=\"dataframe\">\n",
       "  <thead>\n",
       "    <tr style=\"text-align: right;\">\n",
       "      <th></th>\n",
       "      <th>이름</th>\n",
       "      <th>나이</th>\n",
       "      <th>직업</th>\n",
       "      <th>국적</th>\n",
       "      <th>키</th>\n",
       "      <th>재산</th>\n",
       "    </tr>\n",
       "  </thead>\n",
       "  <tbody>\n",
       "    <tr>\n",
       "      <th>1</th>\n",
       "      <td>토르</td>\n",
       "      <td>45</td>\n",
       "      <td>신</td>\n",
       "      <td>아스가르드</td>\n",
       "      <td>190</td>\n",
       "      <td>NaN</td>\n",
       "    </tr>\n",
       "    <tr>\n",
       "      <th>3</th>\n",
       "      <td>원더우먼</td>\n",
       "      <td>27</td>\n",
       "      <td>공주</td>\n",
       "      <td>데미스키라</td>\n",
       "      <td>178</td>\n",
       "      <td>NaN</td>\n",
       "    </tr>\n",
       "    <tr>\n",
       "      <th>6</th>\n",
       "      <td>블랙위도우</td>\n",
       "      <td>32</td>\n",
       "      <td>스파이</td>\n",
       "      <td>러시아</td>\n",
       "      <td>170</td>\n",
       "      <td>50000000</td>\n",
       "    </tr>\n",
       "  </tbody>\n",
       "</table>\n",
       "</div>"
      ],
      "text/plain": [
       "      이름  나이   직업     국적    키       재산\n",
       "1     토르  45    신  아스가르드  190      NaN\n",
       "3   원더우먼  27   공주  데미스키라  178      NaN\n",
       "6  블랙위도우  32  스파이    러시아  170 50000000"
      ]
     },
     "execution_count": 46,
     "metadata": {},
     "output_type": "execute_result"
    }
   ],
   "source": [
    "# 정수 인덱싱\n",
    "\n",
    "df.iloc[[1, 3, 6]]"
   ]
  },
  {
   "cell_type": "code",
   "execution_count": 44,
   "id": "604344f3",
   "metadata": {},
   "outputs": [
    {
     "data": {
      "text/html": [
       "<div>\n",
       "<style scoped>\n",
       "    .dataframe tbody tr th:only-of-type {\n",
       "        vertical-align: middle;\n",
       "    }\n",
       "\n",
       "    .dataframe tbody tr th {\n",
       "        vertical-align: top;\n",
       "    }\n",
       "\n",
       "    .dataframe thead th {\n",
       "        text-align: right;\n",
       "    }\n",
       "</style>\n",
       "<table border=\"1\" class=\"dataframe\">\n",
       "  <thead>\n",
       "    <tr style=\"text-align: right;\">\n",
       "      <th></th>\n",
       "      <th>이름</th>\n",
       "      <th>나이</th>\n",
       "      <th>직업</th>\n",
       "      <th>국적</th>\n",
       "      <th>키</th>\n",
       "      <th>재산</th>\n",
       "    </tr>\n",
       "  </thead>\n",
       "  <tbody>\n",
       "    <tr>\n",
       "      <th>1</th>\n",
       "      <td>토르</td>\n",
       "      <td>45</td>\n",
       "      <td>신</td>\n",
       "      <td>아스가르드</td>\n",
       "      <td>190</td>\n",
       "      <td>NaN</td>\n",
       "    </tr>\n",
       "    <tr>\n",
       "      <th>2</th>\n",
       "      <td>스파이더맨</td>\n",
       "      <td>18</td>\n",
       "      <td>고등학생</td>\n",
       "      <td>미국</td>\n",
       "      <td>177</td>\n",
       "      <td>600</td>\n",
       "    </tr>\n",
       "    <tr>\n",
       "      <th>3</th>\n",
       "      <td>원더우먼</td>\n",
       "      <td>27</td>\n",
       "      <td>공주</td>\n",
       "      <td>데미스키라</td>\n",
       "      <td>178</td>\n",
       "      <td>NaN</td>\n",
       "    </tr>\n",
       "  </tbody>\n",
       "</table>\n",
       "</div>"
      ],
      "text/plain": [
       "      이름  나이    직업     국적    키  재산\n",
       "1     토르  45     신  아스가르드  190 NaN\n",
       "2  스파이더맨  18  고등학생     미국  177 600\n",
       "3   원더우먼  27    공주  데미스키라  178 NaN"
      ]
     },
     "execution_count": 44,
     "metadata": {},
     "output_type": "execute_result"
    }
   ],
   "source": [
    "df.iloc[1:4]"
   ]
  },
  {
   "cell_type": "code",
   "execution_count": 48,
   "id": "797327bf",
   "metadata": {},
   "outputs": [
    {
     "data": {
      "text/html": [
       "<div>\n",
       "<style scoped>\n",
       "    .dataframe tbody tr th:only-of-type {\n",
       "        vertical-align: middle;\n",
       "    }\n",
       "\n",
       "    .dataframe tbody tr th {\n",
       "        vertical-align: top;\n",
       "    }\n",
       "\n",
       "    .dataframe thead th {\n",
       "        text-align: right;\n",
       "    }\n",
       "</style>\n",
       "<table border=\"1\" class=\"dataframe\">\n",
       "  <thead>\n",
       "    <tr style=\"text-align: right;\">\n",
       "      <th></th>\n",
       "      <th>이름</th>\n",
       "      <th>나이</th>\n",
       "      <th>직업</th>\n",
       "    </tr>\n",
       "  </thead>\n",
       "  <tbody>\n",
       "    <tr>\n",
       "      <th>0</th>\n",
       "      <td>아이언맨</td>\n",
       "      <td>58</td>\n",
       "      <td>CEO</td>\n",
       "    </tr>\n",
       "    <tr>\n",
       "      <th>1</th>\n",
       "      <td>토르</td>\n",
       "      <td>45</td>\n",
       "      <td>신</td>\n",
       "    </tr>\n",
       "    <tr>\n",
       "      <th>2</th>\n",
       "      <td>스파이더맨</td>\n",
       "      <td>18</td>\n",
       "      <td>고등학생</td>\n",
       "    </tr>\n",
       "    <tr>\n",
       "      <th>3</th>\n",
       "      <td>원더우먼</td>\n",
       "      <td>27</td>\n",
       "      <td>공주</td>\n",
       "    </tr>\n",
       "    <tr>\n",
       "      <th>4</th>\n",
       "      <td>헐크</td>\n",
       "      <td>33</td>\n",
       "      <td>핵물리학자</td>\n",
       "    </tr>\n",
       "  </tbody>\n",
       "</table>\n",
       "</div>"
      ],
      "text/plain": [
       "      이름  나이     직업\n",
       "0   아이언맨  58    CEO\n",
       "1     토르  45      신\n",
       "2  스파이더맨  18   고등학생\n",
       "3   원더우먼  27     공주\n",
       "4     헐크  33  핵물리학자"
      ]
     },
     "execution_count": 48,
     "metadata": {},
     "output_type": "execute_result"
    }
   ],
   "source": [
    "df.iloc[:5, :3]"
   ]
  },
  {
   "cell_type": "code",
   "execution_count": 51,
   "id": "4319b708",
   "metadata": {},
   "outputs": [
    {
     "data": {
      "text/plain": [
       "이름       토르\n",
       "나이       45\n",
       "직업        신\n",
       "국적    아스가르드\n",
       "키       190\n",
       "재산      NaN\n",
       "Name: 1, dtype: object"
      ]
     },
     "execution_count": 51,
     "metadata": {},
     "output_type": "execute_result"
    }
   ],
   "source": [
    "df.loc[1]"
   ]
  },
  {
   "cell_type": "code",
   "execution_count": 52,
   "id": "461c5d48",
   "metadata": {},
   "outputs": [
    {
     "data": {
      "text/html": [
       "<div>\n",
       "<style scoped>\n",
       "    .dataframe tbody tr th:only-of-type {\n",
       "        vertical-align: middle;\n",
       "    }\n",
       "\n",
       "    .dataframe tbody tr th {\n",
       "        vertical-align: top;\n",
       "    }\n",
       "\n",
       "    .dataframe thead th {\n",
       "        text-align: right;\n",
       "    }\n",
       "</style>\n",
       "<table border=\"1\" class=\"dataframe\">\n",
       "  <thead>\n",
       "    <tr style=\"text-align: right;\">\n",
       "      <th></th>\n",
       "      <th>이름</th>\n",
       "      <th>나이</th>\n",
       "      <th>직업</th>\n",
       "      <th>국적</th>\n",
       "      <th>키</th>\n",
       "      <th>재산</th>\n",
       "    </tr>\n",
       "  </thead>\n",
       "  <tbody>\n",
       "    <tr>\n",
       "      <th>1</th>\n",
       "      <td>토르</td>\n",
       "      <td>45</td>\n",
       "      <td>신</td>\n",
       "      <td>아스가르드</td>\n",
       "      <td>190</td>\n",
       "      <td>NaN</td>\n",
       "    </tr>\n",
       "    <tr>\n",
       "      <th>3</th>\n",
       "      <td>원더우먼</td>\n",
       "      <td>27</td>\n",
       "      <td>공주</td>\n",
       "      <td>데미스키라</td>\n",
       "      <td>178</td>\n",
       "      <td>NaN</td>\n",
       "    </tr>\n",
       "    <tr>\n",
       "      <th>6</th>\n",
       "      <td>블랙위도우</td>\n",
       "      <td>32</td>\n",
       "      <td>스파이</td>\n",
       "      <td>러시아</td>\n",
       "      <td>170</td>\n",
       "      <td>50000000</td>\n",
       "    </tr>\n",
       "  </tbody>\n",
       "</table>\n",
       "</div>"
      ],
      "text/plain": [
       "      이름  나이   직업     국적    키       재산\n",
       "1     토르  45    신  아스가르드  190      NaN\n",
       "3   원더우먼  27   공주  데미스키라  178      NaN\n",
       "6  블랙위도우  32  스파이    러시아  170 50000000"
      ]
     },
     "execution_count": 52,
     "metadata": {},
     "output_type": "execute_result"
    }
   ],
   "source": [
    "df.loc[[1, 3, 6]]"
   ]
  },
  {
   "cell_type": "code",
   "execution_count": null,
   "id": "d42c02e5",
   "metadata": {},
   "outputs": [
    {
     "data": {
      "text/html": [
       "<div>\n",
       "<style scoped>\n",
       "    .dataframe tbody tr th:only-of-type {\n",
       "        vertical-align: middle;\n",
       "    }\n",
       "\n",
       "    .dataframe tbody tr th {\n",
       "        vertical-align: top;\n",
       "    }\n",
       "\n",
       "    .dataframe thead th {\n",
       "        text-align: right;\n",
       "    }\n",
       "</style>\n",
       "<table border=\"1\" class=\"dataframe\">\n",
       "  <thead>\n",
       "    <tr style=\"text-align: right;\">\n",
       "      <th></th>\n",
       "      <th>이름</th>\n",
       "      <th>나이</th>\n",
       "      <th>직업</th>\n",
       "      <th>국적</th>\n",
       "      <th>키</th>\n",
       "      <th>재산</th>\n",
       "    </tr>\n",
       "  </thead>\n",
       "  <tbody>\n",
       "    <tr>\n",
       "      <th>1</th>\n",
       "      <td>토르</td>\n",
       "      <td>45</td>\n",
       "      <td>신</td>\n",
       "      <td>아스가르드</td>\n",
       "      <td>190</td>\n",
       "      <td>NaN</td>\n",
       "    </tr>\n",
       "    <tr>\n",
       "      <th>2</th>\n",
       "      <td>스파이더맨</td>\n",
       "      <td>18</td>\n",
       "      <td>고등학생</td>\n",
       "      <td>미국</td>\n",
       "      <td>177</td>\n",
       "      <td>600</td>\n",
       "    </tr>\n",
       "    <tr>\n",
       "      <th>3</th>\n",
       "      <td>원더우먼</td>\n",
       "      <td>27</td>\n",
       "      <td>공주</td>\n",
       "      <td>데미스키라</td>\n",
       "      <td>178</td>\n",
       "      <td>NaN</td>\n",
       "    </tr>\n",
       "    <tr>\n",
       "      <th>4</th>\n",
       "      <td>헐크</td>\n",
       "      <td>33</td>\n",
       "      <td>핵물리학자</td>\n",
       "      <td>미국</td>\n",
       "      <td>270</td>\n",
       "      <td>1000000000</td>\n",
       "    </tr>\n",
       "  </tbody>\n",
       "</table>\n",
       "</div>"
      ],
      "text/plain": [
       "      이름  나이     직업     국적    키         재산\n",
       "1     토르  45      신  아스가르드  190        NaN\n",
       "2  스파이더맨  18   고등학생     미국  177        600\n",
       "3   원더우먼  27     공주  데미스키라  178        NaN\n",
       "4     헐크  33  핵물리학자     미국  270 1000000000"
      ]
     },
     "execution_count": 53,
     "metadata": {},
     "output_type": "execute_result"
    }
   ],
   "source": [
    "df.loc[1:4] # 이름 기반이기 때문에 [포함:포함]"
   ]
  },
  {
   "cell_type": "code",
   "execution_count": 54,
   "id": "20474a7e",
   "metadata": {},
   "outputs": [
    {
     "data": {
      "text/html": [
       "<div>\n",
       "<style scoped>\n",
       "    .dataframe tbody tr th:only-of-type {\n",
       "        vertical-align: middle;\n",
       "    }\n",
       "\n",
       "    .dataframe tbody tr th {\n",
       "        vertical-align: top;\n",
       "    }\n",
       "\n",
       "    .dataframe thead th {\n",
       "        text-align: right;\n",
       "    }\n",
       "</style>\n",
       "<table border=\"1\" class=\"dataframe\">\n",
       "  <thead>\n",
       "    <tr style=\"text-align: right;\">\n",
       "      <th></th>\n",
       "      <th>이름</th>\n",
       "      <th>직업</th>\n",
       "    </tr>\n",
       "  </thead>\n",
       "  <tbody>\n",
       "    <tr>\n",
       "      <th>0</th>\n",
       "      <td>아이언맨</td>\n",
       "      <td>CEO</td>\n",
       "    </tr>\n",
       "    <tr>\n",
       "      <th>1</th>\n",
       "      <td>토르</td>\n",
       "      <td>신</td>\n",
       "    </tr>\n",
       "    <tr>\n",
       "      <th>2</th>\n",
       "      <td>스파이더맨</td>\n",
       "      <td>고등학생</td>\n",
       "    </tr>\n",
       "  </tbody>\n",
       "</table>\n",
       "</div>"
      ],
      "text/plain": [
       "      이름    직업\n",
       "0   아이언맨   CEO\n",
       "1     토르     신\n",
       "2  스파이더맨  고등학생"
      ]
     },
     "execution_count": 54,
     "metadata": {},
     "output_type": "execute_result"
    }
   ],
   "source": [
    "df.loc[:2, ['이름', '직업']]"
   ]
  },
  {
   "cell_type": "code",
   "execution_count": 57,
   "id": "3b172b3e",
   "metadata": {},
   "outputs": [
    {
     "data": {
      "text/html": [
       "<div>\n",
       "<style scoped>\n",
       "    .dataframe tbody tr th:only-of-type {\n",
       "        vertical-align: middle;\n",
       "    }\n",
       "\n",
       "    .dataframe tbody tr th {\n",
       "        vertical-align: top;\n",
       "    }\n",
       "\n",
       "    .dataframe thead th {\n",
       "        text-align: right;\n",
       "    }\n",
       "</style>\n",
       "<table border=\"1\" class=\"dataframe\">\n",
       "  <thead>\n",
       "    <tr style=\"text-align: right;\">\n",
       "      <th></th>\n",
       "      <th>국적</th>\n",
       "      <th>키</th>\n",
       "      <th>재산</th>\n",
       "    </tr>\n",
       "  </thead>\n",
       "  <tbody>\n",
       "    <tr>\n",
       "      <th>3</th>\n",
       "      <td>데미스키라</td>\n",
       "      <td>178</td>\n",
       "      <td>NaN</td>\n",
       "    </tr>\n",
       "    <tr>\n",
       "      <th>4</th>\n",
       "      <td>미국</td>\n",
       "      <td>270</td>\n",
       "      <td>1000000000</td>\n",
       "    </tr>\n",
       "    <tr>\n",
       "      <th>5</th>\n",
       "      <td>미국</td>\n",
       "      <td>170</td>\n",
       "      <td>340000000</td>\n",
       "    </tr>\n",
       "    <tr>\n",
       "      <th>6</th>\n",
       "      <td>러시아</td>\n",
       "      <td>170</td>\n",
       "      <td>50000000</td>\n",
       "    </tr>\n",
       "  </tbody>\n",
       "</table>\n",
       "</div>"
      ],
      "text/plain": [
       "      국적    키         재산\n",
       "3  데미스키라  178        NaN\n",
       "4     미국  270 1000000000\n",
       "5     미국  170  340000000\n",
       "6    러시아  170   50000000"
      ]
     },
     "execution_count": 57,
     "metadata": {},
     "output_type": "execute_result"
    }
   ],
   "source": [
    "df.loc[3:, '국적':'재산']"
   ]
  },
  {
   "cell_type": "code",
   "execution_count": 58,
   "id": "b3af6b24",
   "metadata": {},
   "outputs": [
    {
     "data": {
      "text/plain": [
       "0     True\n",
       "1     True\n",
       "2    False\n",
       "3    False\n",
       "4     True\n",
       "5    False\n",
       "6     True\n",
       "Name: 나이, dtype: bool"
      ]
     },
     "execution_count": 58,
     "metadata": {},
     "output_type": "execute_result"
    }
   ],
   "source": [
    "df['나이'] > 30"
   ]
  },
  {
   "cell_type": "code",
   "execution_count": 59,
   "id": "fa1d4eea",
   "metadata": {},
   "outputs": [
    {
     "data": {
      "text/html": [
       "<div>\n",
       "<style scoped>\n",
       "    .dataframe tbody tr th:only-of-type {\n",
       "        vertical-align: middle;\n",
       "    }\n",
       "\n",
       "    .dataframe tbody tr th {\n",
       "        vertical-align: top;\n",
       "    }\n",
       "\n",
       "    .dataframe thead th {\n",
       "        text-align: right;\n",
       "    }\n",
       "</style>\n",
       "<table border=\"1\" class=\"dataframe\">\n",
       "  <thead>\n",
       "    <tr style=\"text-align: right;\">\n",
       "      <th></th>\n",
       "      <th>이름</th>\n",
       "      <th>나이</th>\n",
       "      <th>직업</th>\n",
       "      <th>국적</th>\n",
       "      <th>키</th>\n",
       "      <th>재산</th>\n",
       "    </tr>\n",
       "  </thead>\n",
       "  <tbody>\n",
       "    <tr>\n",
       "      <th>0</th>\n",
       "      <td>아이언맨</td>\n",
       "      <td>58</td>\n",
       "      <td>CEO</td>\n",
       "      <td>미국</td>\n",
       "      <td>174</td>\n",
       "      <td>11500000000000</td>\n",
       "    </tr>\n",
       "    <tr>\n",
       "      <th>1</th>\n",
       "      <td>토르</td>\n",
       "      <td>45</td>\n",
       "      <td>신</td>\n",
       "      <td>아스가르드</td>\n",
       "      <td>190</td>\n",
       "      <td>NaN</td>\n",
       "    </tr>\n",
       "    <tr>\n",
       "      <th>4</th>\n",
       "      <td>헐크</td>\n",
       "      <td>33</td>\n",
       "      <td>핵물리학자</td>\n",
       "      <td>미국</td>\n",
       "      <td>270</td>\n",
       "      <td>1000000000</td>\n",
       "    </tr>\n",
       "    <tr>\n",
       "      <th>6</th>\n",
       "      <td>블랙위도우</td>\n",
       "      <td>32</td>\n",
       "      <td>스파이</td>\n",
       "      <td>러시아</td>\n",
       "      <td>170</td>\n",
       "      <td>50000000</td>\n",
       "    </tr>\n",
       "  </tbody>\n",
       "</table>\n",
       "</div>"
      ],
      "text/plain": [
       "      이름  나이     직업     국적    키             재산\n",
       "0   아이언맨  58    CEO     미국  174 11500000000000\n",
       "1     토르  45      신  아스가르드  190            NaN\n",
       "4     헐크  33  핵물리학자     미국  270     1000000000\n",
       "6  블랙위도우  32    스파이    러시아  170       50000000"
      ]
     },
     "execution_count": 59,
     "metadata": {},
     "output_type": "execute_result"
    }
   ],
   "source": [
    "df[df['나이'] > 30]"
   ]
  },
  {
   "cell_type": "code",
   "execution_count": 73,
   "id": "9d07e8ee",
   "metadata": {},
   "outputs": [
    {
     "data": {
      "text/html": [
       "<div>\n",
       "<style scoped>\n",
       "    .dataframe tbody tr th:only-of-type {\n",
       "        vertical-align: middle;\n",
       "    }\n",
       "\n",
       "    .dataframe tbody tr th {\n",
       "        vertical-align: top;\n",
       "    }\n",
       "\n",
       "    .dataframe thead th {\n",
       "        text-align: right;\n",
       "    }\n",
       "</style>\n",
       "<table border=\"1\" class=\"dataframe\">\n",
       "  <thead>\n",
       "    <tr style=\"text-align: right;\">\n",
       "      <th></th>\n",
       "      <th>이름</th>\n",
       "      <th>나이</th>\n",
       "      <th>직업</th>\n",
       "      <th>국적</th>\n",
       "      <th>키</th>\n",
       "      <th>재산</th>\n",
       "    </tr>\n",
       "  </thead>\n",
       "  <tbody>\n",
       "    <tr>\n",
       "      <th>1</th>\n",
       "      <td>토르</td>\n",
       "      <td>45</td>\n",
       "      <td>신</td>\n",
       "      <td>아스가르드</td>\n",
       "      <td>190</td>\n",
       "      <td>NaN</td>\n",
       "    </tr>\n",
       "    <tr>\n",
       "      <th>4</th>\n",
       "      <td>헐크</td>\n",
       "      <td>33</td>\n",
       "      <td>핵물리학자</td>\n",
       "      <td>미국</td>\n",
       "      <td>270</td>\n",
       "      <td>1000000000</td>\n",
       "    </tr>\n",
       "    <tr>\n",
       "      <th>6</th>\n",
       "      <td>블랙위도우</td>\n",
       "      <td>32</td>\n",
       "      <td>스파이</td>\n",
       "      <td>러시아</td>\n",
       "      <td>170</td>\n",
       "      <td>50000000</td>\n",
       "    </tr>\n",
       "  </tbody>\n",
       "</table>\n",
       "</div>"
      ],
      "text/plain": [
       "      이름  나이     직업     국적    키         재산\n",
       "1     토르  45      신  아스가르드  190        NaN\n",
       "4     헐크  33  핵물리학자     미국  270 1000000000\n",
       "6  블랙위도우  32    스파이    러시아  170   50000000"
      ]
     },
     "execution_count": 73,
     "metadata": {},
     "output_type": "execute_result"
    }
   ],
   "source": [
    "# 나이가 30 초과이면서 50 미만인 사람들의 전체 레코드\n",
    "\n",
    "df['나이'] < 50\n",
    "df[(df['나이'] > 30) & (df['나이'] < 50)]"
   ]
  },
  {
   "cell_type": "code",
   "execution_count": 83,
   "id": "1d262cb6",
   "metadata": {},
   "outputs": [
    {
     "data": {
      "text/html": [
       "<div>\n",
       "<style scoped>\n",
       "    .dataframe tbody tr th:only-of-type {\n",
       "        vertical-align: middle;\n",
       "    }\n",
       "\n",
       "    .dataframe tbody tr th {\n",
       "        vertical-align: top;\n",
       "    }\n",
       "\n",
       "    .dataframe thead th {\n",
       "        text-align: right;\n",
       "    }\n",
       "</style>\n",
       "<table border=\"1\" class=\"dataframe\">\n",
       "  <thead>\n",
       "    <tr style=\"text-align: right;\">\n",
       "      <th></th>\n",
       "      <th>이름</th>\n",
       "      <th>나이</th>\n",
       "      <th>키</th>\n",
       "    </tr>\n",
       "  </thead>\n",
       "  <tbody>\n",
       "    <tr>\n",
       "      <th>1</th>\n",
       "      <td>토르</td>\n",
       "      <td>45</td>\n",
       "      <td>190</td>\n",
       "    </tr>\n",
       "    <tr>\n",
       "      <th>4</th>\n",
       "      <td>헐크</td>\n",
       "      <td>33</td>\n",
       "      <td>270</td>\n",
       "    </tr>\n",
       "  </tbody>\n",
       "</table>\n",
       "</div>"
      ],
      "text/plain": [
       "   이름  나이    키\n",
       "1  토르  45  190\n",
       "4  헐크  33  270"
      ]
     },
     "execution_count": 83,
     "metadata": {},
     "output_type": "execute_result"
    }
   ],
   "source": [
    "# 키가 180 이상인 레코드의 이름과 나이 컬럼만 출력\n",
    "\n",
    "df['키'] >= 180\n",
    "df[df['키'] >= 180]\n",
    "df.loc[df['키'] >= 180, ['이름', '나이', '키']]"
   ]
  },
  {
   "cell_type": "code",
   "execution_count": null,
   "id": "d4855581",
   "metadata": {},
   "outputs": [],
   "source": [
    "# 컬럼 추가\n",
    "\n",
    "df['전투력'] = 98 # 일괄 지정\n",
    "df['전투력'] = [100, 99, ...] # 각각 개별 지정"
   ]
  },
  {
   "cell_type": "code",
   "execution_count": 93,
   "id": "1e60deb2",
   "metadata": {},
   "outputs": [],
   "source": [
    "df['전투력'] = 98"
   ]
  },
  {
   "cell_type": "code",
   "execution_count": 85,
   "id": "99873e25",
   "metadata": {},
   "outputs": [
    {
     "data": {
      "text/html": [
       "<div>\n",
       "<style scoped>\n",
       "    .dataframe tbody tr th:only-of-type {\n",
       "        vertical-align: middle;\n",
       "    }\n",
       "\n",
       "    .dataframe tbody tr th {\n",
       "        vertical-align: top;\n",
       "    }\n",
       "\n",
       "    .dataframe thead th {\n",
       "        text-align: right;\n",
       "    }\n",
       "</style>\n",
       "<table border=\"1\" class=\"dataframe\">\n",
       "  <thead>\n",
       "    <tr style=\"text-align: right;\">\n",
       "      <th></th>\n",
       "      <th>이름</th>\n",
       "      <th>나이</th>\n",
       "      <th>직업</th>\n",
       "      <th>국적</th>\n",
       "      <th>키</th>\n",
       "      <th>재산</th>\n",
       "      <th>전투력</th>\n",
       "    </tr>\n",
       "  </thead>\n",
       "  <tbody>\n",
       "    <tr>\n",
       "      <th>0</th>\n",
       "      <td>아이언맨</td>\n",
       "      <td>58</td>\n",
       "      <td>CEO</td>\n",
       "      <td>미국</td>\n",
       "      <td>174</td>\n",
       "      <td>11500000000000</td>\n",
       "      <td>98</td>\n",
       "    </tr>\n",
       "    <tr>\n",
       "      <th>1</th>\n",
       "      <td>토르</td>\n",
       "      <td>45</td>\n",
       "      <td>신</td>\n",
       "      <td>아스가르드</td>\n",
       "      <td>190</td>\n",
       "      <td>NaN</td>\n",
       "      <td>98</td>\n",
       "    </tr>\n",
       "    <tr>\n",
       "      <th>2</th>\n",
       "      <td>스파이더맨</td>\n",
       "      <td>18</td>\n",
       "      <td>고등학생</td>\n",
       "      <td>미국</td>\n",
       "      <td>177</td>\n",
       "      <td>600</td>\n",
       "      <td>98</td>\n",
       "    </tr>\n",
       "    <tr>\n",
       "      <th>3</th>\n",
       "      <td>원더우먼</td>\n",
       "      <td>27</td>\n",
       "      <td>공주</td>\n",
       "      <td>데미스키라</td>\n",
       "      <td>178</td>\n",
       "      <td>NaN</td>\n",
       "      <td>98</td>\n",
       "    </tr>\n",
       "    <tr>\n",
       "      <th>4</th>\n",
       "      <td>헐크</td>\n",
       "      <td>33</td>\n",
       "      <td>핵물리학자</td>\n",
       "      <td>미국</td>\n",
       "      <td>270</td>\n",
       "      <td>1000000000</td>\n",
       "      <td>98</td>\n",
       "    </tr>\n",
       "    <tr>\n",
       "      <th>5</th>\n",
       "      <td>캡틴마블</td>\n",
       "      <td>25</td>\n",
       "      <td>파일럿</td>\n",
       "      <td>미국</td>\n",
       "      <td>170</td>\n",
       "      <td>340000000</td>\n",
       "      <td>98</td>\n",
       "    </tr>\n",
       "    <tr>\n",
       "      <th>6</th>\n",
       "      <td>블랙위도우</td>\n",
       "      <td>32</td>\n",
       "      <td>스파이</td>\n",
       "      <td>러시아</td>\n",
       "      <td>170</td>\n",
       "      <td>50000000</td>\n",
       "      <td>98</td>\n",
       "    </tr>\n",
       "  </tbody>\n",
       "</table>\n",
       "</div>"
      ],
      "text/plain": [
       "      이름  나이     직업     국적    키             재산  전투력\n",
       "0   아이언맨  58    CEO     미국  174 11500000000000   98\n",
       "1     토르  45      신  아스가르드  190            NaN   98\n",
       "2  스파이더맨  18   고등학생     미국  177            600   98\n",
       "3   원더우먼  27     공주  데미스키라  178            NaN   98\n",
       "4     헐크  33  핵물리학자     미국  270     1000000000   98\n",
       "5   캡틴마블  25    파일럿     미국  170      340000000   98\n",
       "6  블랙위도우  32    스파이    러시아  170       50000000   98"
      ]
     },
     "execution_count": 85,
     "metadata": {},
     "output_type": "execute_result"
    }
   ],
   "source": [
    "df"
   ]
  },
  {
   "cell_type": "code",
   "execution_count": 87,
   "id": "c8e1201b",
   "metadata": {},
   "outputs": [
    {
     "data": {
      "text/html": [
       "<div>\n",
       "<style scoped>\n",
       "    .dataframe tbody tr th:only-of-type {\n",
       "        vertical-align: middle;\n",
       "    }\n",
       "\n",
       "    .dataframe tbody tr th {\n",
       "        vertical-align: top;\n",
       "    }\n",
       "\n",
       "    .dataframe thead th {\n",
       "        text-align: right;\n",
       "    }\n",
       "</style>\n",
       "<table border=\"1\" class=\"dataframe\">\n",
       "  <thead>\n",
       "    <tr style=\"text-align: right;\">\n",
       "      <th></th>\n",
       "      <th>이름</th>\n",
       "      <th>나이</th>\n",
       "      <th>직업</th>\n",
       "      <th>국적</th>\n",
       "      <th>키</th>\n",
       "      <th>재산</th>\n",
       "      <th>전투력</th>\n",
       "    </tr>\n",
       "  </thead>\n",
       "  <tbody>\n",
       "    <tr>\n",
       "      <th>0</th>\n",
       "      <td>아이언맨</td>\n",
       "      <td>58</td>\n",
       "      <td>CEO</td>\n",
       "      <td>미국</td>\n",
       "      <td>174</td>\n",
       "      <td>11500000000000</td>\n",
       "      <td>88</td>\n",
       "    </tr>\n",
       "    <tr>\n",
       "      <th>1</th>\n",
       "      <td>토르</td>\n",
       "      <td>45</td>\n",
       "      <td>신</td>\n",
       "      <td>아스가르드</td>\n",
       "      <td>190</td>\n",
       "      <td>NaN</td>\n",
       "      <td>88</td>\n",
       "    </tr>\n",
       "    <tr>\n",
       "      <th>2</th>\n",
       "      <td>스파이더맨</td>\n",
       "      <td>18</td>\n",
       "      <td>고등학생</td>\n",
       "      <td>미국</td>\n",
       "      <td>177</td>\n",
       "      <td>600</td>\n",
       "      <td>88</td>\n",
       "    </tr>\n",
       "    <tr>\n",
       "      <th>3</th>\n",
       "      <td>원더우먼</td>\n",
       "      <td>27</td>\n",
       "      <td>공주</td>\n",
       "      <td>데미스키라</td>\n",
       "      <td>178</td>\n",
       "      <td>NaN</td>\n",
       "      <td>88</td>\n",
       "    </tr>\n",
       "    <tr>\n",
       "      <th>4</th>\n",
       "      <td>헐크</td>\n",
       "      <td>33</td>\n",
       "      <td>핵물리학자</td>\n",
       "      <td>미국</td>\n",
       "      <td>270</td>\n",
       "      <td>1000000000</td>\n",
       "      <td>88</td>\n",
       "    </tr>\n",
       "    <tr>\n",
       "      <th>5</th>\n",
       "      <td>캡틴마블</td>\n",
       "      <td>25</td>\n",
       "      <td>파일럿</td>\n",
       "      <td>미국</td>\n",
       "      <td>170</td>\n",
       "      <td>340000000</td>\n",
       "      <td>88</td>\n",
       "    </tr>\n",
       "    <tr>\n",
       "      <th>6</th>\n",
       "      <td>블랙위도우</td>\n",
       "      <td>32</td>\n",
       "      <td>스파이</td>\n",
       "      <td>러시아</td>\n",
       "      <td>170</td>\n",
       "      <td>50000000</td>\n",
       "      <td>88</td>\n",
       "    </tr>\n",
       "  </tbody>\n",
       "</table>\n",
       "</div>"
      ],
      "text/plain": [
       "      이름  나이     직업     국적    키             재산  전투력\n",
       "0   아이언맨  58    CEO     미국  174 11500000000000   88\n",
       "1     토르  45      신  아스가르드  190            NaN   88\n",
       "2  스파이더맨  18   고등학생     미국  177            600   88\n",
       "3   원더우먼  27     공주  데미스키라  178            NaN   88\n",
       "4     헐크  33  핵물리학자     미국  270     1000000000   88\n",
       "5   캡틴마블  25    파일럿     미국  170      340000000   88\n",
       "6  블랙위도우  32    스파이    러시아  170       50000000   88"
      ]
     },
     "execution_count": 87,
     "metadata": {},
     "output_type": "execute_result"
    }
   ],
   "source": [
    "df['전투력'] -= 5\n",
    "df"
   ]
  },
  {
   "cell_type": "code",
   "execution_count": null,
   "id": "8daae13f",
   "metadata": {},
   "outputs": [
    {
     "data": {
      "text/html": [
       "<div>\n",
       "<style scoped>\n",
       "    .dataframe tbody tr th:only-of-type {\n",
       "        vertical-align: middle;\n",
       "    }\n",
       "\n",
       "    .dataframe tbody tr th {\n",
       "        vertical-align: top;\n",
       "    }\n",
       "\n",
       "    .dataframe thead th {\n",
       "        text-align: right;\n",
       "    }\n",
       "</style>\n",
       "<table border=\"1\" class=\"dataframe\">\n",
       "  <thead>\n",
       "    <tr style=\"text-align: right;\">\n",
       "      <th></th>\n",
       "      <th>이름</th>\n",
       "      <th>나이</th>\n",
       "      <th>직업</th>\n",
       "      <th>국적</th>\n",
       "      <th>키</th>\n",
       "      <th>재산</th>\n",
       "    </tr>\n",
       "  </thead>\n",
       "  <tbody>\n",
       "    <tr>\n",
       "      <th>0</th>\n",
       "      <td>아이언맨</td>\n",
       "      <td>58</td>\n",
       "      <td>CEO</td>\n",
       "      <td>미국</td>\n",
       "      <td>174</td>\n",
       "      <td>11500000000000</td>\n",
       "    </tr>\n",
       "    <tr>\n",
       "      <th>1</th>\n",
       "      <td>토르</td>\n",
       "      <td>45</td>\n",
       "      <td>신</td>\n",
       "      <td>아스가르드</td>\n",
       "      <td>190</td>\n",
       "      <td>NaN</td>\n",
       "    </tr>\n",
       "    <tr>\n",
       "      <th>2</th>\n",
       "      <td>스파이더맨</td>\n",
       "      <td>18</td>\n",
       "      <td>고등학생</td>\n",
       "      <td>미국</td>\n",
       "      <td>177</td>\n",
       "      <td>600</td>\n",
       "    </tr>\n",
       "    <tr>\n",
       "      <th>3</th>\n",
       "      <td>원더우먼</td>\n",
       "      <td>27</td>\n",
       "      <td>공주</td>\n",
       "      <td>데미스키라</td>\n",
       "      <td>178</td>\n",
       "      <td>NaN</td>\n",
       "    </tr>\n",
       "    <tr>\n",
       "      <th>4</th>\n",
       "      <td>헐크</td>\n",
       "      <td>33</td>\n",
       "      <td>핵물리학자</td>\n",
       "      <td>미국</td>\n",
       "      <td>270</td>\n",
       "      <td>1000000000</td>\n",
       "    </tr>\n",
       "    <tr>\n",
       "      <th>5</th>\n",
       "      <td>캡틴마블</td>\n",
       "      <td>25</td>\n",
       "      <td>파일럿</td>\n",
       "      <td>미국</td>\n",
       "      <td>170</td>\n",
       "      <td>340000000</td>\n",
       "    </tr>\n",
       "    <tr>\n",
       "      <th>6</th>\n",
       "      <td>블랙위도우</td>\n",
       "      <td>32</td>\n",
       "      <td>스파이</td>\n",
       "      <td>러시아</td>\n",
       "      <td>170</td>\n",
       "      <td>50000000</td>\n",
       "    </tr>\n",
       "  </tbody>\n",
       "</table>\n",
       "</div>"
      ],
      "text/plain": [
       "      이름  나이     직업     국적    키             재산\n",
       "0   아이언맨  58    CEO     미국  174 11500000000000\n",
       "1     토르  45      신  아스가르드  190            NaN\n",
       "2  스파이더맨  18   고등학생     미국  177            600\n",
       "3   원더우먼  27     공주  데미스키라  178            NaN\n",
       "4     헐크  33  핵물리학자     미국  270     1000000000\n",
       "5   캡틴마블  25    파일럿     미국  170      340000000\n",
       "6  블랙위도우  32    스파이    러시아  170       50000000"
      ]
     },
     "execution_count": 89,
     "metadata": {},
     "output_type": "execute_result"
    }
   ],
   "source": [
    "# 컬럼 삭제 (임시)\n",
    "\n",
    "df.drop(columns=['전투력'])"
   ]
  },
  {
   "cell_type": "code",
   "execution_count": 90,
   "id": "c3203674",
   "metadata": {},
   "outputs": [
    {
     "data": {
      "text/html": [
       "<div>\n",
       "<style scoped>\n",
       "    .dataframe tbody tr th:only-of-type {\n",
       "        vertical-align: middle;\n",
       "    }\n",
       "\n",
       "    .dataframe tbody tr th {\n",
       "        vertical-align: top;\n",
       "    }\n",
       "\n",
       "    .dataframe thead th {\n",
       "        text-align: right;\n",
       "    }\n",
       "</style>\n",
       "<table border=\"1\" class=\"dataframe\">\n",
       "  <thead>\n",
       "    <tr style=\"text-align: right;\">\n",
       "      <th></th>\n",
       "      <th>이름</th>\n",
       "      <th>나이</th>\n",
       "      <th>직업</th>\n",
       "      <th>국적</th>\n",
       "      <th>키</th>\n",
       "      <th>재산</th>\n",
       "      <th>전투력</th>\n",
       "    </tr>\n",
       "  </thead>\n",
       "  <tbody>\n",
       "    <tr>\n",
       "      <th>0</th>\n",
       "      <td>아이언맨</td>\n",
       "      <td>58</td>\n",
       "      <td>CEO</td>\n",
       "      <td>미국</td>\n",
       "      <td>174</td>\n",
       "      <td>11500000000000</td>\n",
       "      <td>88</td>\n",
       "    </tr>\n",
       "    <tr>\n",
       "      <th>1</th>\n",
       "      <td>토르</td>\n",
       "      <td>45</td>\n",
       "      <td>신</td>\n",
       "      <td>아스가르드</td>\n",
       "      <td>190</td>\n",
       "      <td>NaN</td>\n",
       "      <td>88</td>\n",
       "    </tr>\n",
       "    <tr>\n",
       "      <th>2</th>\n",
       "      <td>스파이더맨</td>\n",
       "      <td>18</td>\n",
       "      <td>고등학생</td>\n",
       "      <td>미국</td>\n",
       "      <td>177</td>\n",
       "      <td>600</td>\n",
       "      <td>88</td>\n",
       "    </tr>\n",
       "    <tr>\n",
       "      <th>3</th>\n",
       "      <td>원더우먼</td>\n",
       "      <td>27</td>\n",
       "      <td>공주</td>\n",
       "      <td>데미스키라</td>\n",
       "      <td>178</td>\n",
       "      <td>NaN</td>\n",
       "      <td>88</td>\n",
       "    </tr>\n",
       "    <tr>\n",
       "      <th>4</th>\n",
       "      <td>헐크</td>\n",
       "      <td>33</td>\n",
       "      <td>핵물리학자</td>\n",
       "      <td>미국</td>\n",
       "      <td>270</td>\n",
       "      <td>1000000000</td>\n",
       "      <td>88</td>\n",
       "    </tr>\n",
       "    <tr>\n",
       "      <th>5</th>\n",
       "      <td>캡틴마블</td>\n",
       "      <td>25</td>\n",
       "      <td>파일럿</td>\n",
       "      <td>미국</td>\n",
       "      <td>170</td>\n",
       "      <td>340000000</td>\n",
       "      <td>88</td>\n",
       "    </tr>\n",
       "    <tr>\n",
       "      <th>6</th>\n",
       "      <td>블랙위도우</td>\n",
       "      <td>32</td>\n",
       "      <td>스파이</td>\n",
       "      <td>러시아</td>\n",
       "      <td>170</td>\n",
       "      <td>50000000</td>\n",
       "      <td>88</td>\n",
       "    </tr>\n",
       "  </tbody>\n",
       "</table>\n",
       "</div>"
      ],
      "text/plain": [
       "      이름  나이     직업     국적    키             재산  전투력\n",
       "0   아이언맨  58    CEO     미국  174 11500000000000   88\n",
       "1     토르  45      신  아스가르드  190            NaN   88\n",
       "2  스파이더맨  18   고등학생     미국  177            600   88\n",
       "3   원더우먼  27     공주  데미스키라  178            NaN   88\n",
       "4     헐크  33  핵물리학자     미국  270     1000000000   88\n",
       "5   캡틴마블  25    파일럿     미국  170      340000000   88\n",
       "6  블랙위도우  32    스파이    러시아  170       50000000   88"
      ]
     },
     "execution_count": 90,
     "metadata": {},
     "output_type": "execute_result"
    }
   ],
   "source": [
    "df"
   ]
  },
  {
   "cell_type": "code",
   "execution_count": null,
   "id": "d8d4dded",
   "metadata": {},
   "outputs": [],
   "source": [
    "df.drop(columns=['전투력'], inplace=True) # 원본 삭제"
   ]
  },
  {
   "cell_type": "code",
   "execution_count": 113,
   "id": "32cae365",
   "metadata": {},
   "outputs": [
    {
     "data": {
      "text/html": [
       "<div>\n",
       "<style scoped>\n",
       "    .dataframe tbody tr th:only-of-type {\n",
       "        vertical-align: middle;\n",
       "    }\n",
       "\n",
       "    .dataframe tbody tr th {\n",
       "        vertical-align: top;\n",
       "    }\n",
       "\n",
       "    .dataframe thead th {\n",
       "        text-align: right;\n",
       "    }\n",
       "</style>\n",
       "<table border=\"1\" class=\"dataframe\">\n",
       "  <thead>\n",
       "    <tr style=\"text-align: right;\">\n",
       "      <th></th>\n",
       "      <th>이름</th>\n",
       "      <th>나이</th>\n",
       "      <th>직업</th>\n",
       "      <th>국적</th>\n",
       "      <th>키</th>\n",
       "      <th>재산</th>\n",
       "    </tr>\n",
       "  </thead>\n",
       "  <tbody>\n",
       "    <tr>\n",
       "      <th>0</th>\n",
       "      <td>아이언맨</td>\n",
       "      <td>58</td>\n",
       "      <td>CEO</td>\n",
       "      <td>미국</td>\n",
       "      <td>174</td>\n",
       "      <td>11500000000000</td>\n",
       "    </tr>\n",
       "    <tr>\n",
       "      <th>2</th>\n",
       "      <td>스파이더맨</td>\n",
       "      <td>18</td>\n",
       "      <td>고등학생</td>\n",
       "      <td>미국</td>\n",
       "      <td>177</td>\n",
       "      <td>600</td>\n",
       "    </tr>\n",
       "    <tr>\n",
       "      <th>4</th>\n",
       "      <td>헐크</td>\n",
       "      <td>33</td>\n",
       "      <td>핵물리학자</td>\n",
       "      <td>미국</td>\n",
       "      <td>270</td>\n",
       "      <td>1000000000</td>\n",
       "    </tr>\n",
       "    <tr>\n",
       "      <th>5</th>\n",
       "      <td>캡틴마블</td>\n",
       "      <td>25</td>\n",
       "      <td>파일럿</td>\n",
       "      <td>미국</td>\n",
       "      <td>170</td>\n",
       "      <td>340000000</td>\n",
       "    </tr>\n",
       "    <tr>\n",
       "      <th>6</th>\n",
       "      <td>블랙위도우</td>\n",
       "      <td>32</td>\n",
       "      <td>스파이</td>\n",
       "      <td>러시아</td>\n",
       "      <td>170</td>\n",
       "      <td>50000000</td>\n",
       "    </tr>\n",
       "  </tbody>\n",
       "</table>\n",
       "</div>"
      ],
      "text/plain": [
       "      이름  나이     직업   국적    키             재산\n",
       "0   아이언맨  58    CEO   미국  174 11500000000000\n",
       "2  스파이더맨  18   고등학생   미국  177            600\n",
       "4     헐크  33  핵물리학자   미국  270     1000000000\n",
       "5   캡틴마블  25    파일럿   미국  170      340000000\n",
       "6  블랙위도우  32    스파이  러시아  170       50000000"
      ]
     },
     "execution_count": 113,
     "metadata": {},
     "output_type": "execute_result"
    }
   ],
   "source": [
    "df"
   ]
  },
  {
   "cell_type": "code",
   "execution_count": 95,
   "id": "e1f389ab",
   "metadata": {},
   "outputs": [],
   "source": [
    "df = df.drop(columns=['전투력']) # 원본 삭제"
   ]
  },
  {
   "cell_type": "code",
   "execution_count": 162,
   "id": "850dc685",
   "metadata": {},
   "outputs": [
    {
     "data": {
      "text/html": [
       "<div>\n",
       "<style scoped>\n",
       "    .dataframe tbody tr th:only-of-type {\n",
       "        vertical-align: middle;\n",
       "    }\n",
       "\n",
       "    .dataframe tbody tr th {\n",
       "        vertical-align: top;\n",
       "    }\n",
       "\n",
       "    .dataframe thead th {\n",
       "        text-align: right;\n",
       "    }\n",
       "</style>\n",
       "<table border=\"1\" class=\"dataframe\">\n",
       "  <thead>\n",
       "    <tr style=\"text-align: right;\">\n",
       "      <th></th>\n",
       "      <th>이름</th>\n",
       "      <th>나이</th>\n",
       "      <th>직업</th>\n",
       "      <th>국적</th>\n",
       "      <th>키</th>\n",
       "      <th>재산</th>\n",
       "    </tr>\n",
       "  </thead>\n",
       "  <tbody>\n",
       "    <tr>\n",
       "      <th>0</th>\n",
       "      <td>아이언맨</td>\n",
       "      <td>58</td>\n",
       "      <td>CEO</td>\n",
       "      <td>미국</td>\n",
       "      <td>174</td>\n",
       "      <td>11500000000000</td>\n",
       "    </tr>\n",
       "    <tr>\n",
       "      <th>1</th>\n",
       "      <td>토르</td>\n",
       "      <td>45</td>\n",
       "      <td>신</td>\n",
       "      <td>아스가르드</td>\n",
       "      <td>190</td>\n",
       "      <td>NaN</td>\n",
       "    </tr>\n",
       "    <tr>\n",
       "      <th>2</th>\n",
       "      <td>스파이더맨</td>\n",
       "      <td>18</td>\n",
       "      <td>고등학생</td>\n",
       "      <td>미국</td>\n",
       "      <td>177</td>\n",
       "      <td>600</td>\n",
       "    </tr>\n",
       "    <tr>\n",
       "      <th>3</th>\n",
       "      <td>원더우먼</td>\n",
       "      <td>27</td>\n",
       "      <td>공주</td>\n",
       "      <td>데미스키라</td>\n",
       "      <td>178</td>\n",
       "      <td>NaN</td>\n",
       "    </tr>\n",
       "    <tr>\n",
       "      <th>4</th>\n",
       "      <td>헐크</td>\n",
       "      <td>33</td>\n",
       "      <td>핵물리학자</td>\n",
       "      <td>미국</td>\n",
       "      <td>270</td>\n",
       "      <td>1000000000</td>\n",
       "    </tr>\n",
       "    <tr>\n",
       "      <th>5</th>\n",
       "      <td>캡틴마블</td>\n",
       "      <td>25</td>\n",
       "      <td>파일럿</td>\n",
       "      <td>미국</td>\n",
       "      <td>170</td>\n",
       "      <td>340000000</td>\n",
       "    </tr>\n",
       "    <tr>\n",
       "      <th>6</th>\n",
       "      <td>블랙위도우</td>\n",
       "      <td>32</td>\n",
       "      <td>스파이</td>\n",
       "      <td>러시아</td>\n",
       "      <td>170</td>\n",
       "      <td>50000000</td>\n",
       "    </tr>\n",
       "  </tbody>\n",
       "</table>\n",
       "</div>"
      ],
      "text/plain": [
       "      이름  나이     직업     국적    키             재산\n",
       "0   아이언맨  58    CEO     미국  174 11500000000000\n",
       "1     토르  45      신  아스가르드  190            NaN\n",
       "2  스파이더맨  18   고등학생     미국  177            600\n",
       "3   원더우먼  27     공주  데미스키라  178            NaN\n",
       "4     헐크  33  핵물리학자     미국  270     1000000000\n",
       "5   캡틴마블  25    파일럿     미국  170      340000000\n",
       "6  블랙위도우  32    스파이    러시아  170       50000000"
      ]
     },
     "execution_count": 162,
     "metadata": {},
     "output_type": "execute_result"
    }
   ],
   "source": [
    "df"
   ]
  },
  {
   "cell_type": "code",
   "execution_count": 163,
   "id": "8a5481a3",
   "metadata": {},
   "outputs": [
    {
     "name": "stdout",
     "output_type": "stream",
     "text": [
      "<class 'pandas.core.frame.DataFrame'>\n",
      "RangeIndex: 7 entries, 0 to 6\n",
      "Data columns (total 6 columns):\n",
      " #   Column  Non-Null Count  Dtype  \n",
      "---  ------  --------------  -----  \n",
      " 0   이름      7 non-null      object \n",
      " 1   나이      7 non-null      int64  \n",
      " 2   직업      7 non-null      object \n",
      " 3   국적      7 non-null      object \n",
      " 4   키       7 non-null      int64  \n",
      " 5   재산      5 non-null      float64\n",
      "dtypes: float64(1), int64(2), object(3)\n",
      "memory usage: 468.0+ bytes\n"
     ]
    }
   ],
   "source": [
    "# NaN = 결측치\n",
    "# 기입이 되지 않음\n",
    "\n",
    "df.info() # 결측치 존재 확인"
   ]
  },
  {
   "cell_type": "code",
   "execution_count": 164,
   "id": "1e5df5d0",
   "metadata": {},
   "outputs": [
    {
     "data": {
      "text/plain": [
       "0    False\n",
       "1     True\n",
       "2    False\n",
       "3     True\n",
       "4    False\n",
       "5    False\n",
       "6    False\n",
       "Name: 재산, dtype: bool"
      ]
     },
     "execution_count": 164,
     "metadata": {},
     "output_type": "execute_result"
    }
   ],
   "source": [
    "df['재산'].isnull() # 결측치 True"
   ]
  },
  {
   "cell_type": "code",
   "execution_count": 165,
   "id": "8a2ec742",
   "metadata": {},
   "outputs": [
    {
     "data": {
      "text/html": [
       "<div>\n",
       "<style scoped>\n",
       "    .dataframe tbody tr th:only-of-type {\n",
       "        vertical-align: middle;\n",
       "    }\n",
       "\n",
       "    .dataframe tbody tr th {\n",
       "        vertical-align: top;\n",
       "    }\n",
       "\n",
       "    .dataframe thead th {\n",
       "        text-align: right;\n",
       "    }\n",
       "</style>\n",
       "<table border=\"1\" class=\"dataframe\">\n",
       "  <thead>\n",
       "    <tr style=\"text-align: right;\">\n",
       "      <th></th>\n",
       "      <th>이름</th>\n",
       "      <th>나이</th>\n",
       "      <th>직업</th>\n",
       "      <th>국적</th>\n",
       "      <th>키</th>\n",
       "      <th>재산</th>\n",
       "    </tr>\n",
       "  </thead>\n",
       "  <tbody>\n",
       "    <tr>\n",
       "      <th>1</th>\n",
       "      <td>토르</td>\n",
       "      <td>45</td>\n",
       "      <td>신</td>\n",
       "      <td>아스가르드</td>\n",
       "      <td>190</td>\n",
       "      <td>NaN</td>\n",
       "    </tr>\n",
       "    <tr>\n",
       "      <th>3</th>\n",
       "      <td>원더우먼</td>\n",
       "      <td>27</td>\n",
       "      <td>공주</td>\n",
       "      <td>데미스키라</td>\n",
       "      <td>178</td>\n",
       "      <td>NaN</td>\n",
       "    </tr>\n",
       "  </tbody>\n",
       "</table>\n",
       "</div>"
      ],
      "text/plain": [
       "     이름  나이  직업     국적    키  재산\n",
       "1    토르  45   신  아스가르드  190 NaN\n",
       "3  원더우먼  27  공주  데미스키라  178 NaN"
      ]
     },
     "execution_count": 165,
     "metadata": {},
     "output_type": "execute_result"
    }
   ],
   "source": [
    "df[df['재산'].isnull()] # 결측치가 존재하는 행"
   ]
  },
  {
   "cell_type": "code",
   "execution_count": 166,
   "id": "29937d98",
   "metadata": {},
   "outputs": [
    {
     "data": {
      "text/plain": [
       "이름    0\n",
       "나이    0\n",
       "직업    0\n",
       "국적    0\n",
       "키     0\n",
       "재산    2\n",
       "dtype: int64"
      ]
     },
     "execution_count": 166,
     "metadata": {},
     "output_type": "execute_result"
    }
   ],
   "source": [
    "df.isnull().sum() # 컬럼별 null의 수"
   ]
  },
  {
   "cell_type": "code",
   "execution_count": 167,
   "id": "d1329bbe",
   "metadata": {},
   "outputs": [
    {
     "data": {
      "text/html": [
       "<div>\n",
       "<style scoped>\n",
       "    .dataframe tbody tr th:only-of-type {\n",
       "        vertical-align: middle;\n",
       "    }\n",
       "\n",
       "    .dataframe tbody tr th {\n",
       "        vertical-align: top;\n",
       "    }\n",
       "\n",
       "    .dataframe thead th {\n",
       "        text-align: right;\n",
       "    }\n",
       "</style>\n",
       "<table border=\"1\" class=\"dataframe\">\n",
       "  <thead>\n",
       "    <tr style=\"text-align: right;\">\n",
       "      <th></th>\n",
       "      <th>이름</th>\n",
       "      <th>나이</th>\n",
       "      <th>직업</th>\n",
       "      <th>국적</th>\n",
       "      <th>키</th>\n",
       "      <th>재산</th>\n",
       "    </tr>\n",
       "  </thead>\n",
       "  <tbody>\n",
       "    <tr>\n",
       "      <th>0</th>\n",
       "      <td>아이언맨</td>\n",
       "      <td>58</td>\n",
       "      <td>CEO</td>\n",
       "      <td>미국</td>\n",
       "      <td>174</td>\n",
       "      <td>11500000000000</td>\n",
       "    </tr>\n",
       "    <tr>\n",
       "      <th>2</th>\n",
       "      <td>스파이더맨</td>\n",
       "      <td>18</td>\n",
       "      <td>고등학생</td>\n",
       "      <td>미국</td>\n",
       "      <td>177</td>\n",
       "      <td>600</td>\n",
       "    </tr>\n",
       "    <tr>\n",
       "      <th>4</th>\n",
       "      <td>헐크</td>\n",
       "      <td>33</td>\n",
       "      <td>핵물리학자</td>\n",
       "      <td>미국</td>\n",
       "      <td>270</td>\n",
       "      <td>1000000000</td>\n",
       "    </tr>\n",
       "    <tr>\n",
       "      <th>5</th>\n",
       "      <td>캡틴마블</td>\n",
       "      <td>25</td>\n",
       "      <td>파일럿</td>\n",
       "      <td>미국</td>\n",
       "      <td>170</td>\n",
       "      <td>340000000</td>\n",
       "    </tr>\n",
       "    <tr>\n",
       "      <th>6</th>\n",
       "      <td>블랙위도우</td>\n",
       "      <td>32</td>\n",
       "      <td>스파이</td>\n",
       "      <td>러시아</td>\n",
       "      <td>170</td>\n",
       "      <td>50000000</td>\n",
       "    </tr>\n",
       "  </tbody>\n",
       "</table>\n",
       "</div>"
      ],
      "text/plain": [
       "      이름  나이     직업   국적    키             재산\n",
       "0   아이언맨  58    CEO   미국  174 11500000000000\n",
       "2  스파이더맨  18   고등학생   미국  177            600\n",
       "4     헐크  33  핵물리학자   미국  270     1000000000\n",
       "5   캡틴마블  25    파일럿   미국  170      340000000\n",
       "6  블랙위도우  32    스파이  러시아  170       50000000"
      ]
     },
     "execution_count": 167,
     "metadata": {},
     "output_type": "execute_result"
    }
   ],
   "source": [
    "df.dropna() # 결측치가 존재하는 행 삭제"
   ]
  },
  {
   "cell_type": "code",
   "execution_count": 168,
   "id": "9fa90ebb",
   "metadata": {},
   "outputs": [
    {
     "data": {
      "text/html": [
       "<div>\n",
       "<style scoped>\n",
       "    .dataframe tbody tr th:only-of-type {\n",
       "        vertical-align: middle;\n",
       "    }\n",
       "\n",
       "    .dataframe tbody tr th {\n",
       "        vertical-align: top;\n",
       "    }\n",
       "\n",
       "    .dataframe thead th {\n",
       "        text-align: right;\n",
       "    }\n",
       "</style>\n",
       "<table border=\"1\" class=\"dataframe\">\n",
       "  <thead>\n",
       "    <tr style=\"text-align: right;\">\n",
       "      <th></th>\n",
       "      <th>이름</th>\n",
       "      <th>나이</th>\n",
       "      <th>직업</th>\n",
       "      <th>국적</th>\n",
       "      <th>키</th>\n",
       "      <th>재산</th>\n",
       "    </tr>\n",
       "  </thead>\n",
       "  <tbody>\n",
       "    <tr>\n",
       "      <th>0</th>\n",
       "      <td>아이언맨</td>\n",
       "      <td>58</td>\n",
       "      <td>CEO</td>\n",
       "      <td>미국</td>\n",
       "      <td>174</td>\n",
       "      <td>11500000000000</td>\n",
       "    </tr>\n",
       "    <tr>\n",
       "      <th>2</th>\n",
       "      <td>스파이더맨</td>\n",
       "      <td>18</td>\n",
       "      <td>고등학생</td>\n",
       "      <td>미국</td>\n",
       "      <td>177</td>\n",
       "      <td>600</td>\n",
       "    </tr>\n",
       "    <tr>\n",
       "      <th>4</th>\n",
       "      <td>헐크</td>\n",
       "      <td>33</td>\n",
       "      <td>핵물리학자</td>\n",
       "      <td>미국</td>\n",
       "      <td>270</td>\n",
       "      <td>1000000000</td>\n",
       "    </tr>\n",
       "    <tr>\n",
       "      <th>5</th>\n",
       "      <td>캡틴마블</td>\n",
       "      <td>25</td>\n",
       "      <td>파일럿</td>\n",
       "      <td>미국</td>\n",
       "      <td>170</td>\n",
       "      <td>340000000</td>\n",
       "    </tr>\n",
       "    <tr>\n",
       "      <th>6</th>\n",
       "      <td>블랙위도우</td>\n",
       "      <td>32</td>\n",
       "      <td>스파이</td>\n",
       "      <td>러시아</td>\n",
       "      <td>170</td>\n",
       "      <td>50000000</td>\n",
       "    </tr>\n",
       "  </tbody>\n",
       "</table>\n",
       "</div>"
      ],
      "text/plain": [
       "      이름  나이     직업   국적    키             재산\n",
       "0   아이언맨  58    CEO   미국  174 11500000000000\n",
       "2  스파이더맨  18   고등학생   미국  177            600\n",
       "4     헐크  33  핵물리학자   미국  270     1000000000\n",
       "5   캡틴마블  25    파일럿   미국  170      340000000\n",
       "6  블랙위도우  32    스파이  러시아  170       50000000"
      ]
     },
     "execution_count": 168,
     "metadata": {},
     "output_type": "execute_result"
    }
   ],
   "source": [
    "df = df.dropna()\n",
    "df"
   ]
  },
  {
   "cell_type": "code",
   "execution_count": 169,
   "id": "d79bd1d4",
   "metadata": {},
   "outputs": [
    {
     "data": {
      "text/html": [
       "<div>\n",
       "<style scoped>\n",
       "    .dataframe tbody tr th:only-of-type {\n",
       "        vertical-align: middle;\n",
       "    }\n",
       "\n",
       "    .dataframe tbody tr th {\n",
       "        vertical-align: top;\n",
       "    }\n",
       "\n",
       "    .dataframe thead th {\n",
       "        text-align: right;\n",
       "    }\n",
       "</style>\n",
       "<table border=\"1\" class=\"dataframe\">\n",
       "  <thead>\n",
       "    <tr style=\"text-align: right;\">\n",
       "      <th></th>\n",
       "      <th>이름</th>\n",
       "      <th>나이</th>\n",
       "      <th>직업</th>\n",
       "      <th>국적</th>\n",
       "      <th>키</th>\n",
       "      <th>재산</th>\n",
       "    </tr>\n",
       "  </thead>\n",
       "  <tbody>\n",
       "    <tr>\n",
       "      <th>0</th>\n",
       "      <td>아이언맨</td>\n",
       "      <td>58</td>\n",
       "      <td>CEO</td>\n",
       "      <td>미국</td>\n",
       "      <td>174</td>\n",
       "      <td>11500000000000</td>\n",
       "    </tr>\n",
       "    <tr>\n",
       "      <th>2</th>\n",
       "      <td>스파이더맨</td>\n",
       "      <td>18</td>\n",
       "      <td>고등학생</td>\n",
       "      <td>미국</td>\n",
       "      <td>177</td>\n",
       "      <td>600</td>\n",
       "    </tr>\n",
       "    <tr>\n",
       "      <th>4</th>\n",
       "      <td>헐크</td>\n",
       "      <td>33</td>\n",
       "      <td>핵물리학자</td>\n",
       "      <td>미국</td>\n",
       "      <td>270</td>\n",
       "      <td>1000000000</td>\n",
       "    </tr>\n",
       "    <tr>\n",
       "      <th>5</th>\n",
       "      <td>캡틴마블</td>\n",
       "      <td>25</td>\n",
       "      <td>파일럿</td>\n",
       "      <td>미국</td>\n",
       "      <td>170</td>\n",
       "      <td>340000000</td>\n",
       "    </tr>\n",
       "    <tr>\n",
       "      <th>6</th>\n",
       "      <td>블랙위도우</td>\n",
       "      <td>32</td>\n",
       "      <td>스파이</td>\n",
       "      <td>러시아</td>\n",
       "      <td>170</td>\n",
       "      <td>50000000</td>\n",
       "    </tr>\n",
       "  </tbody>\n",
       "</table>\n",
       "</div>"
      ],
      "text/plain": [
       "      이름  나이     직업   국적    키             재산\n",
       "0   아이언맨  58    CEO   미국  174 11500000000000\n",
       "2  스파이더맨  18   고등학생   미국  177            600\n",
       "4     헐크  33  핵물리학자   미국  270     1000000000\n",
       "5   캡틴마블  25    파일럿   미국  170      340000000\n",
       "6  블랙위도우  32    스파이  러시아  170       50000000"
      ]
     },
     "execution_count": 169,
     "metadata": {},
     "output_type": "execute_result"
    }
   ],
   "source": [
    "df"
   ]
  },
  {
   "cell_type": "markdown",
   "id": "dc1c21db",
   "metadata": {},
   "source": [
    "여기서부터 파일 혹은 강의 보고 다시 체크... 오류남 (계속)"
   ]
  },
  {
   "cell_type": "code",
   "execution_count": 266,
   "id": "805fb017",
   "metadata": {},
   "outputs": [],
   "source": [
    "df = pd.read_csv('heroes.csv')"
   ]
  },
  {
   "cell_type": "code",
   "execution_count": 267,
   "id": "3c56cb33",
   "metadata": {},
   "outputs": [
    {
     "data": {
      "text/html": [
       "<div>\n",
       "<style scoped>\n",
       "    .dataframe tbody tr th:only-of-type {\n",
       "        vertical-align: middle;\n",
       "    }\n",
       "\n",
       "    .dataframe tbody tr th {\n",
       "        vertical-align: top;\n",
       "    }\n",
       "\n",
       "    .dataframe thead th {\n",
       "        text-align: right;\n",
       "    }\n",
       "</style>\n",
       "<table border=\"1\" class=\"dataframe\">\n",
       "  <thead>\n",
       "    <tr style=\"text-align: right;\">\n",
       "      <th></th>\n",
       "      <th>이름</th>\n",
       "      <th>나이</th>\n",
       "      <th>직업</th>\n",
       "      <th>국적</th>\n",
       "      <th>키</th>\n",
       "      <th>재산</th>\n",
       "    </tr>\n",
       "  </thead>\n",
       "  <tbody>\n",
       "    <tr>\n",
       "      <th>0</th>\n",
       "      <td>아이언맨</td>\n",
       "      <td>58</td>\n",
       "      <td>CEO</td>\n",
       "      <td>미국</td>\n",
       "      <td>174</td>\n",
       "      <td>11500000000000</td>\n",
       "    </tr>\n",
       "    <tr>\n",
       "      <th>1</th>\n",
       "      <td>토르</td>\n",
       "      <td>45</td>\n",
       "      <td>신</td>\n",
       "      <td>아스가르드</td>\n",
       "      <td>190</td>\n",
       "      <td>NaN</td>\n",
       "    </tr>\n",
       "    <tr>\n",
       "      <th>2</th>\n",
       "      <td>스파이더맨</td>\n",
       "      <td>18</td>\n",
       "      <td>고등학생</td>\n",
       "      <td>미국</td>\n",
       "      <td>177</td>\n",
       "      <td>600</td>\n",
       "    </tr>\n",
       "    <tr>\n",
       "      <th>3</th>\n",
       "      <td>원더우먼</td>\n",
       "      <td>27</td>\n",
       "      <td>공주</td>\n",
       "      <td>데미스키라</td>\n",
       "      <td>178</td>\n",
       "      <td>NaN</td>\n",
       "    </tr>\n",
       "    <tr>\n",
       "      <th>4</th>\n",
       "      <td>헐크</td>\n",
       "      <td>33</td>\n",
       "      <td>핵물리학자</td>\n",
       "      <td>미국</td>\n",
       "      <td>270</td>\n",
       "      <td>1000000000</td>\n",
       "    </tr>\n",
       "    <tr>\n",
       "      <th>5</th>\n",
       "      <td>캡틴마블</td>\n",
       "      <td>25</td>\n",
       "      <td>파일럿</td>\n",
       "      <td>미국</td>\n",
       "      <td>170</td>\n",
       "      <td>340000000</td>\n",
       "    </tr>\n",
       "    <tr>\n",
       "      <th>6</th>\n",
       "      <td>블랙위도우</td>\n",
       "      <td>32</td>\n",
       "      <td>스파이</td>\n",
       "      <td>러시아</td>\n",
       "      <td>170</td>\n",
       "      <td>50000000</td>\n",
       "    </tr>\n",
       "  </tbody>\n",
       "</table>\n",
       "</div>"
      ],
      "text/plain": [
       "      이름  나이     직업     국적    키             재산\n",
       "0   아이언맨  58    CEO     미국  174 11500000000000\n",
       "1     토르  45      신  아스가르드  190            NaN\n",
       "2  스파이더맨  18   고등학생     미국  177            600\n",
       "3   원더우먼  27     공주  데미스키라  178            NaN\n",
       "4     헐크  33  핵물리학자     미국  270     1000000000\n",
       "5   캡틴마블  25    파일럿     미국  170      340000000\n",
       "6  블랙위도우  32    스파이    러시아  170       50000000"
      ]
     },
     "execution_count": 267,
     "metadata": {},
     "output_type": "execute_result"
    }
   ],
   "source": [
    "df"
   ]
  },
  {
   "cell_type": "code",
   "execution_count": 268,
   "id": "1cb68ad1",
   "metadata": {},
   "outputs": [
    {
     "data": {
      "text/plain": [
       "np.float64(2300278000120.0)"
      ]
     },
     "execution_count": 268,
     "metadata": {},
     "output_type": "execute_result"
    }
   ],
   "source": [
    "df['재산'].mean()"
   ]
  },
  {
   "cell_type": "code",
   "execution_count": 269,
   "id": "df44328d",
   "metadata": {},
   "outputs": [
    {
     "data": {
      "text/plain": [
       "0   11500000000000\n",
       "1    2300278000120\n",
       "2              600\n",
       "3    2300278000120\n",
       "4       1000000000\n",
       "5        340000000\n",
       "6         50000000\n",
       "Name: 재산, dtype: float64"
      ]
     },
     "execution_count": 269,
     "metadata": {},
     "output_type": "execute_result"
    }
   ],
   "source": [
    "df['재산'].fillna(df['재산'].mean()) # 결측치를 mean 으로 채우기"
   ]
  },
  {
   "cell_type": "code",
   "execution_count": 270,
   "id": "ae4157c4",
   "metadata": {},
   "outputs": [],
   "source": [
    "df['재산'] = df['재산'].fillna(df['재산'].mean())"
   ]
  },
  {
   "cell_type": "code",
   "execution_count": 271,
   "id": "38cdc21b",
   "metadata": {},
   "outputs": [
    {
     "data": {
      "text/html": [
       "<div>\n",
       "<style scoped>\n",
       "    .dataframe tbody tr th:only-of-type {\n",
       "        vertical-align: middle;\n",
       "    }\n",
       "\n",
       "    .dataframe tbody tr th {\n",
       "        vertical-align: top;\n",
       "    }\n",
       "\n",
       "    .dataframe thead th {\n",
       "        text-align: right;\n",
       "    }\n",
       "</style>\n",
       "<table border=\"1\" class=\"dataframe\">\n",
       "  <thead>\n",
       "    <tr style=\"text-align: right;\">\n",
       "      <th></th>\n",
       "      <th>이름</th>\n",
       "      <th>나이</th>\n",
       "      <th>직업</th>\n",
       "      <th>국적</th>\n",
       "      <th>키</th>\n",
       "      <th>재산</th>\n",
       "    </tr>\n",
       "  </thead>\n",
       "  <tbody>\n",
       "    <tr>\n",
       "      <th>0</th>\n",
       "      <td>아이언맨</td>\n",
       "      <td>58</td>\n",
       "      <td>CEO</td>\n",
       "      <td>미국</td>\n",
       "      <td>174</td>\n",
       "      <td>11500000000000</td>\n",
       "    </tr>\n",
       "    <tr>\n",
       "      <th>1</th>\n",
       "      <td>토르</td>\n",
       "      <td>45</td>\n",
       "      <td>신</td>\n",
       "      <td>아스가르드</td>\n",
       "      <td>190</td>\n",
       "      <td>2300278000120</td>\n",
       "    </tr>\n",
       "    <tr>\n",
       "      <th>2</th>\n",
       "      <td>스파이더맨</td>\n",
       "      <td>18</td>\n",
       "      <td>고등학생</td>\n",
       "      <td>미국</td>\n",
       "      <td>177</td>\n",
       "      <td>600</td>\n",
       "    </tr>\n",
       "    <tr>\n",
       "      <th>3</th>\n",
       "      <td>원더우먼</td>\n",
       "      <td>27</td>\n",
       "      <td>공주</td>\n",
       "      <td>데미스키라</td>\n",
       "      <td>178</td>\n",
       "      <td>2300278000120</td>\n",
       "    </tr>\n",
       "    <tr>\n",
       "      <th>4</th>\n",
       "      <td>헐크</td>\n",
       "      <td>33</td>\n",
       "      <td>핵물리학자</td>\n",
       "      <td>미국</td>\n",
       "      <td>270</td>\n",
       "      <td>1000000000</td>\n",
       "    </tr>\n",
       "    <tr>\n",
       "      <th>5</th>\n",
       "      <td>캡틴마블</td>\n",
       "      <td>25</td>\n",
       "      <td>파일럿</td>\n",
       "      <td>미국</td>\n",
       "      <td>170</td>\n",
       "      <td>340000000</td>\n",
       "    </tr>\n",
       "    <tr>\n",
       "      <th>6</th>\n",
       "      <td>블랙위도우</td>\n",
       "      <td>32</td>\n",
       "      <td>스파이</td>\n",
       "      <td>러시아</td>\n",
       "      <td>170</td>\n",
       "      <td>50000000</td>\n",
       "    </tr>\n",
       "  </tbody>\n",
       "</table>\n",
       "</div>"
      ],
      "text/plain": [
       "      이름  나이     직업     국적    키             재산\n",
       "0   아이언맨  58    CEO     미국  174 11500000000000\n",
       "1     토르  45      신  아스가르드  190  2300278000120\n",
       "2  스파이더맨  18   고등학생     미국  177            600\n",
       "3   원더우먼  27     공주  데미스키라  178  2300278000120\n",
       "4     헐크  33  핵물리학자     미국  270     1000000000\n",
       "5   캡틴마블  25    파일럿     미국  170      340000000\n",
       "6  블랙위도우  32    스파이    러시아  170       50000000"
      ]
     },
     "execution_count": 271,
     "metadata": {},
     "output_type": "execute_result"
    }
   ],
   "source": [
    "df"
   ]
  },
  {
   "cell_type": "code",
   "execution_count": 297,
   "id": "e0785168",
   "metadata": {},
   "outputs": [
    {
     "name": "stderr",
     "output_type": "stream",
     "text": [
      "C:\\Users\\EL65\\AppData\\Local\\Temp\\ipykernel_12436\\2161014082.py:1: FutureWarning: DataFrame.fillna with 'method' is deprecated and will raise in a future version. Use obj.ffill() or obj.bfill() instead.\n",
      "  df.fillna(method='ffill') # 이전 값으로 채움\n"
     ]
    },
    {
     "data": {
      "text/html": [
       "<div>\n",
       "<style scoped>\n",
       "    .dataframe tbody tr th:only-of-type {\n",
       "        vertical-align: middle;\n",
       "    }\n",
       "\n",
       "    .dataframe tbody tr th {\n",
       "        vertical-align: top;\n",
       "    }\n",
       "\n",
       "    .dataframe thead th {\n",
       "        text-align: right;\n",
       "    }\n",
       "</style>\n",
       "<table border=\"1\" class=\"dataframe\">\n",
       "  <thead>\n",
       "    <tr style=\"text-align: right;\">\n",
       "      <th></th>\n",
       "      <th>이름</th>\n",
       "      <th>나이</th>\n",
       "      <th>직업</th>\n",
       "      <th>국적</th>\n",
       "      <th>키</th>\n",
       "      <th>재산</th>\n",
       "    </tr>\n",
       "  </thead>\n",
       "  <tbody>\n",
       "    <tr>\n",
       "      <th>0</th>\n",
       "      <td>아이언맨</td>\n",
       "      <td>58</td>\n",
       "      <td>CEO</td>\n",
       "      <td>미국</td>\n",
       "      <td>174</td>\n",
       "      <td>11500000000000</td>\n",
       "    </tr>\n",
       "    <tr>\n",
       "      <th>1</th>\n",
       "      <td>토르</td>\n",
       "      <td>45</td>\n",
       "      <td>신</td>\n",
       "      <td>아스가르드</td>\n",
       "      <td>190</td>\n",
       "      <td>2300278000120</td>\n",
       "    </tr>\n",
       "    <tr>\n",
       "      <th>2</th>\n",
       "      <td>스파이더맨</td>\n",
       "      <td>18</td>\n",
       "      <td>고등학생</td>\n",
       "      <td>미국</td>\n",
       "      <td>177</td>\n",
       "      <td>600</td>\n",
       "    </tr>\n",
       "    <tr>\n",
       "      <th>3</th>\n",
       "      <td>원더우먼</td>\n",
       "      <td>27</td>\n",
       "      <td>공주</td>\n",
       "      <td>데미스키라</td>\n",
       "      <td>178</td>\n",
       "      <td>2300278000120</td>\n",
       "    </tr>\n",
       "    <tr>\n",
       "      <th>4</th>\n",
       "      <td>헐크</td>\n",
       "      <td>33</td>\n",
       "      <td>핵물리학자</td>\n",
       "      <td>미국</td>\n",
       "      <td>270</td>\n",
       "      <td>1000000000</td>\n",
       "    </tr>\n",
       "    <tr>\n",
       "      <th>5</th>\n",
       "      <td>캡틴마블</td>\n",
       "      <td>33</td>\n",
       "      <td>파일럿</td>\n",
       "      <td>미국</td>\n",
       "      <td>170</td>\n",
       "      <td>340000000</td>\n",
       "    </tr>\n",
       "    <tr>\n",
       "      <th>6</th>\n",
       "      <td>블랙위도우</td>\n",
       "      <td>32</td>\n",
       "      <td>스파이</td>\n",
       "      <td>러시아</td>\n",
       "      <td>170</td>\n",
       "      <td>50000000</td>\n",
       "    </tr>\n",
       "  </tbody>\n",
       "</table>\n",
       "</div>"
      ],
      "text/plain": [
       "      이름  나이     직업     국적    키             재산\n",
       "0   아이언맨  58    CEO     미국  174 11500000000000\n",
       "1     토르  45      신  아스가르드  190  2300278000120\n",
       "2  스파이더맨  18   고등학생     미국  177            600\n",
       "3   원더우먼  27     공주  데미스키라  178  2300278000120\n",
       "4     헐크  33  핵물리학자     미국  270     1000000000\n",
       "5   캡틴마블  33    파일럿     미국  170      340000000\n",
       "6  블랙위도우  32    스파이    러시아  170       50000000"
      ]
     },
     "execution_count": 297,
     "metadata": {},
     "output_type": "execute_result"
    }
   ],
   "source": [
    "df.fillna(method='ffill') # 이전 값으로 채움"
   ]
  },
  {
   "cell_type": "code",
   "execution_count": 298,
   "id": "ee1f6f74",
   "metadata": {},
   "outputs": [
    {
     "name": "stderr",
     "output_type": "stream",
     "text": [
      "C:\\Users\\EL65\\AppData\\Local\\Temp\\ipykernel_12436\\903477262.py:1: FutureWarning: DataFrame.fillna with 'method' is deprecated and will raise in a future version. Use obj.ffill() or obj.bfill() instead.\n",
      "  df = df.fillna(method='ffill')\n",
      "C:\\Users\\EL65\\AppData\\Local\\Temp\\ipykernel_12436\\903477262.py:2: FutureWarning: DataFrame.fillna with 'method' is deprecated and will raise in a future version. Use obj.ffill() or obj.bfill() instead.\n",
      "  df.fillna(method='ffill', inplace=True)\n"
     ]
    }
   ],
   "source": [
    "df = df.fillna(method='ffill')\n",
    "df.fillna(method='ffill', inplace=True)"
   ]
  },
  {
   "cell_type": "code",
   "execution_count": 303,
   "id": "5586cd1f",
   "metadata": {},
   "outputs": [
    {
     "data": {
      "text/plain": [
       "nan"
      ]
     },
     "execution_count": 303,
     "metadata": {},
     "output_type": "execute_result"
    }
   ],
   "source": [
    "df.iloc[5, 1] = np.nan # 결측값 할당\n",
    "np.nan"
   ]
  },
  {
   "cell_type": "code",
   "execution_count": 304,
   "id": "e133685e",
   "metadata": {},
   "outputs": [
    {
     "data": {
      "text/html": [
       "<div>\n",
       "<style scoped>\n",
       "    .dataframe tbody tr th:only-of-type {\n",
       "        vertical-align: middle;\n",
       "    }\n",
       "\n",
       "    .dataframe tbody tr th {\n",
       "        vertical-align: top;\n",
       "    }\n",
       "\n",
       "    .dataframe thead th {\n",
       "        text-align: right;\n",
       "    }\n",
       "</style>\n",
       "<table border=\"1\" class=\"dataframe\">\n",
       "  <thead>\n",
       "    <tr style=\"text-align: right;\">\n",
       "      <th></th>\n",
       "      <th>이름</th>\n",
       "      <th>나이</th>\n",
       "      <th>직업</th>\n",
       "      <th>국적</th>\n",
       "      <th>키</th>\n",
       "      <th>재산</th>\n",
       "    </tr>\n",
       "  </thead>\n",
       "  <tbody>\n",
       "    <tr>\n",
       "      <th>0</th>\n",
       "      <td>아이언맨</td>\n",
       "      <td>58</td>\n",
       "      <td>CEO</td>\n",
       "      <td>미국</td>\n",
       "      <td>174</td>\n",
       "      <td>11500000000000</td>\n",
       "    </tr>\n",
       "    <tr>\n",
       "      <th>1</th>\n",
       "      <td>토르</td>\n",
       "      <td>45</td>\n",
       "      <td>신</td>\n",
       "      <td>아스가르드</td>\n",
       "      <td>190</td>\n",
       "      <td>2300278000120</td>\n",
       "    </tr>\n",
       "    <tr>\n",
       "      <th>2</th>\n",
       "      <td>스파이더맨</td>\n",
       "      <td>18</td>\n",
       "      <td>고등학생</td>\n",
       "      <td>미국</td>\n",
       "      <td>177</td>\n",
       "      <td>600</td>\n",
       "    </tr>\n",
       "    <tr>\n",
       "      <th>3</th>\n",
       "      <td>원더우먼</td>\n",
       "      <td>27</td>\n",
       "      <td>공주</td>\n",
       "      <td>데미스키라</td>\n",
       "      <td>178</td>\n",
       "      <td>2300278000120</td>\n",
       "    </tr>\n",
       "    <tr>\n",
       "      <th>4</th>\n",
       "      <td>헐크</td>\n",
       "      <td>33</td>\n",
       "      <td>핵물리학자</td>\n",
       "      <td>미국</td>\n",
       "      <td>270</td>\n",
       "      <td>1000000000</td>\n",
       "    </tr>\n",
       "    <tr>\n",
       "      <th>5</th>\n",
       "      <td>캡틴마블</td>\n",
       "      <td>NaN</td>\n",
       "      <td>파일럿</td>\n",
       "      <td>미국</td>\n",
       "      <td>170</td>\n",
       "      <td>340000000</td>\n",
       "    </tr>\n",
       "    <tr>\n",
       "      <th>6</th>\n",
       "      <td>블랙위도우</td>\n",
       "      <td>32</td>\n",
       "      <td>스파이</td>\n",
       "      <td>러시아</td>\n",
       "      <td>170</td>\n",
       "      <td>50000000</td>\n",
       "    </tr>\n",
       "  </tbody>\n",
       "</table>\n",
       "</div>"
      ],
      "text/plain": [
       "      이름  나이     직업     국적    키             재산\n",
       "0   아이언맨  58    CEO     미국  174 11500000000000\n",
       "1     토르  45      신  아스가르드  190  2300278000120\n",
       "2  스파이더맨  18   고등학생     미국  177            600\n",
       "3   원더우먼  27     공주  데미스키라  178  2300278000120\n",
       "4     헐크  33  핵물리학자     미국  270     1000000000\n",
       "5   캡틴마블 NaN    파일럿     미국  170      340000000\n",
       "6  블랙위도우  32    스파이    러시아  170       50000000"
      ]
     },
     "execution_count": 304,
     "metadata": {},
     "output_type": "execute_result"
    }
   ],
   "source": [
    "df"
   ]
  },
  {
   "cell_type": "code",
   "execution_count": 305,
   "id": "2c8b674a",
   "metadata": {},
   "outputs": [],
   "source": [
    "# 나이의 평균값으로 결측치 채우기\n",
    "\n",
    "df['나이'].mean()\n",
    "df['나이'].fillna(df['나이'].mean())\n",
    "df['나이'] = df['나이'].fillna(df['나이'].mean())"
   ]
  },
  {
   "cell_type": "code",
   "execution_count": 306,
   "id": "9d73d8a5",
   "metadata": {},
   "outputs": [
    {
     "data": {
      "text/html": [
       "<div>\n",
       "<style scoped>\n",
       "    .dataframe tbody tr th:only-of-type {\n",
       "        vertical-align: middle;\n",
       "    }\n",
       "\n",
       "    .dataframe tbody tr th {\n",
       "        vertical-align: top;\n",
       "    }\n",
       "\n",
       "    .dataframe thead th {\n",
       "        text-align: right;\n",
       "    }\n",
       "</style>\n",
       "<table border=\"1\" class=\"dataframe\">\n",
       "  <thead>\n",
       "    <tr style=\"text-align: right;\">\n",
       "      <th></th>\n",
       "      <th>이름</th>\n",
       "      <th>나이</th>\n",
       "      <th>직업</th>\n",
       "      <th>국적</th>\n",
       "      <th>키</th>\n",
       "      <th>재산</th>\n",
       "    </tr>\n",
       "  </thead>\n",
       "  <tbody>\n",
       "    <tr>\n",
       "      <th>0</th>\n",
       "      <td>아이언맨</td>\n",
       "      <td>58</td>\n",
       "      <td>CEO</td>\n",
       "      <td>미국</td>\n",
       "      <td>174</td>\n",
       "      <td>11500000000000</td>\n",
       "    </tr>\n",
       "    <tr>\n",
       "      <th>1</th>\n",
       "      <td>토르</td>\n",
       "      <td>45</td>\n",
       "      <td>신</td>\n",
       "      <td>아스가르드</td>\n",
       "      <td>190</td>\n",
       "      <td>2300278000120</td>\n",
       "    </tr>\n",
       "    <tr>\n",
       "      <th>2</th>\n",
       "      <td>스파이더맨</td>\n",
       "      <td>18</td>\n",
       "      <td>고등학생</td>\n",
       "      <td>미국</td>\n",
       "      <td>177</td>\n",
       "      <td>600</td>\n",
       "    </tr>\n",
       "    <tr>\n",
       "      <th>3</th>\n",
       "      <td>원더우먼</td>\n",
       "      <td>27</td>\n",
       "      <td>공주</td>\n",
       "      <td>데미스키라</td>\n",
       "      <td>178</td>\n",
       "      <td>2300278000120</td>\n",
       "    </tr>\n",
       "    <tr>\n",
       "      <th>4</th>\n",
       "      <td>헐크</td>\n",
       "      <td>33</td>\n",
       "      <td>핵물리학자</td>\n",
       "      <td>미국</td>\n",
       "      <td>270</td>\n",
       "      <td>1000000000</td>\n",
       "    </tr>\n",
       "    <tr>\n",
       "      <th>5</th>\n",
       "      <td>캡틴마블</td>\n",
       "      <td>36</td>\n",
       "      <td>파일럿</td>\n",
       "      <td>미국</td>\n",
       "      <td>170</td>\n",
       "      <td>340000000</td>\n",
       "    </tr>\n",
       "    <tr>\n",
       "      <th>6</th>\n",
       "      <td>블랙위도우</td>\n",
       "      <td>32</td>\n",
       "      <td>스파이</td>\n",
       "      <td>러시아</td>\n",
       "      <td>170</td>\n",
       "      <td>50000000</td>\n",
       "    </tr>\n",
       "  </tbody>\n",
       "</table>\n",
       "</div>"
      ],
      "text/plain": [
       "      이름  나이     직업     국적    키             재산\n",
       "0   아이언맨  58    CEO     미국  174 11500000000000\n",
       "1     토르  45      신  아스가르드  190  2300278000120\n",
       "2  스파이더맨  18   고등학생     미국  177            600\n",
       "3   원더우먼  27     공주  데미스키라  178  2300278000120\n",
       "4     헐크  33  핵물리학자     미국  270     1000000000\n",
       "5   캡틴마블  36    파일럿     미국  170      340000000\n",
       "6  블랙위도우  32    스파이    러시아  170       50000000"
      ]
     },
     "execution_count": 306,
     "metadata": {},
     "output_type": "execute_result"
    }
   ],
   "source": [
    "df"
   ]
  },
  {
   "cell_type": "code",
   "execution_count": 307,
   "id": "f8932c9c",
   "metadata": {},
   "outputs": [
    {
     "data": {
      "text/plain": [
       "0    174cm\n",
       "1    190cm\n",
       "2    177cm\n",
       "3    178cm\n",
       "4    270cm\n",
       "5    170cm\n",
       "6    170cm\n",
       "Name: 키, dtype: object"
      ]
     },
     "execution_count": 307,
     "metadata": {},
     "output_type": "execute_result"
    }
   ],
   "source": [
    "# 키 뒤 cm 추가\n",
    "\n",
    "# 함수 사용\n",
    "def add_cm(height):\n",
    "    return str(height) + \"cm\" # 키는 int, 숫자형 데이터로 할당되어 있음. + 문자열을 추가하기 위하여 str 형변환\n",
    "\n",
    "df['키'].apply(add_cm)\n",
    "\n",
    "\n",
    "# lambda 사용\n",
    "df['키'].apply(lambda a: str(a)+'cm')"
   ]
  },
  {
   "cell_type": "code",
   "execution_count": 308,
   "id": "107356fc",
   "metadata": {},
   "outputs": [],
   "source": [
    "df['키'] = df['키'].apply(add_cm)"
   ]
  },
  {
   "cell_type": "code",
   "execution_count": 309,
   "id": "8fea8b5e",
   "metadata": {},
   "outputs": [
    {
     "data": {
      "text/html": [
       "<div>\n",
       "<style scoped>\n",
       "    .dataframe tbody tr th:only-of-type {\n",
       "        vertical-align: middle;\n",
       "    }\n",
       "\n",
       "    .dataframe tbody tr th {\n",
       "        vertical-align: top;\n",
       "    }\n",
       "\n",
       "    .dataframe thead th {\n",
       "        text-align: right;\n",
       "    }\n",
       "</style>\n",
       "<table border=\"1\" class=\"dataframe\">\n",
       "  <thead>\n",
       "    <tr style=\"text-align: right;\">\n",
       "      <th></th>\n",
       "      <th>이름</th>\n",
       "      <th>나이</th>\n",
       "      <th>직업</th>\n",
       "      <th>국적</th>\n",
       "      <th>키</th>\n",
       "      <th>재산</th>\n",
       "    </tr>\n",
       "  </thead>\n",
       "  <tbody>\n",
       "    <tr>\n",
       "      <th>0</th>\n",
       "      <td>아이언맨</td>\n",
       "      <td>58</td>\n",
       "      <td>CEO</td>\n",
       "      <td>미국</td>\n",
       "      <td>174cm</td>\n",
       "      <td>11500000000000</td>\n",
       "    </tr>\n",
       "    <tr>\n",
       "      <th>1</th>\n",
       "      <td>토르</td>\n",
       "      <td>45</td>\n",
       "      <td>신</td>\n",
       "      <td>아스가르드</td>\n",
       "      <td>190cm</td>\n",
       "      <td>2300278000120</td>\n",
       "    </tr>\n",
       "    <tr>\n",
       "      <th>2</th>\n",
       "      <td>스파이더맨</td>\n",
       "      <td>18</td>\n",
       "      <td>고등학생</td>\n",
       "      <td>미국</td>\n",
       "      <td>177cm</td>\n",
       "      <td>600</td>\n",
       "    </tr>\n",
       "    <tr>\n",
       "      <th>3</th>\n",
       "      <td>원더우먼</td>\n",
       "      <td>27</td>\n",
       "      <td>공주</td>\n",
       "      <td>데미스키라</td>\n",
       "      <td>178cm</td>\n",
       "      <td>2300278000120</td>\n",
       "    </tr>\n",
       "    <tr>\n",
       "      <th>4</th>\n",
       "      <td>헐크</td>\n",
       "      <td>33</td>\n",
       "      <td>핵물리학자</td>\n",
       "      <td>미국</td>\n",
       "      <td>270cm</td>\n",
       "      <td>1000000000</td>\n",
       "    </tr>\n",
       "    <tr>\n",
       "      <th>5</th>\n",
       "      <td>캡틴마블</td>\n",
       "      <td>36</td>\n",
       "      <td>파일럿</td>\n",
       "      <td>미국</td>\n",
       "      <td>170cm</td>\n",
       "      <td>340000000</td>\n",
       "    </tr>\n",
       "    <tr>\n",
       "      <th>6</th>\n",
       "      <td>블랙위도우</td>\n",
       "      <td>32</td>\n",
       "      <td>스파이</td>\n",
       "      <td>러시아</td>\n",
       "      <td>170cm</td>\n",
       "      <td>50000000</td>\n",
       "    </tr>\n",
       "  </tbody>\n",
       "</table>\n",
       "</div>"
      ],
      "text/plain": [
       "      이름  나이     직업     국적      키             재산\n",
       "0   아이언맨  58    CEO     미국  174cm 11500000000000\n",
       "1     토르  45      신  아스가르드  190cm  2300278000120\n",
       "2  스파이더맨  18   고등학생     미국  177cm            600\n",
       "3   원더우먼  27     공주  데미스키라  178cm  2300278000120\n",
       "4     헐크  33  핵물리학자     미국  270cm     1000000000\n",
       "5   캡틴마블  36    파일럿     미국  170cm      340000000\n",
       "6  블랙위도우  32    스파이    러시아  170cm       50000000"
      ]
     },
     "execution_count": 309,
     "metadata": {},
     "output_type": "execute_result"
    }
   ],
   "source": [
    "df"
   ]
  },
  {
   "cell_type": "code",
   "execution_count": null,
   "id": "0a2d48aa",
   "metadata": {},
   "outputs": [],
   "source": [
    "# 만약 cm를 한 번 더 추가한 경우 -> 파이썬 영역"
   ]
  },
  {
   "cell_type": "code",
   "execution_count": 311,
   "id": "3311d4d6",
   "metadata": {},
   "outputs": [],
   "source": [
    "df['키'] = df['키'].apply(add_cm)"
   ]
  },
  {
   "cell_type": "code",
   "execution_count": 312,
   "id": "e7ee6343",
   "metadata": {},
   "outputs": [
    {
     "data": {
      "text/html": [
       "<div>\n",
       "<style scoped>\n",
       "    .dataframe tbody tr th:only-of-type {\n",
       "        vertical-align: middle;\n",
       "    }\n",
       "\n",
       "    .dataframe tbody tr th {\n",
       "        vertical-align: top;\n",
       "    }\n",
       "\n",
       "    .dataframe thead th {\n",
       "        text-align: right;\n",
       "    }\n",
       "</style>\n",
       "<table border=\"1\" class=\"dataframe\">\n",
       "  <thead>\n",
       "    <tr style=\"text-align: right;\">\n",
       "      <th></th>\n",
       "      <th>이름</th>\n",
       "      <th>나이</th>\n",
       "      <th>직업</th>\n",
       "      <th>국적</th>\n",
       "      <th>키</th>\n",
       "      <th>재산</th>\n",
       "    </tr>\n",
       "  </thead>\n",
       "  <tbody>\n",
       "    <tr>\n",
       "      <th>0</th>\n",
       "      <td>아이언맨</td>\n",
       "      <td>58</td>\n",
       "      <td>CEO</td>\n",
       "      <td>미국</td>\n",
       "      <td>174cmcm</td>\n",
       "      <td>11500000000000</td>\n",
       "    </tr>\n",
       "    <tr>\n",
       "      <th>1</th>\n",
       "      <td>토르</td>\n",
       "      <td>45</td>\n",
       "      <td>신</td>\n",
       "      <td>아스가르드</td>\n",
       "      <td>190cmcm</td>\n",
       "      <td>2300278000120</td>\n",
       "    </tr>\n",
       "    <tr>\n",
       "      <th>2</th>\n",
       "      <td>스파이더맨</td>\n",
       "      <td>18</td>\n",
       "      <td>고등학생</td>\n",
       "      <td>미국</td>\n",
       "      <td>177cmcm</td>\n",
       "      <td>600</td>\n",
       "    </tr>\n",
       "    <tr>\n",
       "      <th>3</th>\n",
       "      <td>원더우먼</td>\n",
       "      <td>27</td>\n",
       "      <td>공주</td>\n",
       "      <td>데미스키라</td>\n",
       "      <td>178cmcm</td>\n",
       "      <td>2300278000120</td>\n",
       "    </tr>\n",
       "    <tr>\n",
       "      <th>4</th>\n",
       "      <td>헐크</td>\n",
       "      <td>33</td>\n",
       "      <td>핵물리학자</td>\n",
       "      <td>미국</td>\n",
       "      <td>270cmcm</td>\n",
       "      <td>1000000000</td>\n",
       "    </tr>\n",
       "    <tr>\n",
       "      <th>5</th>\n",
       "      <td>캡틴마블</td>\n",
       "      <td>36</td>\n",
       "      <td>파일럿</td>\n",
       "      <td>미국</td>\n",
       "      <td>170cmcm</td>\n",
       "      <td>340000000</td>\n",
       "    </tr>\n",
       "    <tr>\n",
       "      <th>6</th>\n",
       "      <td>블랙위도우</td>\n",
       "      <td>32</td>\n",
       "      <td>스파이</td>\n",
       "      <td>러시아</td>\n",
       "      <td>170cmcm</td>\n",
       "      <td>50000000</td>\n",
       "    </tr>\n",
       "  </tbody>\n",
       "</table>\n",
       "</div>"
      ],
      "text/plain": [
       "      이름  나이     직업     국적        키             재산\n",
       "0   아이언맨  58    CEO     미국  174cmcm 11500000000000\n",
       "1     토르  45      신  아스가르드  190cmcm  2300278000120\n",
       "2  스파이더맨  18   고등학생     미국  177cmcm            600\n",
       "3   원더우먼  27     공주  데미스키라  178cmcm  2300278000120\n",
       "4     헐크  33  핵물리학자     미국  270cmcm     1000000000\n",
       "5   캡틴마블  36    파일럿     미국  170cmcm      340000000\n",
       "6  블랙위도우  32    스파이    러시아  170cmcm       50000000"
      ]
     },
     "execution_count": 312,
     "metadata": {},
     "output_type": "execute_result"
    }
   ],
   "source": [
    "df"
   ]
  },
  {
   "cell_type": "code",
   "execution_count": 313,
   "id": "2b1370be",
   "metadata": {},
   "outputs": [],
   "source": [
    "# # 함수 사용\n",
    "# def add_cm(a):\n",
    "#     return str(a) + \"cm\" # 키는 int, 숫자형 데이터로 할당되어 있음. + 문자열을 추가하기 위하여 str 형변환\n",
    "\n",
    "# df['키'].apply(add_cm)\n",
    "\n",
    "\n",
    "# # lambda 사용\n",
    "# df['키'].apply(lambda a: str(a)+'cm')\n",
    "\n",
    "def remove_cm(b):\n",
    "    part = b.replace('cmcm', '')\n",
    "    part_float = float(part)\n",
    "    return part # or part_float\n",
    "\n",
    "df['키'] = df['키'].apply(remove_cm)\n",
    "\n",
    "# cm 하나로 원상복귀 혹은 숫자로 원상복귀 둘 중 1 택"
   ]
  },
  {
   "cell_type": "code",
   "execution_count": 314,
   "id": "75b544c1",
   "metadata": {},
   "outputs": [
    {
     "data": {
      "text/html": [
       "<div>\n",
       "<style scoped>\n",
       "    .dataframe tbody tr th:only-of-type {\n",
       "        vertical-align: middle;\n",
       "    }\n",
       "\n",
       "    .dataframe tbody tr th {\n",
       "        vertical-align: top;\n",
       "    }\n",
       "\n",
       "    .dataframe thead th {\n",
       "        text-align: right;\n",
       "    }\n",
       "</style>\n",
       "<table border=\"1\" class=\"dataframe\">\n",
       "  <thead>\n",
       "    <tr style=\"text-align: right;\">\n",
       "      <th></th>\n",
       "      <th>이름</th>\n",
       "      <th>나이</th>\n",
       "      <th>직업</th>\n",
       "      <th>국적</th>\n",
       "      <th>키</th>\n",
       "      <th>재산</th>\n",
       "    </tr>\n",
       "  </thead>\n",
       "  <tbody>\n",
       "    <tr>\n",
       "      <th>0</th>\n",
       "      <td>아이언맨</td>\n",
       "      <td>58</td>\n",
       "      <td>CEO</td>\n",
       "      <td>미국</td>\n",
       "      <td>174</td>\n",
       "      <td>11500000000000</td>\n",
       "    </tr>\n",
       "    <tr>\n",
       "      <th>1</th>\n",
       "      <td>토르</td>\n",
       "      <td>45</td>\n",
       "      <td>신</td>\n",
       "      <td>아스가르드</td>\n",
       "      <td>190</td>\n",
       "      <td>2300278000120</td>\n",
       "    </tr>\n",
       "    <tr>\n",
       "      <th>2</th>\n",
       "      <td>스파이더맨</td>\n",
       "      <td>18</td>\n",
       "      <td>고등학생</td>\n",
       "      <td>미국</td>\n",
       "      <td>177</td>\n",
       "      <td>600</td>\n",
       "    </tr>\n",
       "    <tr>\n",
       "      <th>3</th>\n",
       "      <td>원더우먼</td>\n",
       "      <td>27</td>\n",
       "      <td>공주</td>\n",
       "      <td>데미스키라</td>\n",
       "      <td>178</td>\n",
       "      <td>2300278000120</td>\n",
       "    </tr>\n",
       "    <tr>\n",
       "      <th>4</th>\n",
       "      <td>헐크</td>\n",
       "      <td>33</td>\n",
       "      <td>핵물리학자</td>\n",
       "      <td>미국</td>\n",
       "      <td>270</td>\n",
       "      <td>1000000000</td>\n",
       "    </tr>\n",
       "    <tr>\n",
       "      <th>5</th>\n",
       "      <td>캡틴마블</td>\n",
       "      <td>36</td>\n",
       "      <td>파일럿</td>\n",
       "      <td>미국</td>\n",
       "      <td>170</td>\n",
       "      <td>340000000</td>\n",
       "    </tr>\n",
       "    <tr>\n",
       "      <th>6</th>\n",
       "      <td>블랙위도우</td>\n",
       "      <td>32</td>\n",
       "      <td>스파이</td>\n",
       "      <td>러시아</td>\n",
       "      <td>170</td>\n",
       "      <td>50000000</td>\n",
       "    </tr>\n",
       "  </tbody>\n",
       "</table>\n",
       "</div>"
      ],
      "text/plain": [
       "      이름  나이     직업     국적    키             재산\n",
       "0   아이언맨  58    CEO     미국  174 11500000000000\n",
       "1     토르  45      신  아스가르드  190  2300278000120\n",
       "2  스파이더맨  18   고등학생     미국  177            600\n",
       "3   원더우먼  27     공주  데미스키라  178  2300278000120\n",
       "4     헐크  33  핵물리학자     미국  270     1000000000\n",
       "5   캡틴마블  36    파일럿     미국  170      340000000\n",
       "6  블랙위도우  32    스파이    러시아  170       50000000"
      ]
     },
     "execution_count": 314,
     "metadata": {},
     "output_type": "execute_result"
    }
   ],
   "source": [
    "df"
   ]
  },
  {
   "cell_type": "code",
   "execution_count": 315,
   "id": "71570523",
   "metadata": {},
   "outputs": [
    {
     "data": {
      "text/plain": [
       "국적\n",
       "데미스키라   2300278000120\n",
       "러시아          50000000\n",
       "미국      2875335000150\n",
       "아스가르드   2300278000120\n",
       "Name: 재산, dtype: float64"
      ]
     },
     "execution_count": 315,
     "metadata": {},
     "output_type": "execute_result"
    }
   ],
   "source": [
    "# 그룹화\n",
    "\n",
    "df.groupby('국적') # 그룹으로 묶기\n",
    "df.groupby('국적')['나이'].mean() # 국적 별 그룹으로 묶은 뒤 나이의 평균값 출력\n",
    "df.groupby('국적')['재산'].mean() # 국적 별 그룹으로 묶은 뒤 재산의 평균값 출력"
   ]
  }
 ],
 "metadata": {
  "kernelspec": {
   "display_name": "Python 3",
   "language": "python",
   "name": "python3"
  },
  "language_info": {
   "codemirror_mode": {
    "name": "ipython",
    "version": 3
   },
   "file_extension": ".py",
   "mimetype": "text/x-python",
   "name": "python",
   "nbconvert_exporter": "python",
   "pygments_lexer": "ipython3",
   "version": "3.11.8"
  }
 },
 "nbformat": 4,
 "nbformat_minor": 5
}
