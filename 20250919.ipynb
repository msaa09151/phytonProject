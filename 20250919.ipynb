{
 "cells": [
  {
   "cell_type": "markdown",
   "id": "6c83d8a0",
   "metadata": {},
   "source": [
    "# 2025-09-19"
   ]
  },
  {
   "cell_type": "code",
   "execution_count": 23,
   "id": "a413eb3a",
   "metadata": {},
   "outputs": [
    {
     "name": "stdout",
     "output_type": "stream",
     "text": [
      "안녕 이제 파이썬을 시작하려고 해\n"
     ]
    }
   ],
   "source": [
    "print(\"안녕 이제 파이썬을 시작하려고 해\")"
   ]
  },
  {
   "cell_type": "code",
   "execution_count": 24,
   "id": "aa9c8f5e",
   "metadata": {},
   "outputs": [
    {
     "name": "stdout",
     "output_type": "stream",
     "text": [
      "Hello\n"
     ]
    }
   ],
   "source": [
    "print(\"Hello\")"
   ]
  },
  {
   "cell_type": "code",
   "execution_count": 25,
   "id": "0c82f573",
   "metadata": {},
   "outputs": [
    {
     "name": "stdout",
     "output_type": "stream",
     "text": [
      "29\n"
     ]
    }
   ],
   "source": [
    "print(29)"
   ]
  },
  {
   "cell_type": "code",
   "execution_count": 26,
   "id": "be3d364e",
   "metadata": {},
   "outputs": [
    {
     "name": "stdout",
     "output_type": "stream",
     "text": [
      "True\n"
     ]
    }
   ],
   "source": [
    "print(True)"
   ]
  },
  {
   "cell_type": "markdown",
   "id": "63590821",
   "metadata": {},
   "source": [
    "에러가 존재하는 경우\n",
    "1. 에러 발생한 line, 작성 코드 출력\n",
    "2. 에러의 종류: 에러 내용"
   ]
  },
  {
   "cell_type": "code",
   "execution_count": 27,
   "id": "3cfeaf04",
   "metadata": {},
   "outputs": [
    {
     "ename": "NameError",
     "evalue": "name 'hello' is not defined",
     "output_type": "error",
     "traceback": [
      "\u001b[31m---------------------------------------------------------------------------\u001b[39m",
      "\u001b[31mNameError\u001b[39m                                 Traceback (most recent call last)",
      "\u001b[36mCell\u001b[39m\u001b[36m \u001b[39m\u001b[32mIn[27]\u001b[39m\u001b[32m, line 1\u001b[39m\n\u001b[32m----> \u001b[39m\u001b[32m1\u001b[39m \u001b[43mhello\u001b[49m \u001b[38;5;66;03m#쿼테이션 둘 중 하나 필요\u001b[39;00m\n",
      "\u001b[31mNameError\u001b[39m: name 'hello' is not defined"
     ]
    }
   ],
   "source": [
    "hello #쿼테이션 둘 중 하나 필요"
   ]
  },
  {
   "cell_type": "markdown",
   "id": "6d7f73f1",
   "metadata": {},
   "source": []
  },
  {
   "cell_type": "code",
   "execution_count": null,
   "id": "a4b9fdb5",
   "metadata": {},
   "outputs": [
    {
     "ename": "SyntaxError",
     "evalue": "unterminated string literal (detected at line 1) (210020672.py, line 1)",
     "output_type": "error",
     "traceback": [
      "  \u001b[36mCell\u001b[39m\u001b[36m \u001b[39m\u001b[32mIn[7]\u001b[39m\u001b[32m, line 1\u001b[39m\n\u001b[31m    \u001b[39m\u001b[31mprint('Hello\")\u001b[39m\n          ^\n\u001b[31mSyntaxError\u001b[39m\u001b[31m:\u001b[39m unterminated string literal (detected at line 1)\n"
     ]
    }
   ],
   "source": [
    "print('Hello\") #싱글로 시작해서 더블로 마침"
   ]
  },
  {
   "cell_type": "code",
   "execution_count": null,
   "id": "25e20b53",
   "metadata": {},
   "outputs": [
    {
     "ename": "SyntaxError",
     "evalue": "incomplete input (1103635973.py, line 1)",
     "output_type": "error",
     "traceback": [
      "  \u001b[36mCell\u001b[39m\u001b[36m \u001b[39m\u001b[32mIn[8]\u001b[39m\u001b[32m, line 1\u001b[39m\n\u001b[31m    \u001b[39m\u001b[31mprint('Hello'\u001b[39m\n                 ^\n\u001b[31mSyntaxError\u001b[39m\u001b[31m:\u001b[39m incomplete input\n"
     ]
    }
   ],
   "source": [
    "print('Hello' #코드 마무리 안 됨"
   ]
  },
  {
   "cell_type": "code",
   "execution_count": null,
   "id": "e2250805",
   "metadata": {},
   "outputs": [
    {
     "ename": "NameError",
     "evalue": "name 'Print' is not defined",
     "output_type": "error",
     "traceback": [
      "\u001b[31m---------------------------------------------------------------------------\u001b[39m",
      "\u001b[31mNameError\u001b[39m                                 Traceback (most recent call last)",
      "\u001b[36mCell\u001b[39m\u001b[36m \u001b[39m\u001b[32mIn[9]\u001b[39m\u001b[32m, line 1\u001b[39m\n\u001b[32m----> \u001b[39m\u001b[32m1\u001b[39m \u001b[43mPrint\u001b[49m(\u001b[33m\"\u001b[39m\u001b[33mHello\u001b[39m\u001b[33m\"\u001b[39m)\n",
      "\u001b[31mNameError\u001b[39m: name 'Print' is not defined"
     ]
    }
   ],
   "source": [
    "Print(\"Hello\") #P 대소문자 주의, print name 정리 안 됨"
   ]
  },
  {
   "cell_type": "code",
   "execution_count": null,
   "id": "86ed3b85",
   "metadata": {},
   "outputs": [
    {
     "name": "stdout",
     "output_type": "stream",
     "text": [
      "20\n"
     ]
    }
   ],
   "source": [
    "print(10+10) #숫자형"
   ]
  },
  {
   "cell_type": "code",
   "execution_count": null,
   "id": "5b6aa39e",
   "metadata": {},
   "outputs": [
    {
     "name": "stdout",
     "output_type": "stream",
     "text": [
      "10+10\n"
     ]
    }
   ],
   "source": [
    "print('10+10') #문자형, 따라서 계산 없이 그대로 출력"
   ]
  },
  {
   "cell_type": "code",
   "execution_count": null,
   "id": "049afc8a",
   "metadata": {},
   "outputs": [
    {
     "data": {
      "text/plain": [
       "str"
      ]
     },
     "execution_count": 12,
     "metadata": {},
     "output_type": "execute_result"
    }
   ],
   "source": [
    "type(\"Hello World\")"
   ]
  },
  {
   "cell_type": "code",
   "execution_count": null,
   "id": "3938f621",
   "metadata": {},
   "outputs": [
    {
     "data": {
      "text/plain": [
       "str"
      ]
     },
     "execution_count": 13,
     "metadata": {},
     "output_type": "execute_result"
    }
   ],
   "source": [
    "type(\"100\")"
   ]
  },
  {
   "cell_type": "code",
   "execution_count": null,
   "id": "8810071b",
   "metadata": {},
   "outputs": [
    {
     "data": {
      "text/plain": [
       "int"
      ]
     },
     "execution_count": 14,
     "metadata": {},
     "output_type": "execute_result"
    }
   ],
   "source": [
    "type(100)"
   ]
  },
  {
   "cell_type": "code",
   "execution_count": null,
   "id": "cf65192d",
   "metadata": {},
   "outputs": [
    {
     "data": {
      "text/plain": [
       "float"
      ]
     },
     "execution_count": 15,
     "metadata": {},
     "output_type": "execute_result"
    }
   ],
   "source": [
    "type(3.14)"
   ]
  },
  {
   "cell_type": "code",
   "execution_count": null,
   "id": "20f35814",
   "metadata": {},
   "outputs": [
    {
     "data": {
      "text/plain": [
       "bool"
      ]
     },
     "execution_count": 16,
     "metadata": {},
     "output_type": "execute_result"
    }
   ],
   "source": [
    "type(True)"
   ]
  },
  {
   "cell_type": "markdown",
   "id": "70df110c",
   "metadata": {},
   "source": [
    "### 변수"
   ]
  },
  {
   "cell_type": "code",
   "execution_count": 31,
   "id": "3bd5e49a",
   "metadata": {},
   "outputs": [],
   "source": [
    "mynumber = 100"
   ]
  },
  {
   "cell_type": "code",
   "execution_count": 32,
   "id": "474079fd",
   "metadata": {},
   "outputs": [],
   "source": [
    "mynumber = 36.5"
   ]
  },
  {
   "cell_type": "code",
   "execution_count": 34,
   "id": "fe06b07f",
   "metadata": {},
   "outputs": [
    {
     "data": {
      "text/plain": [
       "36.5"
      ]
     },
     "execution_count": 34,
     "metadata": {},
     "output_type": "execute_result"
    }
   ],
   "source": [
    "mynumber"
   ]
  },
  {
   "cell_type": "code",
   "execution_count": 39,
   "id": "f4e99844",
   "metadata": {},
   "outputs": [],
   "source": [
    "mynumber = \"강아지\""
   ]
  },
  {
   "cell_type": "code",
   "execution_count": 40,
   "id": "6d4dfc8e",
   "metadata": {},
   "outputs": [
    {
     "data": {
      "text/plain": [
       "'강아지'"
      ]
     },
     "execution_count": 40,
     "metadata": {},
     "output_type": "execute_result"
    }
   ],
   "source": [
    "mynumber"
   ]
  },
  {
   "cell_type": "code",
   "execution_count": null,
   "id": "a8bb7fcd",
   "metadata": {},
   "outputs": [
    {
     "ename": "TypeError",
     "evalue": "can only concatenate str (not \"int\") to str",
     "output_type": "error",
     "traceback": [
      "\u001b[31m---------------------------------------------------------------------------\u001b[39m",
      "\u001b[31mTypeError\u001b[39m                                 Traceback (most recent call last)",
      "\u001b[36mCell\u001b[39m\u001b[36m \u001b[39m\u001b[32mIn[41]\u001b[39m\u001b[32m, line 1\u001b[39m\n\u001b[32m----> \u001b[39m\u001b[32m1\u001b[39m \u001b[43mmynumber\u001b[49m\u001b[43m \u001b[49m\u001b[43m+\u001b[49m\u001b[43m \u001b[49m\u001b[32;43m10\u001b[39;49m\n",
      "\u001b[31mTypeError\u001b[39m: can only concatenate str (not \"int\") to str"
     ]
    }
   ],
   "source": [
    "mynumber + 10 #숫자 데이터가 아니기 때문에 타입 에러"
   ]
  },
  {
   "cell_type": "markdown",
   "id": "2f12c5c8",
   "metadata": {},
   "source": [
    "### 연산자"
   ]
  },
  {
   "cell_type": "code",
   "execution_count": 10,
   "id": "32febd01",
   "metadata": {},
   "outputs": [],
   "source": [
    "num1 = 7\n",
    "num2 = 3"
   ]
  },
  {
   "cell_type": "code",
   "execution_count": 44,
   "id": "1c5f8fea",
   "metadata": {},
   "outputs": [
    {
     "data": {
      "text/plain": [
       "10"
      ]
     },
     "execution_count": 44,
     "metadata": {},
     "output_type": "execute_result"
    }
   ],
   "source": [
    "num1 + num2"
   ]
  },
  {
   "cell_type": "code",
   "execution_count": 45,
   "id": "dd12f095",
   "metadata": {},
   "outputs": [
    {
     "data": {
      "text/plain": [
       "4"
      ]
     },
     "execution_count": 45,
     "metadata": {},
     "output_type": "execute_result"
    }
   ],
   "source": [
    "num1 - num2"
   ]
  },
  {
   "cell_type": "code",
   "execution_count": 50,
   "id": "f7b72d72",
   "metadata": {},
   "outputs": [
    {
     "data": {
      "text/plain": [
       "21"
      ]
     },
     "execution_count": 50,
     "metadata": {},
     "output_type": "execute_result"
    }
   ],
   "source": [
    "num1 * num2"
   ]
  },
  {
   "cell_type": "code",
   "execution_count": 11,
   "id": "bbb17078",
   "metadata": {},
   "outputs": [
    {
     "data": {
      "text/plain": [
       "2.3333333333333335"
      ]
     },
     "execution_count": 11,
     "metadata": {},
     "output_type": "execute_result"
    }
   ],
   "source": [
    "num1 / num2"
   ]
  },
  {
   "cell_type": "code",
   "execution_count": 47,
   "id": "662bc115",
   "metadata": {},
   "outputs": [
    {
     "data": {
      "text/plain": [
       "2"
      ]
     },
     "execution_count": 47,
     "metadata": {},
     "output_type": "execute_result"
    }
   ],
   "source": [
    "num1 // num2"
   ]
  },
  {
   "cell_type": "code",
   "execution_count": 48,
   "id": "35fb38b0",
   "metadata": {},
   "outputs": [
    {
     "data": {
      "text/plain": [
       "1"
      ]
     },
     "execution_count": 48,
     "metadata": {},
     "output_type": "execute_result"
    }
   ],
   "source": [
    "num1 % num2"
   ]
  },
  {
   "cell_type": "code",
   "execution_count": 49,
   "id": "f1c07401",
   "metadata": {},
   "outputs": [
    {
     "data": {
      "text/plain": [
       "343"
      ]
     },
     "execution_count": 49,
     "metadata": {},
     "output_type": "execute_result"
    }
   ],
   "source": [
    "num1  ** num2"
   ]
  },
  {
   "cell_type": "code",
   "execution_count": 51,
   "id": "f047bbce",
   "metadata": {},
   "outputs": [
    {
     "data": {
      "text/plain": [
       "'HelloWorld'"
      ]
     },
     "execution_count": 51,
     "metadata": {},
     "output_type": "execute_result"
    }
   ],
   "source": [
    "\"Hello\" + \"World\""
   ]
  },
  {
   "cell_type": "code",
   "execution_count": 5,
   "id": "bdc237e3",
   "metadata": {},
   "outputs": [],
   "source": [
    "str1 = \"Hello\"\n",
    "str2 = \"World2\""
   ]
  },
  {
   "cell_type": "code",
   "execution_count": null,
   "id": "495907ed",
   "metadata": {},
   "outputs": [
    {
     "data": {
      "text/plain": [
       "'Hello World2'"
      ]
     },
     "execution_count": 54,
     "metadata": {},
     "output_type": "execute_result"
    }
   ],
   "source": [
    "str1 + \" \" + str2 #스페이스는 별도 부여 필요"
   ]
  },
  {
   "cell_type": "code",
   "execution_count": 55,
   "id": "6d8a605a",
   "metadata": {},
   "outputs": [
    {
     "data": {
      "text/plain": [
       "'HelloHelloHelloHelloHelloHelloHello'"
      ]
     },
     "execution_count": 55,
     "metadata": {},
     "output_type": "execute_result"
    }
   ],
   "source": [
    "str1 * num1"
   ]
  },
  {
   "cell_type": "code",
   "execution_count": null,
   "id": "69be1bbf",
   "metadata": {},
   "outputs": [
    {
     "data": {
      "text/plain": [
       "'HelloHelloHelloHelloHelloHelloHello'"
      ]
     },
     "execution_count": 56,
     "metadata": {},
     "output_type": "execute_result"
    }
   ],
   "source": [
    "num1 * str1 #문자열이 숫자열만큼 반복"
   ]
  },
  {
   "cell_type": "code",
   "execution_count": null,
   "id": "49fd98f5",
   "metadata": {},
   "outputs": [
    {
     "ename": "TypeError",
     "evalue": "can only concatenate str (not \"int\") to str",
     "output_type": "error",
     "traceback": [
      "\u001b[31m---------------------------------------------------------------------------\u001b[39m",
      "\u001b[31mTypeError\u001b[39m                                 Traceback (most recent call last)",
      "\u001b[36mCell\u001b[39m\u001b[36m \u001b[39m\u001b[32mIn[57]\u001b[39m\u001b[32m, line 1\u001b[39m\n\u001b[32m----> \u001b[39m\u001b[32m1\u001b[39m \u001b[43mstr1\u001b[49m\u001b[43m \u001b[49m\u001b[43m+\u001b[49m\u001b[43m \u001b[49m\u001b[43mnum1\u001b[49m\n",
      "\u001b[31mTypeError\u001b[39m: can only concatenate str (not \"int\") to str"
     ]
    }
   ],
   "source": [
    "str1 + num1 #문자열+숫자열 불가능"
   ]
  },
  {
   "cell_type": "markdown",
   "id": "d1c423df",
   "metadata": {},
   "source": [
    "###  비교 연산자"
   ]
  },
  {
   "cell_type": "markdown",
   "id": "968906f9",
   "metadata": {},
   "source": [
    "같다 =="
   ]
  },
  {
   "cell_type": "code",
   "execution_count": 58,
   "id": "be6fee5a",
   "metadata": {},
   "outputs": [],
   "source": [
    "mynumber = 100"
   ]
  },
  {
   "cell_type": "code",
   "execution_count": 59,
   "id": "c4515064",
   "metadata": {},
   "outputs": [
    {
     "data": {
      "text/plain": [
       "False"
      ]
     },
     "execution_count": 59,
     "metadata": {},
     "output_type": "execute_result"
    }
   ],
   "source": [
    "5 == 3"
   ]
  },
  {
   "cell_type": "code",
   "execution_count": 61,
   "id": "45bdb765",
   "metadata": {},
   "outputs": [
    {
     "data": {
      "text/plain": [
       "True"
      ]
     },
     "execution_count": 61,
     "metadata": {},
     "output_type": "execute_result"
    }
   ],
   "source": [
    "5 != 3"
   ]
  },
  {
   "cell_type": "code",
   "execution_count": 62,
   "id": "83800edb",
   "metadata": {},
   "outputs": [
    {
     "data": {
      "text/plain": [
       "True"
      ]
     },
     "execution_count": 62,
     "metadata": {},
     "output_type": "execute_result"
    }
   ],
   "source": [
    "5 > 3"
   ]
  },
  {
   "cell_type": "code",
   "execution_count": 63,
   "id": "0a620da4",
   "metadata": {},
   "outputs": [
    {
     "data": {
      "text/plain": [
       "False"
      ]
     },
     "execution_count": 63,
     "metadata": {},
     "output_type": "execute_result"
    }
   ],
   "source": [
    "5 < 3"
   ]
  },
  {
   "cell_type": "code",
   "execution_count": 64,
   "id": "49b04540",
   "metadata": {},
   "outputs": [
    {
     "name": "stdout",
     "output_type": "stream",
     "text": [
      "HelloWorld2\n"
     ]
    }
   ],
   "source": [
    "print (str1+str2)"
   ]
  },
  {
   "cell_type": "code",
   "execution_count": 6,
   "id": "bb1fe7f1",
   "metadata": {},
   "outputs": [
    {
     "name": "stdout",
     "output_type": "stream",
     "text": [
      "Hello World2\n"
     ]
    }
   ],
   "source": [
    "print(str1 + \" \" + str2) #스페이스 별도 부여 필요, 스페이스도 별도 문자열"
   ]
  },
  {
   "cell_type": "code",
   "execution_count": 7,
   "id": "4d7a3be1",
   "metadata": {},
   "outputs": [
    {
     "name": "stdout",
     "output_type": "stream",
     "text": [
      "Hello World2\n"
     ]
    }
   ],
   "source": [
    "print(str1, str2) #콤마: 스페이스 삽입"
   ]
  },
  {
   "cell_type": "code",
   "execution_count": 8,
   "id": "6314d82e",
   "metadata": {},
   "outputs": [
    {
     "name": "stdout",
     "output_type": "stream",
     "text": [
      "Hello World2 Hello World2\n"
     ]
    }
   ],
   "source": [
    "print(str1, str2, str1, str2)"
   ]
  },
  {
   "cell_type": "markdown",
   "id": "e82054b6",
   "metadata": {},
   "source": [
    "### 사용자 입력"
   ]
  },
  {
   "cell_type": "code",
   "execution_count": 12,
   "id": "af8d0996",
   "metadata": {},
   "outputs": [
    {
     "data": {
      "text/plain": [
       "'안녕하세욥'"
      ]
     },
     "execution_count": 12,
     "metadata": {},
     "output_type": "execute_result"
    }
   ],
   "source": [
    "input()"
   ]
  },
  {
   "cell_type": "code",
   "execution_count": 20,
   "id": "a0c7dc6a",
   "metadata": {},
   "outputs": [
    {
     "name": "stdout",
     "output_type": "stream",
     "text": [
      "이름은 강아지 입니다\n"
     ]
    }
   ],
   "source": [
    "name = input()\n",
    "print(\"이름은\", name, \"입니다\")"
   ]
  },
  {
   "cell_type": "code",
   "execution_count": 23,
   "id": "22591a4c",
   "metadata": {},
   "outputs": [
    {
     "name": "stdout",
     "output_type": "stream",
     "text": [
      "이름은 고아름 입니다\n"
     ]
    }
   ],
   "source": [
    "name = input(\"이름을 입력해 주세요\")\n",
    "print(\"이름은\", name, \"입니다\")"
   ]
  },
  {
   "cell_type": "code",
   "execution_count": null,
   "id": "4368d658",
   "metadata": {},
   "outputs": [],
   "source": [
    "num1 = 7\n",
    "num2 = 3\n",
    "\n",
    "#미션. 사용자로부터 숫자 입력을 받아서 +, -, *, / 연산 확인"
   ]
  },
  {
   "cell_type": "code",
   "execution_count": 31,
   "id": "2b009b72",
   "metadata": {},
   "outputs": [
    {
     "name": "stdout",
     "output_type": "stream",
     "text": [
      "73\n"
     ]
    },
    {
     "ename": "TypeError",
     "evalue": "unsupported operand type(s) for -: 'str' and 'str'",
     "output_type": "error",
     "traceback": [
      "\u001b[31m---------------------------------------------------------------------------\u001b[39m",
      "\u001b[31mTypeError\u001b[39m                                 Traceback (most recent call last)",
      "\u001b[36mCell\u001b[39m\u001b[36m \u001b[39m\u001b[32mIn[31]\u001b[39m\u001b[32m, line 5\u001b[39m\n\u001b[32m      2\u001b[39m num2 = \u001b[38;5;28minput\u001b[39m(\u001b[33m\"\u001b[39m\u001b[33m두 번째 숫자를 입력하세요.\u001b[39m\u001b[33m\"\u001b[39m)\n\u001b[32m      4\u001b[39m \u001b[38;5;28mprint\u001b[39m(num1 + num2)\n\u001b[32m----> \u001b[39m\u001b[32m5\u001b[39m \u001b[38;5;28mprint\u001b[39m(\u001b[43mnum1\u001b[49m\u001b[43m \u001b[49m\u001b[43m-\u001b[49m\u001b[43m \u001b[49m\u001b[43mnum2\u001b[49m)\n\u001b[32m      6\u001b[39m \u001b[38;5;28mprint\u001b[39m(num1 * num2)\n\u001b[32m      7\u001b[39m \u001b[38;5;28mprint\u001b[39m(num1 / num2)\n",
      "\u001b[31mTypeError\u001b[39m: unsupported operand type(s) for -: 'str' and 'str'"
     ]
    }
   ],
   "source": [
    "num1 = input(\"첫 번째 숫자를 입력하세요\")\n",
    "num2 = input(\"두 번째 숫자를 입력하세요.\")\n",
    "\n",
    "print(num1 + num2)\n",
    "print(num1 - num2)\n",
    "print(num1 * num2)\n",
    "print(num1 / num2)"
   ]
  },
  {
   "cell_type": "markdown",
   "id": "0e07ecea",
   "metadata": {},
   "source": [
    "-> 단순하게 문자열로 인식했기 때문에 7과 3을 나열함, 출력값: 73 <br>\n",
    "에러 내용에 str and str, 문자열과 문자열의 조합"
   ]
  },
  {
   "cell_type": "markdown",
   "id": "e8ac20e0",
   "metadata": {},
   "source": [
    "### 형변환"
   ]
  },
  {
   "cell_type": "code",
   "execution_count": null,
   "id": "960f4a9d",
   "metadata": {},
   "outputs": [],
   "source": [
    "int(), float(), str()"
   ]
  },
  {
   "cell_type": "code",
   "execution_count": 41,
   "id": "0c65a852",
   "metadata": {},
   "outputs": [
    {
     "data": {
      "text/plain": [
       "7"
      ]
     },
     "execution_count": 41,
     "metadata": {},
     "output_type": "execute_result"
    }
   ],
   "source": [
    "int(\"7\")"
   ]
  },
  {
   "cell_type": "code",
   "execution_count": 34,
   "id": "c167e28d",
   "metadata": {},
   "outputs": [
    {
     "data": {
      "text/plain": [
       "3.14"
      ]
     },
     "execution_count": 34,
     "metadata": {},
     "output_type": "execute_result"
    }
   ],
   "source": [
    "float(\"3.14\")"
   ]
  },
  {
   "cell_type": "markdown",
   "id": "87657aba",
   "metadata": {},
   "source": [
    "*int = 형식 사용 불가능* <br>\n",
    "int = 을 작성하고 실행하면 int를 새로 정의함 <br>\n",
    "따라서 위에 작성한 코드가 망가짐 <br><br>\n",
    "\n",
    "해결 방법: 종료한 뒤 다시 오픈"
   ]
  },
  {
   "cell_type": "code",
   "execution_count": 35,
   "id": "e6b5976f",
   "metadata": {},
   "outputs": [
    {
     "name": "stdout",
     "output_type": "stream",
     "text": [
      "10\n",
      "4\n",
      "21\n",
      "2.3333333333333335\n"
     ]
    }
   ],
   "source": [
    "num1 = int(input(\"첫 번째 숫자를 입력하세요\"))\n",
    "num2 = int(input(\"두 번째 숫자를 입력하세요.\"))\n",
    "\n",
    "print(num1 + num2)\n",
    "print(num1 - num2)\n",
    "print(num1 * num2)\n",
    "print(num1 / num2)"
   ]
  },
  {
   "cell_type": "code",
   "execution_count": null,
   "id": "bf8c4fbe",
   "metadata": {},
   "outputs": [],
   "source": [
    "mynumber\n",
    "my_number\n",
    "myNumber\n",
    "3number, 가number (X)\n",
    "\n",
    "#변수 이름 생성 가능, 임의 지정보다는 적절히 의미를 알 수 있도록"
   ]
  },
  {
   "cell_type": "code",
   "execution_count": 44,
   "id": "7332034a",
   "metadata": {},
   "outputs": [
    {
     "name": "stdout",
     "output_type": "stream",
     "text": [
      "True\n",
      "True\n",
      "False\n"
     ]
    }
   ],
   "source": [
    "print((3<5) and (3>0))\n",
    "print((4<7) or (5>8))\n",
    "print(not(5<9))"
   ]
  },
  {
   "cell_type": "code",
   "execution_count": 61,
   "id": "db4dfa5f",
   "metadata": {},
   "outputs": [
    {
     "name": "stdout",
     "output_type": "stream",
     "text": [
      "\"안녕\"이라고 말했다.\n",
      "'바본가?'라고 생각했다.\n"
     ]
    }
   ],
   "source": [
    "print('\"안녕\"이라고 말했다.')\n",
    "print(\"'바본가?'라고 생각했다.\")\n",
    "\n",
    "#다른 쿼테이션을 사용하는 경우 혼용 가능"
   ]
  },
  {
   "cell_type": "code",
   "execution_count": null,
   "id": "93a64375",
   "metadata": {},
   "outputs": [
    {
     "name": "stdout",
     "output_type": "stream",
     "text": [
      "\"안녕\"이라고 말했다.\n"
     ]
    }
   ],
   "source": [
    "print(\"\\\"안녕\\\"이라고 말했다.\")\n",
    "\n",
    "#역슬래쉬 사용하는 경우 같은 쿼테이션 사용 가능"
   ]
  },
  {
   "cell_type": "code",
   "execution_count": 59,
   "id": "596f2210",
   "metadata": {},
   "outputs": [],
   "source": [
    "sentence= \"\"\"\n",
    "안녕\n",
    "반가워\n",
    "추워\n",
    "\"\"\""
   ]
  },
  {
   "cell_type": "code",
   "execution_count": 60,
   "id": "43cd01c2",
   "metadata": {},
   "outputs": [
    {
     "name": "stdout",
     "output_type": "stream",
     "text": [
      "\n",
      "안녕\n",
      "반가워\n",
      "추워\n",
      "\n"
     ]
    }
   ],
   "source": [
    "print(sentence)"
   ]
  },
  {
   "cell_type": "code",
   "execution_count": 57,
   "id": "d8210037",
   "metadata": {},
   "outputs": [
    {
     "name": "stdout",
     "output_type": "stream",
     "text": [
      "'낮말'은 새가 듣고 '밤말'은 쥐가 듣는다.\n"
     ]
    }
   ],
   "source": [
    "print(\"'낮말'은 새가 듣고 '밤말'은 쥐가 듣는다.\")"
   ]
  },
  {
   "cell_type": "code",
   "execution_count": 79,
   "id": "29fbabc0",
   "metadata": {},
   "outputs": [
    {
     "name": "stdout",
     "output_type": "stream",
     "text": [
      "Hello Phyton\n",
      "Hello Hello\n",
      "HelloHello\n",
      "\n",
      "HelloHelloHelloHelloHello\n",
      "\n",
      "Hello/Hello/Hello/Hello/Hello,"
     ]
    }
   ],
   "source": [
    "print(\"Hello\", \"Phyton\")\n",
    "print(\"Hello\", end=\" \")\n",
    "print(\"Hello\")\n",
    "print(\"Hello\", end=\"\")\n",
    "print(\"Hello\")\n",
    "print()\n",
    "print(\"Hello\" * 5)\n",
    "print()\n",
    "print(\"Hello\", \"Hello\", \"Hello\", \"Hello\", \"Hello\", end=\",\", sep=\"/\")"
   ]
  },
  {
   "cell_type": "code",
   "execution_count": null,
   "id": "24277ffe",
   "metadata": {},
   "outputs": [
    {
     "name": "stdout",
     "output_type": "stream",
     "text": [
      "\n"
     ]
    }
   ],
   "source": [
    "print()\n",
    "\n",
    "#기본적으로 줄바꿈(\\n)이 포함되어 있음\n",
    "#콤마(,)는 스페이스가 포함되어 있음\n",
    "#, end=\"\" 줄바꿈을 하지 않음"
   ]
  },
  {
   "cell_type": "code",
   "execution_count": null,
   "id": "8665af26",
   "metadata": {},
   "outputs": [],
   "source": [
    "num1 = int(input(\"첫 번째 숫자를 입력하세요\"))\n",
    "num2 = int(input(\"두 번째 숫자를 입력하세요.\"))\n",
    "\n",
    "print(num1 + num2) \n",
    "print(num1 - num2)\n",
    "print(num1 * num2)\n",
    "print(num1 / num2)"
   ]
  },
  {
   "cell_type": "code",
   "execution_count": null,
   "id": "46000334",
   "metadata": {},
   "outputs": [
    {
     "name": "stdout",
     "output_type": "stream",
     "text": [
      "7 + 3 = 10\n",
      "더하기의 결과는: 7 + 3 = 10\n"
     ]
    }
   ],
   "source": [
    "#7+3=10 형태 출력 방법: f-string\n",
    "#f\"\" 형태, 변수는 {}로 입력. 외의 모든 값은 문자열(str)로 인식\n",
    "\n",
    "num1 = 7\n",
    "num2 = 3\n",
    "\n",
    "print(num1, \"+\", num2, \"=\", num1+num2)\n",
    "print(f\"더하기의 결과는: {num1} + {num2} = {num1+num2}\")"
   ]
  },
  {
   "cell_type": "markdown",
   "id": "14229027",
   "metadata": {},
   "source": [
    "### bool 자료형"
   ]
  },
  {
   "cell_type": "code",
   "execution_count": 130,
   "id": "7b2e5e88",
   "metadata": {},
   "outputs": [
    {
     "ename": "SyntaxError",
     "evalue": "invalid syntax (586372605.py, line 1)",
     "output_type": "error",
     "traceback": [
      "  \u001b[36mCell\u001b[39m\u001b[36m \u001b[39m\u001b[32mIn[130]\u001b[39m\u001b[32m, line 1\u001b[39m\n\u001b[31m    \u001b[39m\u001b[31mTrue 참, False 거짓\u001b[39m\n         ^\n\u001b[31mSyntaxError\u001b[39m\u001b[31m:\u001b[39m invalid syntax\n"
     ]
    }
   ],
   "source": [
    "True 참, False 거짓"
   ]
  },
  {
   "cell_type": "code",
   "execution_count": null,
   "id": "885c1fcc",
   "metadata": {},
   "outputs": [
    {
     "data": {
      "text/plain": [
       "True"
      ]
     },
     "execution_count": 89,
     "metadata": {},
     "output_type": "execute_result"
    }
   ],
   "source": [
    "1 == 1"
   ]
  },
  {
   "cell_type": "code",
   "execution_count": null,
   "id": "f2bb06b1",
   "metadata": {},
   "outputs": [
    {
     "name": "stdout",
     "output_type": "stream",
     "text": [
      "<class 'bool'>\n"
     ]
    }
   ],
   "source": [
    "print(type(True))"
   ]
  },
  {
   "cell_type": "code",
   "execution_count": null,
   "id": "e29d397d",
   "metadata": {},
   "outputs": [],
   "source": [
    "int(), str(), float(), bool() \n",
    "\n",
    "#bool 또한 형변환 함수"
   ]
  },
  {
   "cell_type": "code",
   "execution_count": null,
   "id": "ecec08a3",
   "metadata": {},
   "outputs": [
    {
     "data": {
      "text/plain": [
       "False"
      ]
     },
     "execution_count": 98,
     "metadata": {},
     "output_type": "execute_result"
    }
   ],
   "source": [
    "bool(0)\n",
    "\n",
    "#only 0만 False"
   ]
  },
  {
   "cell_type": "code",
   "execution_count": null,
   "id": "a4d3f543",
   "metadata": {},
   "outputs": [
    {
     "data": {
      "text/plain": [
       "True"
      ]
     },
     "execution_count": 92,
     "metadata": {},
     "output_type": "execute_result"
    }
   ],
   "source": [
    "bool(1)"
   ]
  },
  {
   "cell_type": "code",
   "execution_count": null,
   "id": "1f1b28e6",
   "metadata": {},
   "outputs": [
    {
     "data": {
      "text/plain": [
       "True"
      ]
     },
     "execution_count": 93,
     "metadata": {},
     "output_type": "execute_result"
    }
   ],
   "source": [
    "bool(100)"
   ]
  },
  {
   "cell_type": "code",
   "execution_count": null,
   "id": "cf45a856",
   "metadata": {},
   "outputs": [
    {
     "data": {
      "text/plain": [
       "True"
      ]
     },
     "execution_count": 94,
     "metadata": {},
     "output_type": "execute_result"
    }
   ],
   "source": [
    "bool(-1)"
   ]
  },
  {
   "cell_type": "code",
   "execution_count": null,
   "id": "4aecb146",
   "metadata": {},
   "outputs": [
    {
     "data": {
      "text/plain": [
       "False"
      ]
     },
     "execution_count": 95,
     "metadata": {},
     "output_type": "execute_result"
    }
   ],
   "source": [
    "bool('')\n",
    "\n",
    "#비어있는 문자열 -> False "
   ]
  },
  {
   "cell_type": "markdown",
   "id": "c074e5d1",
   "metadata": {},
   "source": [
    "### #오전 마무리 미션"
   ]
  },
  {
   "cell_type": "code",
   "execution_count": null,
   "id": "ee1ca277",
   "metadata": {},
   "outputs": [
    {
     "name": "stdout",
     "output_type": "stream",
     "text": [
      "김밥 주문 갯수 : 2\n",
      "떡볶이 주문 갯수 : 1\n",
      "라면 주문 갯수 : 2\n",
      "지불하실 금액은 14500 원 입니다.\n"
     ]
    }
   ],
   "source": [
    "#p: price, m: menu\n",
    "\n",
    "p1 = 3000\n",
    "p2 = 3500\n",
    "p3 = 2500\n",
    "\n",
    "m1 = int(input(\"김밥 주문 갯수 입력\"))\n",
    "m2 = int(input(\"떡볶이 주문 갯수 입력\"))\n",
    "m3 = int(input(\"라면 주문 갯수 입력\"))\n",
    "\n",
    "\n",
    "print(\"김밥 주문 갯수 :\", m1)\n",
    "print(\"떡볶이 주문 갯수 :\", m2)\n",
    "print(\"라면 주문 갯수 :\", m3)\n",
    "\n",
    "#print(\"지불하실 금액은\", p1*m1 + p2*m2 + p3*m3, \"원 입니다.\")\n",
    "print(f\"지불하실 금액은 {p1*m1 + p2*m2 + p3*m3} 원 입니다.\")"
   ]
  },
  {
   "cell_type": "code",
   "execution_count": null,
   "id": "6d7e9400",
   "metadata": {},
   "outputs": [],
   "source": [
    "print(\"Hello\")\n",
    "print(\"Hello\")\n",
    "print(\"Hello\")\n",
    "print(\"아 졸려\")\n",
    "print(\"Hello\")"
   ]
  },
  {
   "cell_type": "markdown",
   "id": "5b410d72",
   "metadata": {},
   "source": [
    "### 조건문"
   ]
  },
  {
   "cell_type": "code",
   "execution_count": null,
   "id": "d01bc3c8",
   "metadata": {},
   "outputs": [],
   "source": [
    "#조건에 따라서 명령어의 실행 여부가 결정\n",
    "#조건 만족 시 둘 다 출력, 만족하지 못할 경우 하단 명령어만 출력\n",
    "#들여쓰기 확인 필수\n",
    "\n",
    "if 조건: \n",
    "    실행할 명령\n",
    "    #True일 경우\n",
    "\n",
    "elif 조건:\n",
    "    실행할 명령\n",
    "    #또 다른 조건\n",
    "\n",
    "else:\n",
    "    실행할 명령\n",
    "    #A or B 경우, 나머지이기 때문에 조건X\n",
    "\n",
    "조건문 밖의 명령어"
   ]
  },
  {
   "cell_type": "code",
   "execution_count": null,
   "id": "8e91b40b",
   "metadata": {},
   "outputs": [],
   "source": [
    "if 조건: \n",
    "    실행할 명령\n",
    "\n",
    "elif 조건:\n",
    "    수행할 명령2\n",
    "\n",
    "elif 조건3:\n",
    "    수행할 명령3\n",
    "\n",
    "else:\n",
    "    다른 명령"
   ]
  },
  {
   "cell_type": "code",
   "execution_count": 1,
   "id": "b455ef98",
   "metadata": {},
   "outputs": [
    {
     "name": "stdout",
     "output_type": "stream",
     "text": [
      "스테이크를 먹는다\n",
      "조건문 종료\n"
     ]
    }
   ],
   "source": [
    "money = True\n",
    "\n",
    "if money:\n",
    "    print(\"스테이크를 먹는다\")\n",
    "print(\"조건문 종료\")"
   ]
  },
  {
   "cell_type": "code",
   "execution_count": 2,
   "id": "ffc14ffc",
   "metadata": {},
   "outputs": [
    {
     "name": "stdout",
     "output_type": "stream",
     "text": [
      "조건문 종료\n"
     ]
    }
   ],
   "source": [
    "money = False\n",
    "\n",
    "if money:\n",
    "    print(\"스테이크를 먹는다\")\n",
    "print(\"조건문 종료\")"
   ]
  },
  {
   "cell_type": "code",
   "execution_count": null,
   "id": "c9105931",
   "metadata": {},
   "outputs": [
    {
     "name": "stdout",
     "output_type": "stream",
     "text": [
      "조건문 종료\n"
     ]
    }
   ],
   "source": [
    "money = True\n",
    "\n",
    "if money:\n",
    "    print(\"스테이크를 먹는다\")\n",
    "    print(\"커피를 마신다\")\n",
    "    print(\"택시를 탄다\")\n",
    "print(\"조건문 종료\")\n",
    "\n",
    "#들여쓰기도 문법 중 하나. 확인 필수!"
   ]
  },
  {
   "cell_type": "code",
   "execution_count": null,
   "id": "c383052a",
   "metadata": {},
   "outputs": [
    {
     "name": "stdout",
     "output_type": "stream",
     "text": [
      "짝수\n"
     ]
    }
   ],
   "source": [
    "#짝수, 홀수 구분\n",
    "#num % 2 == 0 -> 짝수, 그렇지 않으면 홀수\n",
    "\n",
    "num = 2\n",
    "\n",
    "if num % 2 == 0:\n",
    "    print(\"짝수\")\n",
    "\n",
    "else:\n",
    "    print (\"홀수\")"
   ]
  },
  {
   "cell_type": "code",
   "execution_count": null,
   "id": "35318e86",
   "metadata": {},
   "outputs": [
    {
     "name": "stdout",
     "output_type": "stream",
     "text": [
      "홀수입니다.\n"
     ]
    }
   ],
   "source": [
    "num = int(input(\"정수를 입력해 주세요\"))\n",
    "\n",
    "if num % 2 == 0:\n",
    "    print(\"짝수\")\n",
    "\n",
    "else:\n",
    "    print (\"홀수\")"
   ]
  },
  {
   "cell_type": "code",
   "execution_count": 14,
   "id": "8b58ea7a",
   "metadata": {},
   "outputs": [
    {
     "name": "stdout",
     "output_type": "stream",
     "text": [
      "작아요\n"
     ]
    }
   ],
   "source": [
    "num = 10\n",
    "\n",
    "if num > 100:\n",
    "    print(\"너무 커요\")\n",
    "else:\n",
    "    print(\"작아요\")"
   ]
  },
  {
   "cell_type": "code",
   "execution_count": 16,
   "id": "7cefca99",
   "metadata": {},
   "outputs": [
    {
     "name": "stdout",
     "output_type": "stream",
     "text": [
      "좀 더 노력하세요\n"
     ]
    }
   ],
   "source": [
    "eng = 80\n",
    "math = 100\n",
    "\n",
    "if eng >= 90 and math >= 90:\n",
    "    print(\"스티커\")\n",
    "else:\n",
    "    print(\"좀 더 노력하세요\")"
   ]
  },
  {
   "cell_type": "code",
   "execution_count": 18,
   "id": "681b3897",
   "metadata": {},
   "outputs": [
    {
     "name": "stdout",
     "output_type": "stream",
     "text": [
      "많이  노력하세요\n"
     ]
    }
   ],
   "source": [
    "eng = 80\n",
    "math = 100\n",
    "\n",
    "if eng >= 90:\n",
    "    if math >= 90:\n",
    "        print(\"둘 다 잘 봤어요\")\n",
    "    else:\n",
    "        print(\"조금 더 노력하세요\")\n",
    "else:\n",
    "    print(\"많이  노력하세요\")"
   ]
  },
  {
   "cell_type": "code",
   "execution_count": 21,
   "id": "24b0f740",
   "metadata": {},
   "outputs": [
    {
     "name": "stdout",
     "output_type": "stream",
     "text": [
      "홀수입니다.\n"
     ]
    }
   ],
   "source": [
    "num = int(input(\"정수를 입력해 주세요:\"))\n",
    "\n",
    "if num % 2 == 0:\n",
    "    print(\"짝수입니다.\")\n",
    "\n",
    "else:\n",
    "    print (\"홀수입니다.\")"
   ]
  },
  {
   "cell_type": "code",
   "execution_count": 22,
   "id": "08341537",
   "metadata": {},
   "outputs": [
    {
     "name": "stdout",
     "output_type": "stream",
     "text": [
      "짝수입니다.\n"
     ]
    }
   ],
   "source": [
    "num = int(input(\"정수를 입력해 주세요:\"))\n",
    "result = num % 2\n",
    "\n",
    "if result:\n",
    "    print(\"홀수입니다.\")\n",
    "else:\n",
    "    print(\"짝수입니다.\")"
   ]
  },
  {
   "cell_type": "code",
   "execution_count": null,
   "id": "128d6383",
   "metadata": {},
   "outputs": [
    {
     "name": "stdout",
     "output_type": "stream",
     "text": [
      "B\n"
     ]
    }
   ],
   "source": [
    "#if만 사용한 경우\n",
    "\n",
    "num = 89\n",
    "\n",
    "if num >= 90:\n",
    "    print(\"A\")\n",
    "if num >= 80:\n",
    "    if num < 90:\n",
    "        print(\"B\")\n",
    "if num >= 70:\n",
    "    if num < 80:\n",
    "        print(\"C\")\n",
    "if num >= 60:\n",
    "    if num < 70:\n",
    "        print(\"D\")\n",
    "else:\n",
    "    print(\"F\")"
   ]
  },
  {
   "cell_type": "code",
   "execution_count": null,
   "id": "358143d9",
   "metadata": {},
   "outputs": [
    {
     "name": "stdout",
     "output_type": "stream",
     "text": [
      "B\n"
     ]
    }
   ],
   "source": [
    "#if와 elif를 사용한 경우\n",
    "\n",
    "num = 80\n",
    "\n",
    "if num >= 90:\n",
    "    print(\"A\")\n",
    "elif num >= 80:\n",
    "    print(\"B\")\n",
    "elif num >= 70:\n",
    "    print(\"C\")\n",
    "elif num >= 60:\n",
    "    print(\"D\")\n",
    "else:\n",
    "    print(\"F\")"
   ]
  },
  {
   "cell_type": "code",
   "execution_count": 44,
   "id": "c68fe317",
   "metadata": {},
   "outputs": [
    {
     "name": "stdout",
     "output_type": "stream",
     "text": [
      "F\n"
     ]
    }
   ],
   "source": [
    "num = int(input(\"성적을 입력해 주세요:\"))\n",
    "\n",
    "\n",
    "if num >= 90:\n",
    "    print(\"A\")\n",
    "if num >= 80:\n",
    "    if num < 90:\n",
    "        print(\"B\")\n",
    "if num >= 70:\n",
    "    if num < 80:\n",
    "        print(\"C\")\n",
    "if num >= 60:\n",
    "    if num < 70:\n",
    "        print(\"D\")\n",
    "else:\n",
    "    print(\"F\")"
   ]
  },
  {
   "cell_type": "markdown",
   "id": "f6642236",
   "metadata": {},
   "source": [
    "### 반복문"
   ]
  },
  {
   "cell_type": "code",
   "execution_count": null,
   "id": "8ec90c7a",
   "metadata": {},
   "outputs": [],
   "source": [
    "#for: 정해진 횟수가 있는 조건\n",
    "#while: 조건이 맞을 때 반복문을 마치는 형태\n",
    "#이터러블: 반복 가능한 개체 (cf. 꺼낼 수 있는 공이 n개 있는 바구니)\n",
    "\n",
    "for 변수 in 이터러블:\n",
    "    반복할 문장\n",
    "\n",
    "while 조건:\n",
    "    반복할 문장\n",
    "\n",
    "while True:\n",
    "    무한 루프"
   ]
  },
  {
   "cell_type": "code",
   "execution_count": 52,
   "id": "8cefe730",
   "metadata": {},
   "outputs": [
    {
     "name": "stdout",
     "output_type": "stream",
     "text": [
      "Hello\n",
      "Hello\n",
      "Hello\n",
      "Hello\n",
      "Hello\n",
      "Hello\n",
      "Hello\n",
      "Hello\n",
      "Hello\n",
      "Hello\n"
     ]
    }
   ],
   "source": [
    "for i in range(10):\n",
    "    print(\"Hello\")"
   ]
  },
  {
   "cell_type": "code",
   "execution_count": 47,
   "id": "ee795cef",
   "metadata": {},
   "outputs": [
    {
     "name": "stdout",
     "output_type": "stream",
     "text": [
      "0번째 Hello\n",
      "1번째 Hello\n",
      "2번째 Hello\n",
      "3번째 Hello\n",
      "4번째 Hello\n",
      "5번째 Hello\n",
      "6번째 Hello\n",
      "7번째 Hello\n",
      "8번째 Hello\n",
      "9번째 Hello\n"
     ]
    }
   ],
   "source": [
    "for i in range(10):\n",
    "    print(F\"{i}번째 Hello\")"
   ]
  },
  {
   "cell_type": "code",
   "execution_count": null,
   "id": "4e75480d",
   "metadata": {},
   "outputs": [],
   "source": [
    "for i in range(1, 10):\n",
    "    print(F\"{i}번째 Hello\")\n",
    "\n",
    "for i in range(10):\n",
    "    print(F\"{i+1}번째 Hello\")\n",
    "\n",
    "#range()에 시작과 끝 인자를 넣을 수 있음\n",
    "#시작은 이상(포함), 종료는 미만(포함X)"
   ]
  },
  {
   "cell_type": "code",
   "execution_count": null,
   "id": "5e7cc7d2",
   "metadata": {},
   "outputs": [
    {
     "name": "stdout",
     "output_type": "stream",
     "text": [
      "1번째 Hello\n",
      "3번째 Hello\n",
      "5번째 Hello\n",
      "7번째 Hello\n",
      "9번째 Hello\n",
      "10번째 Hello\n",
      "8번째 Hello\n",
      "6번째 Hello\n",
      "4번째 Hello\n",
      "2번째 Hello\n"
     ]
    }
   ],
   "source": [
    "for i in range(1, 10 +1, 2):\n",
    "    print(F\"{i}번째 Hello\")\n",
    "\n",
    "for i in range(10, 0, -2):\n",
    "    print(F\"{i}번째 Hello\")\n",
    "\n",
    "#range (start, end, step)\n",
    "#step의 +, -로 오름차순, 내림차순 지정 가능"
   ]
  },
  {
   "cell_type": "code",
   "execution_count": null,
   "id": "288142f0",
   "metadata": {},
   "outputs": [
    {
     "name": "stdout",
     "output_type": "stream",
     "text": [
      "55\n",
      "55\n"
     ]
    }
   ],
   "source": [
    "#for 반복문과 range()함수를 사용해서 1부터 10까지의 합을 출력해 주세요.\n",
    "\n",
    "sum = 0\n",
    "\n",
    "for i in range(1, 11):\n",
    "    #바구니에 1, 2, 3 ... 10\n",
    "    sum = sum + i\n",
    "print(sum)\n",
    "\n",
    "\n",
    "#for 반복문과 range()함수를 사용해서 1부터 10까지의 합을 출력해 주세요.\n",
    "\n",
    "sum = 0\n",
    "\n",
    "for i in range(1, 11):\n",
    "    #바구니에 1, 2, 3 ... 10\n",
    "    sum += i #sum = sum + i와 같은 동작\n",
    "print(sum)\n",
    "\n",
    "#for 반복문과 range()함수를 사용해서 1부터 10까지의 곱\n",
    "\n",
    "#for 반복문과 range()함수를 사용해서 입력받는 숫자에 해당하는 구구단을 출력"
   ]
  },
  {
   "cell_type": "code",
   "execution_count": null,
   "id": "e639efa0",
   "metadata": {},
   "outputs": [
    {
     "name": "stdout",
     "output_type": "stream",
     "text": [
      "Hello\n",
      "Hello\n",
      "Hello\n",
      "Hello\n",
      "Hello\n"
     ]
    }
   ],
   "source": [
    "#print(\"Hello\") 5번만 출력\n",
    "\n",
    "i = 1\n",
    "\n",
    "while i <= 5:\n",
    "    print(\"Hello\")\n",
    "    i = i + 1"
   ]
  },
  {
   "cell_type": "code",
   "execution_count": null,
   "id": "ed929704",
   "metadata": {},
   "outputs": [
    {
     "name": "stdout",
     "output_type": "stream",
     "text": [
      "1번째 Hello\n",
      "2번째 Hello\n",
      "3번째 Hello\n",
      "4번째 Hello\n",
      "5번째 Hello\n"
     ]
    }
   ],
   "source": [
    "#print(\"Hello\") 5번만 출력\n",
    "#i가 6이 되면 조건에 부합하지 않아 종료\n",
    "\n",
    "i = 1\n",
    "\n",
    "while i <= 5:\n",
    "    print(f\"{i}번째 Hello\")\n",
    "    i = i + 1"
   ]
  },
  {
   "cell_type": "code",
   "execution_count": null,
   "id": "7f643c69",
   "metadata": {},
   "outputs": [
    {
     "name": "stdout",
     "output_type": "stream",
     "text": [
      "15\n"
     ]
    }
   ],
   "source": [
    "#while 반복문을 이용해서 1부터 사용자로부터 입력받은 정수값까지의 합\n",
    "\n",
    "i = 1\n",
    "num = int(input(\"정수를 입력해 주세요:\"))\n",
    "sum = 0\n",
    "\n",
    "while num >= i:\n",
    "    sum = sum + i\n",
    "    i = i + 1 ##잊지 않기! 지정 안 하는 경우 에러X 무한루프\n",
    "print(sum)\n",
    "\n",
    "\n",
    "#while 반복문을 이용해서 1부터 사용자로부터 입력받은 정수값까지의 곱\n",
    "\n",
    "#while 반복문을 이용해서 1부터 사용자로부터 입력받은 정수값까지의 구구단"
   ]
  },
  {
   "cell_type": "markdown",
   "id": "aa04a653",
   "metadata": {},
   "source": [
    "### #while을 사용하는 경우"
   ]
  },
  {
   "cell_type": "code",
   "execution_count": null,
   "id": "e608444c",
   "metadata": {},
   "outputs": [],
   "source": [
    "prompt = \"\"\"\n",
    "1. Add\n",
    "2. Del\n",
    "3. List\n",
    "4. Quit\n",
    "\n",
    "Enter number: \"\"\""
   ]
  },
  {
   "cell_type": "code",
   "execution_count": 104,
   "id": "ff6a3c06",
   "metadata": {},
   "outputs": [
    {
     "name": "stdout",
     "output_type": "stream",
     "text": [
      "\n",
      "1. Add\n",
      "2. Del\n",
      "3. List\n",
      "4. Quit\n",
      "\n",
      "Enter number: \n",
      "\n",
      "1. Add\n",
      "2. Del\n",
      "3. List\n",
      "4. Quit\n",
      "\n",
      "Enter number: \n"
     ]
    }
   ],
   "source": [
    "number = 0 \n",
    "\n",
    "while number !=4 :\n",
    "    print(prompt)\n",
    "    number = int(input(\"원하는 메뉴의 번호를 입력하세요\"))"
   ]
  },
  {
   "cell_type": "markdown",
   "id": "6ea8b05a",
   "metadata": {},
   "source": [
    "### break, continue"
   ]
  },
  {
   "cell_type": "code",
   "execution_count": null,
   "id": "8f7c6c18",
   "metadata": {},
   "outputs": [
    {
     "name": "stdout",
     "output_type": "stream",
     "text": [
      "정수: 6, 합계: 21\n",
      "21\n"
     ]
    }
   ],
   "source": [
    "#1부터 10까지 더하되, 합이 20 이상이 되는 때의 정수값을 찾기\n",
    "\n",
    "sum = 0s\n",
    "\n",
    "for i in range(1, 10 +1):\n",
    "    sum = sum + i\n",
    "    if sum >= 20:\n",
    "        print(f\"정수: {i}, 합계: {sum}\")\n",
    "        break\n",
    "print(sum)"
   ]
  },
  {
   "cell_type": "code",
   "execution_count": null,
   "id": "ee3ea680",
   "metadata": {},
   "outputs": [],
   "source": [
    "number = 0\n",
    "while True:\n",
    "    print(prompt)\n",
    "    number = int(input(\"원하는 메뉴의 번호를 입력하세요.\"))\n",
    "    if number == 4:\n",
    "        break\n",
    "\n",
    "#whil True - break 이 없다면 무한 루프"
   ]
  },
  {
   "cell_type": "code",
   "execution_count": 138,
   "id": "f3eeb85d",
   "metadata": {},
   "outputs": [
    {
     "name": "stdout",
     "output_type": "stream",
     "text": [
      "1 2 4 5 7 8 "
     ]
    }
   ],
   "source": [
    "for i in range(10):\n",
    "    if i % 3 == 0:\n",
    "        continue\n",
    "    print(i, end=\" \")"
   ]
  },
  {
   "cell_type": "code",
   "execution_count": null,
   "id": "f35f606a",
   "metadata": {},
   "outputs": [
    {
     "name": "stdout",
     "output_type": "stream",
     "text": [
      "76\n",
      "1부터 100 사이의 숫자를 맞춰주세요: 76\n",
      "정답입니다.\n",
      "게임 종료!\n"
     ]
    }
   ],
   "source": [
    "#숫자 맞추기 게임\n",
    "\n",
    "import random\n",
    "answer = random.randint(1,100)\n",
    "print(answer) #확인용\n",
    "\n",
    "print(\"1부터 100 사이의 숫자를 맞춰주세요:\", answer)\n",
    "\n",
    "while True:\n",
    "    num = int(input(\"1부터 100까지의 숫자를 입력해 주세요.\"))\n",
    "    if num > answer:\n",
    "        print(\"너무 커요\")\n",
    "    elif num < answer:\n",
    "        print(\"너무 작아요\")\n",
    "    else:\n",
    "        print(\"정답입니다.\")\n",
    "    break\n",
    "print (\"게임 종료!\")"
   ]
  },
  {
   "cell_type": "code",
   "execution_count": null,
   "id": "241fc39f",
   "metadata": {},
   "outputs": [],
   "source": [
    "#20보다 작은 정수 중에서 3의 배수와 5의 배수를 제외하고 출력해 봅시다.\n",
    "#시행착오\n",
    "\n",
    "i = 0\n",
    "\n",
    "while True:\n",
    "    i += 1 #i = i + 1\n",
    "    if i % 3 ==0:\n",
    "        continue\n",
    "    elif i % 5 == 0:\n",
    "        continue\n",
    "    else:\n",
    "        print(i, end=\" \")\n",
    "        break"
   ]
  },
  {
   "cell_type": "code",
   "execution_count": null,
   "id": "ddfe5a29",
   "metadata": {},
   "outputs": [
    {
     "name": "stdout",
     "output_type": "stream",
     "text": [
      "1\n",
      "2\n",
      "3 continue\n",
      "4\n",
      "5 continue\n",
      "6 continue\n",
      "7\n",
      "8\n",
      "9 continue\n",
      "10 continue\n",
      "11\n",
      "12 continue\n",
      "13\n",
      "14\n",
      "15 continue\n",
      "16\n",
      "17\n",
      "18 continue\n",
      "19\n",
      "20 break\n"
     ]
    }
   ],
   "source": [
    "#20보다 작은 정수 중에서 3의 배수와 5의 배수를 제외하고 출력해 봅시다.\n",
    "\n",
    "i = 0\n",
    "while True:\n",
    "    i += 1\n",
    "    if i >= 20:\n",
    "        print(f\"{i} break\")\n",
    "        break\n",
    "    if i % 3 == 0 or i % 5 == 0:\n",
    "        print(f\"{i} continue\") \n",
    "        continue\n",
    "    print(i)\n",
    "\n",
    "#확인용 디버깅"
   ]
  },
  {
   "cell_type": "code",
   "execution_count": null,
   "id": "37346e0d",
   "metadata": {},
   "outputs": [
    {
     "name": "stdout",
     "output_type": "stream",
     "text": [
      "1 2 4 7 8 11 13 14 16 17 19 "
     ]
    }
   ],
   "source": [
    "i = 0\n",
    "while True:\n",
    "    i += 1\n",
    "    if i >= 20:\n",
    "        #print(f\"{i} break\")\n",
    "        break\n",
    "    if i % 3 == 0 or i % 5 == 0:\n",
    "        #print(f\"{i} continue\") \n",
    "        continue\n",
    "    print(i, end=\" \")"
   ]
  },
  {
   "cell_type": "code",
   "execution_count": null,
   "id": "44dcb325",
   "metadata": {},
   "outputs": [],
   "source": [
    "#중첩 반복문\n",
    "\n",
    "2 * 1 = 2\n",
    "2 * 2 = 4\n",
    "2 * 3 = 6"
   ]
  },
  {
   "cell_type": "code",
   "execution_count": null,
   "id": "5dfaecf9",
   "metadata": {},
   "outputs": [
    {
     "name": "stdout",
     "output_type": "stream",
     "text": [
      "2 * 1 = 2\n",
      "2 * 2 = 4\n",
      "2 * 3 = 6\n",
      "2 * 4 = 8\n",
      "2 * 5 = 10\n",
      "2 * 6 = 12\n",
      "2 * 7 = 14\n",
      "2 * 8 = 16\n",
      "2 * 9 = 18\n"
     ]
    }
   ],
   "source": [
    "for i in range(1, 10):\n",
    "    print(f\"2 * {i} = {2 * i}\")"
   ]
  },
  {
   "cell_type": "code",
   "execution_count": 178,
   "id": "03aa32a3",
   "metadata": {},
   "outputs": [
    {
     "name": "stdout",
     "output_type": "stream",
     "text": [
      "17 * 1 = 17\n",
      "17 * 2 = 34\n",
      "17 * 3 = 51\n",
      "17 * 4 = 68\n",
      "17 * 5 = 85\n",
      "17 * 6 = 102\n",
      "17 * 7 = 119\n",
      "17 * 8 = 136\n",
      "17 * 9 = 153\n"
     ]
    }
   ],
   "source": [
    "dan = 17\n",
    "\n",
    "for i in range(1, 10):\n",
    "    print(f\"{dan} * {i} = {dan * i}\")"
   ]
  },
  {
   "cell_type": "code",
   "execution_count": null,
   "id": "19633e46",
   "metadata": {},
   "outputs": [],
   "source": [
    "#구구단\n",
    "\n",
    "for dan in range(2, 10):\n",
    "    print(dan)\n",
    "\n",
    "for i in range(1, 10):\n",
    "        print(f\"{dan} * {i} = {dan * i}\")\n"
   ]
  },
  {
   "cell_type": "code",
   "execution_count": null,
   "id": "2c17bf8e",
   "metadata": {},
   "outputs": [],
   "source": [
    "#위 두 코드를 병합\n",
    "\n",
    "for dan in range(2, 10):\n",
    "    for i in range(1, 10):\n",
    "        print(f\"{dan} * {i} = {dan * i}\")"
   ]
  },
  {
   "cell_type": "code",
   "execution_count": null,
   "id": "7975668f",
   "metadata": {},
   "outputs": [
    {
     "name": "stdout",
     "output_type": "stream",
     "text": [
      "2 4 6 8 10 12 14 16 18 \n",
      "3 6 9 12 15 18 21 24 27 \n",
      "4 8 12 16 20 24 28 32 36 \n",
      "5 10 15 20 25 30 35 40 45 \n",
      "6 12 18 24 30 36 42 48 54 \n",
      "7 14 21 28 35 42 49 56 63 \n",
      "8 16 24 32 40 48 56 64 72 \n",
      "9 18 27 36 45 54 63 72 81 \n"
     ]
    }
   ],
   "source": [
    "for dan in range(2, 10):\n",
    "    for i in range(1, 10):\n",
    "        print(f\"{dan * i}\", end=\" \")\n",
    "    print() #단을 마친 뒤 줄바꿈"
   ]
  },
  {
   "cell_type": "code",
   "execution_count": 46,
   "id": "53f3c220",
   "metadata": {},
   "outputs": [
    {
     "name": "stdout",
     "output_type": "stream",
     "text": [
      "*\n",
      "**\n",
      "***\n",
      "****\n",
      "*****\n",
      "******\n",
      "*******\n",
      "********\n",
      "*********\n",
      "**********\n",
      "*\n",
      "***\n",
      "*****\n",
      "*******\n",
      "*********\n",
      "***********\n",
      "*************\n",
      "***************\n",
      "*****************\n",
      "*******************\n"
     ]
    }
   ],
   "source": [
    "# 1. 문자열 반복 사용\n",
    "# 2. 중첩 반복문 사용\n",
    "\n",
    "# 크리스마스 트리 만들기 1단계\n",
    "\n",
    "n = 10\n",
    "star = \"*\"\n",
    "\n",
    "for i in range(1, n+1):\n",
    "    print(f\"{star * i}\")\n",
    "\n",
    "for i in range(1, n+1):\n",
    "    for i in range(i * 2 - 1):\n",
    "        print(star, end=\"\")\n",
    "    print()"
   ]
  },
  {
   "cell_type": "code",
   "execution_count": null,
   "id": "90369f04",
   "metadata": {},
   "outputs": [
    {
     "name": "stdout",
     "output_type": "stream",
     "text": [
      "***********\n",
      "**********\n",
      "*********\n",
      "********\n",
      "*******\n",
      "******\n",
      "*****\n",
      "****\n",
      "***\n",
      "**\n",
      "*\n"
     ]
    }
   ],
   "source": [
    "# 2단계\n",
    "\n",
    "n = 10\n",
    "star = \"*\"\n",
    "\n",
    "for i in range(n+1, 0, -1):\n",
    "    print(f\"{star * i}\")"
   ]
  },
  {
   "cell_type": "code",
   "execution_count": null,
   "id": "f47ad00c",
   "metadata": {},
   "outputs": [
    {
     "name": "stdout",
     "output_type": "stream",
     "text": [
      "         *\n",
      "        ***\n",
      "       *****\n",
      "      *******\n",
      "     *********\n",
      "    ***********\n",
      "   *************\n",
      "  ***************\n",
      " *****************\n",
      "*******************\n"
     ]
    }
   ],
   "source": [
    "# 3단계\n",
    "\n",
    "n = 10\n",
    "s = 10\n",
    "\n",
    "empty = \" \"\n",
    "star = \"*\"\n",
    "\n",
    "for i in range(1, n+1):\n",
    "    for s in range(n-i):\n",
    "        print(empty, end=\"\")\n",
    "    for s in range(2 * i - 1): # for 문을 더하면 i\n",
    "        print(star, end=\"\")\n",
    "    print()"
   ]
  },
  {
   "cell_type": "code",
   "execution_count": 41,
   "id": "b04dfcce",
   "metadata": {},
   "outputs": [
    {
     "name": "stdout",
     "output_type": "stream",
     "text": [
      "         *\n",
      "        ***\n",
      "       *****\n",
      "      *******\n",
      "     *********\n",
      "    ***********\n",
      "   *************\n",
      "  ***************\n",
      " *****************\n",
      "*******************\n",
      "         *\n",
      "        ***\n",
      "       *****\n",
      "      *******\n",
      "     *********\n",
      "    ***********\n",
      "   *************\n",
      "  ***************\n",
      " *****************\n",
      "*******************\n"
     ]
    }
   ],
   "source": [
    "n = 10\n",
    "for i in range(1, n + 1):\n",
    "    for j in range(n-i):\n",
    "        print(' ',end='')\n",
    "    for j in range(2 * i - 1):\n",
    "        print('*', end='')\n",
    "    print()\n",
    "\n",
    "n = 10\n",
    "for i in range(1, n + 1):\n",
    "    spaces = ' '* (n-i)\n",
    "    stars = '*' *  (2 * i - 1)\n",
    "    print(spaces + stars)"
   ]
  }
 ],
 "metadata": {
  "kernelspec": {
   "display_name": "Python 3",
   "language": "python",
   "name": "python3"
  },
  "language_info": {
   "codemirror_mode": {
    "name": "ipython",
    "version": 3
   },
   "file_extension": ".py",
   "mimetype": "text/x-python",
   "name": "python",
   "nbconvert_exporter": "python",
   "pygments_lexer": "ipython3",
   "version": "3.11.8"
  }
 },
 "nbformat": 4,
 "nbformat_minor": 5
}
