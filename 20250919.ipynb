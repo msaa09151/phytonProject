{
 "cells": [
  {
   "cell_type": "markdown",
   "id": "6c83d8a0",
   "metadata": {},
   "source": [
    "# 2025-09-19"
   ]
  },
  {
   "cell_type": "code",
   "execution_count": 23,
   "id": "a413eb3a",
   "metadata": {},
   "outputs": [
    {
     "name": "stdout",
     "output_type": "stream",
     "text": [
      "안녕 이제 파이썬을 시작하려고 해\n"
     ]
    }
   ],
   "source": [
    "print(\"안녕 이제 파이썬을 시작하려고 해\")"
   ]
  },
  {
   "cell_type": "code",
   "execution_count": 24,
   "id": "aa9c8f5e",
   "metadata": {},
   "outputs": [
    {
     "name": "stdout",
     "output_type": "stream",
     "text": [
      "Hello\n"
     ]
    }
   ],
   "source": [
    "print(\"Hello\")"
   ]
  },
  {
   "cell_type": "code",
   "execution_count": 25,
   "id": "0c82f573",
   "metadata": {},
   "outputs": [
    {
     "name": "stdout",
     "output_type": "stream",
     "text": [
      "29\n"
     ]
    }
   ],
   "source": [
    "print(29)"
   ]
  },
  {
   "cell_type": "code",
   "execution_count": 26,
   "id": "be3d364e",
   "metadata": {},
   "outputs": [
    {
     "name": "stdout",
     "output_type": "stream",
     "text": [
      "True\n"
     ]
    }
   ],
   "source": [
    "print(True)"
   ]
  },
  {
   "cell_type": "markdown",
   "id": "63590821",
   "metadata": {},
   "source": [
    "에러가 존재하는 경우\n",
    "1. 에러 발생한 line, 작성 코드 출력\n",
    "2. 에러의 종류: 에러 내용"
   ]
  },
  {
   "cell_type": "code",
   "execution_count": 27,
   "id": "3cfeaf04",
   "metadata": {},
   "outputs": [
    {
     "ename": "NameError",
     "evalue": "name 'hello' is not defined",
     "output_type": "error",
     "traceback": [
      "\u001b[31m---------------------------------------------------------------------------\u001b[39m",
      "\u001b[31mNameError\u001b[39m                                 Traceback (most recent call last)",
      "\u001b[36mCell\u001b[39m\u001b[36m \u001b[39m\u001b[32mIn[27]\u001b[39m\u001b[32m, line 1\u001b[39m\n\u001b[32m----> \u001b[39m\u001b[32m1\u001b[39m \u001b[43mhello\u001b[49m \u001b[38;5;66;03m#쿼테이션 둘 중 하나 필요\u001b[39;00m\n",
      "\u001b[31mNameError\u001b[39m: name 'hello' is not defined"
     ]
    }
   ],
   "source": [
    "hello #쿼테이션 둘 중 하나 필요"
   ]
  },
  {
   "cell_type": "markdown",
   "id": "6d7f73f1",
   "metadata": {},
   "source": []
  },
  {
   "cell_type": "code",
   "execution_count": null,
   "id": "a4b9fdb5",
   "metadata": {},
   "outputs": [
    {
     "ename": "SyntaxError",
     "evalue": "unterminated string literal (detected at line 1) (210020672.py, line 1)",
     "output_type": "error",
     "traceback": [
      "  \u001b[36mCell\u001b[39m\u001b[36m \u001b[39m\u001b[32mIn[7]\u001b[39m\u001b[32m, line 1\u001b[39m\n\u001b[31m    \u001b[39m\u001b[31mprint('Hello\")\u001b[39m\n          ^\n\u001b[31mSyntaxError\u001b[39m\u001b[31m:\u001b[39m unterminated string literal (detected at line 1)\n"
     ]
    }
   ],
   "source": [
    "print('Hello\") #싱글로 시작해서 더블로 마침"
   ]
  },
  {
   "cell_type": "code",
   "execution_count": null,
   "id": "25e20b53",
   "metadata": {},
   "outputs": [
    {
     "ename": "SyntaxError",
     "evalue": "incomplete input (1103635973.py, line 1)",
     "output_type": "error",
     "traceback": [
      "  \u001b[36mCell\u001b[39m\u001b[36m \u001b[39m\u001b[32mIn[8]\u001b[39m\u001b[32m, line 1\u001b[39m\n\u001b[31m    \u001b[39m\u001b[31mprint('Hello'\u001b[39m\n                 ^\n\u001b[31mSyntaxError\u001b[39m\u001b[31m:\u001b[39m incomplete input\n"
     ]
    }
   ],
   "source": [
    "print('Hello' #코드 마무리 안 됨"
   ]
  },
  {
   "cell_type": "code",
   "execution_count": null,
   "id": "e2250805",
   "metadata": {},
   "outputs": [
    {
     "ename": "NameError",
     "evalue": "name 'Print' is not defined",
     "output_type": "error",
     "traceback": [
      "\u001b[31m---------------------------------------------------------------------------\u001b[39m",
      "\u001b[31mNameError\u001b[39m                                 Traceback (most recent call last)",
      "\u001b[36mCell\u001b[39m\u001b[36m \u001b[39m\u001b[32mIn[9]\u001b[39m\u001b[32m, line 1\u001b[39m\n\u001b[32m----> \u001b[39m\u001b[32m1\u001b[39m \u001b[43mPrint\u001b[49m(\u001b[33m\"\u001b[39m\u001b[33mHello\u001b[39m\u001b[33m\"\u001b[39m)\n",
      "\u001b[31mNameError\u001b[39m: name 'Print' is not defined"
     ]
    }
   ],
   "source": [
    "Print(\"Hello\") #P 대소문자 주의, print name 정리 안 됨"
   ]
  },
  {
   "cell_type": "code",
   "execution_count": null,
   "id": "86ed3b85",
   "metadata": {},
   "outputs": [
    {
     "name": "stdout",
     "output_type": "stream",
     "text": [
      "20\n"
     ]
    }
   ],
   "source": [
    "print(10+10) #숫자형"
   ]
  },
  {
   "cell_type": "code",
   "execution_count": null,
   "id": "5b6aa39e",
   "metadata": {},
   "outputs": [
    {
     "name": "stdout",
     "output_type": "stream",
     "text": [
      "10+10\n"
     ]
    }
   ],
   "source": [
    "print('10+10') #문자형, 따라서 계산 없이 그대로 출력"
   ]
  },
  {
   "cell_type": "code",
   "execution_count": null,
   "id": "049afc8a",
   "metadata": {},
   "outputs": [
    {
     "data": {
      "text/plain": [
       "str"
      ]
     },
     "execution_count": 12,
     "metadata": {},
     "output_type": "execute_result"
    }
   ],
   "source": [
    "type(\"Hello World\")"
   ]
  },
  {
   "cell_type": "code",
   "execution_count": null,
   "id": "3938f621",
   "metadata": {},
   "outputs": [
    {
     "data": {
      "text/plain": [
       "str"
      ]
     },
     "execution_count": 13,
     "metadata": {},
     "output_type": "execute_result"
    }
   ],
   "source": [
    "type(\"100\")"
   ]
  },
  {
   "cell_type": "code",
   "execution_count": null,
   "id": "8810071b",
   "metadata": {},
   "outputs": [
    {
     "data": {
      "text/plain": [
       "int"
      ]
     },
     "execution_count": 14,
     "metadata": {},
     "output_type": "execute_result"
    }
   ],
   "source": [
    "type(100)"
   ]
  },
  {
   "cell_type": "code",
   "execution_count": null,
   "id": "cf65192d",
   "metadata": {},
   "outputs": [
    {
     "data": {
      "text/plain": [
       "float"
      ]
     },
     "execution_count": 15,
     "metadata": {},
     "output_type": "execute_result"
    }
   ],
   "source": [
    "type(3.14)"
   ]
  },
  {
   "cell_type": "code",
   "execution_count": null,
   "id": "20f35814",
   "metadata": {},
   "outputs": [
    {
     "data": {
      "text/plain": [
       "bool"
      ]
     },
     "execution_count": 16,
     "metadata": {},
     "output_type": "execute_result"
    }
   ],
   "source": [
    "type(True)"
   ]
  },
  {
   "cell_type": "markdown",
   "id": "70df110c",
   "metadata": {},
   "source": [
    "## 변수"
   ]
  },
  {
   "cell_type": "code",
   "execution_count": 31,
   "id": "3bd5e49a",
   "metadata": {},
   "outputs": [],
   "source": [
    "mynumber = 100"
   ]
  },
  {
   "cell_type": "code",
   "execution_count": 32,
   "id": "474079fd",
   "metadata": {},
   "outputs": [],
   "source": [
    "mynumber = 36.5"
   ]
  },
  {
   "cell_type": "code",
   "execution_count": 34,
   "id": "fe06b07f",
   "metadata": {},
   "outputs": [
    {
     "data": {
      "text/plain": [
       "36.5"
      ]
     },
     "execution_count": 34,
     "metadata": {},
     "output_type": "execute_result"
    }
   ],
   "source": [
    "mynumber"
   ]
  },
  {
   "cell_type": "code",
   "execution_count": 39,
   "id": "f4e99844",
   "metadata": {},
   "outputs": [],
   "source": [
    "mynumber = \"강아지\""
   ]
  },
  {
   "cell_type": "code",
   "execution_count": 40,
   "id": "6d4dfc8e",
   "metadata": {},
   "outputs": [
    {
     "data": {
      "text/plain": [
       "'강아지'"
      ]
     },
     "execution_count": 40,
     "metadata": {},
     "output_type": "execute_result"
    }
   ],
   "source": [
    "mynumber"
   ]
  },
  {
   "cell_type": "code",
   "execution_count": null,
   "id": "a8bb7fcd",
   "metadata": {},
   "outputs": [
    {
     "ename": "TypeError",
     "evalue": "can only concatenate str (not \"int\") to str",
     "output_type": "error",
     "traceback": [
      "\u001b[31m---------------------------------------------------------------------------\u001b[39m",
      "\u001b[31mTypeError\u001b[39m                                 Traceback (most recent call last)",
      "\u001b[36mCell\u001b[39m\u001b[36m \u001b[39m\u001b[32mIn[41]\u001b[39m\u001b[32m, line 1\u001b[39m\n\u001b[32m----> \u001b[39m\u001b[32m1\u001b[39m \u001b[43mmynumber\u001b[49m\u001b[43m \u001b[49m\u001b[43m+\u001b[49m\u001b[43m \u001b[49m\u001b[32;43m10\u001b[39;49m\n",
      "\u001b[31mTypeError\u001b[39m: can only concatenate str (not \"int\") to str"
     ]
    }
   ],
   "source": [
    "mynumber + 10 #숫자 데이터가 아니기 때문에 타입 에러"
   ]
  },
  {
   "cell_type": "markdown",
   "id": "2f12c5c8",
   "metadata": {},
   "source": [
    "## 연산자"
   ]
  },
  {
   "cell_type": "code",
   "execution_count": 10,
   "id": "32febd01",
   "metadata": {},
   "outputs": [],
   "source": [
    "num1 = 7\n",
    "num2 = 3"
   ]
  },
  {
   "cell_type": "code",
   "execution_count": 44,
   "id": "1c5f8fea",
   "metadata": {},
   "outputs": [
    {
     "data": {
      "text/plain": [
       "10"
      ]
     },
     "execution_count": 44,
     "metadata": {},
     "output_type": "execute_result"
    }
   ],
   "source": [
    "num1 + num2"
   ]
  },
  {
   "cell_type": "code",
   "execution_count": 45,
   "id": "dd12f095",
   "metadata": {},
   "outputs": [
    {
     "data": {
      "text/plain": [
       "4"
      ]
     },
     "execution_count": 45,
     "metadata": {},
     "output_type": "execute_result"
    }
   ],
   "source": [
    "num1 - num2"
   ]
  },
  {
   "cell_type": "code",
   "execution_count": 50,
   "id": "f7b72d72",
   "metadata": {},
   "outputs": [
    {
     "data": {
      "text/plain": [
       "21"
      ]
     },
     "execution_count": 50,
     "metadata": {},
     "output_type": "execute_result"
    }
   ],
   "source": [
    "num1 * num2"
   ]
  },
  {
   "cell_type": "code",
   "execution_count": 11,
   "id": "bbb17078",
   "metadata": {},
   "outputs": [
    {
     "data": {
      "text/plain": [
       "2.3333333333333335"
      ]
     },
     "execution_count": 11,
     "metadata": {},
     "output_type": "execute_result"
    }
   ],
   "source": [
    "num1 / num2"
   ]
  },
  {
   "cell_type": "code",
   "execution_count": 47,
   "id": "662bc115",
   "metadata": {},
   "outputs": [
    {
     "data": {
      "text/plain": [
       "2"
      ]
     },
     "execution_count": 47,
     "metadata": {},
     "output_type": "execute_result"
    }
   ],
   "source": [
    "num1 // num2"
   ]
  },
  {
   "cell_type": "code",
   "execution_count": 48,
   "id": "35fb38b0",
   "metadata": {},
   "outputs": [
    {
     "data": {
      "text/plain": [
       "1"
      ]
     },
     "execution_count": 48,
     "metadata": {},
     "output_type": "execute_result"
    }
   ],
   "source": [
    "num1 % num2"
   ]
  },
  {
   "cell_type": "code",
   "execution_count": 49,
   "id": "f1c07401",
   "metadata": {},
   "outputs": [
    {
     "data": {
      "text/plain": [
       "343"
      ]
     },
     "execution_count": 49,
     "metadata": {},
     "output_type": "execute_result"
    }
   ],
   "source": [
    "num1  ** num2"
   ]
  },
  {
   "cell_type": "code",
   "execution_count": 51,
   "id": "f047bbce",
   "metadata": {},
   "outputs": [
    {
     "data": {
      "text/plain": [
       "'HelloWorld'"
      ]
     },
     "execution_count": 51,
     "metadata": {},
     "output_type": "execute_result"
    }
   ],
   "source": [
    "\"Hello\" + \"World\""
   ]
  },
  {
   "cell_type": "code",
   "execution_count": 5,
   "id": "bdc237e3",
   "metadata": {},
   "outputs": [],
   "source": [
    "str1 = \"Hello\"\n",
    "str2 = \"World2\""
   ]
  },
  {
   "cell_type": "code",
   "execution_count": null,
   "id": "495907ed",
   "metadata": {},
   "outputs": [
    {
     "data": {
      "text/plain": [
       "'Hello World2'"
      ]
     },
     "execution_count": 54,
     "metadata": {},
     "output_type": "execute_result"
    }
   ],
   "source": [
    "str1 + \" \" + str2 #스페이스는 별도 부여 필요"
   ]
  },
  {
   "cell_type": "code",
   "execution_count": 55,
   "id": "6d8a605a",
   "metadata": {},
   "outputs": [
    {
     "data": {
      "text/plain": [
       "'HelloHelloHelloHelloHelloHelloHello'"
      ]
     },
     "execution_count": 55,
     "metadata": {},
     "output_type": "execute_result"
    }
   ],
   "source": [
    "str1 * num1"
   ]
  },
  {
   "cell_type": "code",
   "execution_count": null,
   "id": "69be1bbf",
   "metadata": {},
   "outputs": [
    {
     "data": {
      "text/plain": [
       "'HelloHelloHelloHelloHelloHelloHello'"
      ]
     },
     "execution_count": 56,
     "metadata": {},
     "output_type": "execute_result"
    }
   ],
   "source": [
    "num1 * str1 #문자열이 숫자열만큼 반복"
   ]
  },
  {
   "cell_type": "code",
   "execution_count": null,
   "id": "49fd98f5",
   "metadata": {},
   "outputs": [
    {
     "ename": "TypeError",
     "evalue": "can only concatenate str (not \"int\") to str",
     "output_type": "error",
     "traceback": [
      "\u001b[31m---------------------------------------------------------------------------\u001b[39m",
      "\u001b[31mTypeError\u001b[39m                                 Traceback (most recent call last)",
      "\u001b[36mCell\u001b[39m\u001b[36m \u001b[39m\u001b[32mIn[57]\u001b[39m\u001b[32m, line 1\u001b[39m\n\u001b[32m----> \u001b[39m\u001b[32m1\u001b[39m \u001b[43mstr1\u001b[49m\u001b[43m \u001b[49m\u001b[43m+\u001b[49m\u001b[43m \u001b[49m\u001b[43mnum1\u001b[49m\n",
      "\u001b[31mTypeError\u001b[39m: can only concatenate str (not \"int\") to str"
     ]
    }
   ],
   "source": [
    "str1 + num1 #문자열+숫자열 불가능"
   ]
  },
  {
   "cell_type": "markdown",
   "id": "d1c423df",
   "metadata": {},
   "source": [
    "## 비교 연산자"
   ]
  },
  {
   "cell_type": "markdown",
   "id": "968906f9",
   "metadata": {},
   "source": [
    "같다 =="
   ]
  },
  {
   "cell_type": "code",
   "execution_count": 58,
   "id": "be6fee5a",
   "metadata": {},
   "outputs": [],
   "source": [
    "mynumber = 100"
   ]
  },
  {
   "cell_type": "code",
   "execution_count": 59,
   "id": "c4515064",
   "metadata": {},
   "outputs": [
    {
     "data": {
      "text/plain": [
       "False"
      ]
     },
     "execution_count": 59,
     "metadata": {},
     "output_type": "execute_result"
    }
   ],
   "source": [
    "5 == 3"
   ]
  },
  {
   "cell_type": "code",
   "execution_count": 61,
   "id": "45bdb765",
   "metadata": {},
   "outputs": [
    {
     "data": {
      "text/plain": [
       "True"
      ]
     },
     "execution_count": 61,
     "metadata": {},
     "output_type": "execute_result"
    }
   ],
   "source": [
    "5 != 3"
   ]
  },
  {
   "cell_type": "code",
   "execution_count": 62,
   "id": "83800edb",
   "metadata": {},
   "outputs": [
    {
     "data": {
      "text/plain": [
       "True"
      ]
     },
     "execution_count": 62,
     "metadata": {},
     "output_type": "execute_result"
    }
   ],
   "source": [
    "5 > 3"
   ]
  },
  {
   "cell_type": "code",
   "execution_count": 63,
   "id": "0a620da4",
   "metadata": {},
   "outputs": [
    {
     "data": {
      "text/plain": [
       "False"
      ]
     },
     "execution_count": 63,
     "metadata": {},
     "output_type": "execute_result"
    }
   ],
   "source": [
    "5 < 3"
   ]
  },
  {
   "cell_type": "code",
   "execution_count": 64,
   "id": "49b04540",
   "metadata": {},
   "outputs": [
    {
     "name": "stdout",
     "output_type": "stream",
     "text": [
      "HelloWorld2\n"
     ]
    }
   ],
   "source": [
    "print (str1+str2)"
   ]
  },
  {
   "cell_type": "code",
   "execution_count": 6,
   "id": "bb1fe7f1",
   "metadata": {},
   "outputs": [
    {
     "name": "stdout",
     "output_type": "stream",
     "text": [
      "Hello World2\n"
     ]
    }
   ],
   "source": [
    "print(str1 + \" \" + str2) #스페이스 별도 부여 필요, 스페이스도 별도 문자열"
   ]
  },
  {
   "cell_type": "code",
   "execution_count": 7,
   "id": "4d7a3be1",
   "metadata": {},
   "outputs": [
    {
     "name": "stdout",
     "output_type": "stream",
     "text": [
      "Hello World2\n"
     ]
    }
   ],
   "source": [
    "print(str1, str2) #콤마: 스페이스 삽입"
   ]
  },
  {
   "cell_type": "code",
   "execution_count": 8,
   "id": "6314d82e",
   "metadata": {},
   "outputs": [
    {
     "name": "stdout",
     "output_type": "stream",
     "text": [
      "Hello World2 Hello World2\n"
     ]
    }
   ],
   "source": [
    "print(str1, str2, str1, str2)"
   ]
  },
  {
   "cell_type": "markdown",
   "id": "e82054b6",
   "metadata": {},
   "source": [
    "### 사용자 입력"
   ]
  },
  {
   "cell_type": "code",
   "execution_count": 12,
   "id": "af8d0996",
   "metadata": {},
   "outputs": [
    {
     "data": {
      "text/plain": [
       "'안녕하세욥'"
      ]
     },
     "execution_count": 12,
     "metadata": {},
     "output_type": "execute_result"
    }
   ],
   "source": [
    "input()"
   ]
  },
  {
   "cell_type": "code",
   "execution_count": 20,
   "id": "a0c7dc6a",
   "metadata": {},
   "outputs": [
    {
     "name": "stdout",
     "output_type": "stream",
     "text": [
      "이름은 강아지 입니다\n"
     ]
    }
   ],
   "source": [
    "name = input()\n",
    "print(\"이름은\", name, \"입니다\")"
   ]
  },
  {
   "cell_type": "code",
   "execution_count": 23,
   "id": "22591a4c",
   "metadata": {},
   "outputs": [
    {
     "name": "stdout",
     "output_type": "stream",
     "text": [
      "이름은 고아름 입니다\n"
     ]
    }
   ],
   "source": [
    "name = input(\"이름을 입력해 주세요\")\n",
    "print(\"이름은\", name, \"입니다\")"
   ]
  },
  {
   "cell_type": "code",
   "execution_count": null,
   "id": "4368d658",
   "metadata": {},
   "outputs": [],
   "source": [
    "num1 = 7\n",
    "num2 = 3\n",
    "\n",
    "# 미션. 사용자로부터 숫자 입력을 받아서 +, -, *, / 연산 확인"
   ]
  },
  {
   "cell_type": "code",
   "execution_count": 31,
   "id": "2b009b72",
   "metadata": {},
   "outputs": [
    {
     "name": "stdout",
     "output_type": "stream",
     "text": [
      "73\n"
     ]
    },
    {
     "ename": "TypeError",
     "evalue": "unsupported operand type(s) for -: 'str' and 'str'",
     "output_type": "error",
     "traceback": [
      "\u001b[31m---------------------------------------------------------------------------\u001b[39m",
      "\u001b[31mTypeError\u001b[39m                                 Traceback (most recent call last)",
      "\u001b[36mCell\u001b[39m\u001b[36m \u001b[39m\u001b[32mIn[31]\u001b[39m\u001b[32m, line 5\u001b[39m\n\u001b[32m      2\u001b[39m num2 = \u001b[38;5;28minput\u001b[39m(\u001b[33m\"\u001b[39m\u001b[33m두 번째 숫자를 입력하세요.\u001b[39m\u001b[33m\"\u001b[39m)\n\u001b[32m      4\u001b[39m \u001b[38;5;28mprint\u001b[39m(num1 + num2)\n\u001b[32m----> \u001b[39m\u001b[32m5\u001b[39m \u001b[38;5;28mprint\u001b[39m(\u001b[43mnum1\u001b[49m\u001b[43m \u001b[49m\u001b[43m-\u001b[49m\u001b[43m \u001b[49m\u001b[43mnum2\u001b[49m)\n\u001b[32m      6\u001b[39m \u001b[38;5;28mprint\u001b[39m(num1 * num2)\n\u001b[32m      7\u001b[39m \u001b[38;5;28mprint\u001b[39m(num1 / num2)\n",
      "\u001b[31mTypeError\u001b[39m: unsupported operand type(s) for -: 'str' and 'str'"
     ]
    }
   ],
   "source": [
    "num1 = input(\"첫 번째 숫자를 입력하세요\")\n",
    "num2 = input(\"두 번째 숫자를 입력하세요.\")\n",
    "\n",
    "print(num1 + num2)\n",
    "print(num1 - num2)\n",
    "print(num1 * num2)\n",
    "print(num1 / num2)"
   ]
  },
  {
   "cell_type": "markdown",
   "id": "0e07ecea",
   "metadata": {},
   "source": [
    "-> 단순하게 문자열로 인식했기 때문에 7과 3을 나열함, 출력값: 73 <br>\n",
    "에러 내용에 str and str, 문자열과 문자열의 조합"
   ]
  },
  {
   "cell_type": "markdown",
   "id": "e8ac20e0",
   "metadata": {},
   "source": [
    "### 형변환"
   ]
  },
  {
   "cell_type": "code",
   "execution_count": null,
   "id": "960f4a9d",
   "metadata": {},
   "outputs": [],
   "source": [
    "int(), float(), str()"
   ]
  },
  {
   "cell_type": "code",
   "execution_count": 41,
   "id": "0c65a852",
   "metadata": {},
   "outputs": [
    {
     "data": {
      "text/plain": [
       "7"
      ]
     },
     "execution_count": 41,
     "metadata": {},
     "output_type": "execute_result"
    }
   ],
   "source": [
    "int(\"7\")"
   ]
  },
  {
   "cell_type": "code",
   "execution_count": 34,
   "id": "c167e28d",
   "metadata": {},
   "outputs": [
    {
     "data": {
      "text/plain": [
       "3.14"
      ]
     },
     "execution_count": 34,
     "metadata": {},
     "output_type": "execute_result"
    }
   ],
   "source": [
    "float(\"3.14\")"
   ]
  },
  {
   "cell_type": "markdown",
   "id": "87657aba",
   "metadata": {},
   "source": [
    "*int = 형식 사용 불가능* <br>\n",
    "int = 을 작성하고 실행하면 int를 새로 정의함 <br>\n",
    "따라서 위에 작성한 코드가 망가짐 <br><br>\n",
    "\n",
    "해결 방법: 종료한 뒤 다시 오픈"
   ]
  },
  {
   "cell_type": "code",
   "execution_count": 35,
   "id": "e6b5976f",
   "metadata": {},
   "outputs": [
    {
     "name": "stdout",
     "output_type": "stream",
     "text": [
      "10\n",
      "4\n",
      "21\n",
      "2.3333333333333335\n"
     ]
    }
   ],
   "source": [
    "num1 = int(input(\"첫 번째 숫자를 입력하세요\"))\n",
    "num2 = int(input(\"두 번째 숫자를 입력하세요.\"))\n",
    "\n",
    "print(num1 + num2)\n",
    "print(num1 - num2)\n",
    "print(num1 * num2)\n",
    "print(num1 / num2)"
   ]
  },
  {
   "cell_type": "code",
   "execution_count": null,
   "id": "bf8c4fbe",
   "metadata": {},
   "outputs": [],
   "source": [
    "mynumber\n",
    "my_number\n",
    "myNumber\n",
    "3number, 가number (X)\n",
    "\n",
    "#변수 이름 생성 가능, 임의 지정보다는 적절히 의미를 알 수 있도록"
   ]
  },
  {
   "cell_type": "code",
   "execution_count": 44,
   "id": "7332034a",
   "metadata": {},
   "outputs": [
    {
     "name": "stdout",
     "output_type": "stream",
     "text": [
      "True\n",
      "True\n",
      "False\n"
     ]
    }
   ],
   "source": [
    "print((3<5) and (3>0))\n",
    "print((4<7) or (5>8))\n",
    "print(not(5<9))"
   ]
  },
  {
   "cell_type": "code",
   "execution_count": 61,
   "id": "db4dfa5f",
   "metadata": {},
   "outputs": [
    {
     "name": "stdout",
     "output_type": "stream",
     "text": [
      "\"안녕\"이라고 말했다.\n",
      "'바본가?'라고 생각했다.\n"
     ]
    }
   ],
   "source": [
    "print('\"안녕\"이라고 말했다.')\n",
    "print(\"'바본가?'라고 생각했다.\")\n",
    "\n",
    "#다른 쿼테이션을 사용하는 경우 혼용 가능"
   ]
  },
  {
   "cell_type": "code",
   "execution_count": null,
   "id": "93a64375",
   "metadata": {},
   "outputs": [
    {
     "name": "stdout",
     "output_type": "stream",
     "text": [
      "\"안녕\"이라고 말했다.\n"
     ]
    }
   ],
   "source": [
    "print(\"\\\"안녕\\\"이라고 말했다.\")\n",
    "\n",
    "#역슬래쉬 사용하는 경우 같은 쿼테이션 사용 가능"
   ]
  },
  {
   "cell_type": "code",
   "execution_count": 59,
   "id": "596f2210",
   "metadata": {},
   "outputs": [],
   "source": [
    "sentence= \"\"\"\n",
    "안녕\n",
    "반가워\n",
    "추워\n",
    "\"\"\""
   ]
  },
  {
   "cell_type": "code",
   "execution_count": 60,
   "id": "43cd01c2",
   "metadata": {},
   "outputs": [
    {
     "name": "stdout",
     "output_type": "stream",
     "text": [
      "\n",
      "안녕\n",
      "반가워\n",
      "추워\n",
      "\n"
     ]
    }
   ],
   "source": [
    "print(sentence)"
   ]
  },
  {
   "cell_type": "code",
   "execution_count": 57,
   "id": "d8210037",
   "metadata": {},
   "outputs": [
    {
     "name": "stdout",
     "output_type": "stream",
     "text": [
      "'낮말'은 새가 듣고 '밤말'은 쥐가 듣는다.\n"
     ]
    }
   ],
   "source": [
    "print(\"'낮말'은 새가 듣고 '밤말'은 쥐가 듣는다.\")"
   ]
  },
  {
   "cell_type": "code",
   "execution_count": 79,
   "id": "29fbabc0",
   "metadata": {},
   "outputs": [
    {
     "name": "stdout",
     "output_type": "stream",
     "text": [
      "Hello Phyton\n",
      "Hello Hello\n",
      "HelloHello\n",
      "\n",
      "HelloHelloHelloHelloHello\n",
      "\n",
      "Hello/Hello/Hello/Hello/Hello,"
     ]
    }
   ],
   "source": [
    "print(\"Hello\", \"Phyton\")\n",
    "print(\"Hello\", end=\" \")\n",
    "print(\"Hello\")\n",
    "print(\"Hello\", end=\"\")\n",
    "print(\"Hello\")\n",
    "print()\n",
    "print(\"Hello\" * 5)\n",
    "print()\n",
    "print(\"Hello\", \"Hello\", \"Hello\", \"Hello\", \"Hello\", end=\",\", sep=\"/\")"
   ]
  },
  {
   "cell_type": "code",
   "execution_count": null,
   "id": "24277ffe",
   "metadata": {},
   "outputs": [
    {
     "name": "stdout",
     "output_type": "stream",
     "text": [
      "\n"
     ]
    }
   ],
   "source": [
    "print()\n",
    "\n",
    "# 기본적으로 줄바꿈(\\n)이 포함되어 있음\n",
    "# 콤마(,)는 스페이스가 포함되어 있음\n",
    "# , end=\"\" 줄바꿈을 하지 않음"
   ]
  },
  {
   "cell_type": "code",
   "execution_count": null,
   "id": "8665af26",
   "metadata": {},
   "outputs": [],
   "source": [
    "num1 = int(input(\"첫 번째 숫자를 입력하세요\"))\n",
    "num2 = int(input(\"두 번째 숫자를 입력하세요.\"))\n",
    "\n",
    "print(num1 + num2) \n",
    "print(num1 - num2)\n",
    "print(num1 * num2)\n",
    "print(num1 / num2)"
   ]
  },
  {
   "cell_type": "code",
   "execution_count": null,
   "id": "46000334",
   "metadata": {},
   "outputs": [
    {
     "name": "stdout",
     "output_type": "stream",
     "text": [
      "7 + 3 = 10\n",
      "더하기의 결과는: 7 + 3 = 10\n"
     ]
    }
   ],
   "source": [
    "# 7+3=10 형태 출력 방법: f-string\n",
    "# f\"\" 형태, 변수는 {}로 입력. 외의 모든 값은 문자열(str)로 인식\n",
    "\n",
    "num1 = 7\n",
    "num2 = 3\n",
    "\n",
    "print(num1, \"+\", num2, \"=\", num1+num2)\n",
    "print(f\"더하기의 결과는: {num1} + {num2} = {num1+num2}\")"
   ]
  },
  {
   "cell_type": "markdown",
   "id": "14229027",
   "metadata": {},
   "source": [
    "### bool 자료형"
   ]
  },
  {
   "cell_type": "code",
   "execution_count": null,
   "id": "7b2e5e88",
   "metadata": {},
   "outputs": [],
   "source": [
    "True 참, False 거짓"
   ]
  },
  {
   "cell_type": "code",
   "execution_count": 89,
   "id": "885c1fcc",
   "metadata": {},
   "outputs": [
    {
     "data": {
      "text/plain": [
       "True"
      ]
     },
     "execution_count": 89,
     "metadata": {},
     "output_type": "execute_result"
    }
   ],
   "source": [
    "1 == 1"
   ]
  },
  {
   "cell_type": "code",
   "execution_count": 86,
   "id": "f2bb06b1",
   "metadata": {},
   "outputs": [
    {
     "name": "stdout",
     "output_type": "stream",
     "text": [
      "<class 'bool'>\n"
     ]
    }
   ],
   "source": [
    "print(type(True))"
   ]
  },
  {
   "cell_type": "code",
   "execution_count": null,
   "id": "e29d397d",
   "metadata": {},
   "outputs": [],
   "source": [
    "int(), str(), float(), bool() \n",
    "\n",
    "# bool 또한 형변환 함수"
   ]
  },
  {
   "cell_type": "code",
   "execution_count": 98,
   "id": "ecec08a3",
   "metadata": {},
   "outputs": [
    {
     "data": {
      "text/plain": [
       "False"
      ]
     },
     "execution_count": 98,
     "metadata": {},
     "output_type": "execute_result"
    }
   ],
   "source": [
    "bool(0)\n",
    "\n",
    "# only 0만 False"
   ]
  },
  {
   "cell_type": "code",
   "execution_count": 92,
   "id": "a4d3f543",
   "metadata": {},
   "outputs": [
    {
     "data": {
      "text/plain": [
       "True"
      ]
     },
     "execution_count": 92,
     "metadata": {},
     "output_type": "execute_result"
    }
   ],
   "source": [
    "bool(1)"
   ]
  },
  {
   "cell_type": "code",
   "execution_count": 93,
   "id": "1f1b28e6",
   "metadata": {},
   "outputs": [
    {
     "data": {
      "text/plain": [
       "True"
      ]
     },
     "execution_count": 93,
     "metadata": {},
     "output_type": "execute_result"
    }
   ],
   "source": [
    "bool(100)"
   ]
  },
  {
   "cell_type": "code",
   "execution_count": 94,
   "id": "cf45a856",
   "metadata": {},
   "outputs": [
    {
     "data": {
      "text/plain": [
       "True"
      ]
     },
     "execution_count": 94,
     "metadata": {},
     "output_type": "execute_result"
    }
   ],
   "source": [
    "bool(-1)"
   ]
  },
  {
   "cell_type": "code",
   "execution_count": null,
   "id": "4aecb146",
   "metadata": {},
   "outputs": [
    {
     "data": {
      "text/plain": [
       "False"
      ]
     },
     "execution_count": 95,
     "metadata": {},
     "output_type": "execute_result"
    }
   ],
   "source": [
    "bool('')\n",
    "\n",
    "# 비어있는 문자열 -> False "
   ]
  },
  {
   "cell_type": "markdown",
   "id": "c074e5d1",
   "metadata": {},
   "source": [
    "#### 오전 마무리 미션"
   ]
  },
  {
   "cell_type": "code",
   "execution_count": 128,
   "id": "ee1ca277",
   "metadata": {},
   "outputs": [
    {
     "name": "stdout",
     "output_type": "stream",
     "text": [
      "김밥 주문 갯수 : 2\n",
      "떡볶이 주문 갯수 : 1\n",
      "라면 주문 갯수 : 2\n",
      "지불하실 금액은 14500 원 입니다.\n",
      "지불하실 금액은 14500 원 입니다.\n"
     ]
    }
   ],
   "source": [
    "p1 = 3000\n",
    "p2 = 3500\n",
    "p3 = 2500\n",
    "\n",
    "n1 = int(input(\"김밥 주문 갯수 입력\"))\n",
    "n2 = int(input(\"떡볶이 주문 갯수 입력\"))\n",
    "n3 = int(input(\"라면 주문 갯수 입력\"))\n",
    "\n",
    "\n",
    "print(\"김밥 주문 갯수 :\", n1)\n",
    "print(\"떡볶이 주문 갯수 :\", n2)\n",
    "print(\"라면 주문 갯수 :\", n3)\n",
    "\n",
    "print(\"지불하실 금액은\", p1*n1 + p2*n2 + p3*n3, \"원 입니다.\")\n",
    "print(f\"지불하실 금액은 {p1*n1 + p2*n2 + p3*n3} 원 입니다.\")"
   ]
  }
 ],
 "metadata": {
  "kernelspec": {
   "display_name": "Python 3",
   "language": "python",
   "name": "python3"
  },
  "language_info": {
   "codemirror_mode": {
    "name": "ipython",
    "version": 3
   },
   "file_extension": ".py",
   "mimetype": "text/x-python",
   "name": "python",
   "nbconvert_exporter": "python",
   "pygments_lexer": "ipython3",
   "version": "3.11.8"
  }
 },
 "nbformat": 4,
 "nbformat_minor": 5
}
