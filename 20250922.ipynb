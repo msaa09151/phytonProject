{
 "cells": [
  {
   "cell_type": "code",
   "execution_count": null,
   "id": "8757aca6",
   "metadata": {},
   "outputs": [],
   "source": [
    "# for, while에서 탈출 -> break\n",
    "# 중첩 반복문에서 탈출 -> for 문이 2번 중첩되었을 경우, break도 2번 사용\n",
    "\n",
    "number = 0\n",
    "break_all = False # 상태 플래그\n",
    "\n",
    "for i in range(5):\n",
    "    for j in range(5):\n",
    "       print(f\"(i = {i}, j = {j})\")\n",
    "       if i == 2 and i == 3:\n",
    "           number = i * j\n",
    "           break_all = True\n",
    "           break\n",
    "    if break_all:\n",
    "        break\n",
    "\n",
    "print(number) \n",
    "\n",
    "number = 0\n",
    "done = False\n",
    "for i in range(5):\n",
    "    for j in range(5):\n",
    "        print(f\"(i = {i}, j = {j})\")\n",
    "        if i == 2 and j == 3:\n",
    "            number += 1\n",
    "            done = True\n",
    "            break\n",
    "    if done:\n",
    "        break\n",
    " \n",
    "print(number // 6)"
   ]
  },
  {
   "cell_type": "code",
   "execution_count": 1,
   "id": "344cbdad",
   "metadata": {},
   "outputs": [
    {
     "name": "stdout",
     "output_type": "stream",
     "text": [
      "(i = 0, j = 0)\n",
      "(i = 0, j = 1)\n",
      "(i = 0, j = 2)\n",
      "(i = 0, j = 3)\n",
      "(i = 0, j = 4)\n",
      "(i = 1, j = 0)\n",
      "(i = 1, j = 1)\n",
      "(i = 1, j = 2)\n",
      "(i = 1, j = 3)\n",
      "(i = 1, j = 4)\n",
      "(i = 2, j = 0)\n",
      "(i = 2, j = 1)\n",
      "(i = 2, j = 2)\n",
      "(i = 2, j = 3)\n",
      "0\n"
     ]
    }
   ],
   "source": [
    "# for, while에서 탈출 -> break\n",
    "# 중첩 반복문에서 탈출 -> for 문이 2번 중첩되었을 경우, break도 2번 사용\n",
    "\n",
    "number = 0\n",
    "break_all = False # 상태 플래그\n",
    "\n",
    "\n",
    "number = 0\n",
    "done = False\n",
    "for i in range(5):\n",
    "    for j in range(5):\n",
    "        print(f\"(i = {i}, j = {j})\")\n",
    "        if i == 2 and j == 3:\n",
    "            number += 1\n",
    "            done = True\n",
    "            break\n",
    "    if done:\n",
    "        break\n",
    " \n",
    "print(number // 6)"
   ]
  },
  {
   "cell_type": "code",
   "execution_count": 7,
   "id": "5cf852c5",
   "metadata": {},
   "outputs": [
    {
     "name": "stdout",
     "output_type": "stream",
     "text": [
      "         *"
     ]
    },
    {
     "ename": "ValueError",
     "evalue": "invalid literal for int() with base 10: ''",
     "output_type": "error",
     "traceback": [
      "\u001b[31m---------------------------------------------------------------------------\u001b[39m",
      "\u001b[31mValueError\u001b[39m                                Traceback (most recent call last)",
      "\u001b[36mCell\u001b[39m\u001b[36m \u001b[39m\u001b[32mIn[7]\u001b[39m\u001b[32m, line 17\u001b[39m\n\u001b[32m     15\u001b[39m \u001b[38;5;28;01mfor\u001b[39;00m s \u001b[38;5;129;01min\u001b[39;00m \u001b[38;5;28mrange\u001b[39m(\u001b[32m2\u001b[39m * i - \u001b[32m1\u001b[39m): \u001b[38;5;66;03m# for 문을 더하면 i\u001b[39;00m\n\u001b[32m     16\u001b[39m     \u001b[38;5;28mprint\u001b[39m(star, end=\u001b[33m\"\u001b[39m\u001b[33m\"\u001b[39m)\n\u001b[32m---> \u001b[39m\u001b[32m17\u001b[39m \u001b[38;5;28;01mif\u001b[39;00m \u001b[38;5;28;43mint\u001b[39;49m\u001b[43m(\u001b[49m\u001b[43mstar\u001b[49m\u001b[43m \u001b[49m\u001b[43m*\u001b[49m\u001b[43m \u001b[49m\u001b[43ms\u001b[49m\u001b[43m)\u001b[49m >= s:\n\u001b[32m     18\u001b[39m     \u001b[38;5;28;01mbreak\u001b[39;00m\n\u001b[32m     19\u001b[39m \u001b[38;5;28mprint\u001b[39m()\n",
      "\u001b[31mValueError\u001b[39m: invalid literal for int() with base 10: ''"
     ]
    }
   ],
   "source": [
    "# 사용자로부터 n개의 별의 갯수를 입력받은 뒤,\n",
    "# 별을 출력하되 갯수만큼만 출력하다가 별이 다 소진되면 멈추는 코드 작성\n",
    "# 트리의 최대 높이는 10층\n",
    "\n",
    "n = 10\n",
    "s = int(input(\"별의 갯수를 입력해 주세요: \"))\n",
    "\n",
    "empty = \" \"\n",
    "star = \"*\" \n",
    "\n",
    "\n",
    "for i in range(1, n+1):\n",
    "    for s in range(n-i):\n",
    "        print(empty, end=\"\")\n",
    "    for s in range(2 * i - 1): # for 문을 더하면 i\n",
    "        print(star, end=\"\")\n",
    "    if int(star * s) >= s:\n",
    "        break\n",
    "    print()"
   ]
  },
  {
   "cell_type": "code",
   "execution_count": 24,
   "id": "fd3c22eb",
   "metadata": {},
   "outputs": [
    {
     "name": "stdout",
     "output_type": "stream",
     "text": [
      "*\n",
      "**\n",
      "***\n",
      "****\n",
      "*****\n",
      "******\n",
      "*******\n",
      "**"
     ]
    }
   ],
   "source": [
    "star_num = int(input(\"별의 갯수를 입력해 주세요:\"))\n",
    "\n",
    "star = 0 \n",
    "break_all = False\n",
    "\n",
    "for i in range(1, 10 + 1): # 최대 10층\n",
    "    for j in range(i):\n",
    "        star = star + 1\n",
    "        if star > star_num:\n",
    "            break_all = True\n",
    "            break\n",
    "        print(\"*\", end=\"\")\n",
    "    if break_all:\n",
    "        break\n",
    "    print()"
   ]
  },
  {
   "cell_type": "code",
   "execution_count": 23,
   "id": "585709db",
   "metadata": {},
   "outputs": [
    {
     "name": "stdout",
     "output_type": "stream",
     "text": [
      "*\n",
      "**\n",
      "***\n",
      "****\n",
      "*****\n",
      "******\n",
      "*******\n",
      "**"
     ]
    }
   ],
   "source": [
    "n = 30\n",
    "star = 0\n",
    "break_all = False\n",
    "\n",
    "for i in range(1, 10 + 1):\n",
    "    for j in range(i):\n",
    "        star += 1\n",
    "        if star >  n:\n",
    "            break_all = True\n",
    "            break\n",
    "        print('*', end=\"\")\n",
    "    if break_all:\n",
    "        break\n",
    "    print()"
   ]
  },
  {
   "cell_type": "markdown",
   "id": "99a460e4",
   "metadata": {},
   "source": [
    "# 2026-09-22"
   ]
  },
  {
   "cell_type": "code",
   "execution_count": null,
   "id": "304e05ad",
   "metadata": {},
   "outputs": [],
   "source": [
    "# 문자 H만 꺼내고 싶은 경우 인덱스[] 사용\n",
    "# 인덱싱 0~n / 음수 인덱싱 -1~-(n-1)\n",
    "\n",
    "my_str = \"Hello, Phyton\"\n",
    "\n",
    "my_str[7]\n",
    "my_str[-1]"
   ]
  },
  {
   "cell_type": "code",
   "execution_count": null,
   "id": "cfb9e38e",
   "metadata": {},
   "outputs": [],
   "source": [
    "# 인덱스 n개 불러오기\n",
    "\n",
    "my_str[7, 8, 9, 10] # 인덱스 콤마로 n개 연결 불가능\n",
    "my_str[7], my_str[8] + ... or my_str[7:9] # 슬라이스 cf. start(이상):end(미만)\n",
    "my_str[7:] # 7부터 끝까지 출력\n",
    "my_str[:] # 처음부터 끝까지 전체 출력"
   ]
  },
  {
   "cell_type": "code",
   "execution_count": null,
   "id": "d5691b0a",
   "metadata": {},
   "outputs": [
    {
     "data": {
      "text/plain": [
       "'nth olH'"
      ]
     },
     "execution_count": 40,
     "metadata": {},
     "output_type": "execute_result"
    }
   ],
   "source": [
    "# 인덱스 n개 불러오기 + step\n",
    "\n",
    "my_str [: : 2] # start(이상):end(미만):step\n",
    "my_str [: : -2]"
   ]
  },
  {
   "cell_type": "code",
   "execution_count": 43,
   "id": "ccbf3936",
   "metadata": {},
   "outputs": [
    {
     "data": {
      "text/plain": [
       "13"
      ]
     },
     "execution_count": 43,
     "metadata": {},
     "output_type": "execute_result"
    }
   ],
   "source": [
    "type(my_str) # 타입 확인\n",
    "len(my_str) # 길이 확인"
   ]
  },
  {
   "cell_type": "code",
   "execution_count": 45,
   "id": "501b581b",
   "metadata": {},
   "outputs": [
    {
     "data": {
      "text/plain": [
       "'n'"
      ]
     },
     "execution_count": 45,
     "metadata": {},
     "output_type": "execute_result"
    }
   ],
   "source": [
    "my_str[12]"
   ]
  },
  {
   "cell_type": "code",
   "execution_count": null,
   "id": "a3ec9973",
   "metadata": {},
   "outputs": [],
   "source": [
    "for i in my_str: # 문자열 안의 데이터 꺼내기\n",
    "    print(i)"
   ]
  },
  {
   "cell_type": "code",
   "execution_count": null,
   "id": "26a0982f",
   "metadata": {},
   "outputs": [],
   "source": [
    "for i in range(len(my_str)): \n",
    "    print(my_str[i])"
   ]
  },
  {
   "cell_type": "code",
   "execution_count": null,
   "id": "7d2d5bec",
   "metadata": {},
   "outputs": [],
   "source": [
    "# 문자열 데이터의 여러가지 기능들\n",
    "\n",
    "my_str.lower() # 전체 문자열을 소문자로 변환\n",
    "my_str.upper() # 전체 문자열을 대문자로 변환\n",
    "my_str.split() # split() 괄호 안의 기준에 맞춰 문자열을 분리"
   ]
  },
  {
   "cell_type": "code",
   "execution_count": null,
   "id": "c06b90ab",
   "metadata": {},
   "outputs": [
    {
     "name": "stdout",
     "output_type": "stream",
     "text": [
      "['Hello', ' Phyton']\n"
     ]
    }
   ],
   "source": [
    "words = my_str.split(\",\") # split 메소드\n",
    "print(words)"
   ]
  },
  {
   "cell_type": "markdown",
   "id": "d442da16",
   "metadata": {},
   "source": [
    "### 컬렉션 자료형"
   ]
  },
  {
   "cell_type": "markdown",
   "id": "8a14976d",
   "metadata": {},
   "source": [
    "#### 리스트"
   ]
  },
  {
   "cell_type": "code",
   "execution_count": 12,
   "id": "c05a6769",
   "metadata": {},
   "outputs": [],
   "source": [
    "# 리스트: 복수의 다양한 형태의 데이터를 순서대로 저장하고 조작하는 기본 자료형\n",
    "# 각 데이터는 콤마로 구분\n",
    "\n",
    "numbers = []\n",
    "numbers = [1, 2, 3]\n",
    "fruits = [\"apple\", \"banana\", \"mango\"]\n",
    "mixed = [1, \"apple\", True, [10, 20, 30]]"
   ]
  },
  {
   "cell_type": "code",
   "execution_count": 13,
   "id": "c5ff76d0",
   "metadata": {},
   "outputs": [
    {
     "data": {
      "text/plain": [
       "list"
      ]
     },
     "execution_count": 13,
     "metadata": {},
     "output_type": "execute_result"
    }
   ],
   "source": [
    "type(numbers)"
   ]
  },
  {
   "cell_type": "code",
   "execution_count": 14,
   "id": "3925ccda",
   "metadata": {},
   "outputs": [],
   "source": [
    "numbers1 = [1, 2, 3, 4, 5]\n",
    "numbers2 = [6, 7, 8, 9, 10]\n",
    "fruits = [\"apple\", \"banana\", \"mango\"]"
   ]
  },
  {
   "cell_type": "code",
   "execution_count": 15,
   "id": "535b982c",
   "metadata": {},
   "outputs": [
    {
     "data": {
      "text/plain": [
       "[1, 2, 3, 4, 5, 6, 7, 8, 9, 10]"
      ]
     },
     "execution_count": 15,
     "metadata": {},
     "output_type": "execute_result"
    }
   ],
   "source": [
    "numbers1 + numbers2 # 리스트 연결"
   ]
  },
  {
   "cell_type": "code",
   "execution_count": 16,
   "id": "fdc280c3",
   "metadata": {},
   "outputs": [
    {
     "data": {
      "text/plain": [
       "[1, 2, 3, 4, 5, 1, 2, 3, 4, 5, 1, 2, 3, 4, 5]"
      ]
     },
     "execution_count": 16,
     "metadata": {},
     "output_type": "execute_result"
    }
   ],
   "source": [
    "numbers1 * 3"
   ]
  },
  {
   "cell_type": "code",
   "execution_count": 17,
   "id": "215f5953",
   "metadata": {},
   "outputs": [
    {
     "data": {
      "text/plain": [
       "['apple', 'banana']"
      ]
     },
     "execution_count": 17,
     "metadata": {},
     "output_type": "execute_result"
    }
   ],
   "source": [
    "fruits[:2]"
   ]
  },
  {
   "cell_type": "code",
   "execution_count": 18,
   "id": "4d935b50",
   "metadata": {},
   "outputs": [],
   "source": [
    "# 기존 값 수정\n",
    "\n",
    "fruits[0] = \"grape\""
   ]
  },
  {
   "cell_type": "code",
   "execution_count": 19,
   "id": "8205cba6",
   "metadata": {},
   "outputs": [
    {
     "data": {
      "text/plain": [
       "'grape'"
      ]
     },
     "execution_count": 19,
     "metadata": {},
     "output_type": "execute_result"
    }
   ],
   "source": [
    "fruits[0]"
   ]
  },
  {
   "cell_type": "code",
   "execution_count": 20,
   "id": "374354bf",
   "metadata": {},
   "outputs": [
    {
     "data": {
      "text/plain": [
       "['grape', 'banana', 'mango']"
      ]
     },
     "execution_count": 20,
     "metadata": {},
     "output_type": "execute_result"
    }
   ],
   "source": [
    "fruits"
   ]
  },
  {
   "cell_type": "code",
   "execution_count": 21,
   "id": "6fa30272",
   "metadata": {},
   "outputs": [],
   "source": [
    "# 없는 인덱스 번호로 추가 불가능\n",
    "\n",
    "# fruits [3] 불가능\n",
    "fruits.append(\"cherry\") # append: 맨 끝에 인덱스 추가 가능"
   ]
  },
  {
   "cell_type": "code",
   "execution_count": 22,
   "id": "411f47aa",
   "metadata": {},
   "outputs": [
    {
     "data": {
      "text/plain": [
       "['grape', 'banana', 'mango', 'cherry']"
      ]
     },
     "execution_count": 22,
     "metadata": {},
     "output_type": "execute_result"
    }
   ],
   "source": [
    "fruits"
   ]
  },
  {
   "cell_type": "code",
   "execution_count": 23,
   "id": "ed50d533",
   "metadata": {},
   "outputs": [],
   "source": [
    "fruits.insert(2, \"kiwi\") # insert(인덱스, 내용): 원하는 위치에 인덱스 추가 가능"
   ]
  },
  {
   "cell_type": "code",
   "execution_count": 24,
   "id": "ee8474c8",
   "metadata": {},
   "outputs": [
    {
     "data": {
      "text/plain": [
       "['grape', 'banana', 'kiwi', 'mango', 'cherry']"
      ]
     },
     "execution_count": 24,
     "metadata": {},
     "output_type": "execute_result"
    }
   ],
   "source": [
    "fruits"
   ]
  },
  {
   "cell_type": "code",
   "execution_count": 25,
   "id": "639dc9f8",
   "metadata": {},
   "outputs": [],
   "source": [
    "fruits.extend([\"orange\", \"date\"]) # 리스트 추가"
   ]
  },
  {
   "cell_type": "code",
   "execution_count": 26,
   "id": "6357b9fe",
   "metadata": {},
   "outputs": [
    {
     "data": {
      "text/plain": [
       "['grape', 'banana', 'kiwi', 'mango', 'cherry', 'orange', 'date']"
      ]
     },
     "execution_count": 26,
     "metadata": {},
     "output_type": "execute_result"
    }
   ],
   "source": [
    "fruits"
   ]
  },
  {
   "cell_type": "code",
   "execution_count": 27,
   "id": "731acd28",
   "metadata": {},
   "outputs": [
    {
     "data": {
      "text/plain": [
       "'date'"
      ]
     },
     "execution_count": 27,
     "metadata": {},
     "output_type": "execute_result"
    }
   ],
   "source": [
    "fruits.pop() # pop: 맨 뒤의 인덱스 삭제 가능 "
   ]
  },
  {
   "cell_type": "code",
   "execution_count": 28,
   "id": "91b45634",
   "metadata": {},
   "outputs": [
    {
     "data": {
      "text/plain": [
       "['grape', 'banana', 'kiwi', 'mango', 'cherry', 'orange']"
      ]
     },
     "execution_count": 28,
     "metadata": {},
     "output_type": "execute_result"
    }
   ],
   "source": [
    "fruits"
   ]
  },
  {
   "cell_type": "code",
   "execution_count": 29,
   "id": "31f9faed",
   "metadata": {},
   "outputs": [
    {
     "data": {
      "text/plain": [
       "'banana'"
      ]
     },
     "execution_count": 29,
     "metadata": {},
     "output_type": "execute_result"
    }
   ],
   "source": [
    "fruits.pop(1) # 인덱스 지정 가능"
   ]
  },
  {
   "cell_type": "code",
   "execution_count": 30,
   "id": "5c805eb4",
   "metadata": {},
   "outputs": [
    {
     "data": {
      "text/plain": [
       "['grape', 'kiwi', 'mango', 'cherry', 'orange']"
      ]
     },
     "execution_count": 30,
     "metadata": {},
     "output_type": "execute_result"
    }
   ],
   "source": [
    "fruits"
   ]
  },
  {
   "cell_type": "code",
   "execution_count": 31,
   "id": "590e1d27",
   "metadata": {},
   "outputs": [],
   "source": [
    "fruits.remove(\"cherry\") # remove: 특정 인덱스 작성 시 삭제 가능"
   ]
  },
  {
   "cell_type": "code",
   "execution_count": 85,
   "id": "8ad13f61",
   "metadata": {},
   "outputs": [
    {
     "ename": "NameError",
     "evalue": "name 'fruits' is not defined",
     "output_type": "error",
     "traceback": [
      "\u001b[31m---------------------------------------------------------------------------\u001b[39m",
      "\u001b[31mNameError\u001b[39m                                 Traceback (most recent call last)",
      "\u001b[36mCell\u001b[39m\u001b[36m \u001b[39m\u001b[32mIn[85]\u001b[39m\u001b[32m, line 1\u001b[39m\n\u001b[32m----> \u001b[39m\u001b[32m1\u001b[39m \u001b[43mfruits\u001b[49m\n",
      "\u001b[31mNameError\u001b[39m: name 'fruits' is not defined"
     ]
    }
   ],
   "source": [
    "fruits"
   ]
  },
  {
   "cell_type": "code",
   "execution_count": 33,
   "id": "84879d08",
   "metadata": {},
   "outputs": [
    {
     "data": {
      "text/plain": [
       "3"
      ]
     },
     "execution_count": 33,
     "metadata": {},
     "output_type": "execute_result"
    }
   ],
   "source": [
    "fruits.index(\"orange\") # index: 특정 인덱스 번호 확인 가능"
   ]
  },
  {
   "cell_type": "code",
   "execution_count": 34,
   "id": "952c46b4",
   "metadata": {},
   "outputs": [
    {
     "ename": "SyntaxError",
     "evalue": "invalid syntax (923193806.py, line 1)",
     "output_type": "error",
     "traceback": [
      "  \u001b[36mCell\u001b[39m\u001b[36m \u001b[39m\u001b[32mIn[34]\u001b[39m\u001b[32m, line 1\u001b[39m\n\u001b[31m    \u001b[39m\u001b[31mfruits.\u001b[39m\n           ^\n\u001b[31mSyntaxError\u001b[39m\u001b[31m:\u001b[39m invalid syntax\n"
     ]
    }
   ],
   "source": [
    "fruits."
   ]
  },
  {
   "cell_type": "code",
   "execution_count": null,
   "id": "940ab8b8",
   "metadata": {},
   "outputs": [],
   "source": [
    "fruits.count(\"cherry\") # count: 특정 인덱스의 수 확인 가능"
   ]
  },
  {
   "cell_type": "code",
   "execution_count": null,
   "id": "b6be1708",
   "metadata": {},
   "outputs": [],
   "source": [
    "# 만약 동일한 내용의 인덱스가 여러 개라면,\n",
    "# remove: 맨 앞에 위치한 인덱스 삭제\n",
    "# 특정 인덱스를 삭제하고 싶다면 위치 확인한 뒤 삭제 (index -> )\n",
    "\n",
    "# 함수는 앞에 함수(내용)\n",
    "# 메소드는 뒤에 .메소드\n",
    "# 메소드는 원본과 사본을 건드는 것으로 나뉨"
   ]
  },
  {
   "cell_type": "code",
   "execution_count": null,
   "id": "cf15fd0f",
   "metadata": {},
   "outputs": [],
   "source": [
    "fruits.append(\"apple\")"
   ]
  },
  {
   "cell_type": "code",
   "execution_count": 84,
   "id": "9f341e89",
   "metadata": {},
   "outputs": [
    {
     "ename": "NameError",
     "evalue": "name 'fruits' is not defined",
     "output_type": "error",
     "traceback": [
      "\u001b[31m---------------------------------------------------------------------------\u001b[39m",
      "\u001b[31mNameError\u001b[39m                                 Traceback (most recent call last)",
      "\u001b[36mCell\u001b[39m\u001b[36m \u001b[39m\u001b[32mIn[84]\u001b[39m\u001b[32m, line 1\u001b[39m\n\u001b[32m----> \u001b[39m\u001b[32m1\u001b[39m \u001b[43mfruits\u001b[49m\n",
      "\u001b[31mNameError\u001b[39m: name 'fruits' is not defined"
     ]
    }
   ],
   "source": [
    "fruits"
   ]
  },
  {
   "cell_type": "code",
   "execution_count": 83,
   "id": "773d965f",
   "metadata": {},
   "outputs": [
    {
     "ename": "NameError",
     "evalue": "name 'fruits' is not defined",
     "output_type": "error",
     "traceback": [
      "\u001b[31m---------------------------------------------------------------------------\u001b[39m",
      "\u001b[31mNameError\u001b[39m                                 Traceback (most recent call last)",
      "\u001b[36mCell\u001b[39m\u001b[36m \u001b[39m\u001b[32mIn[83]\u001b[39m\u001b[32m, line 1\u001b[39m\n\u001b[32m----> \u001b[39m\u001b[32m1\u001b[39m \u001b[43mfruits\u001b[49m.sort() \u001b[38;5;66;03m# 알파벳, 숫자 등의 오름차순 순으로 정렬\u001b[39;00m\n",
      "\u001b[31mNameError\u001b[39m: name 'fruits' is not defined"
     ]
    }
   ],
   "source": [
    "fruits.sort() # 알파벳, 숫자 등의 오름차순 순으로 정렬"
   ]
  },
  {
   "cell_type": "code",
   "execution_count": null,
   "id": "6e4458af",
   "metadata": {},
   "outputs": [
    {
     "data": {
      "text/plain": [
       "['apple', 'grape', 'kiwi', 'mango', 'orange']"
      ]
     },
     "execution_count": 95,
     "metadata": {},
     "output_type": "execute_result"
    }
   ],
   "source": [
    "fruits"
   ]
  },
  {
   "cell_type": "code",
   "execution_count": null,
   "id": "2192c062",
   "metadata": {},
   "outputs": [],
   "source": [
    "numbers3 = [1, 2, 5, 4, 3]"
   ]
  },
  {
   "cell_type": "code",
   "execution_count": null,
   "id": "b4f5c529",
   "metadata": {},
   "outputs": [],
   "source": [
    "numbers.sort()"
   ]
  },
  {
   "cell_type": "code",
   "execution_count": null,
   "id": "38f75da7",
   "metadata": {},
   "outputs": [
    {
     "data": {
      "text/plain": [
       "[1, 2, 5, 4, 3]"
      ]
     },
     "execution_count": 98,
     "metadata": {},
     "output_type": "execute_result"
    }
   ],
   "source": [
    "numbers3"
   ]
  },
  {
   "cell_type": "code",
   "execution_count": null,
   "id": "5e622f99",
   "metadata": {},
   "outputs": [],
   "source": [
    "numbers3.sort(reverse = True) # 내림차순 정리"
   ]
  },
  {
   "cell_type": "code",
   "execution_count": null,
   "id": "467a4e75",
   "metadata": {},
   "outputs": [
    {
     "data": {
      "text/plain": [
       "[5, 4, 3, 2, 1]"
      ]
     },
     "execution_count": 101,
     "metadata": {},
     "output_type": "execute_result"
    }
   ],
   "source": [
    "numbers3"
   ]
  },
  {
   "cell_type": "code",
   "execution_count": null,
   "id": "17380f38",
   "metadata": {},
   "outputs": [
    {
     "data": {
      "text/plain": [
       "['apple', 'grape', 'kiwi', 'mango', 'orange']"
      ]
     },
     "execution_count": 102,
     "metadata": {},
     "output_type": "execute_result"
    }
   ],
   "source": [
    "fruits"
   ]
  },
  {
   "cell_type": "code",
   "execution_count": null,
   "id": "0d4ca8fc",
   "metadata": {},
   "outputs": [],
   "source": [
    "fruits.reverse() # 인덱스 번호만 반대로 변경 가능"
   ]
  },
  {
   "cell_type": "code",
   "execution_count": null,
   "id": "99e5becd",
   "metadata": {},
   "outputs": [
    {
     "data": {
      "text/plain": [
       "['orange', 'mango', 'kiwi', 'grape', 'apple']"
      ]
     },
     "execution_count": 104,
     "metadata": {},
     "output_type": "execute_result"
    }
   ],
   "source": [
    "fruits"
   ]
  },
  {
   "cell_type": "code",
   "execution_count": null,
   "id": "95b2628d",
   "metadata": {},
   "outputs": [
    {
     "name": "stdout",
     "output_type": "stream",
     "text": [
      "orange\n",
      "mango\n",
      "kiwi\n",
      "grape\n",
      "apple\n"
     ]
    }
   ],
   "source": [
    "for i in fruits:\n",
    "    print(i)"
   ]
  },
  {
   "cell_type": "code",
   "execution_count": null,
   "id": "48eacdd6",
   "metadata": {},
   "outputs": [
    {
     "name": "stdout",
     "output_type": "stream",
     "text": [
      "0번째 과일orange\n",
      "1번째 과일mango\n",
      "2번째 과일kiwi\n",
      "3번째 과일grape\n",
      "4번째 과일apple\n"
     ]
    }
   ],
   "source": [
    "for i in range(len(fruits)):\n",
    "    print(f\"{i}번째 과일{fruits[i]}\")"
   ]
  },
  {
   "cell_type": "code",
   "execution_count": null,
   "id": "13dbd7ae",
   "metadata": {},
   "outputs": [],
   "source": [
    "numbers = [10, 20, 30, 40, 50]"
   ]
  },
  {
   "cell_type": "code",
   "execution_count": null,
   "id": "2a961ec1",
   "metadata": {},
   "outputs": [
    {
     "data": {
      "text/plain": [
       "5"
      ]
     },
     "execution_count": 111,
     "metadata": {},
     "output_type": "execute_result"
    }
   ],
   "source": [
    "len(numbers)"
   ]
  },
  {
   "cell_type": "code",
   "execution_count": null,
   "id": "4eaca9b9",
   "metadata": {},
   "outputs": [
    {
     "data": {
      "text/plain": [
       "50"
      ]
     },
     "execution_count": 113,
     "metadata": {},
     "output_type": "execute_result"
    }
   ],
   "source": [
    "max(numbers) # 내장함수 max: 최댓값\n",
    "min(numbers) # 내장함수 min: 최솟값\n",
    "sum(numbers) # 내장함수 sum: 모두 더하기"
   ]
  },
  {
   "cell_type": "code",
   "execution_count": null,
   "id": "6f2b0994",
   "metadata": {},
   "outputs": [
    {
     "data": {
      "text/plain": [
       "30.0"
      ]
     },
     "execution_count": 114,
     "metadata": {},
     "output_type": "execute_result"
    }
   ],
   "source": [
    "# 평균값\n",
    "# 총 합계를 인덱스의 개수로 나누기\n",
    "\n",
    "sum(numbers) / len(numbers)"
   ]
  },
  {
   "cell_type": "code",
   "execution_count": null,
   "id": "ec483442",
   "metadata": {},
   "outputs": [],
   "source": [
    "numbers = [1, 2, 3, 4, 5, 6, 7, 8, 9]"
   ]
  },
  {
   "cell_type": "code",
   "execution_count": null,
   "id": "98231372",
   "metadata": {},
   "outputs": [
    {
     "data": {
      "text/plain": [
       "[1, 2, 3, 4, 5, 6, 7, 8, 9, 10]"
      ]
     },
     "execution_count": 123,
     "metadata": {},
     "output_type": "execute_result"
    }
   ],
   "source": [
    "# 반복문을 이용하여 리스트를 간단하게 생성\n",
    "# 리스트 컴프리헨션\n",
    "\n",
    "numbers = [i for i in range(1, 11)]\n",
    "\n",
    "# 풀어서 확인\n",
    "# for i in range(1, 11):\n",
    "#     print(i)\n",
    "\n",
    "num_list=[]\n",
    "for i in range(1, 11):\n",
    "    num_list.append(i)\n",
    "num_list"
   ]
  },
  {
   "cell_type": "code",
   "execution_count": null,
   "id": "913db068",
   "metadata": {},
   "outputs": [
    {
     "data": {
      "text/plain": [
       "[1, 2, 3, 4, 5, 6, 7, 8, 9, 10]"
      ]
     },
     "execution_count": 122,
     "metadata": {},
     "output_type": "execute_result"
    }
   ],
   "source": [
    "numbers\n",
    "num_list"
   ]
  },
  {
   "cell_type": "code",
   "execution_count": null,
   "id": "ae2ed8f2",
   "metadata": {},
   "outputs": [],
   "source": [
    "numbers = [i**2 for i in range(1, 11)] # 앞의 i에 어떻게 출력할지 조건 할당 가능"
   ]
  },
  {
   "cell_type": "code",
   "execution_count": null,
   "id": "86783d89",
   "metadata": {},
   "outputs": [
    {
     "data": {
      "text/plain": [
       "[1, 4, 9, 16, 25, 36, 49, 64, 81, 100]"
      ]
     },
     "execution_count": 125,
     "metadata": {},
     "output_type": "execute_result"
    }
   ],
   "source": [
    "numbers"
   ]
  },
  {
   "cell_type": "code",
   "execution_count": null,
   "id": "9edb4506",
   "metadata": {},
   "outputs": [
    {
     "data": {
      "text/plain": [
       "[2, 4, 6, 8, 10]"
      ]
     },
     "execution_count": 126,
     "metadata": {},
     "output_type": "execute_result"
    }
   ],
   "source": [
    "num_list=[]\n",
    "for i in range(1, 11):\n",
    "    if i % 2 == 0:\n",
    "        num_list.append(i)\n",
    "num_list"
   ]
  },
  {
   "cell_type": "code",
   "execution_count": null,
   "id": "8e462905",
   "metadata": {},
   "outputs": [],
   "source": [
    "numbers = [i**2 for i in range(1, 11) if i % 2 == 0] "
   ]
  },
  {
   "cell_type": "code",
   "execution_count": null,
   "id": "ea409b0e",
   "metadata": {},
   "outputs": [
    {
     "data": {
      "text/plain": [
       "[4, 16, 36, 64, 100]"
      ]
     },
     "execution_count": 132,
     "metadata": {},
     "output_type": "execute_result"
    }
   ],
   "source": [
    "numbers"
   ]
  },
  {
   "cell_type": "code",
   "execution_count": null,
   "id": "8bb99d54",
   "metadata": {},
   "outputs": [
    {
     "name": "stdout",
     "output_type": "stream",
     "text": [
      "1번 학생은 합격입니다.\n",
      "2번 학생은 불합격입니다.\n",
      "3번 학생은 합격입니다.\n",
      "4번 학생은 불합격입니다.\n",
      "5번 학생은 합격입니다.\n",
      "1번 학생은 합격입니다.\n",
      "2번 학생은 불합격입니다.\n",
      "3번 학생은 합격입니다.\n",
      "4번 학생은 불합격입니다.\n",
      "5번 학생은 합격입니다.\n"
     ]
    }
   ],
   "source": [
    "marks = [90, 25, 67, 45, 80]\n",
    "\n",
    "number = 0\n",
    "\n",
    "for i in marks:\n",
    "    number += 1\n",
    "    if i >= 60:\n",
    "        print(f\"{number}번 학생은 합격입니다.\")\n",
    "    else:\n",
    "        print(f\"{number}번 학생은 불합격입니다.\")\n",
    "\n",
    "for i in range(len(marks)):\n",
    "    if marks[i] >= 60:\n",
    "        print(f\"{i + 1}번 학생은 합격입니다.\")\n",
    "    else:\n",
    "        print(f\"{i + 1}번 학생은 불합격입니다.\")"
   ]
  },
  {
   "cell_type": "code",
   "execution_count": null,
   "id": "ec0def5e",
   "metadata": {},
   "outputs": [
    {
     "name": "stdout",
     "output_type": "stream",
     "text": [
      "끝말잇기 게임\n",
      "시작\n",
      "가나다\n",
      "다람쥐\n",
      "쥐포\n",
      "귀찮아\n",
      "땡!\n"
     ]
    }
   ],
   "source": [
    "# 끝말잇기 게임\n",
    "# 시작: 가나다\n",
    "\n",
    "print(\"끝말잇기 게임\")\n",
    "print(\"시작\")\n",
    "var = \"가나다\"\n",
    "\n",
    "print(var)\n",
    "\n",
    "while True: #무한 루프\n",
    "    ans_word = input(\"끝말잇기 단어를 입력하세요: \")\n",
    "    print(ans_word)\n",
    "    if ans_word[0] == var[-1]:\n",
    "        var = ans_word\n",
    "    else:\n",
    "        print(\"땡!\")\n",
    "        break"
   ]
  },
  {
   "cell_type": "code",
   "execution_count": null,
   "id": "f439fe00",
   "metadata": {},
   "outputs": [
    {
     "data": {
      "text/plain": [
       "[1, 3, 0, 1]"
      ]
     },
     "execution_count": 11,
     "metadata": {},
     "output_type": "execute_result"
    }
   ],
   "source": [
    "# 도전 미션\n",
    "\n",
    "numbers = [1, 1, 3, 3, 0, 1, 1]\n",
    "answer = []\n",
    "comp = numbers[0]\n",
    "answer.append(comp)\n",
    "\n",
    "for i in numbers:\n",
    "    if comp != i: # 이전 숫자와 같은지 비교\n",
    "        comp = i # 다르다면 비교할 숫자 갱신\n",
    "        answer.append(comp) # 새로운 숫자이므로 리스트에 삽입\n",
    "\n",
    "answer"
   ]
  },
  {
   "cell_type": "code",
   "execution_count": null,
   "id": "fe40d84c",
   "metadata": {},
   "outputs": [],
   "source": [
    "# 12번 \n",
    "\n",
    "# 과일가게를 운영해 주세요 \n",
    "\n",
    "# f = ['사과', '바나나', '오렌지', '포도', '수박'] \n",
    "# c = [3, 3, 3, 3, 3] \n",
    "\n",
    "\n",
    "# =============================================================== \n",
    "\n",
    "# 12 - 2번 \n",
    "\n",
    " \n",
    "\n",
    "# 지민이는 햄버거 가게에서 아르바이트를 합니다.  \n",
    "# 아래서부터, 빵 – 야채 – 고기 - 빵으로 쌓인 햄버거만 포장할수 있으면 재료는 순서대로 하나씩 들어와 쌓입니다.  \n",
    "# 재료의 순서가 [야채, 빵, 빵, 야채, 고기, 빵, 야채, 고기, 빵]일 때, 지민이는 여섯 번째 재료가 쌓였을 때, 세 번째 재료부터 여섯 번째 재료를 이용하여 햄버거를 포장하고, 아홉 번째 재료가 쌓였을 때, 두 번째 재료와 일곱 번째 재료부터 아홉 번째 재료를 이용하여 햄버거를 포장합니다. 즉, 2개의 햄버거를 포장하게 됩니다. \n",
    "# ingredient의 원소는 1, 2, 3 중 하나의 값이며, 순서대로 빵, 야채, 고기를 의미합니다. \n",
    "\n",
    " \n",
    "\n",
    "# 입출력 예 \n",
    "\n",
    "# ingredient                      result \n",
    "\n",
    "# [2, 1, 1, 2, 3, 1, 2, 3, 1]     2 \n",
    "\n",
    "# [1, 3, 2, 1, 2, 1, 3, 1, 2]     0 \n",
    "\n",
    "# 코드를 작성해주세요 "
   ]
  },
  {
   "cell_type": "markdown",
   "id": "77d0d25b",
   "metadata": {},
   "source": [
    "#### 딕셔너리"
   ]
  },
  {
   "cell_type": "code",
   "execution_count": null,
   "id": "502f585e",
   "metadata": {},
   "outputs": [],
   "source": [
    "student = {\"name\" : \"Jimin\", \"age\" : 29, \"Hobby\" : \"Game\"}\n",
    "\n",
    "dict = {}\n",
    "dict = dict()"
   ]
  },
  {
   "cell_type": "code",
   "execution_count": 36,
   "id": "1815703a",
   "metadata": {},
   "outputs": [
    {
     "data": {
      "text/plain": [
       "dict"
      ]
     },
     "execution_count": 36,
     "metadata": {},
     "output_type": "execute_result"
    }
   ],
   "source": [
    "type(student)"
   ]
  },
  {
   "cell_type": "code",
   "execution_count": 48,
   "id": "1a4a08f3",
   "metadata": {},
   "outputs": [],
   "source": [
    "person = dict(name = \"chrs\", age = 31)"
   ]
  },
  {
   "cell_type": "code",
   "execution_count": 49,
   "id": "8b6a1c1f",
   "metadata": {},
   "outputs": [
    {
     "data": {
      "text/plain": [
       "{'name': 'chrs', 'age': 31}"
      ]
     },
     "execution_count": 49,
     "metadata": {},
     "output_type": "execute_result"
    }
   ],
   "source": [
    "person"
   ]
  },
  {
   "cell_type": "code",
   "execution_count": 16,
   "id": "fcd961cc",
   "metadata": {},
   "outputs": [],
   "source": [
    "student = {\"name\" : \"jimin\", \"age\" : 29, \"hobby\" : \"game\", \"name\" : \"지민\"} # 중복될 경우 덮어쓰기"
   ]
  },
  {
   "cell_type": "code",
   "execution_count": 17,
   "id": "7d6f8cf3",
   "metadata": {},
   "outputs": [
    {
     "data": {
      "text/plain": [
       "{'name': '지민', 'age': 29, 'hobby': 'game'}"
      ]
     },
     "execution_count": 17,
     "metadata": {},
     "output_type": "execute_result"
    }
   ],
   "source": [
    "student"
   ]
  },
  {
   "cell_type": "code",
   "execution_count": 50,
   "id": "943cc23b",
   "metadata": {},
   "outputs": [
    {
     "data": {
      "text/plain": [
       "29"
      ]
     },
     "execution_count": 50,
     "metadata": {},
     "output_type": "execute_result"
    }
   ],
   "source": [
    "student[\"age\"]"
   ]
  },
  {
   "cell_type": "code",
   "execution_count": null,
   "id": "245151a6",
   "metadata": {},
   "outputs": [
    {
     "data": {
      "text/plain": [
       "dict_keys(['name', 'age', 'hobby'])"
      ]
     },
     "execution_count": 51,
     "metadata": {},
     "output_type": "execute_result"
    }
   ],
   "source": [
    "student.keys() # dic.keys(): key 값만 출력"
   ]
  },
  {
   "cell_type": "code",
   "execution_count": 18,
   "id": "82459100",
   "metadata": {},
   "outputs": [
    {
     "data": {
      "text/plain": [
       "dict_values(['지민', 29, 'game'])"
      ]
     },
     "execution_count": 18,
     "metadata": {},
     "output_type": "execute_result"
    }
   ],
   "source": [
    "student.values() # dic.values(): values 값만 출력"
   ]
  },
  {
   "cell_type": "code",
   "execution_count": 19,
   "id": "09db516c",
   "metadata": {},
   "outputs": [
    {
     "data": {
      "text/plain": [
       "dict_items([('name', '지민'), ('age', 29), ('hobby', 'game')])"
      ]
     },
     "execution_count": 19,
     "metadata": {},
     "output_type": "execute_result"
    }
   ],
   "source": [
    "student.items() # dic.items(): key와 value를 튜플의 형태로 묶어 리스트로 출력"
   ]
  },
  {
   "cell_type": "code",
   "execution_count": 86,
   "id": "28efec04",
   "metadata": {},
   "outputs": [
    {
     "name": "stdout",
     "output_type": "stream",
     "text": [
      "('name', '망개')\n",
      "('hobby', 'game')\n",
      "name 망개\n",
      "hobby game\n",
      "name 망개\n",
      "hobby game\n"
     ]
    }
   ],
   "source": [
    "for i in student.items():\n",
    "    print(i)\n",
    "\n",
    "for i in student.items():\n",
    "    print(i[0], i[1])\n",
    "\n",
    "for i, j in student.items():\n",
    "    print(i, j)"
   ]
  },
  {
   "cell_type": "code",
   "execution_count": 20,
   "id": "c6990de8",
   "metadata": {},
   "outputs": [],
   "source": [
    "student[\"name\"] = \"망개\""
   ]
  },
  {
   "cell_type": "code",
   "execution_count": 21,
   "id": "373e321c",
   "metadata": {},
   "outputs": [
    {
     "data": {
      "text/plain": [
       "{'name': '망개', 'age': 29, 'hobby': 'game'}"
      ]
     },
     "execution_count": 21,
     "metadata": {},
     "output_type": "execute_result"
    }
   ],
   "source": [
    "student"
   ]
  },
  {
   "cell_type": "code",
   "execution_count": 60,
   "id": "8f7f6916",
   "metadata": {},
   "outputs": [],
   "source": [
    "student[\"addr\"] = \"서울시 용산구\" # 없는 키와 값을 추가하여 할당할 수 있음"
   ]
  },
  {
   "cell_type": "code",
   "execution_count": 61,
   "id": "2437ebec",
   "metadata": {},
   "outputs": [
    {
     "data": {
      "text/plain": [
       "{'name': '망개', 'age': 29, 'hobby': 'game', 'addr': '서울시 용산구'}"
      ]
     },
     "execution_count": 61,
     "metadata": {},
     "output_type": "execute_result"
    }
   ],
   "source": [
    "student"
   ]
  },
  {
   "cell_type": "code",
   "execution_count": null,
   "id": "3ec4940e",
   "metadata": {},
   "outputs": [
    {
     "name": "stdout",
     "output_type": "stream",
     "text": [
      "None\n"
     ]
    }
   ],
   "source": [
    "student.get(\"addr2\") # 존재하지 않는 키의 값을 조회할 수 있음\n",
    "print(student.get(\"addr2\"))"
   ]
  },
  {
   "cell_type": "code",
   "execution_count": null,
   "id": "1154df6f",
   "metadata": {},
   "outputs": [
    {
     "ename": "TypeError",
     "evalue": "pop expected at least 1 argument, got 0",
     "output_type": "error",
     "traceback": [
      "\u001b[31m---------------------------------------------------------------------------\u001b[39m",
      "\u001b[31mTypeError\u001b[39m                                 Traceback (most recent call last)",
      "\u001b[36mCell\u001b[39m\u001b[36m \u001b[39m\u001b[32mIn[70]\u001b[39m\u001b[32m, line 1\u001b[39m\n\u001b[32m----> \u001b[39m\u001b[32m1\u001b[39m \u001b[43mstudent\u001b[49m\u001b[43m.\u001b[49m\u001b[43mpop\u001b[49m\u001b[43m(\u001b[49m\u001b[43m)\u001b[49m\n",
      "\u001b[31mTypeError\u001b[39m: pop expected at least 1 argument, got 0"
     ]
    }
   ],
   "source": [
    "student.pop() # dic는 순서가 없기 때문에 오류!"
   ]
  },
  {
   "cell_type": "code",
   "execution_count": null,
   "id": "253d2b79",
   "metadata": {},
   "outputs": [
    {
     "data": {
      "text/plain": [
       "29"
      ]
     },
     "execution_count": 72,
     "metadata": {},
     "output_type": "execute_result"
    }
   ],
   "source": [
    "student.pop(\"age\") # 특정 요소 삭제 가능"
   ]
  },
  {
   "cell_type": "code",
   "execution_count": 74,
   "id": "cbb83ebd",
   "metadata": {},
   "outputs": [
    {
     "data": {
      "text/plain": [
       "('addr', '서울시 용산구')"
      ]
     },
     "execution_count": 74,
     "metadata": {},
     "output_type": "execute_result"
    }
   ],
   "source": [
    "student.popitem() # 마지막 아이템 삭제"
   ]
  },
  {
   "cell_type": "code",
   "execution_count": 75,
   "id": "40264260",
   "metadata": {},
   "outputs": [
    {
     "data": {
      "text/plain": [
       "{'name': '망개', 'hobby': 'game'}"
      ]
     },
     "execution_count": 75,
     "metadata": {},
     "output_type": "execute_result"
    }
   ],
   "source": [
    "student"
   ]
  },
  {
   "cell_type": "code",
   "execution_count": null,
   "id": "3f9132f3",
   "metadata": {},
   "outputs": [
    {
     "data": {
      "text/plain": [
       "True"
      ]
     },
     "execution_count": 76,
     "metadata": {},
     "output_type": "execute_result"
    }
   ],
   "source": [
    "\"name\" in student.keys() # key 값 존재 확인 가능"
   ]
  },
  {
   "cell_type": "code",
   "execution_count": null,
   "id": "9b9fad96",
   "metadata": {},
   "outputs": [
    {
     "data": {
      "text/plain": [
       "False"
      ]
     },
     "execution_count": 77,
     "metadata": {},
     "output_type": "execute_result"
    }
   ],
   "source": [
    "29 in student.values() # values 값 존재 확인 가능"
   ]
  },
  {
   "cell_type": "code",
   "execution_count": 83,
   "id": "370afe17",
   "metadata": {},
   "outputs": [
    {
     "data": {
      "text/plain": [
       "True"
      ]
     },
     "execution_count": 83,
     "metadata": {},
     "output_type": "execute_result"
    }
   ],
   "source": [
    "\"apple\" not in fruits"
   ]
  },
  {
   "cell_type": "code",
   "execution_count": 3,
   "id": "426e12b9",
   "metadata": {},
   "outputs": [
    {
     "name": "stdout",
     "output_type": "stream",
     "text": [
      "hello"
     ]
    }
   ],
   "source": [
    "# 모스부호  \n",
    "# 문자열 letter가 주어질 때, letter를 영어 소문자로 바꾼 문자열을 출력 하도록 코드작성 \n",
    "\n",
    "# 모스부호는 다음과 같습니다. \n",
    "# morse = { \n",
    "#     '.-':'a','-...':'b','-.-.':'c','-..':'d','.':'e','..-.':'f', \n",
    "#     '--.':'g','....':'h','..':'i','.---':'j','-.-':'k','.-..':'l', \n",
    "#     '--':'m','-.':'n','---':'o','.--.':'p','--.-':'q','.-.':'r', \n",
    "#     '...':'s','-':'t','..-':'u','...-':'v','.--':'w','-..-':'x', \n",
    "#     '-.--':'y','--..':'z' \n",
    "# } \n",
    "\n",
    "# 입출력 예 \n",
    "# letter  result \n",
    "# \".... . .-.. .-.. ---\"  \"hello\" \n",
    "# \".--. -.-- - .... --- -.\"   \"python\" \n",
    "\n",
    "morse = { \n",
    "    '.-':'a','-...':'b','-.-.':'c','-..':'d','.':'e','..-.':'f', \n",
    "    '--.':'g','....':'h','..':'i','.---':'j','-.-':'k','.-..':'l', \n",
    "    '--':'m','-.':'n','---':'o','.--.':'p','--.-':'q','.-.':'r', \n",
    "    '...':'s','-':'t','..-':'u','...-':'v','.--':'w','-..-':'x', \n",
    "    '-.--':'y','--..':'z'} \n",
    "\n",
    "result = input(\"모스 부호를 입력해 주세요: \").split()\n",
    "\n",
    "for i in result:\n",
    "    print(morse[i], end=\"\")"
   ]
  },
  {
   "cell_type": "code",
   "execution_count": null,
   "id": "8346784e",
   "metadata": {},
   "outputs": [
    {
     "name": "stdout",
     "output_type": "stream",
     "text": [
      "hello\n"
     ]
    }
   ],
   "source": [
    "morse = { \n",
    "    '.-':'a','-...':'b','-.-.':'c','-..':'d','.':'e','..-.':'f', \n",
    "    '--.':'g','....':'h','..':'i','.---':'j','-.-':'k','.-..':'l', \n",
    "    '--':'m','-.':'n','---':'o','.--.':'p','--.-':'q','.-.':'r', \n",
    "    '...':'s','-':'t','..-':'u','...-':'v','.--':'w','-..-':'x', \n",
    "    '-.--':'y','--..':'z'} \n",
    "\n",
    "hello = \".... . .-.. .-.. ---\"\n",
    "a = hello.split()\n",
    "\n",
    "answer = \"\" # 값을 출력할 answer 생성\n",
    "for i in a:\n",
    "    answer = answer + morse[i]\n",
    "\n",
    "print(answer)"
   ]
  },
  {
   "cell_type": "markdown",
   "id": "5cc6d675",
   "metadata": {},
   "source": [
    "#### set 자료형 (집합)"
   ]
  },
  {
   "cell_type": "code",
   "execution_count": 22,
   "id": "b0d1a0aa",
   "metadata": {},
   "outputs": [],
   "source": [
    "# 중복을 허용하지 않고, 순서가 없는 데이터\n",
    "\n",
    "s = {1, 2, 3, 4, 2, 3}"
   ]
  },
  {
   "cell_type": "code",
   "execution_count": 24,
   "id": "89dc6515",
   "metadata": {},
   "outputs": [
    {
     "data": {
      "text/plain": [
       "set"
      ]
     },
     "execution_count": 24,
     "metadata": {},
     "output_type": "execute_result"
    }
   ],
   "source": [
    "type(s)"
   ]
  },
  {
   "cell_type": "code",
   "execution_count": null,
   "id": "d186216e",
   "metadata": {},
   "outputs": [
    {
     "data": {
      "text/plain": [
       "{1, 2, 3, 4}"
      ]
     },
     "execution_count": 25,
     "metadata": {},
     "output_type": "execute_result"
    }
   ],
   "source": [
    "s # 알아서 중복을 제거함"
   ]
  },
  {
   "cell_type": "code",
   "execution_count": 26,
   "id": "051e9509",
   "metadata": {},
   "outputs": [
    {
     "ename": "TypeError",
     "evalue": "'set' object is not subscriptable",
     "output_type": "error",
     "traceback": [
      "\u001b[31m---------------------------------------------------------------------------\u001b[39m",
      "\u001b[31mTypeError\u001b[39m                                 Traceback (most recent call last)",
      "\u001b[36mCell\u001b[39m\u001b[36m \u001b[39m\u001b[32mIn[26]\u001b[39m\u001b[32m, line 1\u001b[39m\n\u001b[32m----> \u001b[39m\u001b[32m1\u001b[39m \u001b[43ms\u001b[49m\u001b[43m[\u001b[49m\u001b[32;43m0\u001b[39;49m\u001b[43m]\u001b[49m\n",
      "\u001b[31mTypeError\u001b[39m: 'set' object is not subscriptable"
     ]
    }
   ],
   "source": [
    "s[0]"
   ]
  },
  {
   "cell_type": "code",
   "execution_count": null,
   "id": "9ac1eebc",
   "metadata": {},
   "outputs": [],
   "source": [
    "s.add(5) # 요소 추가"
   ]
  },
  {
   "cell_type": "code",
   "execution_count": 28,
   "id": "b3ab9731",
   "metadata": {},
   "outputs": [
    {
     "data": {
      "text/plain": [
       "{1, 2, 3, 4, 5}"
      ]
     },
     "execution_count": 28,
     "metadata": {},
     "output_type": "execute_result"
    }
   ],
   "source": [
    "s"
   ]
  },
  {
   "cell_type": "code",
   "execution_count": null,
   "id": "479f8c26",
   "metadata": {},
   "outputs": [
    {
     "data": {
      "text/plain": [
       "1"
      ]
     },
     "execution_count": 29,
     "metadata": {},
     "output_type": "execute_result"
    }
   ],
   "source": [
    "s.pop() # 어떤 것이 꺼내진다고 보장할 수 없음. 임의의 요소가 삭제 "
   ]
  },
  {
   "cell_type": "code",
   "execution_count": 30,
   "id": "52959a2e",
   "metadata": {},
   "outputs": [
    {
     "data": {
      "text/plain": [
       "{2, 3, 4, 5}"
      ]
     },
     "execution_count": 30,
     "metadata": {},
     "output_type": "execute_result"
    }
   ],
   "source": [
    "s"
   ]
  },
  {
   "cell_type": "code",
   "execution_count": null,
   "id": "9dc3ffaf",
   "metadata": {},
   "outputs": [],
   "source": [
    "s.remove(3) # 원하는 요소 삭제 가능"
   ]
  },
  {
   "cell_type": "code",
   "execution_count": 32,
   "id": "e56e80e3",
   "metadata": {},
   "outputs": [
    {
     "data": {
      "text/plain": [
       "{2, 4, 5}"
      ]
     },
     "execution_count": 32,
     "metadata": {},
     "output_type": "execute_result"
    }
   ],
   "source": [
    "s"
   ]
  },
  {
   "cell_type": "code",
   "execution_count": 33,
   "id": "288969d0",
   "metadata": {},
   "outputs": [],
   "source": [
    "my_list2 = [ 1, 2, 3, 4, 5, 1, 2, 3]"
   ]
  },
  {
   "cell_type": "code",
   "execution_count": 34,
   "id": "e1a2ce2b",
   "metadata": {},
   "outputs": [
    {
     "data": {
      "text/plain": [
       "[1, 2, 3, 4, 5, 1, 2, 3]"
      ]
     },
     "execution_count": 34,
     "metadata": {},
     "output_type": "execute_result"
    }
   ],
   "source": [
    "my_list2"
   ]
  },
  {
   "cell_type": "code",
   "execution_count": 35,
   "id": "8476e318",
   "metadata": {},
   "outputs": [
    {
     "data": {
      "text/plain": [
       "{1, 2, 3, 4, 5}"
      ]
     },
     "execution_count": 35,
     "metadata": {},
     "output_type": "execute_result"
    }
   ],
   "source": [
    "set(my_list2)"
   ]
  },
  {
   "cell_type": "code",
   "execution_count": null,
   "id": "a7f46692",
   "metadata": {},
   "outputs": [
    {
     "data": {
      "text/plain": [
       "[1, 2, 3, 4, 5]"
      ]
     },
     "execution_count": 37,
     "metadata": {},
     "output_type": "execute_result"
    }
   ],
   "source": [
    "list(set(my_list2)) # 중복 제거 완료"
   ]
  },
  {
   "cell_type": "code",
   "execution_count": 38,
   "id": "a93a8de9",
   "metadata": {},
   "outputs": [],
   "source": [
    "a = {1, 2, 3, 4,}\n",
    "b = {3, 4, 5, 6}"
   ]
  },
  {
   "cell_type": "code",
   "execution_count": null,
   "id": "908c71c5",
   "metadata": {},
   "outputs": [],
   "source": [
    "a "
   ]
  },
  {
   "cell_type": "code",
   "execution_count": null,
   "id": "15341a91",
   "metadata": {},
   "outputs": [
    {
     "data": {
      "text/plain": [
       "{1, 2, 3, 4, 5, 6}"
      ]
     },
     "execution_count": 39,
     "metadata": {},
     "output_type": "execute_result"
    }
   ],
   "source": [
    "a.union(b) # set.union(): 합집합"
   ]
  },
  {
   "cell_type": "code",
   "execution_count": null,
   "id": "d87d7245",
   "metadata": {},
   "outputs": [
    {
     "data": {
      "text/plain": [
       "{3, 4}"
      ]
     },
     "execution_count": 40,
     "metadata": {},
     "output_type": "execute_result"
    }
   ],
   "source": [
    "a & b # 교집합"
   ]
  },
  {
   "cell_type": "code",
   "execution_count": 41,
   "id": "dfdb8fab",
   "metadata": {},
   "outputs": [
    {
     "data": {
      "text/plain": [
       "{3, 4}"
      ]
     },
     "execution_count": 41,
     "metadata": {},
     "output_type": "execute_result"
    }
   ],
   "source": [
    "a.intersection(b) # 교집합"
   ]
  },
  {
   "cell_type": "code",
   "execution_count": 42,
   "id": "a351d5c9",
   "metadata": {},
   "outputs": [
    {
     "data": {
      "text/plain": [
       "{1, 2}"
      ]
     },
     "execution_count": 42,
     "metadata": {},
     "output_type": "execute_result"
    }
   ],
   "source": [
    "a - b # 차집합"
   ]
  },
  {
   "cell_type": "code",
   "execution_count": 43,
   "id": "4cb2818a",
   "metadata": {},
   "outputs": [
    {
     "data": {
      "text/plain": [
       "{1, 2}"
      ]
     },
     "execution_count": 43,
     "metadata": {},
     "output_type": "execute_result"
    }
   ],
   "source": [
    "a.difference(b) # 차집합"
   ]
  },
  {
   "cell_type": "markdown",
   "id": "76410e61",
   "metadata": {},
   "source": [
    "#### 튜플"
   ]
  },
  {
   "cell_type": "code",
   "execution_count": null,
   "id": "cf57b13f",
   "metadata": {},
   "outputs": [],
   "source": [
    "# immuterble, 수정 불가능"
   ]
  },
  {
   "cell_type": "code",
   "execution_count": 44,
   "id": "caf67c73",
   "metadata": {},
   "outputs": [],
   "source": [
    "t1 = ()"
   ]
  },
  {
   "cell_type": "code",
   "execution_count": 45,
   "id": "4dae7d31",
   "metadata": {},
   "outputs": [],
   "source": [
    "t2 = (1, 2, 3)"
   ]
  },
  {
   "cell_type": "code",
   "execution_count": 46,
   "id": "d78336de",
   "metadata": {},
   "outputs": [
    {
     "data": {
      "text/plain": [
       "tuple"
      ]
     },
     "execution_count": 46,
     "metadata": {},
     "output_type": "execute_result"
    }
   ],
   "source": [
    "type(t2)"
   ]
  },
  {
   "cell_type": "code",
   "execution_count": 48,
   "id": "dd166355",
   "metadata": {},
   "outputs": [
    {
     "data": {
      "text/plain": [
       "1"
      ]
     },
     "execution_count": 48,
     "metadata": {},
     "output_type": "execute_result"
    }
   ],
   "source": [
    "t2[0]"
   ]
  },
  {
   "cell_type": "code",
   "execution_count": 67,
   "id": "50fb1b89",
   "metadata": {},
   "outputs": [],
   "source": [
    "t3 = (\"a\", 4, (\"ab\", \"g\"))"
   ]
  },
  {
   "cell_type": "code",
   "execution_count": 68,
   "id": "2968850b",
   "metadata": {},
   "outputs": [
    {
     "data": {
      "text/plain": [
       "('a', 4, ('ab', 'g'))"
      ]
     },
     "execution_count": 68,
     "metadata": {},
     "output_type": "execute_result"
    }
   ],
   "source": [
    "t3"
   ]
  },
  {
   "cell_type": "code",
   "execution_count": null,
   "id": "57be2ccb",
   "metadata": {},
   "outputs": [
    {
     "ename": "TypeError",
     "evalue": "'tuple' object does not support item assignment",
     "output_type": "error",
     "traceback": [
      "\u001b[31m---------------------------------------------------------------------------\u001b[39m",
      "\u001b[31mTypeError\u001b[39m                                 Traceback (most recent call last)",
      "\u001b[36mCell\u001b[39m\u001b[36m \u001b[39m\u001b[32mIn[63]\u001b[39m\u001b[32m, line 1\u001b[39m\n\u001b[32m----> \u001b[39m\u001b[32m1\u001b[39m \u001b[43mt2\u001b[49m\u001b[43m[\u001b[49m\u001b[32;43m0\u001b[39;49m\u001b[43m]\u001b[49m = \u001b[32m10\u001b[39m\n",
      "\u001b[31mTypeError\u001b[39m: 'tuple' object does not support item assignment"
     ]
    }
   ],
   "source": [
    "t2[0] = 10 # 튜플 변경 불가능"
   ]
  },
  {
   "cell_type": "code",
   "execution_count": 64,
   "id": "67887f40",
   "metadata": {},
   "outputs": [],
   "source": [
    "t4 = 1, 2, 3, 4"
   ]
  },
  {
   "cell_type": "code",
   "execution_count": null,
   "id": "3189e699",
   "metadata": {},
   "outputs": [
    {
     "data": {
      "text/plain": [
       "tuple"
      ]
     },
     "execution_count": 65,
     "metadata": {},
     "output_type": "execute_result"
    }
   ],
   "source": [
    "type(t4) # 괄호가 생략되어도 튜플 형태"
   ]
  },
  {
   "cell_type": "code",
   "execution_count": 116,
   "id": "e2041d14",
   "metadata": {},
   "outputs": [
    {
     "data": {
      "text/plain": [
       "['누드초코', '아몬드', '초코', '크런키', '화이트쿠키']"
      ]
     },
     "execution_count": 116,
     "metadata": {},
     "output_type": "execute_result"
    }
   ],
   "source": [
    "# 빼빼로데이\n",
    "\n",
    "# 빼빼로의 종류는 6가지 맛('누드초코', '아몬드', '초코', '크런키', '크림치즈', '화이트쿠키')이 있었습니다.\n",
    "# 이벤트 빼빼로는 한가지 맛에 하나만 구매할 수 있습니다.\n",
    "# 구매한 빼빼로를 오름차순으로 정렬하여 결과를 나타내 주세요.\n",
    "\n",
    "# 입력1\n",
    "# [\"초코\", \"누드초코\", \"크런키\", \"아몬드\", \"초코\", \"누드초코\", \"아몬드\", \"화이트쿠키\", \"초코\", \"초코\"]\n",
    "\n",
    "# 출력1\n",
    "# ['누드초코', '아몬드', '초코', '크런키', '화이트쿠키']\n",
    "\n",
    "pepero = [\"초코\", \"누드초코\", \"크런키\", \"아몬드\", \"초코\", \"누드초코\", \"아몬드\", \"화이트쿠키\", \"초코\", \"초코\"]\n",
    "answer = []\n",
    "\n",
    "answer = list(set(pepero)) \n",
    "answer.sort()\n",
    "\n",
    "answer"
   ]
  },
  {
   "cell_type": "code",
   "execution_count": 112,
   "id": "e9e9e964",
   "metadata": {},
   "outputs": [
    {
     "data": {
      "text/plain": [
       "7"
      ]
     },
     "execution_count": 112,
     "metadata": {},
     "output_type": "execute_result"
    }
   ],
   "source": [
    "# 영단어갯수세기\n",
    "\n",
    "# 내가 외운 단어의 개수는 몇개일까요?\n",
    "\n",
    "# 입력1\n",
    "# \"culture experience symbol symbol education symbol effect education affair liberty liberty affair\"\n",
    "\n",
    "# 출력1\n",
    "# 7\n",
    "\n",
    "word = \"culture experience symbol symbol education symbol effect education affair liberty liberty affair\"\n",
    "word.split()\n",
    "len(set(word.split())) \n"
   ]
  },
  {
   "cell_type": "code",
   "execution_count": null,
   "id": "6d116fb1",
   "metadata": {},
   "outputs": [
    {
     "ename": "NameError",
     "evalue": "name 'Alice' is not defined",
     "output_type": "error",
     "traceback": [
      "\u001b[31m---------------------------------------------------------------------------\u001b[39m",
      "\u001b[31mNameError\u001b[39m                                 Traceback (most recent call last)",
      "\u001b[36mCell\u001b[39m\u001b[36m \u001b[39m\u001b[32mIn[118]\u001b[39m\u001b[32m, line 3\u001b[39m\n\u001b[32m      1\u001b[39m \u001b[38;5;66;03m# 도전과제 14\u001b[39;00m\n\u001b[32m----> \u001b[39m\u001b[32m3\u001b[39m students = [{\u001b[43mAlice\u001b[49m}, Bob, Charlie]\n\u001b[32m      4\u001b[39m Alice = [\u001b[32m90\u001b[39m, \u001b[32m85\u001b[39m, \u001b[32m92\u001b[39m]\n\u001b[32m      5\u001b[39m Bob = [ \u001b[32m78\u001b[39m, \u001b[32m80\u001b[39m, \u001b[32m88\u001b[39m]\n",
      "\u001b[31mNameError\u001b[39m: name 'Alice' is not defined"
     ]
    }
   ],
   "source": [
    "# 도전과제 14\n",
    "\n",
    "students = [Alice, Bob, Charlie]\n",
    "Alice = [90, 85, 92]\n",
    "Bob = [ 78, 80, 88]\n",
    "Charlie = [95, 92, 89]\n",
    "\n",
    "Alice_ave = sum(Alice) / 3\n",
    "Bob_ave = sum(Bob) / 3\n",
    "Charlie_ave = sum(Charlie) / 3\n",
    "\n",
    "total = (Alice_ave + Bob_ave + Charlie_ave) / 3\n",
    "\n"
   ]
  },
  {
   "cell_type": "markdown",
   "id": "c10f3b55",
   "metadata": {},
   "source": [
    "### 함수"
   ]
  },
  {
   "cell_type": "code",
   "execution_count": 122,
   "id": "bc3211ed",
   "metadata": {},
   "outputs": [
    {
     "data": {
      "text/plain": [
       "['ArithmeticError',\n",
       " 'AssertionError',\n",
       " 'AttributeError',\n",
       " 'BaseException',\n",
       " 'BaseExceptionGroup',\n",
       " 'BlockingIOError',\n",
       " 'BrokenPipeError',\n",
       " 'BufferError',\n",
       " 'BytesWarning',\n",
       " 'ChildProcessError',\n",
       " 'ConnectionAbortedError',\n",
       " 'ConnectionError',\n",
       " 'ConnectionRefusedError',\n",
       " 'ConnectionResetError',\n",
       " 'DeprecationWarning',\n",
       " 'EOFError',\n",
       " 'Ellipsis',\n",
       " 'EncodingWarning',\n",
       " 'EnvironmentError',\n",
       " 'Exception',\n",
       " 'ExceptionGroup',\n",
       " 'False',\n",
       " 'FileExistsError',\n",
       " 'FileNotFoundError',\n",
       " 'FloatingPointError',\n",
       " 'FutureWarning',\n",
       " 'GeneratorExit',\n",
       " 'IOError',\n",
       " 'ImportError',\n",
       " 'ImportWarning',\n",
       " 'IndentationError',\n",
       " 'IndexError',\n",
       " 'InterruptedError',\n",
       " 'IsADirectoryError',\n",
       " 'KeyError',\n",
       " 'KeyboardInterrupt',\n",
       " 'LookupError',\n",
       " 'MemoryError',\n",
       " 'ModuleNotFoundError',\n",
       " 'NameError',\n",
       " 'None',\n",
       " 'NotADirectoryError',\n",
       " 'NotImplemented',\n",
       " 'NotImplementedError',\n",
       " 'OSError',\n",
       " 'OverflowError',\n",
       " 'PendingDeprecationWarning',\n",
       " 'PermissionError',\n",
       " 'ProcessLookupError',\n",
       " 'RecursionError',\n",
       " 'ReferenceError',\n",
       " 'ResourceWarning',\n",
       " 'RuntimeError',\n",
       " 'RuntimeWarning',\n",
       " 'StopAsyncIteration',\n",
       " 'StopIteration',\n",
       " 'SyntaxError',\n",
       " 'SyntaxWarning',\n",
       " 'SystemError',\n",
       " 'SystemExit',\n",
       " 'TabError',\n",
       " 'TimeoutError',\n",
       " 'True',\n",
       " 'TypeError',\n",
       " 'UnboundLocalError',\n",
       " 'UnicodeDecodeError',\n",
       " 'UnicodeEncodeError',\n",
       " 'UnicodeError',\n",
       " 'UnicodeTranslateError',\n",
       " 'UnicodeWarning',\n",
       " 'UserWarning',\n",
       " 'ValueError',\n",
       " 'Warning',\n",
       " 'WindowsError',\n",
       " 'ZeroDivisionError',\n",
       " '__IPYTHON__',\n",
       " '__build_class__',\n",
       " '__debug__',\n",
       " '__doc__',\n",
       " '__import__',\n",
       " '__loader__',\n",
       " '__name__',\n",
       " '__package__',\n",
       " '__spec__',\n",
       " 'abs',\n",
       " 'aiter',\n",
       " 'all',\n",
       " 'anext',\n",
       " 'any',\n",
       " 'ascii',\n",
       " 'bin',\n",
       " 'bool',\n",
       " 'breakpoint',\n",
       " 'bytearray',\n",
       " 'bytes',\n",
       " 'callable',\n",
       " 'chr',\n",
       " 'classmethod',\n",
       " 'compile',\n",
       " 'complex',\n",
       " 'copyright',\n",
       " 'credits',\n",
       " 'delattr',\n",
       " 'dict',\n",
       " 'dir',\n",
       " 'display',\n",
       " 'divmod',\n",
       " 'enumerate',\n",
       " 'eval',\n",
       " 'exec',\n",
       " 'execfile',\n",
       " 'filter',\n",
       " 'float',\n",
       " 'format',\n",
       " 'frozenset',\n",
       " 'get_ipython',\n",
       " 'getattr',\n",
       " 'globals',\n",
       " 'hasattr',\n",
       " 'hash',\n",
       " 'help',\n",
       " 'hex',\n",
       " 'id',\n",
       " 'input',\n",
       " 'int',\n",
       " 'isinstance',\n",
       " 'issubclass',\n",
       " 'iter',\n",
       " 'len',\n",
       " 'license',\n",
       " 'list',\n",
       " 'locals',\n",
       " 'map',\n",
       " 'max',\n",
       " 'memoryview',\n",
       " 'min',\n",
       " 'next',\n",
       " 'object',\n",
       " 'oct',\n",
       " 'open',\n",
       " 'ord',\n",
       " 'pow',\n",
       " 'print',\n",
       " 'property',\n",
       " 'range',\n",
       " 'repr',\n",
       " 'reversed',\n",
       " 'round',\n",
       " 'runfile',\n",
       " 'set',\n",
       " 'setattr',\n",
       " 'slice',\n",
       " 'sorted',\n",
       " 'staticmethod',\n",
       " 'str',\n",
       " 'sum',\n",
       " 'super',\n",
       " 'tuple',\n",
       " 'type',\n",
       " 'vars',\n",
       " 'zip']"
      ]
     },
     "execution_count": 122,
     "metadata": {},
     "output_type": "execute_result"
    }
   ],
   "source": [
    "dir(__builtins__)"
   ]
  },
  {
   "cell_type": "code",
   "execution_count": 123,
   "id": "cc6415ae",
   "metadata": {},
   "outputs": [],
   "source": [
    "def my_func():\n",
    "    print(\"내가 만든 함수\")"
   ]
  },
  {
   "cell_type": "code",
   "execution_count": null,
   "id": "a5bb5f38",
   "metadata": {},
   "outputs": [
    {
     "name": "stdout",
     "output_type": "stream",
     "text": [
      "내가 만든 함수\n",
      "내가 만든 함수\n",
      "내가 만든 함수\n"
     ]
    }
   ],
   "source": [
    "my_func()\n",
    "my_func()\n",
    "my_func()"
   ]
  },
  {
   "cell_type": "code",
   "execution_count": 127,
   "id": "d3cc4756",
   "metadata": {},
   "outputs": [],
   "source": [
    "def my_func(a):\n",
    "    print(f\"{a}, 내가 만든 함수입니다.\")"
   ]
  },
  {
   "cell_type": "code",
   "execution_count": null,
   "id": "e24a2a18",
   "metadata": {},
   "outputs": [
    {
     "ename": "TypeError",
     "evalue": "my_func() missing 1 required positional argument: 'a'",
     "output_type": "error",
     "traceback": [
      "\u001b[31m---------------------------------------------------------------------------\u001b[39m",
      "\u001b[31mTypeError\u001b[39m                                 Traceback (most recent call last)",
      "\u001b[36mCell\u001b[39m\u001b[36m \u001b[39m\u001b[32mIn[128]\u001b[39m\u001b[32m, line 1\u001b[39m\n\u001b[32m----> \u001b[39m\u001b[32m1\u001b[39m \u001b[43mmy_func\u001b[49m\u001b[43m(\u001b[49m\u001b[43m)\u001b[49m\n",
      "\u001b[31mTypeError\u001b[39m: my_func() missing 1 required positional argument: 'a'"
     ]
    }
   ],
   "source": [
    "my_func() # 입력 값(매개변수)이 필요함"
   ]
  },
  {
   "cell_type": "code",
   "execution_count": 129,
   "id": "dd5bcfde",
   "metadata": {},
   "outputs": [
    {
     "name": "stdout",
     "output_type": "stream",
     "text": [
      "Hey, 내가 만든 함수입니다.\n",
      "Hello, 내가 만든 함수입니다.\n",
      "Hi, 내가 만든 함수입니다.\n"
     ]
    }
   ],
   "source": [
    "my_func(\"Hey\")\n",
    "my_func(\"Hello\")\n",
    "my_func(\"Hi\")"
   ]
  },
  {
   "cell_type": "code",
   "execution_count": 130,
   "id": "8c4b8c6c",
   "metadata": {},
   "outputs": [],
   "source": [
    "def my_sum(a, b):\n",
    "    result = a + b\n",
    "    return result # result 값 반환"
   ]
  },
  {
   "cell_type": "code",
   "execution_count": 131,
   "id": "fb45c256",
   "metadata": {},
   "outputs": [
    {
     "ename": "TypeError",
     "evalue": "my_sum() missing 2 required positional arguments: 'a' and 'b'",
     "output_type": "error",
     "traceback": [
      "\u001b[31m---------------------------------------------------------------------------\u001b[39m",
      "\u001b[31mTypeError\u001b[39m                                 Traceback (most recent call last)",
      "\u001b[36mCell\u001b[39m\u001b[36m \u001b[39m\u001b[32mIn[131]\u001b[39m\u001b[32m, line 1\u001b[39m\n\u001b[32m----> \u001b[39m\u001b[32m1\u001b[39m \u001b[43mmy_sum\u001b[49m\u001b[43m(\u001b[49m\u001b[43m)\u001b[49m\n",
      "\u001b[31mTypeError\u001b[39m: my_sum() missing 2 required positional arguments: 'a' and 'b'"
     ]
    }
   ],
   "source": [
    "my_sum()"
   ]
  },
  {
   "cell_type": "code",
   "execution_count": 134,
   "id": "34dff415",
   "metadata": {},
   "outputs": [
    {
     "name": "stdout",
     "output_type": "stream",
     "text": [
      "7 11\n"
     ]
    }
   ],
   "source": [
    "num1 = my_sum(3, 4)\n",
    "num2 = my_sum(7, 4)\n",
    "\n",
    "print(num1, num2)"
   ]
  },
  {
   "cell_type": "code",
   "execution_count": 142,
   "id": "edb60e2e",
   "metadata": {},
   "outputs": [
    {
     "data": {
      "text/plain": [
       "-1"
      ]
     },
     "execution_count": 142,
     "metadata": {},
     "output_type": "execute_result"
    }
   ],
   "source": [
    "# 세 개의 숫자를 입력받아 가장 큰 수를 출력하는 num_max 함수를 정의\n",
    "\n",
    "def num_max(a, b, c):\n",
    "    max_val = a\n",
    "    if b > max_val:\n",
    "        max_val = b\n",
    "    if c > max_val:\n",
    "        max_val = c\n",
    "\n",
    "    return max_val\n",
    "\n",
    "# 정의 부분\n",
    "\n",
    "num = num_max(-3, -5, -1)\n",
    "num\n",
    "\n",
    "# 사용하는 부분"
   ]
  },
  {
   "cell_type": "code",
   "execution_count": null,
   "id": "726e00d5",
   "metadata": {},
   "outputs": [
    {
     "data": {
      "text/plain": [
       "24"
      ]
     },
     "execution_count": 147,
     "metadata": {},
     "output_type": "execute_result"
    }
   ],
   "source": [
    "# 숫자들의 배열을 입력하면 가장 작은 값을 구하는 함수, 리스트 사용\n",
    "\n",
    "def num_min(arr):\n",
    "    answer = arr[0]\n",
    "    for i in arr:\n",
    "        if answer > i:\n",
    "            answer = i\n",
    "    return answer\n",
    "\n",
    "# 정의 부분\n",
    "\n",
    "num = num_min([52, 273, 32, 103, 275, 24, 57])\n",
    "num\n",
    "\n",
    "# 사용하는 부분"
   ]
  },
  {
   "cell_type": "code",
   "execution_count": 2,
   "id": "3472d1f8",
   "metadata": {},
   "outputs": [],
   "source": [
    "def morse_to_string(hello):\n",
    "    morse = { \n",
    "    '.-':'a','-...':'b','-.-.':'c','-..':'d','.':'e','..-.':'f', \n",
    "    '--.':'g','....':'h','..':'i','.---':'j','-.-':'k','.-..':'l', \n",
    "    '--':'m','-.':'n','---':'o','.--.':'p','--.-':'q','.-.':'r', \n",
    "    '...':'s','-':'t','..-':'u','...-':'v','.--':'w','-..-':'x', \n",
    "    '-.--':'y','--..':'z'} \n",
    "\n",
    "    hello = \".... . .-.. .-.. ---\"\n",
    "\n",
    "    a = hello.split()\n",
    "\n",
    "    answer = \"\" # 값을 출력할 answer 생성\n",
    "    for i in a:\n",
    "        answer = answer + morse[i]\n",
    "\n",
    "    return answer"
   ]
  },
  {
   "cell_type": "code",
   "execution_count": 4,
   "id": "2c2015eb",
   "metadata": {},
   "outputs": [
    {
     "data": {
      "text/plain": [
       "'hello'"
      ]
     },
     "execution_count": 4,
     "metadata": {},
     "output_type": "execute_result"
    }
   ],
   "source": [
    "hello = \".... . .-.. .-.. ---\"\n",
    "\n",
    "morse_to_string(hello)"
   ]
  },
  {
   "cell_type": "code",
   "execution_count": 10,
   "id": "c929c1d0",
   "metadata": {},
   "outputs": [],
   "source": [
    "def add_many(*args):\n",
    "    print(args)\n",
    "    sum = 0\n",
    "    for i in args:\n",
    "        sum += i\n",
    "    return sum"
   ]
  },
  {
   "cell_type": "code",
   "execution_count": 11,
   "id": "22e2a6bf",
   "metadata": {},
   "outputs": [
    {
     "name": "stdout",
     "output_type": "stream",
     "text": [
      "(1, 2, 3, 4, 5, 6, 7)\n"
     ]
    },
    {
     "data": {
      "text/plain": [
       "28"
      ]
     },
     "execution_count": 11,
     "metadata": {},
     "output_type": "execute_result"
    }
   ],
   "source": [
    "add_many(1, 2, 3, 4, 5, 6, 7)"
   ]
  },
  {
   "cell_type": "code",
   "execution_count": 28,
   "id": "f53c7f85",
   "metadata": {},
   "outputs": [],
   "source": [
    "def add_mul(choice, *args):\n",
    "    print(choice, args)\n",
    "    if choice == \"add\":\n",
    "        result = 0\n",
    "        for i in args:\n",
    "            result += i\n",
    "    elif choice == \"mul\":\n",
    "        result = 1\n",
    "        for i in args:\n",
    "            result *= i\n",
    "    else:\n",
    "        print(\"연산자를 다시 한 번 확인해 주세요.\")\n",
    "        result = None\n",
    "    return result"
   ]
  },
  {
   "cell_type": "code",
   "execution_count": 26,
   "id": "d5ba1dbe",
   "metadata": {},
   "outputs": [
    {
     "name": "stdout",
     "output_type": "stream",
     "text": [
      "add (1, 2, 3)\n"
     ]
    },
    {
     "data": {
      "text/plain": [
       "6"
      ]
     },
     "execution_count": 26,
     "metadata": {},
     "output_type": "execute_result"
    }
   ],
   "source": [
    "add_mul(\"add\", 1, 2, 3)"
   ]
  },
  {
   "cell_type": "code",
   "execution_count": 17,
   "id": "a3b16bbe",
   "metadata": {},
   "outputs": [
    {
     "name": "stdout",
     "output_type": "stream",
     "text": [
      "mul (1, 2, 3)\n"
     ]
    },
    {
     "data": {
      "text/plain": [
       "6"
      ]
     },
     "execution_count": 17,
     "metadata": {},
     "output_type": "execute_result"
    }
   ],
   "source": [
    "add_mul(\"mul\", 1, 2, 3)"
   ]
  },
  {
   "cell_type": "code",
   "execution_count": null,
   "id": "9b1423e6",
   "metadata": {},
   "outputs": [],
   "source": [
    "def add_and_mul(a, b):\n",
    "    return a+b, a*b # 1개의 값 리턴, 튜플로 감싸져 있는 형태"
   ]
  },
  {
   "cell_type": "code",
   "execution_count": null,
   "id": "72f0f3bf",
   "metadata": {},
   "outputs": [
    {
     "name": "stdout",
     "output_type": "stream",
     "text": [
      "7 12\n"
     ]
    }
   ],
   "source": [
    "result = add_and_mul(3, 4) \n",
    "print(result[0], result[1])\n",
    "result1, result2 = add_and_mul(3, 4)"
   ]
  },
  {
   "cell_type": "code",
   "execution_count": 36,
   "id": "a81eccd9",
   "metadata": {},
   "outputs": [
    {
     "data": {
      "text/plain": [
       "7"
      ]
     },
     "execution_count": 36,
     "metadata": {},
     "output_type": "execute_result"
    }
   ],
   "source": [
    "result1"
   ]
  },
  {
   "cell_type": "code",
   "execution_count": null,
   "id": "fbb66838",
   "metadata": {},
   "outputs": [],
   "source": [
    "def  say_my_self(name, age, man=True): # 기본값을 지정해두면 입력하지 않아도 에러X\n",
    "    print(f\"{name}, {age}\")\n",
    "    if man:\n",
    "        print(\"남자\")\n",
    "    else:\n",
    "        print(\"여자\")"
   ]
  },
  {
   "cell_type": "code",
   "execution_count": 41,
   "id": "bd9baed2",
   "metadata": {},
   "outputs": [
    {
     "name": "stdout",
     "output_type": "stream",
     "text": [
      "박지민, 29\n",
      "남자\n"
     ]
    }
   ],
   "source": [
    "say_my_self(\"박지민\", 29)"
   ]
  },
  {
   "cell_type": "code",
   "execution_count": 42,
   "id": "dd8da4d0",
   "metadata": {},
   "outputs": [
    {
     "name": "stdout",
     "output_type": "stream",
     "text": [
      "Chris, 31\n",
      "여자\n"
     ]
    }
   ],
   "source": [
    "say_my_self(\"Chris\", 31, man=False)"
   ]
  },
  {
   "cell_type": "code",
   "execution_count": 47,
   "id": "c0cd30c4",
   "metadata": {},
   "outputs": [
    {
     "name": "stdout",
     "output_type": "stream",
     "text": [
      "Chris, 24\n",
      "여자\n"
     ]
    }
   ],
   "source": [
    "say_my_self(\"Chris\", man=False, age = 24)"
   ]
  }
 ],
 "metadata": {
  "kernelspec": {
   "display_name": "Python 3",
   "language": "python",
   "name": "python3"
  },
  "language_info": {
   "codemirror_mode": {
    "name": "ipython",
    "version": 3
   },
   "file_extension": ".py",
   "mimetype": "text/x-python",
   "name": "python",
   "nbconvert_exporter": "python",
   "pygments_lexer": "ipython3",
   "version": "3.11.8"
  }
 },
 "nbformat": 4,
 "nbformat_minor": 5
}
